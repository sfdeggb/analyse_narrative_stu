{
 "cells": [
  {
   "cell_type": "code",
   "execution_count": 5,
   "id": "28080d3d",
   "metadata": {},
   "outputs": [],
   "source": [
    "## 加载整合年级的数据文件\n",
    "import pandas as pd \n",
    "import numpy as np\n",
    "\n",
    "data_grade = pd.read_csv('./pre_data/描述性统计-grade.csv')"
   ]
  },
  {
   "cell_type": "code",
   "execution_count": 6,
   "id": "4ccfe3b9",
   "metadata": {},
   "outputs": [
    {
     "name": "stdout",
     "output_type": "stream",
     "text": [
      "<class 'pandas.core.frame.DataFrame'>\n",
      "RangeIndex: 300 entries, 0 to 299\n",
      "Data columns (total 4 columns):\n",
      " #   Column         Non-Null Count  Dtype \n",
      "---  ------         --------------  ----- \n",
      " 0   文本编号           300 non-null    object\n",
      " 1   单词数量-DESWC-03  300 non-null    int64 \n",
      " 2   句子数量-DESSC-02  300 non-null    int64 \n",
      " 3   年级             300 non-null    int64 \n",
      "dtypes: int64(3), object(1)\n",
      "memory usage: 9.5+ KB\n"
     ]
    }
   ],
   "source": [
    "data_grade.info()"
   ]
  },
  {
   "cell_type": "code",
   "execution_count": 8,
   "id": "47a8322d",
   "metadata": {},
   "outputs": [
    {
     "name": "stdout",
     "output_type": "stream",
     "text": [
      "<class 'pandas.core.frame.DataFrame'>\n",
      "RangeIndex: 300 entries, 0 to 299\n",
      "Data columns (total 36 columns):\n",
      " #   Column               Non-Null Count  Dtype  \n",
      "---  ------               --------------  -----  \n",
      " 0   文本编号                 300 non-null    object \n",
      " 1   单词数量-DESWC-03        300 non-null    int64  \n",
      " 2   句子数量-DESSC-02        300 non-null    int64  \n",
      " 3   年级                   300 non-null    int64  \n",
      " 4   多样性-LDVOCDa（51）      300 non-null    float64\n",
      " 5   密度-WRDFRQC（94）       300 non-null    float64\n",
      " 6   复杂度-K1               300 non-null    float64\n",
      " 7   复杂度-K2               300 non-null    float64\n",
      " 8   复杂度-K3               300 non-null    float64\n",
      " 9   复杂度-K4               300 non-null    float64\n",
      " 10  复杂度-K5               300 non-null    float64\n",
      " 11  复杂度-K6+              300 non-null    float64\n",
      " 12  短语长度-SYNLE（69）       300 non-null    float64\n",
      " 13  短语长度-SYNNP（70）       300 non-null    float64\n",
      " 14  短语密度-DRNP（76）        300 non-null    float64\n",
      " 15  短语密度-DRVP（77）        300 non-null    float64\n",
      " 16  短语密度-DRPP（79）        300 non-null    float64\n",
      " 17  句子长度-DESSL（06）       300 non-null    float64\n",
      " 18  句子结构-DRPVAL（80）      300 non-null    float64\n",
      " 19  句子结构-DRNEG（81）       300 non-null    float64\n",
      " 20  句子结构-DRINF（83）       300 non-null    float64\n",
      " 21  句法相似-SYNSTRUTa（74）   300 non-null    float64\n",
      " 22  句法相似-SYNSTRUTt（75）   300 non-null    float64\n",
      " 23  局部连贯-CRFAO1（29）      300 non-null    float64\n",
      " 24  局部连贯-CRFSO1（30）      300 non-null    float64\n",
      " 25  局部连贯-LSASS1(40)      300 non-null    float64\n",
      " 26  整体连贯-CRFAOa（32）      300 non-null    float64\n",
      " 27  整体连贯-CRFSOa（33）      300 non-null    float64\n",
      " 28  整体连贯-LSASSp（42）      300 non-null    float64\n",
      " 29  整体连贯-LSAPP1（44）      300 non-null    float64\n",
      " 30  整体连贯-LSAGN（46）       300 non-null    float64\n",
      " 31  因果衔接-SMCAUSr-64      300 non-null    float64\n",
      " 32  意图衔接-SMINTEr-65      300 non-null    float64\n",
      " 33  时体衔接-SMTEMP-68       300 non-null    float64\n",
      " 34  段落平均长度-DESPL-04      300 non-null    float64\n",
      " 35  段落平均长度标准差-DESPLd-05  300 non-null    float64\n",
      "dtypes: float64(32), int64(3), object(1)\n",
      "memory usage: 84.5+ KB\n"
     ]
    }
   ],
   "source": [
    "## 加载完全合并特征之后的数据\n",
    "\n",
    "full_data = pd.read_csv('./pre_data/全部特征合并表.csv')\n",
    "\n",
    "full_data.info()"
   ]
  },
  {
   "cell_type": "code",
   "execution_count": null,
   "id": "3b7c13c8",
   "metadata": {},
   "outputs": [],
   "source": []
  }
 ],
 "metadata": {
  "kernelspec": {
   "display_name": "base",
   "language": "python",
   "name": "python3"
  },
  "language_info": {
   "codemirror_mode": {
    "name": "ipython",
    "version": 3
   },
   "file_extension": ".py",
   "mimetype": "text/x-python",
   "name": "python",
   "nbconvert_exporter": "python",
   "pygments_lexer": "ipython3",
   "version": "3.12.7"
  }
 },
 "nbformat": 4,
 "nbformat_minor": 5
}
