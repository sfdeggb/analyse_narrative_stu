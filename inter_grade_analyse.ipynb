{
 "cells": [
  {
   "cell_type": "markdown",
   "id": "45d7f8cc",
   "metadata": {},
   "source": [
    "## 年级中影响叙述能力的分析"
   ]
  },
  {
   "cell_type": "code",
   "execution_count": 7,
   "id": "bc6c9639",
   "metadata": {},
   "outputs": [],
   "source": [
    "import pandas as pd\n",
    "import numpy as np\n",
    "from sklearn.ensemble import RandomForestRegressor\n",
    "from sklearn.preprocessing import StandardScaler\n",
    "import matplotlib.pyplot as plt\n",
    "import seaborn as sns\n",
    "from scipy.stats import pearsonr"
   ]
  },
  {
   "cell_type": "markdown",
   "id": "932cee17",
   "metadata": {},
   "source": [
    "### 加载数据"
   ]
  },
  {
   "cell_type": "code",
   "execution_count": 8,
   "id": "9c333433",
   "metadata": {},
   "outputs": [
    {
     "name": "stdout",
     "output_type": "stream",
     "text": [
      "<class 'pandas.core.frame.DataFrame'>\n",
      "RangeIndex: 300 entries, 0 to 299\n",
      "Data columns (total 36 columns):\n",
      " #   Column               Non-Null Count  Dtype  \n",
      "---  ------               --------------  -----  \n",
      " 0   文本编号                 300 non-null    object \n",
      " 1   单词数量-DESWC-03        300 non-null    int64  \n",
      " 2   句子数量-DESSC-02        300 non-null    int64  \n",
      " 3   年级                   300 non-null    int64  \n",
      " 4   多样性-LDVOCDa（51）      300 non-null    float64\n",
      " 5   密度-WRDFRQC（94）       300 non-null    float64\n",
      " 6   复杂度-K1               300 non-null    float64\n",
      " 7   复杂度-K2               300 non-null    float64\n",
      " 8   复杂度-K3               300 non-null    float64\n",
      " 9   复杂度-K4               300 non-null    float64\n",
      " 10  复杂度-K5               300 non-null    float64\n",
      " 11  复杂度-K6+              300 non-null    float64\n",
      " 12  短语长度-SYNLE（69）       300 non-null    float64\n",
      " 13  短语长度-SYNNP（70）       300 non-null    float64\n",
      " 14  短语密度-DRNP（76）        300 non-null    float64\n",
      " 15  短语密度-DRVP（77）        300 non-null    float64\n",
      " 16  短语密度-DRPP（79）        300 non-null    float64\n",
      " 17  句子长度-DESSL（06）       300 non-null    float64\n",
      " 18  句子结构-DRPVAL（80）      300 non-null    float64\n",
      " 19  句子结构-DRNEG（81）       300 non-null    float64\n",
      " 20  句子结构-DRINF（83）       300 non-null    float64\n",
      " 21  句法相似-SYNSTRUTa（74）   300 non-null    float64\n",
      " 22  句法相似-SYNSTRUTt（75）   300 non-null    float64\n",
      " 23  局部连贯-CRFAO1（29）      300 non-null    float64\n",
      " 24  局部连贯-CRFSO1（30）      300 non-null    float64\n",
      " 25  局部连贯-LSASS1(40)      300 non-null    float64\n",
      " 26  整体连贯-CRFAOa（32）      300 non-null    float64\n",
      " 27  整体连贯-CRFSOa（33）      300 non-null    float64\n",
      " 28  整体连贯-LSASSp（42）      300 non-null    float64\n",
      " 29  整体连贯-LSAPP1（44）      300 non-null    float64\n",
      " 30  整体连贯-LSAGN（46）       300 non-null    float64\n",
      " 31  因果衔接-SMCAUSr-64      300 non-null    float64\n",
      " 32  意图衔接-SMINTEr-65      300 non-null    float64\n",
      " 33  时体衔接-SMTEMP-68       300 non-null    float64\n",
      " 34  段落平均长度-DESPL-04      300 non-null    float64\n",
      " 35  段落平均长度标准差-DESPLd-05  300 non-null    float64\n",
      "dtypes: float64(32), int64(3), object(1)\n",
      "memory usage: 84.5+ KB\n"
     ]
    }
   ],
   "source": [
    "## 加载未融合特征的全部特征表\n",
    "full_data = pd.read_csv('./pre_data/全部特征合并表.csv')\n",
    "\n",
    "full_data.info()"
   ]
  },
  {
   "cell_type": "code",
   "execution_count": 9,
   "id": "8bcc8ea5",
   "metadata": {},
   "outputs": [
    {
     "name": "stdout",
     "output_type": "stream",
     "text": [
      "<class 'pandas.core.frame.DataFrame'>\n",
      "RangeIndex: 300 entries, 0 to 299\n",
      "Data columns (total 19 columns):\n",
      " #   Column                  Non-Null Count  Dtype  \n",
      "---  ------                  --------------  -----  \n",
      " 0   文本编号                    300 non-null    object \n",
      " 1   单词数量-DESWC-03           300 non-null    float64\n",
      " 2   句子数量-DESSC-02           300 non-null    float64\n",
      " 3   年级                      300 non-null    int64  \n",
      " 4   多样性-LDVOCDa（51）         300 non-null    float64\n",
      " 5   密度-WRDFRQC（94）          300 non-null    float64\n",
      " 6   复杂度-K                   300 non-null    float64\n",
      " 7   句子长度-DESSL（06）          300 non-null    float64\n",
      " 8   短语长度-PhraseLength       300 non-null    float64\n",
      " 9   短语密度-PhraseDensity      300 non-null    float64\n",
      " 10  句子结构-SentenceStructure  300 non-null    float64\n",
      " 11  句法相似-SYNSTRUT           300 non-null    float64\n",
      " 12  局部连贯-LocalCoherence     300 non-null    float64\n",
      " 13  整体连贯-GlobalCoherence    300 non-null    float64\n",
      " 14  因果衔接-SMCAUSr-64         300 non-null    float64\n",
      " 15  意图衔接-SMINTEr-65         300 non-null    float64\n",
      " 16  时体衔接-SMTEMP-68          300 non-null    float64\n",
      " 17  段落平均长度-DESPL-04         300 non-null    float64\n",
      " 18  段落平均长度标准差-DESPLd-05     300 non-null    float64\n",
      "dtypes: float64(17), int64(1), object(1)\n",
      "memory usage: 44.7+ KB\n"
     ]
    },
    {
     "name": "stderr",
     "output_type": "stream",
     "text": [
      "/var/folders/c3/wsb8b2lj0_73blm47r0wt1p80000gn/T/ipykernel_3259/2666072929.py:9: FutureWarning: A value is trying to be set on a copy of a DataFrame or Series through chained assignment using an inplace method.\n",
      "The behavior will change in pandas 3.0. This inplace method will never work because the intermediate object on which we are setting values always behaves as a copy.\n",
      "\n",
      "For example, when doing 'df[col].method(value, inplace=True)', try using 'df.method({col: value}, inplace=True)' or df[col] = df[col].method(value) instead, to perform the operation inplace on the original object.\n",
      "\n",
      "\n",
      "  full_data_combined[col].fillna(full_data_combined[col].mean(), inplace=True)\n"
     ]
    }
   ],
   "source": [
    "### 加载融合特征的全部特征表\n",
    "import pandas as pd\n",
    "\n",
    "full_data_combined = pd.read_csv('./tmp/全部特征合并表_融合.csv')\n",
    "\n",
    "# 用每一列的均值填充该列的空值(不包括文本编号列)\n",
    "for col in full_data_combined.columns:\n",
    "    if col != '文本编号':\n",
    "        full_data_combined[col].fillna(full_data_combined[col].mean(), inplace=True)\n",
    "\n",
    "full_data_combined.info()"
   ]
  },
  {
   "cell_type": "markdown",
   "id": "72ba3125",
   "metadata": {},
   "source": [
    "### 数据预处理"
   ]
  },
  {
   "cell_type": "code",
   "execution_count": 10,
   "id": "fdf3afbb",
   "metadata": {},
   "outputs": [],
   "source": [
    "def analyze_key_factors(df):    \n",
    "    # 分离特征和目标变量\n",
    "    feature_cols = [col for col in df.columns if col not in ['文本编号', '年级']]\n",
    "    X = df[feature_cols]\n",
    "    y = df['年级']  # 使用年级作为叙事能力的代理变量\n",
    "    \n",
    "    # 标准化特征\n",
    "    scaler = StandardScaler()\n",
    "    X_scaled = scaler.fit_transform(X)\n",
    "    \n",
    "    # 2. 特征重要性分析\n",
    "    rf = RandomForestRegressor(n_estimators=100, random_state=42)\n",
    "    rf.fit(X_scaled, y)\n",
    "    \n",
    "    # 获取特征重要性\n",
    "    feature_importance = pd.DataFrame({\n",
    "        'feature': feature_cols,\n",
    "        'importance': rf.feature_importances_\n",
    "    }).sort_values('importance', ascending=False)\n",
    "    \n",
    "    # 3. 相关性分析\n",
    "    correlations = []\n",
    "    for feature in feature_cols:\n",
    "        corr, p_value = pearsonr(df[feature], df['年级'])#皮尔逊相关系数\n",
    "        correlations.append({\n",
    "            'feature': feature,\n",
    "            'correlation': corr,\n",
    "            'p_value': p_value\n",
    "        })\n",
    "    \n",
    "    corr_df = pd.DataFrame(correlations)\n",
    "    \n",
    "    # 4. 综合评分\n",
    "    # 结合特征重要性和相关性\n",
    "    merged_df = feature_importance.merge(corr_df, on='feature')\n",
    "    merged_df['composite_score'] = (\n",
    "        merged_df['importance'] * 0.6 + \n",
    "        abs(merged_df['correlation']) * 0.4\n",
    "    )\n",
    "    merged_df = merged_df.sort_values('composite_score', ascending=False)\n",
    "    \n",
    "    return merged_df, feature_importance, corr_df"
   ]
  },
  {
   "cell_type": "code",
   "execution_count": 11,
   "id": "7d02d2ce",
   "metadata": {},
   "outputs": [],
   "source": [
    "# 可视化结果\n",
    "def visualize_results(merged_df, feature_importance):\n",
    "    plt.rcParams['font.sans-serif'] = ['PingFang HK']\n",
    "    plt.rcParams['axes.unicode_minus'] = False       \n",
    "    plt.rcParams['font.family'] = 'PingFang HK'\n",
    "    # 绘制特征重要性图\n",
    "    plt.figure(figsize=(12, 8))\n",
    "    \n",
    "    # 前15个最重要的特征\n",
    "    top_features = merged_df.head(15)\n",
    "    \n",
    "    plt.subplot(2, 1, 1)\n",
    "    plt.barh(range(len(top_features)), top_features['composite_score'])\n",
    "    plt.yticks(range(len(top_features)), top_features['feature'])\n",
    "    plt.xlabel('综合评分')\n",
    "    plt.title('叙事能力关键要素排序')\n",
    "    \n",
    "    # 相关性热力图\n",
    "    plt.subplot(2, 1, 2)\n",
    "    correlation_matrix = top_features[['importance', 'correlation', 'composite_score']]\n",
    "    sns.heatmap(correlation_matrix.T, annot=True, cmap='coolwarm', center=0)\n",
    "    plt.title('关键要素评分相关性')\n",
    "    \n",
    "    plt.tight_layout()\n",
    "    plt.show()\n",
    "    \n",
    "    return top_features"
   ]
  },
  {
   "cell_type": "code",
   "execution_count": 19,
   "id": "8ae3b8a7",
   "metadata": {},
   "outputs": [],
   "source": [
    "# 可视化结果（使用plotly实现，布局美观专业）\n",
    "import plotly.graph_objs as go\n",
    "import plotly.subplots as sp\n",
    "\n",
    "def visualize_results_plotly(merged_df, feature_importance):\n",
    "    # 取前15个最重要的特征\n",
    "    top_features = merged_df.head(15)\n",
    "    \n",
    "    # 1. 综合评分条形图\n",
    "    bar_trace = go.Bar(\n",
    "        x=top_features['composite_score'][::-1],  # 反转顺序，分数高的在上\n",
    "        y=top_features['feature'][::-1],\n",
    "        orientation='h',\n",
    "        marker=dict(\n",
    "            color=top_features['composite_score'][::-1],\n",
    "            colorscale='Blues',\n",
    "            line=dict(color='rgba(58,71,80,0.8)', width=1.5)\n",
    "        ),\n",
    "        text=top_features['composite_score'][::-1].round(3),\n",
    "        textposition='auto',\n",
    "        name='综合评分'\n",
    "    )\n",
    "\n",
    "    # 2. 相关性热力图\n",
    "    correlation_matrix = top_features[['importance', 'correlation', 'composite_score']].T\n",
    "    heatmap_trace = go.Heatmap(\n",
    "        z=correlation_matrix.values,\n",
    "        x=top_features['feature'],\n",
    "        y=['重要性', '相关性', '综合评分'],\n",
    "        colorscale='RdBu',\n",
    "        colorbar=dict(title='数值'),\n",
    "        zmid=0\n",
    "    )\n",
    "\n",
    "    # 3. 使用plotly的子图布局\n",
    "    fig = sp.make_subplots(\n",
    "        rows=2, cols=1,\n",
    "        row_heights=[0.6, 0.4],\n",
    "        vertical_spacing=0.12,\n",
    "        subplot_titles=(\"叙事能力关键要素排序（综合评分）\", \"关键要素评分相关性热力图\")\n",
    "    )\n",
    "\n",
    "    fig.add_trace(bar_trace, row=1, col=1)\n",
    "    fig.add_trace(heatmap_trace, row=2, col=1)\n",
    "\n",
    "    # 美化布局\n",
    "    fig.update_layout(\n",
    "        height=800,\n",
    "        width=1100,\n",
    "        showlegend=False,\n",
    "        font=dict(family=\"PingFang SC, Microsoft YaHei, Arial\", size=14),\n",
    "        margin=dict(l=80, r=40, t=80, b=60),\n",
    "        plot_bgcolor='white',\n",
    "        paper_bgcolor='white'\n",
    "    )\n",
    "    #fig.update_xaxes(title_text=\"综合评分\", row=1, col=1)\n",
    "    fig.update_yaxes(title_text=\"特征\", row=1, col=1)\n",
    "    fig.update_xaxes(showgrid=False, row=1, col=1)\n",
    "    fig.update_yaxes(showgrid=False, row=1, col=1)\n",
    "    fig.update_xaxes(title_text=\"\", row=2, col=1)\n",
    "    fig.update_yaxes(title_text=\"\", row=2, col=1)\n",
    "\n",
    "    fig.show()\n",
    "\n",
    "    return top_features"
   ]
  },
  {
   "cell_type": "code",
   "execution_count": 12,
   "id": "7a1b39f2",
   "metadata": {},
   "outputs": [],
   "source": [
    "merged_df, feature_importance, corr_df = analyze_key_factors(full_data_combined)"
   ]
  },
  {
   "cell_type": "code",
   "execution_count": 14,
   "id": "b8cab825",
   "metadata": {},
   "outputs": [
    {
     "data": {
      "text/html": [
       "<div>\n",
       "<style scoped>\n",
       "    .dataframe tbody tr th:only-of-type {\n",
       "        vertical-align: middle;\n",
       "    }\n",
       "\n",
       "    .dataframe tbody tr th {\n",
       "        vertical-align: top;\n",
       "    }\n",
       "\n",
       "    .dataframe thead th {\n",
       "        text-align: right;\n",
       "    }\n",
       "</style>\n",
       "<table border=\"1\" class=\"dataframe\">\n",
       "  <thead>\n",
       "    <tr style=\"text-align: right;\">\n",
       "      <th></th>\n",
       "      <th>feature</th>\n",
       "      <th>importance</th>\n",
       "      <th>correlation</th>\n",
       "      <th>p_value</th>\n",
       "      <th>composite_score</th>\n",
       "    </tr>\n",
       "  </thead>\n",
       "  <tbody>\n",
       "    <tr>\n",
       "      <th>0</th>\n",
       "      <td>复杂度-K</td>\n",
       "      <td>0.157743</td>\n",
       "      <td>-0.400663</td>\n",
       "      <td>5.383923e-13</td>\n",
       "      <td>0.254911</td>\n",
       "    </tr>\n",
       "    <tr>\n",
       "      <th>1</th>\n",
       "      <td>密度-WRDFRQC（94）</td>\n",
       "      <td>0.110616</td>\n",
       "      <td>-0.395947</td>\n",
       "      <td>1.059315e-12</td>\n",
       "      <td>0.224748</td>\n",
       "    </tr>\n",
       "    <tr>\n",
       "      <th>4</th>\n",
       "      <td>短语长度-PhraseLength</td>\n",
       "      <td>0.061412</td>\n",
       "      <td>0.295796</td>\n",
       "      <td>1.797028e-07</td>\n",
       "      <td>0.155166</td>\n",
       "    </tr>\n",
       "    <tr>\n",
       "      <th>2</th>\n",
       "      <td>单词数量-DESWC-03</td>\n",
       "      <td>0.106282</td>\n",
       "      <td>0.207064</td>\n",
       "      <td>3.053792e-04</td>\n",
       "      <td>0.146595</td>\n",
       "    </tr>\n",
       "    <tr>\n",
       "      <th>6</th>\n",
       "      <td>句子长度-DESSL（06）</td>\n",
       "      <td>0.055977</td>\n",
       "      <td>0.256114</td>\n",
       "      <td>7.034158e-06</td>\n",
       "      <td>0.136032</td>\n",
       "    </tr>\n",
       "    <tr>\n",
       "      <th>8</th>\n",
       "      <td>因果衔接-SMCAUSr-64</td>\n",
       "      <td>0.053881</td>\n",
       "      <td>-0.174552</td>\n",
       "      <td>2.413079e-03</td>\n",
       "      <td>0.102149</td>\n",
       "    </tr>\n",
       "    <tr>\n",
       "      <th>13</th>\n",
       "      <td>句法相似-SYNSTRUT</td>\n",
       "      <td>0.035818</td>\n",
       "      <td>-0.200092</td>\n",
       "      <td>4.892763e-04</td>\n",
       "      <td>0.101528</td>\n",
       "    </tr>\n",
       "    <tr>\n",
       "      <th>3</th>\n",
       "      <td>句子结构-SentenceStructure</td>\n",
       "      <td>0.063746</td>\n",
       "      <td>0.103995</td>\n",
       "      <td>7.208042e-02</td>\n",
       "      <td>0.079846</td>\n",
       "    </tr>\n",
       "    <tr>\n",
       "      <th>7</th>\n",
       "      <td>时体衔接-SMTEMP-68</td>\n",
       "      <td>0.055948</td>\n",
       "      <td>0.100000</td>\n",
       "      <td>8.377990e-02</td>\n",
       "      <td>0.073569</td>\n",
       "    </tr>\n",
       "    <tr>\n",
       "      <th>12</th>\n",
       "      <td>意图衔接-SMINTEr-65</td>\n",
       "      <td>0.036176</td>\n",
       "      <td>0.124638</td>\n",
       "      <td>3.091264e-02</td>\n",
       "      <td>0.071561</td>\n",
       "    </tr>\n",
       "    <tr>\n",
       "      <th>11</th>\n",
       "      <td>整体连贯-GlobalCoherence</td>\n",
       "      <td>0.042547</td>\n",
       "      <td>0.108891</td>\n",
       "      <td>5.959458e-02</td>\n",
       "      <td>0.069085</td>\n",
       "    </tr>\n",
       "    <tr>\n",
       "      <th>16</th>\n",
       "      <td>句子数量-DESSC-02</td>\n",
       "      <td>0.018988</td>\n",
       "      <td>-0.121239</td>\n",
       "      <td>3.582588e-02</td>\n",
       "      <td>0.059889</td>\n",
       "    </tr>\n",
       "    <tr>\n",
       "      <th>15</th>\n",
       "      <td>段落平均长度-DESPL-04</td>\n",
       "      <td>0.019131</td>\n",
       "      <td>-0.116053</td>\n",
       "      <td>4.458972e-02</td>\n",
       "      <td>0.057900</td>\n",
       "    </tr>\n",
       "    <tr>\n",
       "      <th>10</th>\n",
       "      <td>短语密度-PhraseDensity</td>\n",
       "      <td>0.046890</td>\n",
       "      <td>-0.073327</td>\n",
       "      <td>2.053463e-01</td>\n",
       "      <td>0.057465</td>\n",
       "    </tr>\n",
       "    <tr>\n",
       "      <th>14</th>\n",
       "      <td>段落平均长度标准差-DESPLd-05</td>\n",
       "      <td>0.030052</td>\n",
       "      <td>-0.095989</td>\n",
       "      <td>9.701927e-02</td>\n",
       "      <td>0.056427</td>\n",
       "    </tr>\n",
       "    <tr>\n",
       "      <th>9</th>\n",
       "      <td>局部连贯-LocalCoherence</td>\n",
       "      <td>0.048278</td>\n",
       "      <td>0.058478</td>\n",
       "      <td>3.127366e-01</td>\n",
       "      <td>0.052358</td>\n",
       "    </tr>\n",
       "    <tr>\n",
       "      <th>5</th>\n",
       "      <td>多样性-LDVOCDa（51）</td>\n",
       "      <td>0.056515</td>\n",
       "      <td>0.025437</td>\n",
       "      <td>6.607953e-01</td>\n",
       "      <td>0.044084</td>\n",
       "    </tr>\n",
       "  </tbody>\n",
       "</table>\n",
       "</div>"
      ],
      "text/plain": [
       "                   feature  importance  correlation       p_value  \\\n",
       "0                    复杂度-K    0.157743    -0.400663  5.383923e-13   \n",
       "1           密度-WRDFRQC（94）    0.110616    -0.395947  1.059315e-12   \n",
       "4        短语长度-PhraseLength    0.061412     0.295796  1.797028e-07   \n",
       "2            单词数量-DESWC-03    0.106282     0.207064  3.053792e-04   \n",
       "6           句子长度-DESSL（06）    0.055977     0.256114  7.034158e-06   \n",
       "8          因果衔接-SMCAUSr-64    0.053881    -0.174552  2.413079e-03   \n",
       "13           句法相似-SYNSTRUT    0.035818    -0.200092  4.892763e-04   \n",
       "3   句子结构-SentenceStructure    0.063746     0.103995  7.208042e-02   \n",
       "7           时体衔接-SMTEMP-68    0.055948     0.100000  8.377990e-02   \n",
       "12         意图衔接-SMINTEr-65    0.036176     0.124638  3.091264e-02   \n",
       "11    整体连贯-GlobalCoherence    0.042547     0.108891  5.959458e-02   \n",
       "16           句子数量-DESSC-02    0.018988    -0.121239  3.582588e-02   \n",
       "15         段落平均长度-DESPL-04    0.019131    -0.116053  4.458972e-02   \n",
       "10      短语密度-PhraseDensity    0.046890    -0.073327  2.053463e-01   \n",
       "14     段落平均长度标准差-DESPLd-05    0.030052    -0.095989  9.701927e-02   \n",
       "9      局部连贯-LocalCoherence    0.048278     0.058478  3.127366e-01   \n",
       "5          多样性-LDVOCDa（51）    0.056515     0.025437  6.607953e-01   \n",
       "\n",
       "    composite_score  \n",
       "0          0.254911  \n",
       "1          0.224748  \n",
       "4          0.155166  \n",
       "2          0.146595  \n",
       "6          0.136032  \n",
       "8          0.102149  \n",
       "13         0.101528  \n",
       "3          0.079846  \n",
       "7          0.073569  \n",
       "12         0.071561  \n",
       "11         0.069085  \n",
       "16         0.059889  \n",
       "15         0.057900  \n",
       "10         0.057465  \n",
       "14         0.056427  \n",
       "9          0.052358  \n",
       "5          0.044084  "
      ]
     },
     "execution_count": 14,
     "metadata": {},
     "output_type": "execute_result"
    }
   ],
   "source": [
    "merged_df"
   ]
  },
  {
   "cell_type": "code",
   "execution_count": 20,
   "id": "d6a3d266",
   "metadata": {},
   "outputs": [
    {
     "data": {
      "application/vnd.plotly.v1+json": {
       "config": {
        "plotlyServerURL": "https://plot.ly"
       },
       "data": [
        {
         "marker": {
          "color": [
           0.056426968174951145,
           0.057464642986527543,
           0.05789985732543836,
           0.05988853831733754,
           0.06908460620764159,
           0.0715608594098294,
           0.07356868859192937,
           0.0798458520908339,
           0.10152796457083672,
           0.10214944530767808,
           0.13603159326562322,
           0.14659472697153897,
           0.15516555714080132,
           0.22474814044948985,
           0.2549111395276892
          ],
          "colorscale": [
           [
            0,
            "rgb(247,251,255)"
           ],
           [
            0.125,
            "rgb(222,235,247)"
           ],
           [
            0.25,
            "rgb(198,219,239)"
           ],
           [
            0.375,
            "rgb(158,202,225)"
           ],
           [
            0.5,
            "rgb(107,174,214)"
           ],
           [
            0.625,
            "rgb(66,146,198)"
           ],
           [
            0.75,
            "rgb(33,113,181)"
           ],
           [
            0.875,
            "rgb(8,81,156)"
           ],
           [
            1,
            "rgb(8,48,107)"
           ]
          ],
          "line": {
           "color": "rgba(58,71,80,0.8)",
           "width": 1.5
          }
         },
         "name": "综合评分",
         "orientation": "h",
         "text": [
          0.056,
          0.057,
          0.058,
          0.06,
          0.069,
          0.072,
          0.074,
          0.08,
          0.102,
          0.102,
          0.136,
          0.147,
          0.155,
          0.225,
          0.255
         ],
         "textposition": "auto",
         "type": "bar",
         "x": [
          0.056426968174951145,
          0.057464642986527543,
          0.05789985732543836,
          0.05988853831733754,
          0.06908460620764159,
          0.0715608594098294,
          0.07356868859192937,
          0.0798458520908339,
          0.10152796457083672,
          0.10214944530767808,
          0.13603159326562322,
          0.14659472697153897,
          0.15516555714080132,
          0.22474814044948985,
          0.2549111395276892
         ],
         "xaxis": "x",
         "y": [
          "段落平均长度标准差-DESPLd-05",
          "短语密度-PhraseDensity",
          "段落平均长度-DESPL-04",
          "句子数量-DESSC-02",
          "整体连贯-GlobalCoherence",
          "意图衔接-SMINTEr-65",
          "时体衔接-SMTEMP-68",
          "句子结构-SentenceStructure",
          "句法相似-SYNSTRUT",
          "因果衔接-SMCAUSr-64",
          "句子长度-DESSL（06）",
          "单词数量-DESWC-03",
          "短语长度-PhraseLength",
          "密度-WRDFRQC（94）",
          "复杂度-K"
         ],
         "yaxis": "y"
        },
        {
         "colorbar": {
          "title": {
           "text": "数值"
          }
         },
         "colorscale": [
          [
           0,
           "rgb(103,0,31)"
          ],
          [
           0.1,
           "rgb(178,24,43)"
          ],
          [
           0.2,
           "rgb(214,96,77)"
          ],
          [
           0.3,
           "rgb(244,165,130)"
          ],
          [
           0.4,
           "rgb(253,219,199)"
          ],
          [
           0.5,
           "rgb(247,247,247)"
          ],
          [
           0.6,
           "rgb(209,229,240)"
          ],
          [
           0.7,
           "rgb(146,197,222)"
          ],
          [
           0.8,
           "rgb(67,147,195)"
          ],
          [
           0.9,
           "rgb(33,102,172)"
          ],
          [
           1,
           "rgb(5,48,97)"
          ]
         ],
         "type": "heatmap",
         "x": [
          "复杂度-K",
          "密度-WRDFRQC（94）",
          "短语长度-PhraseLength",
          "单词数量-DESWC-03",
          "句子长度-DESSL（06）",
          "因果衔接-SMCAUSr-64",
          "句法相似-SYNSTRUT",
          "句子结构-SentenceStructure",
          "时体衔接-SMTEMP-68",
          "意图衔接-SMINTEr-65",
          "整体连贯-GlobalCoherence",
          "句子数量-DESSC-02",
          "段落平均长度-DESPL-04",
          "短语密度-PhraseDensity",
          "段落平均长度标准差-DESPLd-05"
         ],
         "xaxis": "x2",
         "y": [
          "重要性",
          "相关性",
          "综合评分"
         ],
         "yaxis": "y2",
         "z": [
          [
           0.1577429253466246,
           0.11061566945460372,
           0.06141225277216083,
           0.1062817539254273,
           0.05597698212118211,
           0.05388109775271987,
           0.03581827952041645,
           0.0637462863770348,
           0.05594757189776027,
           0.03617641114517175,
           0.04254692399045609,
           0.018988413369750497,
           0.0191308047709466,
           0.04688967509006005,
           0.030051983490696817
          ],
          [
           -0.40066346079928605,
           -0.39594684694181903,
           0.29579551369376206,
           0.20706418654070646,
           0.2561135099822849,
           -0.1745519666401154,
           -0.20009249214646713,
           0.10399520066153255,
           0.10000036363318301,
           0.12463753180681589,
           0.10889112953341983,
           -0.1212387257387181,
           -0.116053436157176,
           -0.07332709483122879,
           -0.09598944520133262
          ],
          [
           0.2549111395276892,
           0.22474814044948985,
           0.15516555714080132,
           0.14659472697153897,
           0.13603159326562322,
           0.10214944530767808,
           0.10152796457083672,
           0.0798458520908339,
           0.07356868859192937,
           0.0715608594098294,
           0.06908460620764159,
           0.05988853831733754,
           0.05789985732543836,
           0.057464642986527543,
           0.056426968174951145
          ]
         ],
         "zmid": 0
        }
       ],
       "layout": {
        "annotations": [
         {
          "font": {
           "size": 16
          },
          "showarrow": false,
          "text": "叙事能力关键要素排序（综合评分）",
          "x": 0.5,
          "xanchor": "center",
          "xref": "paper",
          "y": 1,
          "yanchor": "bottom",
          "yref": "paper"
         },
         {
          "font": {
           "size": 16
          },
          "showarrow": false,
          "text": "关键要素评分相关性热力图",
          "x": 0.5,
          "xanchor": "center",
          "xref": "paper",
          "y": 0.35200000000000004,
          "yanchor": "bottom",
          "yref": "paper"
         }
        ],
        "font": {
         "family": "PingFang SC, Microsoft YaHei, Arial",
         "size": 14
        },
        "height": 800,
        "margin": {
         "b": 60,
         "l": 80,
         "r": 40,
         "t": 80
        },
        "paper_bgcolor": "white",
        "plot_bgcolor": "white",
        "showlegend": false,
        "template": {
         "data": {
          "bar": [
           {
            "error_x": {
             "color": "#2a3f5f"
            },
            "error_y": {
             "color": "#2a3f5f"
            },
            "marker": {
             "line": {
              "color": "#E5ECF6",
              "width": 0.5
             },
             "pattern": {
              "fillmode": "overlay",
              "size": 10,
              "solidity": 0.2
             }
            },
            "type": "bar"
           }
          ],
          "barpolar": [
           {
            "marker": {
             "line": {
              "color": "#E5ECF6",
              "width": 0.5
             },
             "pattern": {
              "fillmode": "overlay",
              "size": 10,
              "solidity": 0.2
             }
            },
            "type": "barpolar"
           }
          ],
          "carpet": [
           {
            "aaxis": {
             "endlinecolor": "#2a3f5f",
             "gridcolor": "white",
             "linecolor": "white",
             "minorgridcolor": "white",
             "startlinecolor": "#2a3f5f"
            },
            "baxis": {
             "endlinecolor": "#2a3f5f",
             "gridcolor": "white",
             "linecolor": "white",
             "minorgridcolor": "white",
             "startlinecolor": "#2a3f5f"
            },
            "type": "carpet"
           }
          ],
          "choropleth": [
           {
            "colorbar": {
             "outlinewidth": 0,
             "ticks": ""
            },
            "type": "choropleth"
           }
          ],
          "contour": [
           {
            "colorbar": {
             "outlinewidth": 0,
             "ticks": ""
            },
            "colorscale": [
             [
              0,
              "#0d0887"
             ],
             [
              0.1111111111111111,
              "#46039f"
             ],
             [
              0.2222222222222222,
              "#7201a8"
             ],
             [
              0.3333333333333333,
              "#9c179e"
             ],
             [
              0.4444444444444444,
              "#bd3786"
             ],
             [
              0.5555555555555556,
              "#d8576b"
             ],
             [
              0.6666666666666666,
              "#ed7953"
             ],
             [
              0.7777777777777778,
              "#fb9f3a"
             ],
             [
              0.8888888888888888,
              "#fdca26"
             ],
             [
              1,
              "#f0f921"
             ]
            ],
            "type": "contour"
           }
          ],
          "contourcarpet": [
           {
            "colorbar": {
             "outlinewidth": 0,
             "ticks": ""
            },
            "type": "contourcarpet"
           }
          ],
          "heatmap": [
           {
            "colorbar": {
             "outlinewidth": 0,
             "ticks": ""
            },
            "colorscale": [
             [
              0,
              "#0d0887"
             ],
             [
              0.1111111111111111,
              "#46039f"
             ],
             [
              0.2222222222222222,
              "#7201a8"
             ],
             [
              0.3333333333333333,
              "#9c179e"
             ],
             [
              0.4444444444444444,
              "#bd3786"
             ],
             [
              0.5555555555555556,
              "#d8576b"
             ],
             [
              0.6666666666666666,
              "#ed7953"
             ],
             [
              0.7777777777777778,
              "#fb9f3a"
             ],
             [
              0.8888888888888888,
              "#fdca26"
             ],
             [
              1,
              "#f0f921"
             ]
            ],
            "type": "heatmap"
           }
          ],
          "heatmapgl": [
           {
            "colorbar": {
             "outlinewidth": 0,
             "ticks": ""
            },
            "colorscale": [
             [
              0,
              "#0d0887"
             ],
             [
              0.1111111111111111,
              "#46039f"
             ],
             [
              0.2222222222222222,
              "#7201a8"
             ],
             [
              0.3333333333333333,
              "#9c179e"
             ],
             [
              0.4444444444444444,
              "#bd3786"
             ],
             [
              0.5555555555555556,
              "#d8576b"
             ],
             [
              0.6666666666666666,
              "#ed7953"
             ],
             [
              0.7777777777777778,
              "#fb9f3a"
             ],
             [
              0.8888888888888888,
              "#fdca26"
             ],
             [
              1,
              "#f0f921"
             ]
            ],
            "type": "heatmapgl"
           }
          ],
          "histogram": [
           {
            "marker": {
             "pattern": {
              "fillmode": "overlay",
              "size": 10,
              "solidity": 0.2
             }
            },
            "type": "histogram"
           }
          ],
          "histogram2d": [
           {
            "colorbar": {
             "outlinewidth": 0,
             "ticks": ""
            },
            "colorscale": [
             [
              0,
              "#0d0887"
             ],
             [
              0.1111111111111111,
              "#46039f"
             ],
             [
              0.2222222222222222,
              "#7201a8"
             ],
             [
              0.3333333333333333,
              "#9c179e"
             ],
             [
              0.4444444444444444,
              "#bd3786"
             ],
             [
              0.5555555555555556,
              "#d8576b"
             ],
             [
              0.6666666666666666,
              "#ed7953"
             ],
             [
              0.7777777777777778,
              "#fb9f3a"
             ],
             [
              0.8888888888888888,
              "#fdca26"
             ],
             [
              1,
              "#f0f921"
             ]
            ],
            "type": "histogram2d"
           }
          ],
          "histogram2dcontour": [
           {
            "colorbar": {
             "outlinewidth": 0,
             "ticks": ""
            },
            "colorscale": [
             [
              0,
              "#0d0887"
             ],
             [
              0.1111111111111111,
              "#46039f"
             ],
             [
              0.2222222222222222,
              "#7201a8"
             ],
             [
              0.3333333333333333,
              "#9c179e"
             ],
             [
              0.4444444444444444,
              "#bd3786"
             ],
             [
              0.5555555555555556,
              "#d8576b"
             ],
             [
              0.6666666666666666,
              "#ed7953"
             ],
             [
              0.7777777777777778,
              "#fb9f3a"
             ],
             [
              0.8888888888888888,
              "#fdca26"
             ],
             [
              1,
              "#f0f921"
             ]
            ],
            "type": "histogram2dcontour"
           }
          ],
          "mesh3d": [
           {
            "colorbar": {
             "outlinewidth": 0,
             "ticks": ""
            },
            "type": "mesh3d"
           }
          ],
          "parcoords": [
           {
            "line": {
             "colorbar": {
              "outlinewidth": 0,
              "ticks": ""
             }
            },
            "type": "parcoords"
           }
          ],
          "pie": [
           {
            "automargin": true,
            "type": "pie"
           }
          ],
          "scatter": [
           {
            "fillpattern": {
             "fillmode": "overlay",
             "size": 10,
             "solidity": 0.2
            },
            "type": "scatter"
           }
          ],
          "scatter3d": [
           {
            "line": {
             "colorbar": {
              "outlinewidth": 0,
              "ticks": ""
             }
            },
            "marker": {
             "colorbar": {
              "outlinewidth": 0,
              "ticks": ""
             }
            },
            "type": "scatter3d"
           }
          ],
          "scattercarpet": [
           {
            "marker": {
             "colorbar": {
              "outlinewidth": 0,
              "ticks": ""
             }
            },
            "type": "scattercarpet"
           }
          ],
          "scattergeo": [
           {
            "marker": {
             "colorbar": {
              "outlinewidth": 0,
              "ticks": ""
             }
            },
            "type": "scattergeo"
           }
          ],
          "scattergl": [
           {
            "marker": {
             "colorbar": {
              "outlinewidth": 0,
              "ticks": ""
             }
            },
            "type": "scattergl"
           }
          ],
          "scattermapbox": [
           {
            "marker": {
             "colorbar": {
              "outlinewidth": 0,
              "ticks": ""
             }
            },
            "type": "scattermapbox"
           }
          ],
          "scatterpolar": [
           {
            "marker": {
             "colorbar": {
              "outlinewidth": 0,
              "ticks": ""
             }
            },
            "type": "scatterpolar"
           }
          ],
          "scatterpolargl": [
           {
            "marker": {
             "colorbar": {
              "outlinewidth": 0,
              "ticks": ""
             }
            },
            "type": "scatterpolargl"
           }
          ],
          "scatterternary": [
           {
            "marker": {
             "colorbar": {
              "outlinewidth": 0,
              "ticks": ""
             }
            },
            "type": "scatterternary"
           }
          ],
          "surface": [
           {
            "colorbar": {
             "outlinewidth": 0,
             "ticks": ""
            },
            "colorscale": [
             [
              0,
              "#0d0887"
             ],
             [
              0.1111111111111111,
              "#46039f"
             ],
             [
              0.2222222222222222,
              "#7201a8"
             ],
             [
              0.3333333333333333,
              "#9c179e"
             ],
             [
              0.4444444444444444,
              "#bd3786"
             ],
             [
              0.5555555555555556,
              "#d8576b"
             ],
             [
              0.6666666666666666,
              "#ed7953"
             ],
             [
              0.7777777777777778,
              "#fb9f3a"
             ],
             [
              0.8888888888888888,
              "#fdca26"
             ],
             [
              1,
              "#f0f921"
             ]
            ],
            "type": "surface"
           }
          ],
          "table": [
           {
            "cells": {
             "fill": {
              "color": "#EBF0F8"
             },
             "line": {
              "color": "white"
             }
            },
            "header": {
             "fill": {
              "color": "#C8D4E3"
             },
             "line": {
              "color": "white"
             }
            },
            "type": "table"
           }
          ]
         },
         "layout": {
          "annotationdefaults": {
           "arrowcolor": "#2a3f5f",
           "arrowhead": 0,
           "arrowwidth": 1
          },
          "autotypenumbers": "strict",
          "coloraxis": {
           "colorbar": {
            "outlinewidth": 0,
            "ticks": ""
           }
          },
          "colorscale": {
           "diverging": [
            [
             0,
             "#8e0152"
            ],
            [
             0.1,
             "#c51b7d"
            ],
            [
             0.2,
             "#de77ae"
            ],
            [
             0.3,
             "#f1b6da"
            ],
            [
             0.4,
             "#fde0ef"
            ],
            [
             0.5,
             "#f7f7f7"
            ],
            [
             0.6,
             "#e6f5d0"
            ],
            [
             0.7,
             "#b8e186"
            ],
            [
             0.8,
             "#7fbc41"
            ],
            [
             0.9,
             "#4d9221"
            ],
            [
             1,
             "#276419"
            ]
           ],
           "sequential": [
            [
             0,
             "#0d0887"
            ],
            [
             0.1111111111111111,
             "#46039f"
            ],
            [
             0.2222222222222222,
             "#7201a8"
            ],
            [
             0.3333333333333333,
             "#9c179e"
            ],
            [
             0.4444444444444444,
             "#bd3786"
            ],
            [
             0.5555555555555556,
             "#d8576b"
            ],
            [
             0.6666666666666666,
             "#ed7953"
            ],
            [
             0.7777777777777778,
             "#fb9f3a"
            ],
            [
             0.8888888888888888,
             "#fdca26"
            ],
            [
             1,
             "#f0f921"
            ]
           ],
           "sequentialminus": [
            [
             0,
             "#0d0887"
            ],
            [
             0.1111111111111111,
             "#46039f"
            ],
            [
             0.2222222222222222,
             "#7201a8"
            ],
            [
             0.3333333333333333,
             "#9c179e"
            ],
            [
             0.4444444444444444,
             "#bd3786"
            ],
            [
             0.5555555555555556,
             "#d8576b"
            ],
            [
             0.6666666666666666,
             "#ed7953"
            ],
            [
             0.7777777777777778,
             "#fb9f3a"
            ],
            [
             0.8888888888888888,
             "#fdca26"
            ],
            [
             1,
             "#f0f921"
            ]
           ]
          },
          "colorway": [
           "#636efa",
           "#EF553B",
           "#00cc96",
           "#ab63fa",
           "#FFA15A",
           "#19d3f3",
           "#FF6692",
           "#B6E880",
           "#FF97FF",
           "#FECB52"
          ],
          "font": {
           "color": "#2a3f5f"
          },
          "geo": {
           "bgcolor": "white",
           "lakecolor": "white",
           "landcolor": "#E5ECF6",
           "showlakes": true,
           "showland": true,
           "subunitcolor": "white"
          },
          "hoverlabel": {
           "align": "left"
          },
          "hovermode": "closest",
          "mapbox": {
           "style": "light"
          },
          "paper_bgcolor": "white",
          "plot_bgcolor": "#E5ECF6",
          "polar": {
           "angularaxis": {
            "gridcolor": "white",
            "linecolor": "white",
            "ticks": ""
           },
           "bgcolor": "#E5ECF6",
           "radialaxis": {
            "gridcolor": "white",
            "linecolor": "white",
            "ticks": ""
           }
          },
          "scene": {
           "xaxis": {
            "backgroundcolor": "#E5ECF6",
            "gridcolor": "white",
            "gridwidth": 2,
            "linecolor": "white",
            "showbackground": true,
            "ticks": "",
            "zerolinecolor": "white"
           },
           "yaxis": {
            "backgroundcolor": "#E5ECF6",
            "gridcolor": "white",
            "gridwidth": 2,
            "linecolor": "white",
            "showbackground": true,
            "ticks": "",
            "zerolinecolor": "white"
           },
           "zaxis": {
            "backgroundcolor": "#E5ECF6",
            "gridcolor": "white",
            "gridwidth": 2,
            "linecolor": "white",
            "showbackground": true,
            "ticks": "",
            "zerolinecolor": "white"
           }
          },
          "shapedefaults": {
           "line": {
            "color": "#2a3f5f"
           }
          },
          "ternary": {
           "aaxis": {
            "gridcolor": "white",
            "linecolor": "white",
            "ticks": ""
           },
           "baxis": {
            "gridcolor": "white",
            "linecolor": "white",
            "ticks": ""
           },
           "bgcolor": "#E5ECF6",
           "caxis": {
            "gridcolor": "white",
            "linecolor": "white",
            "ticks": ""
           }
          },
          "title": {
           "x": 0.05
          },
          "xaxis": {
           "automargin": true,
           "gridcolor": "white",
           "linecolor": "white",
           "ticks": "",
           "title": {
            "standoff": 15
           },
           "zerolinecolor": "white",
           "zerolinewidth": 2
          },
          "yaxis": {
           "automargin": true,
           "gridcolor": "white",
           "linecolor": "white",
           "ticks": "",
           "title": {
            "standoff": 15
           },
           "zerolinecolor": "white",
           "zerolinewidth": 2
          }
         }
        },
        "width": 1100,
        "xaxis": {
         "anchor": "y",
         "domain": [
          0,
          1
         ],
         "showgrid": false
        },
        "xaxis2": {
         "anchor": "y2",
         "domain": [
          0,
          1
         ],
         "title": {
          "text": ""
         }
        },
        "yaxis": {
         "anchor": "x",
         "domain": [
          0.47200000000000003,
          1
         ],
         "showgrid": false,
         "title": {
          "text": "特征"
         }
        },
        "yaxis2": {
         "anchor": "x2",
         "domain": [
          0,
          0.35200000000000004
         ],
         "title": {
          "text": ""
         }
        }
       }
      }
     },
     "metadata": {},
     "output_type": "display_data"
    },
    {
     "data": {
      "text/html": [
       "<div>\n",
       "<style scoped>\n",
       "    .dataframe tbody tr th:only-of-type {\n",
       "        vertical-align: middle;\n",
       "    }\n",
       "\n",
       "    .dataframe tbody tr th {\n",
       "        vertical-align: top;\n",
       "    }\n",
       "\n",
       "    .dataframe thead th {\n",
       "        text-align: right;\n",
       "    }\n",
       "</style>\n",
       "<table border=\"1\" class=\"dataframe\">\n",
       "  <thead>\n",
       "    <tr style=\"text-align: right;\">\n",
       "      <th></th>\n",
       "      <th>feature</th>\n",
       "      <th>importance</th>\n",
       "      <th>correlation</th>\n",
       "      <th>p_value</th>\n",
       "      <th>composite_score</th>\n",
       "    </tr>\n",
       "  </thead>\n",
       "  <tbody>\n",
       "    <tr>\n",
       "      <th>0</th>\n",
       "      <td>复杂度-K</td>\n",
       "      <td>0.157743</td>\n",
       "      <td>-0.400663</td>\n",
       "      <td>5.383923e-13</td>\n",
       "      <td>0.254911</td>\n",
       "    </tr>\n",
       "    <tr>\n",
       "      <th>1</th>\n",
       "      <td>密度-WRDFRQC（94）</td>\n",
       "      <td>0.110616</td>\n",
       "      <td>-0.395947</td>\n",
       "      <td>1.059315e-12</td>\n",
       "      <td>0.224748</td>\n",
       "    </tr>\n",
       "    <tr>\n",
       "      <th>4</th>\n",
       "      <td>短语长度-PhraseLength</td>\n",
       "      <td>0.061412</td>\n",
       "      <td>0.295796</td>\n",
       "      <td>1.797028e-07</td>\n",
       "      <td>0.155166</td>\n",
       "    </tr>\n",
       "    <tr>\n",
       "      <th>2</th>\n",
       "      <td>单词数量-DESWC-03</td>\n",
       "      <td>0.106282</td>\n",
       "      <td>0.207064</td>\n",
       "      <td>3.053792e-04</td>\n",
       "      <td>0.146595</td>\n",
       "    </tr>\n",
       "    <tr>\n",
       "      <th>6</th>\n",
       "      <td>句子长度-DESSL（06）</td>\n",
       "      <td>0.055977</td>\n",
       "      <td>0.256114</td>\n",
       "      <td>7.034158e-06</td>\n",
       "      <td>0.136032</td>\n",
       "    </tr>\n",
       "    <tr>\n",
       "      <th>8</th>\n",
       "      <td>因果衔接-SMCAUSr-64</td>\n",
       "      <td>0.053881</td>\n",
       "      <td>-0.174552</td>\n",
       "      <td>2.413079e-03</td>\n",
       "      <td>0.102149</td>\n",
       "    </tr>\n",
       "    <tr>\n",
       "      <th>13</th>\n",
       "      <td>句法相似-SYNSTRUT</td>\n",
       "      <td>0.035818</td>\n",
       "      <td>-0.200092</td>\n",
       "      <td>4.892763e-04</td>\n",
       "      <td>0.101528</td>\n",
       "    </tr>\n",
       "    <tr>\n",
       "      <th>3</th>\n",
       "      <td>句子结构-SentenceStructure</td>\n",
       "      <td>0.063746</td>\n",
       "      <td>0.103995</td>\n",
       "      <td>7.208042e-02</td>\n",
       "      <td>0.079846</td>\n",
       "    </tr>\n",
       "    <tr>\n",
       "      <th>7</th>\n",
       "      <td>时体衔接-SMTEMP-68</td>\n",
       "      <td>0.055948</td>\n",
       "      <td>0.100000</td>\n",
       "      <td>8.377990e-02</td>\n",
       "      <td>0.073569</td>\n",
       "    </tr>\n",
       "    <tr>\n",
       "      <th>12</th>\n",
       "      <td>意图衔接-SMINTEr-65</td>\n",
       "      <td>0.036176</td>\n",
       "      <td>0.124638</td>\n",
       "      <td>3.091264e-02</td>\n",
       "      <td>0.071561</td>\n",
       "    </tr>\n",
       "    <tr>\n",
       "      <th>11</th>\n",
       "      <td>整体连贯-GlobalCoherence</td>\n",
       "      <td>0.042547</td>\n",
       "      <td>0.108891</td>\n",
       "      <td>5.959458e-02</td>\n",
       "      <td>0.069085</td>\n",
       "    </tr>\n",
       "    <tr>\n",
       "      <th>16</th>\n",
       "      <td>句子数量-DESSC-02</td>\n",
       "      <td>0.018988</td>\n",
       "      <td>-0.121239</td>\n",
       "      <td>3.582588e-02</td>\n",
       "      <td>0.059889</td>\n",
       "    </tr>\n",
       "    <tr>\n",
       "      <th>15</th>\n",
       "      <td>段落平均长度-DESPL-04</td>\n",
       "      <td>0.019131</td>\n",
       "      <td>-0.116053</td>\n",
       "      <td>4.458972e-02</td>\n",
       "      <td>0.057900</td>\n",
       "    </tr>\n",
       "    <tr>\n",
       "      <th>10</th>\n",
       "      <td>短语密度-PhraseDensity</td>\n",
       "      <td>0.046890</td>\n",
       "      <td>-0.073327</td>\n",
       "      <td>2.053463e-01</td>\n",
       "      <td>0.057465</td>\n",
       "    </tr>\n",
       "    <tr>\n",
       "      <th>14</th>\n",
       "      <td>段落平均长度标准差-DESPLd-05</td>\n",
       "      <td>0.030052</td>\n",
       "      <td>-0.095989</td>\n",
       "      <td>9.701927e-02</td>\n",
       "      <td>0.056427</td>\n",
       "    </tr>\n",
       "  </tbody>\n",
       "</table>\n",
       "</div>"
      ],
      "text/plain": [
       "                   feature  importance  correlation       p_value  \\\n",
       "0                    复杂度-K    0.157743    -0.400663  5.383923e-13   \n",
       "1           密度-WRDFRQC（94）    0.110616    -0.395947  1.059315e-12   \n",
       "4        短语长度-PhraseLength    0.061412     0.295796  1.797028e-07   \n",
       "2            单词数量-DESWC-03    0.106282     0.207064  3.053792e-04   \n",
       "6           句子长度-DESSL（06）    0.055977     0.256114  7.034158e-06   \n",
       "8          因果衔接-SMCAUSr-64    0.053881    -0.174552  2.413079e-03   \n",
       "13           句法相似-SYNSTRUT    0.035818    -0.200092  4.892763e-04   \n",
       "3   句子结构-SentenceStructure    0.063746     0.103995  7.208042e-02   \n",
       "7           时体衔接-SMTEMP-68    0.055948     0.100000  8.377990e-02   \n",
       "12         意图衔接-SMINTEr-65    0.036176     0.124638  3.091264e-02   \n",
       "11    整体连贯-GlobalCoherence    0.042547     0.108891  5.959458e-02   \n",
       "16           句子数量-DESSC-02    0.018988    -0.121239  3.582588e-02   \n",
       "15         段落平均长度-DESPL-04    0.019131    -0.116053  4.458972e-02   \n",
       "10      短语密度-PhraseDensity    0.046890    -0.073327  2.053463e-01   \n",
       "14     段落平均长度标准差-DESPLd-05    0.030052    -0.095989  9.701927e-02   \n",
       "\n",
       "    composite_score  \n",
       "0          0.254911  \n",
       "1          0.224748  \n",
       "4          0.155166  \n",
       "2          0.146595  \n",
       "6          0.136032  \n",
       "8          0.102149  \n",
       "13         0.101528  \n",
       "3          0.079846  \n",
       "7          0.073569  \n",
       "12         0.071561  \n",
       "11         0.069085  \n",
       "16         0.059889  \n",
       "15         0.057900  \n",
       "10         0.057465  \n",
       "14         0.056427  "
      ]
     },
     "execution_count": 20,
     "metadata": {},
     "output_type": "execute_result"
    }
   ],
   "source": [
    "#visualize_results(merged_df,feature_importance)\n",
    "visualize_results_plotly(merged_df,feature_importance)"
   ]
  },
  {
   "cell_type": "code",
   "execution_count": 21,
   "id": "30d04efb",
   "metadata": {},
   "outputs": [],
   "source": [
    "merged_df.to_csv('./res/reslut_inner_grade.csv', index=False)"
   ]
  },
  {
   "cell_type": "code",
   "execution_count": null,
   "id": "a62a35f9",
   "metadata": {},
   "outputs": [],
   "source": []
  }
 ],
 "metadata": {
  "kernelspec": {
   "display_name": "base",
   "language": "python",
   "name": "python3"
  },
  "language_info": {
   "codemirror_mode": {
    "name": "ipython",
    "version": 3
   },
   "file_extension": ".py",
   "mimetype": "text/x-python",
   "name": "python",
   "nbconvert_exporter": "python",
   "pygments_lexer": "ipython3",
   "version": "3.12.7"
  }
 },
 "nbformat": 4,
 "nbformat_minor": 5
}
