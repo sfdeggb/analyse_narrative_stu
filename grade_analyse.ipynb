{
 "cells": [
  {
   "cell_type": "code",
   "execution_count": 1,
   "id": "a11e75ff",
   "metadata": {},
   "outputs": [],
   "source": [
    "## 高中英语读后写作文叙事能力发展分析"
   ]
  },
  {
   "cell_type": "code",
   "execution_count": 2,
   "id": "5274703a",
   "metadata": {},
   "outputs": [
    {
     "name": "stdout",
     "output_type": "stream",
     "text": [
      "=== 高中英语读后写作文叙事能力发展分析 ===\n",
      "=== 年级间差异性分析 (修正版) ===\n"
     ]
    }
   ],
   "source": [
    "import pandas as pd\n",
    "import numpy as np\n",
    "import matplotlib.pyplot as plt\n",
    "import seaborn as sns\n",
    "from scipy import stats\n",
    "from scipy.stats import shapiro, levene, f_oneway, tukey_hsd\n",
    "import warnings\n",
    "warnings.filterwarnings('ignore')\n",
    "\n",
    "# 设置中文字体和图表样式\n",
    "#sns.set_style(\"whitegrid\")\n",
    "plt.style.use('seaborn-v0_8')\n",
    "plt.rcParams['font.family'] = 'sans-serif'          # 指定族\n",
    "#plt.rcParams['font.sans-serif'] = ['SimHei']        # windows\n",
    "plt.rcParams['font.sans-serif'] = ['PingFang HK']    # mac\n",
    "plt.rcParams['axes.unicode_minus'] = False\n",
    "\n",
    "# 设置随机种子确保结果可重现\n",
    "np.random.seed(42)\n",
    "\n",
    "print(\"=== 高中英语读后写作文叙事能力发展分析 ===\")\n",
    "print(\"=== 年级间差异性分析 (修正版) ===\")"
   ]
  },
  {
   "cell_type": "code",
   "execution_count": 3,
   "id": "c0272bfc",
   "metadata": {},
   "outputs": [
    {
     "name": "stdout",
     "output_type": "stream",
     "text": [
      "\n",
      "✓ 成功加载: 描述性统计\n",
      "  文件路径: pre_data/1.描述性统计.xlsx\n",
      "  工作表: ['高一', '高二', '高三']\n",
      "  发现年级工作表: ['高一', '高二', '高三']\n",
      "    工作表 '高一' -> 年级 1, 数据形状: (100, 4)\n",
      "    工作表 '高二' -> 年级 2, 数据形状: (100, 4)\n",
      "    工作表 '高三' -> 年级 3, 数据形状: (100, 4)\n",
      "  合并后总数据形状: (300, 4)\n",
      "\n",
      "✓ 成功加载: 微观叙事-词法\n",
      "  文件路径: pre_data/2-1微观叙事-词法.xlsx\n",
      "  工作表: ['高一', '高二', '高三']\n",
      "  发现年级工作表: ['高一', '高二', '高三']\n",
      "    工作表 '高一' -> 年级 1, 数据形状: (100, 10)\n",
      "    工作表 '高二' -> 年级 2, 数据形状: (100, 10)\n",
      "    工作表 '高三' -> 年级 3, 数据形状: (100, 10)\n",
      "  合并后总数据形状: (300, 10)\n",
      "\n",
      "✓ 成功加载: 微观叙事-句法\n",
      "  文件路径: pre_data/2-2微观叙事-句法.xlsx\n",
      "  工作表: ['高一', '高二', '高三']\n",
      "  发现年级工作表: ['高一', '高二', '高三']\n",
      "    工作表 '高一' -> 年级 1, 数据形状: (100, 13)\n",
      "    工作表 '高二' -> 年级 2, 数据形状: (100, 13)\n",
      "    工作表 '高三' -> 年级 3, 数据形状: (100, 13)\n",
      "  合并后总数据形状: (300, 13)\n",
      "\n",
      "✓ 成功加载: 宏观叙事-语篇连贯性\n",
      "  文件路径: pre_data/3-1宏观叙事-语篇连贯性.xlsx\n",
      "  工作表: ['高一', '高二', '高三']\n",
      "  发现年级工作表: ['高一', '高二', '高三']\n",
      "    工作表 '高一' -> 年级 1, 数据形状: (100, 10)\n",
      "    工作表 '高二' -> 年级 2, 数据形状: (100, 10)\n",
      "    工作表 '高三' -> 年级 3, 数据形状: (100, 10)\n",
      "  合并后总数据形状: (300, 10)\n",
      "\n",
      "✓ 成功加载: 宏观叙事-情境模型\n",
      "  文件路径: pre_data/3-2宏观叙事-情境模型.xlsx\n",
      "  工作表: ['高一', '高二', '高三']\n",
      "  发现年级工作表: ['高一', '高二', '高三']\n",
      "    工作表 '高一' -> 年级 1, 数据形状: (100, 5)\n",
      "    工作表 '高二' -> 年级 2, 数据形状: (100, 5)\n",
      "    工作表 '高三' -> 年级 3, 数据形状: (100, 5)\n",
      "  合并后总数据形状: (300, 5)\n",
      "\n",
      "✓ 成功加载: 宏观叙事-段落长度\n",
      "  文件路径: pre_data/3-3宏观叙事-段落长度.xlsx\n",
      "  工作表: ['高一', '高二', '高三']\n",
      "  发现年级工作表: ['高一', '高二', '高三']\n",
      "    工作表 '高一' -> 年级 1, 数据形状: (100, 4)\n",
      "    工作表 '高二' -> 年级 2, 数据形状: (100, 4)\n",
      "    工作表 '高三' -> 年级 3, 数据形状: (100, 4)\n",
      "  合并后总数据形状: (300, 4)\n",
      "\n",
      "描述性统计 数据预览:\n",
      "列名: ['文本编号', '单词数量-DESWC-03', '句子数量-DESSC-02', '年级']\n",
      "数据形状: (300, 4)\n",
      "年级分布: 年级\n",
      "1    100\n",
      "2    100\n",
      "3    100\n",
      "Name: count, dtype: int64\n",
      "前5行数据:\n",
      "      文本编号  单词数量-DESWC-03  句子数量-DESSC-02  年级\n",
      "0    1.txt            152             14   1\n",
      "1   10.txt            193             17   1\n",
      "2  100.txt            202             17   1\n",
      "3   11.txt            189             16   1\n",
      "4   12.txt            208             20   1\n",
      "--------------------------------------------------\n",
      "\n",
      "微观叙事-词法 数据预览:\n",
      "列名: ['文本编号', '多样性-LDVOCDa（51）', '密度-WRDFRQC（94）', '复杂度-K1', '复杂度-K2', '复杂度-K3', '复杂度-K4', '复杂度-K5', '复杂度-K6+', '年级']\n",
      "数据形状: (300, 10)\n",
      "年级分布: 年级\n",
      "1    100\n",
      "2    100\n",
      "3    100\n",
      "Name: count, dtype: int64\n",
      "前5行数据:\n",
      "      文本编号  多样性-LDVOCDa（51）  密度-WRDFRQC（94）  复杂度-K1  复杂度-K2  复杂度-K3  复杂度-K4  \\\n",
      "0    1.txt        59.249001           2.396  92.903   3.226   3.226   0.645   \n",
      "1   10.txt        89.566002           2.277  88.144   6.186   2.062   3.093   \n",
      "2  100.txt       106.974998           2.261  84.653   8.416   3.960   1.485   \n",
      "3   11.txt        77.302002           2.480  87.500   6.250   1.562   0.000   \n",
      "4   12.txt        83.122002           2.098  82.464   9.479   2.370   2.370   \n",
      "\n",
      "   复杂度-K5  复杂度-K6+  年级  \n",
      "0   0.000    0.000   1  \n",
      "1   0.000    0.000   1  \n",
      "2   1.485    0.000   1  \n",
      "3   1.042    0.521   1  \n",
      "4   1.422    1.422   1  \n",
      "--------------------------------------------------\n",
      "\n",
      "微观叙事-句法 数据预览:\n",
      "列名: ['文本编号', '短语长度-SYNLE（69）', '短语长度-SYNNP（70）', '短语密度-DRNP（76）', '短语密度-DRVP（77）', '短语密度-DRPP（79）', '句子长度-DESSL（06）', '句子结构-DRPVAL（80）', '句子结构-DRNEG（81）', '句子结构-DRINF（83）', '句法相似-SYNSTRUTa（74）', '句法相似-SYNSTRUTt（75）', '年级']\n",
      "数据形状: (300, 13)\n",
      "年级分布: 年级\n",
      "1    100\n",
      "2    100\n",
      "3    100\n",
      "Name: count, dtype: int64\n",
      "前5行数据:\n",
      "      文本编号  短语长度-SYNLE（69）  短语长度-SYNNP（70）  短语密度-DRNP（76）  短语密度-DRVP（77）  \\\n",
      "0    1.txt           2.071           0.488     309.210999     296.053009   \n",
      "1   10.txt           2.529           0.673     316.062012     238.341995   \n",
      "2  100.txt           2.706           0.593     351.484985     242.574005   \n",
      "3   11.txt           1.813           0.446     333.333008     291.005005   \n",
      "4   12.txt           4.000           0.705     322.114990     221.154007   \n",
      "\n",
      "   短语密度-DRPP（79）  句子长度-DESSL（06）  句子结构-DRPVAL（80）  句子结构-DRNEG（81）  \\\n",
      "0      59.210999          11.000           13.158           6.579   \n",
      "1      93.264000          11.412            0.000          10.363   \n",
      "2      99.010002          11.882            9.901           9.901   \n",
      "3      89.946999          11.875            0.000          10.582   \n",
      "4      81.731003          10.450            0.000           9.615   \n",
      "\n",
      "   句子结构-DRINF（83）  句法相似-SYNSTRUTa（74）  句法相似-SYNSTRUTt（75）  年级  \n",
      "0       26.316000               0.168               0.173   1  \n",
      "1       15.544000               0.161               0.162   1  \n",
      "2       24.752001               0.163               0.164   1  \n",
      "3       21.164000               0.150               0.131   1  \n",
      "4       24.038000               0.146               0.160   1  \n",
      "--------------------------------------------------\n",
      "\n",
      "宏观叙事-语篇连贯性 数据预览:\n",
      "列名: ['文本编号', '局部连贯-CRFAO1（29）', '局部连贯-CRFSO1（30）', '局部连贯-LSASS1(40)', '整体连贯-CRFAOa（32）', '整体连贯-CRFSOa（33）', '整体连贯-LSASSp（42）', '整体连贯-LSAPP1（44）', '整体连贯-LSAGN（46）', '年级']\n",
      "数据形状: (300, 10)\n",
      "年级分布: 年级\n",
      "1    100\n",
      "2    100\n",
      "3    100\n",
      "Name: count, dtype: int64\n",
      "前5行数据:\n",
      "      文本编号  局部连贯-CRFAO1（29）  局部连贯-CRFSO1（30）  局部连贯-LSASS1(40)  \\\n",
      "0    1.txt            0.615            0.154            0.179   \n",
      "1   10.txt            0.438            0.063            0.043   \n",
      "2  100.txt            0.438            0.125            0.082   \n",
      "3   11.txt            0.600            0.067            0.119   \n",
      "4   12.txt            0.526            0.105            0.097   \n",
      "\n",
      "   整体连贯-CRFAOa（32）  整体连贯-CRFSOa（33）  整体连贯-LSASSp（42）  整体连贯-LSAPP1（44）  \\\n",
      "0            0.776            0.129            0.189            0.488   \n",
      "1            0.548            0.113            0.091            0.688   \n",
      "2            0.522            0.052            0.081            0.246   \n",
      "3            0.667            0.038            0.121            0.304   \n",
      "4            0.393            0.055            0.067            0.450   \n",
      "\n",
      "   整体连贯-LSAGN（46）  年级  \n",
      "0           0.306   1  \n",
      "1           0.272   1  \n",
      "2           0.233   1  \n",
      "3           0.273   1  \n",
      "4           0.239   1  \n",
      "--------------------------------------------------\n",
      "\n",
      "宏观叙事-情境模型 数据预览:\n",
      "列名: ['文本编号', '因果衔接-SMCAUSr-64', '意图衔接-SMINTEr-65', '时体衔接-SMTEMP-68', '年级']\n",
      "数据形状: (300, 5)\n",
      "年级分布: 年级\n",
      "1    100\n",
      "2    100\n",
      "3    100\n",
      "Name: count, dtype: int64\n",
      "前5行数据:\n",
      "      文本编号  因果衔接-SMCAUSr-64  意图衔接-SMINTEr-65  时体衔接-SMTEMP-68  年级\n",
      "0    1.txt            0.200            0.300           0.923   1\n",
      "1   10.txt            0.333            0.222           0.750   1\n",
      "2  100.txt            0.100            0.167           0.875   1\n",
      "3   11.txt            0.250            0.364           0.933   1\n",
      "4   12.txt            0.300            0.182           0.947   1\n",
      "--------------------------------------------------\n",
      "\n",
      "宏观叙事-段落长度 数据预览:\n",
      "列名: ['文本编号', '段落平均长度-DESPL-04', '段落平均长度标准差-DESPLd-05', '年级']\n",
      "数据形状: (300, 4)\n",
      "年级分布: 年级\n",
      "1    100\n",
      "2    100\n",
      "3    100\n",
      "Name: count, dtype: int64\n",
      "前5行数据:\n",
      "      文本编号  段落平均长度-DESPL-04  段落平均长度标准差-DESPLd-05  年级\n",
      "0    1.txt              7.0                0.000   1\n",
      "1   10.txt              8.5                0.707   1\n",
      "2  100.txt              8.5                0.707   1\n",
      "3   11.txt              8.0                4.243   1\n",
      "4   12.txt             10.0                2.828   1\n",
      "--------------------------------------------------\n"
     ]
    }
   ],
   "source": [
    "# 1. 数据加载与预处理 - 修正版\n",
    "\n",
    "def load_data_with_sheets():\n",
    "    \"\"\"加载所有数据文件，处理多张数据表的情况\"\"\"\n",
    "    data_files = {\n",
    "        '描述性统计': 'pre_data/1.描述性统计.xlsx',\n",
    "        '微观叙事-词法': 'pre_data/2-1微观叙事-词法.xlsx',\n",
    "        '微观叙事-句法': 'pre_data/2-2微观叙事-句法.xlsx',\n",
    "        '宏观叙事-语篇连贯性': 'pre_data/3-1宏观叙事-语篇连贯性.xlsx',\n",
    "        '宏观叙事-情境模型': 'pre_data/3-2宏观叙事-情境模型.xlsx',\n",
    "        '宏观叙事-段落长度': 'pre_data/3-3宏观叙事-段落长度.xlsx'\n",
    "    }\n",
    "    \n",
    "    data_dict = {}\n",
    "    \n",
    "    for name, file_path in data_files.items():\n",
    "        try:\n",
    "            # 读取Excel文件的所有工作表\n",
    "            excel_file = pd.ExcelFile(file_path)\n",
    "            sheet_names = excel_file.sheet_names\n",
    "            \n",
    "            print(f\"\\n✓ 成功加载: {name}\")\n",
    "            print(f\"  文件路径: {file_path}\")\n",
    "            print(f\"  工作表: {sheet_names}\")\n",
    "            \n",
    "            # 检查是否包含年级相关的工作表\n",
    "            grade_sheets = []\n",
    "            for sheet in sheet_names:\n",
    "                if any(keyword in sheet for keyword in ['高一', '高二', '高三', 'grade1', 'grade2', 'grade3']):\n",
    "                    grade_sheets.append(sheet)\n",
    "            \n",
    "            if grade_sheets:\n",
    "                print(f\"  发现年级工作表: {grade_sheets}\")\n",
    "                \n",
    "                # 合并所有年级数据，添加年级标识\n",
    "                combined_data = []\n",
    "                grade_mapping = {\n",
    "                    '高一': 1, '高二': 2, '高三': 3,\n",
    "                    'grade1': 1, 'grade2': 2, 'grade3': 3\n",
    "                }\n",
    "                \n",
    "                for sheet in grade_sheets:\n",
    "                    df_sheet = pd.read_excel(file_path, sheet_name=sheet)\n",
    "                    \n",
    "                    # 确定年级值\n",
    "                    grade_value = None\n",
    "                    for key, value in grade_mapping.items():\n",
    "                        if key in sheet:\n",
    "                            grade_value = value\n",
    "                            break\n",
    "                    \n",
    "                    if grade_value:\n",
    "                        # 添加年级列\n",
    "                        df_sheet['年级'] = grade_value\n",
    "                        combined_data.append(df_sheet)\n",
    "                        print(f\"    工作表 '{sheet}' -> 年级 {grade_value}, 数据形状: {df_sheet.shape}\")\n",
    "                \n",
    "                if combined_data:\n",
    "                    # 合并所有年级数据\n",
    "                    final_df = pd.concat(combined_data, ignore_index=True)\n",
    "                    data_dict[name] = final_df\n",
    "                    print(f\"  合并后总数据形状: {final_df.shape}\")\n",
    "                else:\n",
    "                    print(f\"  ⚠️ 警告: 无法处理年级数据\")\n",
    "                    # 如果无法处理，读取第一个工作表\n",
    "                    df = pd.read_excel(file_path, sheet_name=sheet_names[0])\n",
    "                    data_dict[name] = df\n",
    "                    print(f\"  使用第一个工作表，数据形状: {df.shape}\")\n",
    "            else:\n",
    "                print(f\"  ⚠️ 警告: 未发现年级工作表，使用第一个工作表\")\n",
    "                df = pd.read_excel(file_path, sheet_name=sheet_names[0])\n",
    "                data_dict[name] = df\n",
    "                print(f\"  数据形状: {df.shape}\")\n",
    "                \n",
    "        except Exception as e:\n",
    "            print(f\"✗ 加载失败: {name} - 错误: {e}\")\n",
    "    \n",
    "    return data_dict\n",
    "\n",
    "# 加载数据\n",
    "data_dict = load_data_with_sheets()\n",
    "\n",
    "# 显示每个数据文件的基本信息\n",
    "for name, df in data_dict.items():\n",
    "    print(f\"\\n{name} 数据预览:\")\n",
    "    print(f\"列名: {list(df.columns)}\")\n",
    "    print(f\"数据形状: {df.shape}\")\n",
    "    \n",
    "    # 检查年级列\n",
    "    if '年级' in df.columns:\n",
    "        print(f\"年级分布: {df['年级'].value_counts().sort_index()}\")\n",
    "    \n",
    "    print(f\"前5行数据:\")\n",
    "    print(df.head())\n",
    "    print(\"-\" * 50)"
   ]
  },
  {
   "cell_type": "code",
   "execution_count": 4,
   "id": "844fe328",
   "metadata": {},
   "outputs": [
    {
     "name": "stdout",
     "output_type": "stream",
     "text": [
      "已保存: ./pre_data/描述性统计-grade.csv\n",
      "已保存: ./pre_data/微观叙事-词法-grade.csv\n",
      "已保存: ./pre_data/微观叙事-句法-grade.csv\n",
      "已保存: ./pre_data/宏观叙事-语篇连贯性-grade.csv\n",
      "已保存: ./pre_data/宏观叙事-情境模型-grade.csv\n",
      "已保存: ./pre_data/宏观叙事-段落长度-grade.csv\n"
     ]
    }
   ],
   "source": [
    "import os\n",
    "\n",
    "# 如果目录不存在则创建\n",
    "save_dir = \"./pre_data\"\n",
    "if not os.path.exists(save_dir):\n",
    "    os.makedirs(save_dir)\n",
    "\n",
    "# 遍历data_dict，将每个DataFrame保存为csv文件\n",
    "for name, df in data_dict.items():\n",
    "    save_path = os.path.join(save_dir, f\"{name}-grade.csv\")\n",
    "    df.to_csv(save_path, index=False, encoding='utf-8-sig')\n",
    "    print(f\"已保存: {save_path}\")"
   ]
  },
  {
   "cell_type": "markdown",
   "id": "cc56b529",
   "metadata": {},
   "source": [
    "### 2. 数据清洗与预处理"
   ]
  },
  {
   "cell_type": "code",
   "execution_count": 5,
   "id": "df7aae95",
   "metadata": {},
   "outputs": [
    {
     "data": {
      "text/plain": [
       "dict_keys(['描述性统计', '微观叙事-词法', '微观叙事-句法', '宏观叙事-语篇连贯性', '宏观叙事-情境模型', '宏观叙事-段落长度'])"
      ]
     },
     "execution_count": 5,
     "metadata": {},
     "output_type": "execute_result"
    }
   ],
   "source": [
    "data_dict.keys()"
   ]
  },
  {
   "cell_type": "code",
   "execution_count": 6,
   "id": "680b2881",
   "metadata": {},
   "outputs": [
    {
     "name": "stdout",
     "output_type": "stream",
     "text": [
      "已将所有特征表合并并保存到: ./pre_data/全部特征合并表.csv\n"
     ]
    }
   ],
   "source": [
    "# 将data_dict中的所有dataframe按照“文本编号”和“年级”两列进行横向合并（属性水平拼接）\n",
    "\n",
    "import functools\n",
    "\n",
    "# 先将所有dataframe的“文本编号”和“年级”列名标准化，避免后续合并出错\n",
    "def standardize_id_grade(df):\n",
    "    df = df.copy()\n",
    "    # 统一列名\n",
    "    for col in df.columns:\n",
    "        if col.strip() in ['文本编号', '编号', 'file', 'File', 'filename']:\n",
    "            df.rename(columns={col: '文本编号'}, inplace=True)\n",
    "        if col.strip() in ['年级', 'grade', 'Grade', 'level']:\n",
    "            df.rename(columns={col: '年级'}, inplace=True)\n",
    "    return df\n",
    "\n",
    "data_dict_std = {k: standardize_id_grade(df) for k, df in data_dict.items()}\n",
    "\n",
    "# 合并时避免重复列名，给每个dataframe的特征列加前缀\n",
    "dfs_with_prefix = []\n",
    "for name, df in data_dict_std.items():\n",
    "    # 除了“文本编号”和“年级”，其他列加前缀\n",
    "    cols = df.columns.tolist()\n",
    "    new_cols = []\n",
    "    for col in cols:\n",
    "        if col in ['文本编号', '年级']:\n",
    "            new_cols.append(col)\n",
    "        else:\n",
    "            new_cols.append(f\"{col}\")\n",
    "    df = df.copy()\n",
    "    df.columns = new_cols\n",
    "    dfs_with_prefix.append(df)\n",
    "\n",
    "# 依次按“文本编号”和“年级”做外连接\n",
    "df_merged = functools.reduce(lambda left, right: pd.merge(left, right, on=['文本编号', '年级'], how='outer'), dfs_with_prefix)\n",
    "\n",
    "# 保存合并后的大表\n",
    "save_path = \"./pre_data/全部特征合并表.csv\"\n",
    "df_merged.to_csv(save_path, index=False, encoding='utf-8-sig')\n",
    "print(f\"已将所有特征表合并并保存到: {save_path}\")"
   ]
  },
  {
   "cell_type": "code",
   "execution_count": 7,
   "id": "755e84f1",
   "metadata": {},
   "outputs": [
    {
     "name": "stdout",
     "output_type": "stream",
     "text": [
      "\n",
      "处理 描述性统计 数据...\n",
      "✓ 找到年级列，年级分布: 年级\n",
      "1    100\n",
      "2    100\n",
      "3    100\n",
      "Name: count, dtype: int64\n",
      "  有效年级: [1, 2, 3]\n",
      "数据类型分布:\n",
      "int64     3\n",
      "object    1\n",
      "Name: count, dtype: int64\n",
      "  单词数量-DESWC-03: 发现 1 个异常值\n",
      "  句子数量-DESSC-02: 发现 2 个异常值\n",
      "清理后数据形状: (297, 4)\n",
      "\n",
      "处理 微观叙事-词法 数据...\n",
      "✓ 找到年级列，年级分布: 年级\n",
      "1    100\n",
      "2    100\n",
      "3    100\n",
      "Name: count, dtype: int64\n",
      "  有效年级: [1, 2, 3]\n",
      "数据类型分布:\n",
      "float64    8\n",
      "object     1\n",
      "int64      1\n",
      "Name: count, dtype: int64\n",
      "  多样性-LDVOCDa（51）: 发现 7 个异常值\n",
      "  密度-WRDFRQC（94）: 发现 3 个异常值\n",
      "  复杂度-K1: 发现 7 个异常值\n",
      "  复杂度-K2: 发现 5 个异常值\n",
      "  复杂度-K3: 发现 2 个异常值\n",
      "  复杂度-K4: 发现 5 个异常值\n",
      "  复杂度-K5: 发现 4 个异常值\n",
      "  复杂度-K6+: 发现 15 个异常值\n",
      "清理后数据形状: (252, 10)\n",
      "\n",
      "处理 微观叙事-句法 数据...\n",
      "✓ 找到年级列，年级分布: 年级\n",
      "1    100\n",
      "2    100\n",
      "3    100\n",
      "Name: count, dtype: int64\n",
      "  有效年级: [1, 2, 3]\n",
      "数据类型分布:\n",
      "float64    11\n",
      "object      1\n",
      "int64       1\n",
      "Name: count, dtype: int64\n",
      "  短语长度-SYNLE（69）: 发现 10 个异常值\n",
      "  短语长度-SYNNP（70）: 发现 5 个异常值\n",
      "  短语密度-DRNP（76）: 发现 1 个异常值\n",
      "  句子长度-DESSL（06）: 发现 5 个异常值\n",
      "  句子结构-DRPVAL（80）: 发现 4 个异常值\n",
      "  句子结构-DRNEG（81）: 发现 1 个异常值\n",
      "  句子结构-DRINF（83）: 发现 2 个异常值\n",
      "  句法相似-SYNSTRUTa（74）: 发现 2 个异常值\n",
      "  句法相似-SYNSTRUTt（75）: 发现 3 个异常值\n",
      "清理后数据形状: (267, 13)\n",
      "\n",
      "处理 宏观叙事-语篇连贯性 数据...\n",
      "✓ 找到年级列，年级分布: 年级\n",
      "1    100\n",
      "2    100\n",
      "3    100\n",
      "Name: count, dtype: int64\n",
      "  有效年级: [1, 2, 3]\n",
      "数据类型分布:\n",
      "float64    8\n",
      "object     1\n",
      "int64      1\n",
      "Name: count, dtype: int64\n",
      "  局部连贯-CRFSO1（30）: 发现 15 个异常值\n",
      "  局部连贯-LSASS1(40): 发现 1 个异常值\n",
      "  整体连贯-CRFSOa（33）: 发现 8 个异常值\n",
      "  整体连贯-LSASSp（42）: 发现 7 个异常值\n",
      "  整体连贯-LSAPP1（44）: 发现 5 个异常值\n",
      "  整体连贯-LSAGN（46）: 发现 5 个异常值\n",
      "清理后数据形状: (259, 10)\n",
      "\n",
      "处理 宏观叙事-情境模型 数据...\n",
      "✓ 找到年级列，年级分布: 年级\n",
      "1    100\n",
      "2    100\n",
      "3    100\n",
      "Name: count, dtype: int64\n",
      "  有效年级: [1, 2, 3]\n",
      "数据类型分布:\n",
      "float64    3\n",
      "object     1\n",
      "int64      1\n",
      "Name: count, dtype: int64\n",
      "  因果衔接-SMCAUSr-64: 发现 5 个异常值\n",
      "  意图衔接-SMINTEr-65: 发现 17 个异常值\n",
      "清理后数据形状: (278, 5)\n",
      "\n",
      "处理 宏观叙事-段落长度 数据...\n",
      "✓ 找到年级列，年级分布: 年级\n",
      "1    100\n",
      "2    100\n",
      "3    100\n",
      "Name: count, dtype: int64\n",
      "  有效年级: [1, 2, 3]\n",
      "数据类型分布:\n",
      "float64    2\n",
      "object     1\n",
      "int64      1\n",
      "Name: count, dtype: int64\n",
      "  段落平均长度-DESPL-04: 发现 2 个异常值\n",
      "  段落平均长度标准差-DESPLd-05: 发现 3 个异常值\n",
      "清理后数据形状: (295, 4)\n"
     ]
    }
   ],
   "source": [
    "def clean_and_preprocess_data_improved(data_dict):\n",
    "    \"\"\"改进的数据清洗与预处理\"\"\"\n",
    "    cleaned_data = {}\n",
    "    \n",
    "    for name, df in data_dict.items():\n",
    "        print(f\"\\n处理 {name} 数据...\")\n",
    "        \n",
    "        # 复制数据避免修改原始数据\n",
    "        df_clean = df.copy()\n",
    "        \n",
    "        # 检查年级列\n",
    "        if '年级' in df_clean.columns:\n",
    "            print(f\"✓ 找到年级列，年级分布: {df_clean['年级'].value_counts().sort_index()}\")\n",
    "            \n",
    "            # 确保年级数据为数值型\n",
    "            df_clean['年级'] = pd.to_numeric(df_clean['年级'], errors='coerce')\n",
    "            \n",
    "            # 移除年级缺失的行\n",
    "            before_count = len(df_clean)\n",
    "            df_clean = df_clean.dropna(subset=['年级'])\n",
    "            after_count = len(df_clean)\n",
    "            \n",
    "            if before_count != after_count:\n",
    "                print(f\"  移除年级缺失行: {before_count - after_count} 行\")\n",
    "            \n",
    "            # 验证年级值\n",
    "            unique_grades = sorted(df_clean['年级'].unique())\n",
    "            print(f\"  有效年级: {unique_grades}\")\n",
    "            \n",
    "        else:\n",
    "            print(f\"⚠️ 警告: 未找到年级列\")\n",
    "            # 尝试从其他列推断年级信息\n",
    "            grade_col = None\n",
    "            for col in df_clean.columns:\n",
    "                if any(keyword in str(col).lower() for keyword in ['年级', 'grade', 'level']):\n",
    "                    grade_col = col\n",
    "                    break\n",
    "            \n",
    "            if grade_col:\n",
    "                print(f\"  尝试使用列 '{grade_col}' 作为年级标识\")\n",
    "                # 这里可以添加年级信息推断逻辑\n",
    "            else:\n",
    "                print(f\"  无法识别年级信息，将跳过年级间比较分析\")\n",
    "        \n",
    "        # 检查并处理缺失值\n",
    "        missing_count = df_clean.isnull().sum()\n",
    "        if missing_count.sum() > 0:\n",
    "            print(f\"发现缺失值:\")\n",
    "            for col, count in missing_count[missing_count > 0].items():\n",
    "                print(f\"  {col}: {count} 个缺失值\")\n",
    "            \n",
    "            # 对于数值型数据，使用中位数填充\n",
    "            numeric_cols = df_clean.select_dtypes(include=[np.number]).columns\n",
    "            numeric_cols = [col for col in numeric_cols if col != '年级']  # 排除年级列\n",
    "            \n",
    "            for col in numeric_cols:\n",
    "                if df_clean[col].isnull().sum() > 0:\n",
    "                    median_val = df_clean[col].median()\n",
    "                    df_clean[col].fillna(median_val, inplace=True)\n",
    "                    print(f\"  使用中位数 {median_val:.4f} 填充 {col}\")\n",
    "        \n",
    "        # 检查数据类型\n",
    "        print(f\"数据类型分布:\")\n",
    "        print(df_clean.dtypes.value_counts())\n",
    "        \n",
    "        # 检查异常值\n",
    "        numeric_cols = df_clean.select_dtypes(include=[np.number]).columns\n",
    "        numeric_cols = [col for col in numeric_cols if col != '年级']\n",
    "        \n",
    "        for col in numeric_cols:\n",
    "            Q1 = df_clean[col].quantile(0.25)\n",
    "            Q3 = df_clean[col].quantile(0.75)\n",
    "            IQR = Q3 - Q1\n",
    "            lower_bound = Q1 - 1.5 * IQR\n",
    "            upper_bound = Q3 + 1.5 * IQR\n",
    "            \n",
    "            outliers = df_clean[(df_clean[col] < lower_bound) | (df_clean[col] > upper_bound)]\n",
    "            if len(outliers) > 0:\n",
    "                print(f\"  {col}: 发现 {len(outliers)} 个异常值\")\n",
    "                # 可以选择移除异常值或进行其他处理\n",
    "                df_clean = df_clean[(df_clean[col] >= lower_bound) & (df_clean[col] <= upper_bound)]\n",
    "        \n",
    "        cleaned_data[name] = df_clean\n",
    "        print(f\"清理后数据形状: {df_clean.shape}\")\n",
    "    \n",
    "    return cleaned_data\n",
    "\n",
    "# 数据清洗\n",
    "cleaned_data = clean_and_preprocess_data_improved(data_dict)"
   ]
  },
  {
   "cell_type": "markdown",
   "id": "22ed9379",
   "metadata": {},
   "source": [
    "### 3. 描述性统计分析"
   ]
  },
  {
   "cell_type": "code",
   "execution_count": 8,
   "id": "2d10aeb3",
   "metadata": {},
   "outputs": [
    {
     "data": {
      "text/plain": [
       "dict_keys(['描述性统计', '微观叙事-词法', '微观叙事-句法', '宏观叙事-语篇连贯性', '宏观叙事-情境模型', '宏观叙事-段落长度'])"
      ]
     },
     "execution_count": 8,
     "metadata": {},
     "output_type": "execute_result"
    }
   ],
   "source": [
    "cleaned_data.keys()"
   ]
  },
  {
   "cell_type": "code",
   "execution_count": 9,
   "id": "7957d50a",
   "metadata": {},
   "outputs": [
    {
     "name": "stdout",
     "output_type": "stream",
     "text": [
      "=== 描述性统计分析 ===\n",
      "\n",
      "描述性统计 描述性统计:\n",
      "✓ 按年级分组的描述性统计:\n",
      "   单词数量-DESWC-03                         句子数量-DESSC-02                     \n",
      "            mean     std  min  max count          mean    std min max count\n",
      "年级                                                                         \n",
      "1        197.505  32.116  140  300    97         14.68  2.949   8  22    97\n",
      "2        181.860  39.656  111  306   100         13.39  2.998   8  21   100\n",
      "3        216.330  31.394  153  292   100         13.79  2.761   9  22   100\n",
      "\n",
      "各年级样本量:\n",
      "  年级 1: 97 个样本\n",
      "  年级 2: 100 个样本\n",
      "  年级 3: 100 个样本\n",
      "\n",
      "总体描述性统计:\n",
      "       单词数量-DESWC-03  句子数量-DESSC-02\n",
      "count        297.000        297.000\n",
      "mean         198.576         13.946\n",
      "std           37.301          2.944\n",
      "min          111.000          8.000\n",
      "25%          172.000         12.000\n",
      "50%          196.000         14.000\n",
      "75%          225.000         16.000\n",
      "max          306.000         22.000\n",
      "--------------------------------------------------\n",
      "\n",
      "微观叙事-词法 描述性统计:\n",
      "✓ 按年级分组的描述性统计:\n",
      "   多样性-LDVOCDa（51）                                密度-WRDFRQC（94）         \\\n",
      "              mean     std     min      max count           mean    std   \n",
      "年级                                                                        \n",
      "1           86.223  14.303  59.249  125.428    89          2.340  0.089   \n",
      "2           82.723  14.281  48.200  118.578    80          2.262  0.140   \n",
      "3           87.247  13.483  56.799  114.151    83          2.204  0.127   \n",
      "\n",
      "                        ... 复杂度-K5                          复杂度-K6+         \\\n",
      "      min    max count  ...   mean    std  min    max count    mean    std   \n",
      "年级                      ...                                                  \n",
      "1   2.086  2.525    89  ...  0.880  0.556  0.0  2.312    89   0.317  0.359   \n",
      "2   1.933  2.684    80  ...  1.079  0.632  0.0  2.632    80   0.285  0.391   \n",
      "3   1.887  2.472    83  ...  1.056  0.563  0.0  2.778    83   0.233  0.351   \n",
      "\n",
      "                      \n",
      "    min    max count  \n",
      "年级                    \n",
      "1   0.0  1.380    89  \n",
      "2   0.0  1.342    80  \n",
      "3   0.0  1.351    83  \n",
      "\n",
      "[3 rows x 40 columns]\n",
      "\n",
      "各年级样本量:\n",
      "  年级 1: 89 个样本\n",
      "  年级 2: 80 个样本\n",
      "  年级 3: 83 个样本\n",
      "\n",
      "总体描述性统计:\n",
      "       多样性-LDVOCDa（51）  密度-WRDFRQC（94）   复杂度-K1   复杂度-K2   复杂度-K3   复杂度-K4  \\\n",
      "count          252.000         252.000  252.000  252.000  252.000  252.000   \n",
      "mean            85.449           2.270   86.284    7.219    3.515    1.382   \n",
      "std             14.105           0.132    3.395    1.826    1.723    0.862   \n",
      "min             48.200           1.887   76.923    2.899    0.000    0.000   \n",
      "25%             74.867           2.186   84.088    6.030    2.346    0.645   \n",
      "50%             85.109           2.281   86.652    7.059    3.376    1.262   \n",
      "75%             95.185           2.360   88.889    8.375    4.517    1.918   \n",
      "max            125.428           2.684   94.839   12.227    8.099    3.879   \n",
      "\n",
      "        复杂度-K5  复杂度-K6+  \n",
      "count  252.000  252.000  \n",
      "mean     1.001    0.279  \n",
      "std      0.588    0.367  \n",
      "min      0.000    0.000  \n",
      "25%      0.548    0.000  \n",
      "50%      0.952    0.000  \n",
      "75%      1.413    0.521  \n",
      "max      2.778    1.380  \n",
      "--------------------------------------------------\n",
      "\n",
      "微观叙事-句法 描述性统计:\n",
      "✓ 按年级分组的描述性统计:\n",
      "   短语长度-SYNLE（69）                            短语长度-SYNNP（70）                \\\n",
      "             mean    std    min    max count           mean    std    min   \n",
      "年级                                                                          \n",
      "1           3.438  0.936  1.667  5.923    92          0.631  0.109  0.367   \n",
      "2           3.531  1.099  1.611  6.625    88          0.707  0.135  0.364   \n",
      "3           4.203  1.093  2.000  6.900    87          0.747  0.120  0.539   \n",
      "\n",
      "                 ... 句法相似-SYNSTRUTa（74）                             \\\n",
      "      max count  ...               mean    std    min    max count   \n",
      "年级               ...                                                 \n",
      "1   0.919    92  ...              0.133  0.031  0.068  0.219    92   \n",
      "2   1.053    88  ...              0.128  0.034  0.055  0.206    88   \n",
      "3   1.015    87  ...              0.117  0.034  0.055  0.205    87   \n",
      "\n",
      "   句法相似-SYNSTRUTt（75）                             \n",
      "                 mean    std    min    max count  \n",
      "年级                                                \n",
      "1               0.131  0.026  0.076  0.191    92  \n",
      "2               0.124  0.028  0.073  0.200    88  \n",
      "3               0.115  0.028  0.064  0.193    87  \n",
      "\n",
      "[3 rows x 55 columns]\n",
      "\n",
      "各年级样本量:\n",
      "  年级 1: 92 个样本\n",
      "  年级 2: 88 个样本\n",
      "  年级 3: 87 个样本\n",
      "\n",
      "总体描述性统计:\n",
      "       短语长度-SYNLE（69）  短语长度-SYNNP（70）  短语密度-DRNP（76）  短语密度-DRVP（77）  \\\n",
      "count         267.000         267.000        267.000        267.000   \n",
      "mean            3.718           0.694        337.728        237.600   \n",
      "std             1.094           0.130         26.755         25.714   \n",
      "min             1.611           0.364        276.786        172.973   \n",
      "25%             2.917           0.604        317.337        219.251   \n",
      "50%             3.643           0.680        339.041        238.095   \n",
      "75%             4.434           0.780        355.503        253.888   \n",
      "max             6.900           1.053        411.392        304.813   \n",
      "\n",
      "       短语密度-DRPP（79）  句子长度-DESSL（06）  句子结构-DRPVAL（80）  句子结构-DRNEG（81）  \\\n",
      "count        267.000         267.000          267.000         267.000   \n",
      "mean          92.630          14.249            2.808           7.651   \n",
      "std           19.188           2.702            3.657           6.547   \n",
      "min           44.444           8.118            0.000           0.000   \n",
      "25%           78.627          12.000            0.000           0.000   \n",
      "50%           92.391          14.071            0.000           6.369   \n",
      "75%          105.851          16.250            5.277          11.696   \n",
      "max          141.732          22.462           13.333          28.037   \n",
      "\n",
      "       句子结构-DRINF（83）  句法相似-SYNSTRUTa（74）  句法相似-SYNSTRUTt（75）  \n",
      "count         267.000             267.000             267.000  \n",
      "mean           18.742               0.126               0.124  \n",
      "std             9.423               0.033               0.028  \n",
      "min             0.000               0.055               0.064  \n",
      "25%            11.551               0.102               0.102  \n",
      "50%            18.349               0.121               0.122  \n",
      "75%            25.724               0.149               0.142  \n",
      "max            44.586               0.219               0.200  \n",
      "--------------------------------------------------\n",
      "\n",
      "宏观叙事-语篇连贯性 描述性统计:\n",
      "✓ 按年级分组的描述性统计:\n",
      "   局部连贯-CRFAO1（29）                          局部连贯-CRFSO1（30）              \\\n",
      "              mean    std    min  max count            mean    std  min   \n",
      "年级                                                                        \n",
      "1            0.590  0.152  0.231  1.0    88           0.114  0.086  0.0   \n",
      "2            0.577  0.176  0.188  1.0    89           0.131  0.102  0.0   \n",
      "3            0.601  0.162  0.263  1.0    82           0.139  0.087  0.0   \n",
      "\n",
      "                 ... 整体连贯-LSAPP1（44）                             \\\n",
      "      max count  ...            mean    std    min    max count   \n",
      "年级               ...                                              \n",
      "1   0.385    88  ...           0.419  0.091  0.214  0.658    88   \n",
      "2   0.364    89  ...           0.417  0.100  0.210  0.628    89   \n",
      "3   0.364    82  ...           0.455  0.076  0.246  0.632    82   \n",
      "\n",
      "   整体连贯-LSAGN（46）                             \n",
      "             mean    std    min    max count  \n",
      "年级                                            \n",
      "1           0.260  0.020  0.202  0.309    88  \n",
      "2           0.251  0.024  0.203  0.303    89  \n",
      "3           0.260  0.022  0.211  0.313    82  \n",
      "\n",
      "[3 rows x 40 columns]\n",
      "\n",
      "各年级样本量:\n",
      "  年级 1: 88 个样本\n",
      "  年级 2: 89 个样本\n",
      "  年级 3: 82 个样本\n",
      "\n",
      "总体描述性统计:\n",
      "       局部连贯-CRFAO1（29）  局部连贯-CRFSO1（30）  局部连贯-LSASS1(40)  整体连贯-CRFAOa（32）  \\\n",
      "count          259.000          259.000          259.000          259.000   \n",
      "mean             0.589            0.128            0.112            0.568   \n",
      "std              0.163            0.092            0.034            0.154   \n",
      "min              0.188            0.000            0.024            0.184   \n",
      "25%              0.467            0.067            0.089            0.454   \n",
      "50%              0.591            0.111            0.112            0.553   \n",
      "75%              0.700            0.185            0.135            0.674   \n",
      "max              1.000            0.385            0.199            1.000   \n",
      "\n",
      "       整体连贯-CRFSOa（33）  整体连贯-LSASSp（42）  整体连贯-LSAPP1（44）  整体连贯-LSAGN（46）  \n",
      "count          259.000          259.000          259.000         259.000  \n",
      "mean             0.125            0.111            0.430           0.257  \n",
      "std              0.057            0.029            0.091           0.022  \n",
      "min              0.012            0.041            0.210           0.202  \n",
      "25%              0.080            0.090            0.368           0.244  \n",
      "50%              0.118            0.109            0.432           0.256  \n",
      "75%              0.161            0.128            0.494           0.272  \n",
      "max              0.286            0.189            0.658           0.313  \n",
      "--------------------------------------------------\n",
      "\n",
      "宏观叙事-情境模型 描述性统计:\n",
      "✓ 按年级分组的描述性统计:\n",
      "   因果衔接-SMCAUSr-64                          意图衔接-SMINTEr-65              \\\n",
      "              mean    std  min    max count            mean    std  min   \n",
      "年级                                                                        \n",
      "1            0.312  0.206  0.0  0.800    98           0.316  0.178  0.0   \n",
      "2            0.230  0.205  0.0  0.800    94           0.366  0.223  0.0   \n",
      "3            0.226  0.157  0.0  0.667    86           0.381  0.214  0.0   \n",
      "\n",
      "                时体衔接-SMTEMP-68                           \n",
      "      max count           mean    std    min  max count  \n",
      "年级                                                       \n",
      "1   0.833    98          0.854  0.092  0.636  1.0    98  \n",
      "2   0.875    94          0.880  0.076  0.643  1.0    94  \n",
      "3   0.875    86          0.875  0.086  0.667  1.0    86  \n",
      "\n",
      "各年级样本量:\n",
      "  年级 1: 98 个样本\n",
      "  年级 2: 94 个样本\n",
      "  年级 3: 86 个样本\n",
      "\n",
      "总体描述性统计:\n",
      "       因果衔接-SMCAUSr-64  意图衔接-SMINTEr-65  时体衔接-SMTEMP-68\n",
      "count          278.000          278.000         278.000\n",
      "mean             0.258            0.353           0.869\n",
      "std              0.195            0.207           0.086\n",
      "min              0.000            0.000           0.636\n",
      "25%              0.111            0.200           0.809\n",
      "50%              0.222            0.333           0.882\n",
      "75%              0.375            0.500           0.929\n",
      "max              0.800            0.875           1.000\n",
      "--------------------------------------------------\n",
      "\n",
      "宏观叙事-段落长度 描述性统计:\n",
      "✓ 按年级分组的描述性统计:\n",
      "   段落平均长度-DESPL-04                         段落平均长度标准差-DESPLd-05              \\\n",
      "              mean    std  min   max count                mean    std  min   \n",
      "年级                                                                           \n",
      "1            7.316  1.486  4.0  11.0    98               1.732  1.317  0.0   \n",
      "2            6.634  1.480  4.0  10.5    97               2.384  1.455  0.0   \n",
      "3            6.895  1.380  4.5  11.0   100               1.421  1.061  0.0   \n",
      "\n",
      "                 \n",
      "      max count  \n",
      "年级               \n",
      "1   5.657    98  \n",
      "2   5.657    97  \n",
      "3   5.657   100  \n",
      "\n",
      "各年级样本量:\n",
      "  年级 1: 98 个样本\n",
      "  年级 2: 97 个样本\n",
      "  年级 3: 100 个样本\n",
      "\n",
      "总体描述性统计:\n",
      "       段落平均长度-DESPL-04  段落平均长度标准差-DESPLd-05\n",
      "count          295.000              295.000\n",
      "mean             6.949                1.841\n",
      "std              1.471                1.343\n",
      "min              4.000                0.000\n",
      "25%              6.000                0.707\n",
      "50%              7.000                1.414\n",
      "75%              8.000                2.828\n",
      "max             11.000                5.657\n",
      "--------------------------------------------------\n"
     ]
    }
   ],
   "source": [
    "def descriptive_analysis_improved(cleaned_data):\n",
    "    \"\"\"改进的描述性统计分析\"\"\"\n",
    "    print(\"=== 描述性统计分析 ===\")\n",
    "    \n",
    "    for name, df in cleaned_data.items():\n",
    "        print(f\"\\n{name} 描述性统计:\")\n",
    "        \n",
    "        # 检查是否有年级列\n",
    "        if '年级' in df.columns:\n",
    "            print(f\"✓ 按年级分组的描述性统计:\")\n",
    "            \n",
    "            # 识别数值型列（排除年级列）\n",
    "            numeric_cols = df.select_dtypes(include=[np.number]).columns\n",
    "            numeric_cols = [col for col in numeric_cols if col != '年级']\n",
    "            \n",
    "            if len(numeric_cols) > 0:\n",
    "                # 按年级分组统计\n",
    "                desc_stats = df.groupby('年级')[numeric_cols].agg(['mean', 'std', 'min', 'max', 'count'])\n",
    "                print(desc_stats.round(3))\n",
    "                \n",
    "                # 显示每个年级的样本量\n",
    "                print(f\"\\n各年级样本量:\")\n",
    "                grade_counts = df['年级'].value_counts().sort_index()\n",
    "                for grade, count in grade_counts.items():\n",
    "                    print(f\"  年级 {int(grade)}: {count} 个样本\")\n",
    "                \n",
    "                # 计算总体统计\n",
    "                print(f\"\\n总体描述性统计:\")\n",
    "                print(df[numeric_cols].describe().round(3))\n",
    "                \n",
    "            else:\n",
    "                print(\"未找到数值型列\")\n",
    "        else:\n",
    "            print(\"⚠️ 未找到年级列，显示整体描述性统计:\")\n",
    "            numeric_cols = df.select_dtypes(include=[np.number]).columns\n",
    "            if len(numeric_cols) > 0:\n",
    "                print(df[numeric_cols].describe().round(3))\n",
    "            else:\n",
    "                print(\"未找到数值型列\")\n",
    "        \n",
    "        print(\"-\" * 50)\n",
    "\n",
    "# 执行描述性分析\n",
    "descriptive_analysis_improved(cleaned_data)"
   ]
  },
  {
   "cell_type": "markdown",
   "id": "d04c2437",
   "metadata": {},
   "source": [
    "### 4. 数据可视化 - 年级间差异 "
   ]
  },
  {
   "cell_type": "code",
   "execution_count": 11,
   "id": "bba7c9ab",
   "metadata": {},
   "outputs": [
    {
     "data": {
      "text/plain": [
       "dict_keys(['描述性统计', '微观叙事-词法', '微观叙事-句法', '宏观叙事-语篇连贯性', '宏观叙事-情境模型', '宏观叙事-段落长度'])"
      ]
     },
     "execution_count": 11,
     "metadata": {},
     "output_type": "execute_result"
    }
   ],
   "source": [
    "cleaned_data.keys()"
   ]
  },
  {
   "cell_type": "code",
   "execution_count": 12,
   "id": "3f9b23f8",
   "metadata": {},
   "outputs": [
    {
     "data": {
      "application/vnd.plotly.v1+json": {
       "config": {
        "plotlyServerURL": "https://plot.ly"
       },
       "data": [
        {
         "boxmean": "sd",
         "name": "1年级",
         "showlegend": true,
         "type": "box",
         "xaxis": "x",
         "y": [
          152,
          193,
          202,
          189,
          208,
          227,
          212,
          206,
          212,
          164,
          192,
          196,
          163,
          201,
          237,
          229,
          191,
          244,
          160,
          237,
          180,
          175,
          185,
          200,
          140,
          187,
          198,
          177,
          165,
          219,
          209,
          172,
          212,
          187,
          312,
          273,
          179,
          198,
          183,
          229,
          149,
          229,
          197,
          155,
          149,
          157,
          205,
          210,
          190,
          189,
          191,
          275,
          189,
          185,
          166,
          240,
          158,
          173,
          196,
          154,
          239,
          195,
          237,
          232,
          258,
          203,
          234,
          147,
          192,
          185,
          240,
          241,
          146,
          169,
          238,
          175,
          257,
          196,
          172,
          155,
          186,
          229,
          195,
          214,
          257,
          223,
          211,
          167,
          168,
          195,
          191,
          143,
          267,
          223,
          176,
          214,
          187,
          300,
          192,
          184
         ],
         "yaxis": "y"
        },
        {
         "boxmean": "sd",
         "name": "2年级",
         "showlegend": true,
         "type": "box",
         "xaxis": "x",
         "y": [
          151,
          182,
          306,
          199,
          129,
          151,
          186,
          197,
          193,
          160,
          189,
          166,
          155,
          217,
          173,
          165,
          175,
          194,
          176,
          180,
          167,
          210,
          150,
          170,
          156,
          218,
          123,
          188,
          166,
          123,
          180,
          188,
          204,
          175,
          160,
          140,
          208,
          190,
          163,
          156,
          158,
          157,
          138,
          168,
          237,
          144,
          212,
          139,
          145,
          127,
          184,
          162,
          189,
          136,
          171,
          208,
          125,
          147,
          236,
          193,
          172,
          143,
          223,
          143,
          140,
          158,
          149,
          111,
          163,
          187,
          154,
          196,
          164,
          163,
          229,
          130,
          118,
          176,
          155,
          157,
          244,
          178,
          191,
          164,
          181,
          231,
          253,
          225,
          230,
          133,
          229,
          244,
          221,
          260,
          251,
          230,
          234,
          286,
          265,
          250
         ],
         "yaxis": "y"
        },
        {
         "boxmean": "sd",
         "name": "3年级",
         "showlegend": true,
         "type": "box",
         "xaxis": "x",
         "y": [
          199,
          191,
          244,
          170,
          197,
          194,
          180,
          184,
          191,
          187,
          228,
          166,
          202,
          213,
          250,
          172,
          233,
          185,
          180,
          215,
          153,
          155,
          212,
          210,
          197,
          173,
          216,
          172,
          202,
          210,
          199,
          192,
          216,
          175,
          204,
          204,
          223,
          202,
          258,
          218,
          211,
          224,
          192,
          163,
          213,
          212,
          198,
          200,
          197,
          213,
          205,
          171,
          203,
          217,
          220,
          191,
          197,
          207,
          187,
          225,
          212,
          193,
          232,
          197,
          200,
          249,
          278,
          212,
          268,
          238,
          248,
          256,
          218,
          241,
          261,
          264,
          233,
          259,
          242,
          292,
          243,
          289,
          194,
          233,
          234,
          251,
          246,
          245,
          277,
          180,
          251,
          243,
          237,
          292,
          250,
          257,
          249,
          252,
          192,
          207
         ],
         "yaxis": "y"
        },
        {
         "boxmean": "sd",
         "name": "1年级",
         "showlegend": false,
         "type": "box",
         "xaxis": "x2",
         "y": [
          14,
          17,
          17,
          16,
          20,
          15,
          14,
          16,
          11,
          13,
          12,
          14,
          15,
          15,
          15,
          18,
          16,
          20,
          13,
          13,
          12,
          17,
          14,
          17,
          8,
          12,
          14,
          14,
          12,
          15,
          13,
          16,
          16,
          17,
          10,
          19,
          13,
          13,
          9,
          16,
          11,
          14,
          18,
          13,
          12,
          13,
          11,
          15,
          14,
          12,
          11,
          22,
          12,
          16,
          10,
          20,
          13,
          12,
          14,
          13,
          10,
          15,
          20,
          16,
          23,
          20,
          14,
          10,
          14,
          13,
          21,
          14,
          14,
          17,
          15,
          14,
          18,
          13,
          15,
          9,
          15,
          18,
          15,
          15,
          23,
          17,
          18,
          10,
          15,
          14,
          16,
          14,
          20,
          20,
          9,
          15,
          20,
          15,
          13,
          16
         ],
         "yaxis": "y2"
        },
        {
         "boxmean": "sd",
         "name": "2年级",
         "showlegend": false,
         "type": "box",
         "xaxis": "x2",
         "y": [
          12,
          14,
          18,
          14,
          12,
          12,
          15,
          14,
          17,
          12,
          16,
          14,
          13,
          16,
          16,
          12,
          14,
          12,
          12,
          11,
          15,
          12,
          13,
          13,
          9,
          8,
          8,
          13,
          13,
          12,
          14,
          12,
          13,
          12,
          10,
          11,
          21,
          17,
          18,
          13,
          17,
          10,
          17,
          16,
          17,
          11,
          18,
          12,
          9,
          10,
          13,
          15,
          13,
          14,
          12,
          13,
          11,
          9,
          18,
          13,
          13,
          10,
          16,
          8,
          10,
          14,
          9,
          10,
          11,
          17,
          15,
          20,
          18,
          18,
          13,
          12,
          8,
          12,
          13,
          11,
          20,
          12,
          20,
          12,
          13,
          10,
          14,
          15,
          17,
          10,
          17,
          10,
          12,
          15,
          16,
          13,
          18,
          15,
          10,
          11
         ],
         "yaxis": "y2"
        },
        {
         "boxmean": "sd",
         "name": "3年级",
         "showlegend": false,
         "type": "box",
         "xaxis": "x2",
         "y": [
          10,
          18,
          18,
          13,
          12,
          18,
          15,
          12,
          12,
          11,
          11,
          11,
          13,
          13,
          14,
          10,
          14,
          15,
          11,
          15,
          10,
          9,
          10,
          12,
          14,
          11,
          13,
          11,
          12,
          12,
          18,
          13,
          12,
          11,
          15,
          9,
          15,
          18,
          19,
          13,
          14,
          14,
          12,
          10,
          16,
          16,
          14,
          15,
          16,
          16,
          15,
          17,
          15,
          13,
          16,
          16,
          17,
          15,
          13,
          10,
          17,
          16,
          21,
          20,
          11,
          14,
          14,
          10,
          15,
          11,
          15,
          11,
          13,
          14,
          14,
          13,
          12,
          15,
          16,
          13,
          12,
          16,
          11,
          14,
          20,
          14,
          17,
          16,
          15,
          14,
          10,
          9,
          11,
          22,
          16,
          14,
          13,
          12,
          14,
          11
         ],
         "yaxis": "y2"
        }
       ],
       "layout": {
        "height": 500,
        "showlegend": true,
        "template": {
         "data": {
          "bar": [
           {
            "error_x": {
             "color": "#2a3f5f"
            },
            "error_y": {
             "color": "#2a3f5f"
            },
            "marker": {
             "line": {
              "color": "#E5ECF6",
              "width": 0.5
             },
             "pattern": {
              "fillmode": "overlay",
              "size": 10,
              "solidity": 0.2
             }
            },
            "type": "bar"
           }
          ],
          "barpolar": [
           {
            "marker": {
             "line": {
              "color": "#E5ECF6",
              "width": 0.5
             },
             "pattern": {
              "fillmode": "overlay",
              "size": 10,
              "solidity": 0.2
             }
            },
            "type": "barpolar"
           }
          ],
          "carpet": [
           {
            "aaxis": {
             "endlinecolor": "#2a3f5f",
             "gridcolor": "white",
             "linecolor": "white",
             "minorgridcolor": "white",
             "startlinecolor": "#2a3f5f"
            },
            "baxis": {
             "endlinecolor": "#2a3f5f",
             "gridcolor": "white",
             "linecolor": "white",
             "minorgridcolor": "white",
             "startlinecolor": "#2a3f5f"
            },
            "type": "carpet"
           }
          ],
          "choropleth": [
           {
            "colorbar": {
             "outlinewidth": 0,
             "ticks": ""
            },
            "type": "choropleth"
           }
          ],
          "contour": [
           {
            "colorbar": {
             "outlinewidth": 0,
             "ticks": ""
            },
            "colorscale": [
             [
              0,
              "#0d0887"
             ],
             [
              0.1111111111111111,
              "#46039f"
             ],
             [
              0.2222222222222222,
              "#7201a8"
             ],
             [
              0.3333333333333333,
              "#9c179e"
             ],
             [
              0.4444444444444444,
              "#bd3786"
             ],
             [
              0.5555555555555556,
              "#d8576b"
             ],
             [
              0.6666666666666666,
              "#ed7953"
             ],
             [
              0.7777777777777778,
              "#fb9f3a"
             ],
             [
              0.8888888888888888,
              "#fdca26"
             ],
             [
              1,
              "#f0f921"
             ]
            ],
            "type": "contour"
           }
          ],
          "contourcarpet": [
           {
            "colorbar": {
             "outlinewidth": 0,
             "ticks": ""
            },
            "type": "contourcarpet"
           }
          ],
          "heatmap": [
           {
            "colorbar": {
             "outlinewidth": 0,
             "ticks": ""
            },
            "colorscale": [
             [
              0,
              "#0d0887"
             ],
             [
              0.1111111111111111,
              "#46039f"
             ],
             [
              0.2222222222222222,
              "#7201a8"
             ],
             [
              0.3333333333333333,
              "#9c179e"
             ],
             [
              0.4444444444444444,
              "#bd3786"
             ],
             [
              0.5555555555555556,
              "#d8576b"
             ],
             [
              0.6666666666666666,
              "#ed7953"
             ],
             [
              0.7777777777777778,
              "#fb9f3a"
             ],
             [
              0.8888888888888888,
              "#fdca26"
             ],
             [
              1,
              "#f0f921"
             ]
            ],
            "type": "heatmap"
           }
          ],
          "heatmapgl": [
           {
            "colorbar": {
             "outlinewidth": 0,
             "ticks": ""
            },
            "colorscale": [
             [
              0,
              "#0d0887"
             ],
             [
              0.1111111111111111,
              "#46039f"
             ],
             [
              0.2222222222222222,
              "#7201a8"
             ],
             [
              0.3333333333333333,
              "#9c179e"
             ],
             [
              0.4444444444444444,
              "#bd3786"
             ],
             [
              0.5555555555555556,
              "#d8576b"
             ],
             [
              0.6666666666666666,
              "#ed7953"
             ],
             [
              0.7777777777777778,
              "#fb9f3a"
             ],
             [
              0.8888888888888888,
              "#fdca26"
             ],
             [
              1,
              "#f0f921"
             ]
            ],
            "type": "heatmapgl"
           }
          ],
          "histogram": [
           {
            "marker": {
             "pattern": {
              "fillmode": "overlay",
              "size": 10,
              "solidity": 0.2
             }
            },
            "type": "histogram"
           }
          ],
          "histogram2d": [
           {
            "colorbar": {
             "outlinewidth": 0,
             "ticks": ""
            },
            "colorscale": [
             [
              0,
              "#0d0887"
             ],
             [
              0.1111111111111111,
              "#46039f"
             ],
             [
              0.2222222222222222,
              "#7201a8"
             ],
             [
              0.3333333333333333,
              "#9c179e"
             ],
             [
              0.4444444444444444,
              "#bd3786"
             ],
             [
              0.5555555555555556,
              "#d8576b"
             ],
             [
              0.6666666666666666,
              "#ed7953"
             ],
             [
              0.7777777777777778,
              "#fb9f3a"
             ],
             [
              0.8888888888888888,
              "#fdca26"
             ],
             [
              1,
              "#f0f921"
             ]
            ],
            "type": "histogram2d"
           }
          ],
          "histogram2dcontour": [
           {
            "colorbar": {
             "outlinewidth": 0,
             "ticks": ""
            },
            "colorscale": [
             [
              0,
              "#0d0887"
             ],
             [
              0.1111111111111111,
              "#46039f"
             ],
             [
              0.2222222222222222,
              "#7201a8"
             ],
             [
              0.3333333333333333,
              "#9c179e"
             ],
             [
              0.4444444444444444,
              "#bd3786"
             ],
             [
              0.5555555555555556,
              "#d8576b"
             ],
             [
              0.6666666666666666,
              "#ed7953"
             ],
             [
              0.7777777777777778,
              "#fb9f3a"
             ],
             [
              0.8888888888888888,
              "#fdca26"
             ],
             [
              1,
              "#f0f921"
             ]
            ],
            "type": "histogram2dcontour"
           }
          ],
          "mesh3d": [
           {
            "colorbar": {
             "outlinewidth": 0,
             "ticks": ""
            },
            "type": "mesh3d"
           }
          ],
          "parcoords": [
           {
            "line": {
             "colorbar": {
              "outlinewidth": 0,
              "ticks": ""
             }
            },
            "type": "parcoords"
           }
          ],
          "pie": [
           {
            "automargin": true,
            "type": "pie"
           }
          ],
          "scatter": [
           {
            "fillpattern": {
             "fillmode": "overlay",
             "size": 10,
             "solidity": 0.2
            },
            "type": "scatter"
           }
          ],
          "scatter3d": [
           {
            "line": {
             "colorbar": {
              "outlinewidth": 0,
              "ticks": ""
             }
            },
            "marker": {
             "colorbar": {
              "outlinewidth": 0,
              "ticks": ""
             }
            },
            "type": "scatter3d"
           }
          ],
          "scattercarpet": [
           {
            "marker": {
             "colorbar": {
              "outlinewidth": 0,
              "ticks": ""
             }
            },
            "type": "scattercarpet"
           }
          ],
          "scattergeo": [
           {
            "marker": {
             "colorbar": {
              "outlinewidth": 0,
              "ticks": ""
             }
            },
            "type": "scattergeo"
           }
          ],
          "scattergl": [
           {
            "marker": {
             "colorbar": {
              "outlinewidth": 0,
              "ticks": ""
             }
            },
            "type": "scattergl"
           }
          ],
          "scattermapbox": [
           {
            "marker": {
             "colorbar": {
              "outlinewidth": 0,
              "ticks": ""
             }
            },
            "type": "scattermapbox"
           }
          ],
          "scatterpolar": [
           {
            "marker": {
             "colorbar": {
              "outlinewidth": 0,
              "ticks": ""
             }
            },
            "type": "scatterpolar"
           }
          ],
          "scatterpolargl": [
           {
            "marker": {
             "colorbar": {
              "outlinewidth": 0,
              "ticks": ""
             }
            },
            "type": "scatterpolargl"
           }
          ],
          "scatterternary": [
           {
            "marker": {
             "colorbar": {
              "outlinewidth": 0,
              "ticks": ""
             }
            },
            "type": "scatterternary"
           }
          ],
          "surface": [
           {
            "colorbar": {
             "outlinewidth": 0,
             "ticks": ""
            },
            "colorscale": [
             [
              0,
              "#0d0887"
             ],
             [
              0.1111111111111111,
              "#46039f"
             ],
             [
              0.2222222222222222,
              "#7201a8"
             ],
             [
              0.3333333333333333,
              "#9c179e"
             ],
             [
              0.4444444444444444,
              "#bd3786"
             ],
             [
              0.5555555555555556,
              "#d8576b"
             ],
             [
              0.6666666666666666,
              "#ed7953"
             ],
             [
              0.7777777777777778,
              "#fb9f3a"
             ],
             [
              0.8888888888888888,
              "#fdca26"
             ],
             [
              1,
              "#f0f921"
             ]
            ],
            "type": "surface"
           }
          ],
          "table": [
           {
            "cells": {
             "fill": {
              "color": "#EBF0F8"
             },
             "line": {
              "color": "white"
             }
            },
            "header": {
             "fill": {
              "color": "#C8D4E3"
             },
             "line": {
              "color": "white"
             }
            },
            "type": "table"
           }
          ]
         },
         "layout": {
          "annotationdefaults": {
           "arrowcolor": "#2a3f5f",
           "arrowhead": 0,
           "arrowwidth": 1
          },
          "autotypenumbers": "strict",
          "coloraxis": {
           "colorbar": {
            "outlinewidth": 0,
            "ticks": ""
           }
          },
          "colorscale": {
           "diverging": [
            [
             0,
             "#8e0152"
            ],
            [
             0.1,
             "#c51b7d"
            ],
            [
             0.2,
             "#de77ae"
            ],
            [
             0.3,
             "#f1b6da"
            ],
            [
             0.4,
             "#fde0ef"
            ],
            [
             0.5,
             "#f7f7f7"
            ],
            [
             0.6,
             "#e6f5d0"
            ],
            [
             0.7,
             "#b8e186"
            ],
            [
             0.8,
             "#7fbc41"
            ],
            [
             0.9,
             "#4d9221"
            ],
            [
             1,
             "#276419"
            ]
           ],
           "sequential": [
            [
             0,
             "#0d0887"
            ],
            [
             0.1111111111111111,
             "#46039f"
            ],
            [
             0.2222222222222222,
             "#7201a8"
            ],
            [
             0.3333333333333333,
             "#9c179e"
            ],
            [
             0.4444444444444444,
             "#bd3786"
            ],
            [
             0.5555555555555556,
             "#d8576b"
            ],
            [
             0.6666666666666666,
             "#ed7953"
            ],
            [
             0.7777777777777778,
             "#fb9f3a"
            ],
            [
             0.8888888888888888,
             "#fdca26"
            ],
            [
             1,
             "#f0f921"
            ]
           ],
           "sequentialminus": [
            [
             0,
             "#0d0887"
            ],
            [
             0.1111111111111111,
             "#46039f"
            ],
            [
             0.2222222222222222,
             "#7201a8"
            ],
            [
             0.3333333333333333,
             "#9c179e"
            ],
            [
             0.4444444444444444,
             "#bd3786"
            ],
            [
             0.5555555555555556,
             "#d8576b"
            ],
            [
             0.6666666666666666,
             "#ed7953"
            ],
            [
             0.7777777777777778,
             "#fb9f3a"
            ],
            [
             0.8888888888888888,
             "#fdca26"
            ],
            [
             1,
             "#f0f921"
            ]
           ]
          },
          "colorway": [
           "#636efa",
           "#EF553B",
           "#00cc96",
           "#ab63fa",
           "#FFA15A",
           "#19d3f3",
           "#FF6692",
           "#B6E880",
           "#FF97FF",
           "#FECB52"
          ],
          "font": {
           "color": "#2a3f5f"
          },
          "geo": {
           "bgcolor": "white",
           "lakecolor": "white",
           "landcolor": "#E5ECF6",
           "showlakes": true,
           "showland": true,
           "subunitcolor": "white"
          },
          "hoverlabel": {
           "align": "left"
          },
          "hovermode": "closest",
          "mapbox": {
           "style": "light"
          },
          "paper_bgcolor": "white",
          "plot_bgcolor": "#E5ECF6",
          "polar": {
           "angularaxis": {
            "gridcolor": "white",
            "linecolor": "white",
            "ticks": ""
           },
           "bgcolor": "#E5ECF6",
           "radialaxis": {
            "gridcolor": "white",
            "linecolor": "white",
            "ticks": ""
           }
          },
          "scene": {
           "xaxis": {
            "backgroundcolor": "#E5ECF6",
            "gridcolor": "white",
            "gridwidth": 2,
            "linecolor": "white",
            "showbackground": true,
            "ticks": "",
            "zerolinecolor": "white"
           },
           "yaxis": {
            "backgroundcolor": "#E5ECF6",
            "gridcolor": "white",
            "gridwidth": 2,
            "linecolor": "white",
            "showbackground": true,
            "ticks": "",
            "zerolinecolor": "white"
           },
           "zaxis": {
            "backgroundcolor": "#E5ECF6",
            "gridcolor": "white",
            "gridwidth": 2,
            "linecolor": "white",
            "showbackground": true,
            "ticks": "",
            "zerolinecolor": "white"
           }
          },
          "shapedefaults": {
           "line": {
            "color": "#2a3f5f"
           }
          },
          "ternary": {
           "aaxis": {
            "gridcolor": "white",
            "linecolor": "white",
            "ticks": ""
           },
           "baxis": {
            "gridcolor": "white",
            "linecolor": "white",
            "ticks": ""
           },
           "bgcolor": "#E5ECF6",
           "caxis": {
            "gridcolor": "white",
            "linecolor": "white",
            "ticks": ""
           }
          },
          "title": {
           "x": 0.05
          },
          "xaxis": {
           "automargin": true,
           "gridcolor": "white",
           "linecolor": "white",
           "ticks": "",
           "title": {
            "standoff": 15
           },
           "zerolinecolor": "white",
           "zerolinewidth": 2
          },
          "yaxis": {
           "automargin": true,
           "gridcolor": "white",
           "linecolor": "white",
           "ticks": "",
           "title": {
            "standoff": 15
           },
           "zerolinecolor": "white",
           "zerolinewidth": 2
          }
         }
        },
        "width": 700,
        "xaxis": {
         "anchor": "y",
         "domain": [
          0,
          0.45
         ],
         "title": {
          "text": "年级"
         }
        },
        "xaxis2": {
         "anchor": "y2",
         "domain": [
          0.55,
          1
         ],
         "title": {
          "text": "年级"
         }
        },
        "yaxis": {
         "anchor": "x",
         "domain": [
          0,
          1
         ],
         "title": {
          "text": "单词数量"
         }
        },
        "yaxis2": {
         "anchor": "x2",
         "domain": [
          0,
          1
         ],
         "title": {
          "text": "句子数量"
         }
        }
       }
      }
     },
     "metadata": {},
     "output_type": "display_data"
    }
   ],
   "source": [
    "\n",
    "import plotly.graph_objs as go\n",
    "from plotly.subplots import make_subplots\n",
    "\n",
    "def plot_boxplots_by_grade(file_name, df, n):\n",
    "    \"\"\"\n",
    "    输入文件名、对应的DataFrame和要可视化的特征数n，输出该DataFrame的箱线图（plotly），\n",
    "    一个特征一个子图，最后是一个大图。\n",
    "    箱线图横坐标为年级，纵坐标为特征值，子图标题不要了，\n",
    "    大图的名称为文件名。\n",
    "    \"\"\"\n",
    "    # 识别数值列（排除年级列）\n",
    "    if '年级' not in df.columns:\n",
    "        print(\"该数据集不包含'年级'列，无法绘制箱线图。\")\n",
    "        return\n",
    "\n",
    "    numeric_cols = df.select_dtypes(include='number').columns\n",
    "    numeric_cols = [col for col in numeric_cols if col != '年级']\n",
    "    if len(numeric_cols) == 0:\n",
    "        print(\"没有可用的数值特征。\")\n",
    "        return\n",
    "\n",
    "    # 只取前n个特征\n",
    "    selected_cols = numeric_cols[:n]\n",
    "    num_features = len(selected_cols)\n",
    "\n",
    "    # 创建子图（不设置subplot_titles，即无子图标题）\n",
    "    fig = make_subplots(rows=1, cols=num_features)\n",
    "\n",
    "    for i, col in enumerate(selected_cols):\n",
    "        # 按年级分组绘制箱线图\n",
    "        grades = sorted(df['年级'].dropna().unique())\n",
    "        for grade in grades:\n",
    "            grade_data = df[df['年级'] == grade][col].dropna()\n",
    "            fig.add_trace(\n",
    "                go.Box(\n",
    "                    y=grade_data,\n",
    "                    name=f\"{int(grade)}年级\",\n",
    "                    boxmean='sd',\n",
    "                    showlegend=(i == 0),  # 只在第一个子图显示图例\n",
    "                ),\n",
    "                row=1, col=i+1\n",
    "            )\n",
    "        # 设置y轴标题\n",
    "        fig.update_yaxes(title_text=col.split('-', 1)[0] if '-' in col else col, row=1, col=i+1)\n",
    "        # 设置x轴为年级\n",
    "        fig.update_xaxes(title_text=\"年级\", row=1, col=i+1)\n",
    "\n",
    "    fig.update_layout(\n",
    "        #title_text=f\"{file_name} 的特征箱线图\",\n",
    "        height=500,\n",
    "        width=350*num_features,\n",
    "        showlegend=True\n",
    "    )\n",
    "    fig.show()\n",
    "\n",
    "plot_boxplots_by_grade('描述性统计', data_dict['描述性统计'], 3)\n"
   ]
  },
  {
   "cell_type": "code",
   "execution_count": 13,
   "id": "9e88e452",
   "metadata": {},
   "outputs": [
    {
     "data": {
      "text/html": [
       "<div>\n",
       "<style scoped>\n",
       "    .dataframe tbody tr th:only-of-type {\n",
       "        vertical-align: middle;\n",
       "    }\n",
       "\n",
       "    .dataframe tbody tr th {\n",
       "        vertical-align: top;\n",
       "    }\n",
       "\n",
       "    .dataframe thead th {\n",
       "        text-align: right;\n",
       "    }\n",
       "</style>\n",
       "<table border=\"1\" class=\"dataframe\">\n",
       "  <thead>\n",
       "    <tr style=\"text-align: right;\">\n",
       "      <th></th>\n",
       "      <th>文本编号</th>\n",
       "      <th>多样性-LDVOCDa（51）</th>\n",
       "      <th>密度-WRDFRQC（94）</th>\n",
       "      <th>复杂度-K1</th>\n",
       "      <th>复杂度-K2</th>\n",
       "      <th>复杂度-K3</th>\n",
       "      <th>复杂度-K4</th>\n",
       "      <th>复杂度-K5</th>\n",
       "      <th>复杂度-K6+</th>\n",
       "      <th>年级</th>\n",
       "    </tr>\n",
       "  </thead>\n",
       "  <tbody>\n",
       "    <tr>\n",
       "      <th>0</th>\n",
       "      <td>1.txt</td>\n",
       "      <td>59.249001</td>\n",
       "      <td>2.396</td>\n",
       "      <td>92.903</td>\n",
       "      <td>3.226</td>\n",
       "      <td>3.226</td>\n",
       "      <td>0.645</td>\n",
       "      <td>0.000</td>\n",
       "      <td>0.000</td>\n",
       "      <td>1</td>\n",
       "    </tr>\n",
       "    <tr>\n",
       "      <th>1</th>\n",
       "      <td>10.txt</td>\n",
       "      <td>89.566002</td>\n",
       "      <td>2.277</td>\n",
       "      <td>88.144</td>\n",
       "      <td>6.186</td>\n",
       "      <td>2.062</td>\n",
       "      <td>3.093</td>\n",
       "      <td>0.000</td>\n",
       "      <td>0.000</td>\n",
       "      <td>1</td>\n",
       "    </tr>\n",
       "    <tr>\n",
       "      <th>2</th>\n",
       "      <td>100.txt</td>\n",
       "      <td>106.974998</td>\n",
       "      <td>2.261</td>\n",
       "      <td>84.653</td>\n",
       "      <td>8.416</td>\n",
       "      <td>3.960</td>\n",
       "      <td>1.485</td>\n",
       "      <td>1.485</td>\n",
       "      <td>0.000</td>\n",
       "      <td>1</td>\n",
       "    </tr>\n",
       "    <tr>\n",
       "      <th>3</th>\n",
       "      <td>11.txt</td>\n",
       "      <td>77.302002</td>\n",
       "      <td>2.480</td>\n",
       "      <td>87.500</td>\n",
       "      <td>6.250</td>\n",
       "      <td>1.562</td>\n",
       "      <td>0.000</td>\n",
       "      <td>1.042</td>\n",
       "      <td>0.521</td>\n",
       "      <td>1</td>\n",
       "    </tr>\n",
       "    <tr>\n",
       "      <th>5</th>\n",
       "      <td>13.txt</td>\n",
       "      <td>94.193001</td>\n",
       "      <td>2.360</td>\n",
       "      <td>89.912</td>\n",
       "      <td>7.018</td>\n",
       "      <td>1.754</td>\n",
       "      <td>0.877</td>\n",
       "      <td>0.439</td>\n",
       "      <td>0.000</td>\n",
       "      <td>1</td>\n",
       "    </tr>\n",
       "  </tbody>\n",
       "</table>\n",
       "</div>"
      ],
      "text/plain": [
       "      文本编号  多样性-LDVOCDa（51）  密度-WRDFRQC（94）  复杂度-K1  复杂度-K2  复杂度-K3  复杂度-K4  \\\n",
       "0    1.txt        59.249001           2.396  92.903   3.226   3.226   0.645   \n",
       "1   10.txt        89.566002           2.277  88.144   6.186   2.062   3.093   \n",
       "2  100.txt       106.974998           2.261  84.653   8.416   3.960   1.485   \n",
       "3   11.txt        77.302002           2.480  87.500   6.250   1.562   0.000   \n",
       "5   13.txt        94.193001           2.360  89.912   7.018   1.754   0.877   \n",
       "\n",
       "   复杂度-K5  复杂度-K6+  年级  \n",
       "0   0.000    0.000   1  \n",
       "1   0.000    0.000   1  \n",
       "2   1.485    0.000   1  \n",
       "3   1.042    0.521   1  \n",
       "5   0.439    0.000   1  "
      ]
     },
     "execution_count": 13,
     "metadata": {},
     "output_type": "execute_result"
    }
   ],
   "source": [
    "cleaned_data['微观叙事-词法'].head()"
   ]
  },
  {
   "cell_type": "code",
   "execution_count": 14,
   "id": "50c4df78",
   "metadata": {},
   "outputs": [
    {
     "name": "stdout",
     "output_type": "stream",
     "text": [
      "<class 'pandas.core.frame.DataFrame'>\n",
      "Index: 252 entries, 0 to 297\n",
      "Data columns (total 5 columns):\n",
      " #   Column           Non-Null Count  Dtype  \n",
      "---  ------           --------------  -----  \n",
      " 0   文本编号             252 non-null    object \n",
      " 1   多样性-LDVOCDa（51）  252 non-null    float64\n",
      " 2   密度-WRDFRQC（94）   252 non-null    float64\n",
      " 3   年级               252 non-null    int64  \n",
      " 4   复杂度-K            252 non-null    float64\n",
      "dtypes: float64(3), int64(1), object(1)\n",
      "memory usage: 11.8+ KB\n",
      "None\n"
     ]
    }
   ],
   "source": [
    "from sklearn.decomposition import PCA\n",
    "\n",
    "def create_complexity_pca(df):\n",
    "    k_cols = ['复杂度-K1', '复杂度-K2', '复杂度-K3', '复杂度-K4', '复杂度-K5', '复杂度-K6+']\n",
    "    pca = PCA(n_components=1)\n",
    "    df['复杂度-K'] = pca.fit_transform(df[k_cols])\n",
    "    # 删除原来的复杂度列\n",
    "    df = df.drop(columns=k_cols)\n",
    "    return df\n",
    "\n",
    "tmp= cleaned_data['微观叙事-词法'].copy()\n",
    "\n",
    "pca_df = create_complexity_pca(tmp)\n",
    "pca_df.head()\n",
    "print(pca_df.info())"
   ]
  },
  {
   "cell_type": "code",
   "execution_count": 15,
   "id": "ea1f552b",
   "metadata": {},
   "outputs": [
    {
     "data": {
      "text/html": [
       "<div>\n",
       "<style scoped>\n",
       "    .dataframe tbody tr th:only-of-type {\n",
       "        vertical-align: middle;\n",
       "    }\n",
       "\n",
       "    .dataframe tbody tr th {\n",
       "        vertical-align: top;\n",
       "    }\n",
       "\n",
       "    .dataframe thead th {\n",
       "        text-align: right;\n",
       "    }\n",
       "</style>\n",
       "<table border=\"1\" class=\"dataframe\">\n",
       "  <thead>\n",
       "    <tr style=\"text-align: right;\">\n",
       "      <th></th>\n",
       "      <th>文本编号</th>\n",
       "      <th>多样性-LDVOCDa（51）</th>\n",
       "      <th>密度-WRDFRQC（94）</th>\n",
       "      <th>年级</th>\n",
       "      <th>复杂度-K</th>\n",
       "    </tr>\n",
       "  </thead>\n",
       "  <tbody>\n",
       "    <tr>\n",
       "      <th>0</th>\n",
       "      <td>1.txt</td>\n",
       "      <td>59.249001</td>\n",
       "      <td>2.396</td>\n",
       "      <td>1</td>\n",
       "      <td>7.414109</td>\n",
       "    </tr>\n",
       "    <tr>\n",
       "      <th>1</th>\n",
       "      <td>10.txt</td>\n",
       "      <td>89.566002</td>\n",
       "      <td>2.277</td>\n",
       "      <td>1</td>\n",
       "      <td>2.300344</td>\n",
       "    </tr>\n",
       "    <tr>\n",
       "      <th>2</th>\n",
       "      <td>100.txt</td>\n",
       "      <td>106.974998</td>\n",
       "      <td>2.261</td>\n",
       "      <td>1</td>\n",
       "      <td>-2.014209</td>\n",
       "    </tr>\n",
       "    <tr>\n",
       "      <th>3</th>\n",
       "      <td>11.txt</td>\n",
       "      <td>77.302002</td>\n",
       "      <td>2.480</td>\n",
       "      <td>1</td>\n",
       "      <td>2.166097</td>\n",
       "    </tr>\n",
       "    <tr>\n",
       "      <th>5</th>\n",
       "      <td>13.txt</td>\n",
       "      <td>94.193001</td>\n",
       "      <td>2.360</td>\n",
       "      <td>1</td>\n",
       "      <td>3.884654</td>\n",
       "    </tr>\n",
       "  </tbody>\n",
       "</table>\n",
       "</div>"
      ],
      "text/plain": [
       "      文本编号  多样性-LDVOCDa（51）  密度-WRDFRQC（94）  年级     复杂度-K\n",
       "0    1.txt        59.249001           2.396   1  7.414109\n",
       "1   10.txt        89.566002           2.277   1  2.300344\n",
       "2  100.txt       106.974998           2.261   1 -2.014209\n",
       "3   11.txt        77.302002           2.480   1  2.166097\n",
       "5   13.txt        94.193001           2.360   1  3.884654"
      ]
     },
     "execution_count": 15,
     "metadata": {},
     "output_type": "execute_result"
    }
   ],
   "source": [
    "pca_df.head()"
   ]
  },
  {
   "cell_type": "code",
   "execution_count": 16,
   "id": "8bdcc621",
   "metadata": {},
   "outputs": [
    {
     "data": {
      "application/vnd.plotly.v1+json": {
       "config": {
        "plotlyServerURL": "https://plot.ly"
       },
       "data": [
        {
         "boxmean": "sd",
         "name": "1年级",
         "showlegend": true,
         "type": "box",
         "xaxis": "x",
         "y": [
          59.24900055,
          89.56600189,
          106.9749985,
          77.30200195,
          94.19300079,
          82.52700043,
          99.375,
          96.17099762,
          78.78600311,
          113.7450027,
          73.51599884,
          80.31999969,
          110.8669968,
          125.4280014,
          75.04000092,
          71.77400208,
          71.76899719,
          86.05799866,
          84.60700226,
          90.97899628,
          76.24900055,
          79.76899719,
          87.94000244,
          113.7890015,
          87.13500214,
          88.46600342,
          67.24700165,
          74.9260025,
          80.26200104,
          60.00699997,
          92.04799652,
          95.44200134,
          70.95600128,
          90.67500305,
          105.3249969,
          75.52300262,
          110.3379974,
          74.23000336,
          73.68299866,
          62.77099991,
          87.6989975,
          106.663002,
          113.189003,
          79.01699829,
          86.85099792,
          72.25299835,
          82.22200012,
          92.2440033,
          70.61799622,
          79.30899811,
          67.5739975,
          100.6029968,
          79.2559967,
          86.58799744,
          93.72799683,
          86.97299957,
          74.19999695,
          68.87400055,
          89.41100311,
          86.15299988,
          89.10099792,
          74.20700073,
          95.1969986,
          101.0210037,
          104.3460007,
          73.40299988,
          68.25499725,
          98.17099762,
          79.10700226,
          74.30500031,
          80.07499695,
          108.9779968,
          76.37400055,
          74.3219986,
          74.48799896,
          84.14800262,
          105.2509995,
          69.35800171,
          97.65799713,
          80.32700348,
          94.57900238,
          115.9349976,
          88.85900116,
          79.15100098,
          68.79199982,
          83.43599701,
          86.46299744,
          109.7279968,
          100.3339996
         ],
         "yaxis": "y"
        },
        {
         "boxmean": "sd",
         "name": "2年级",
         "showlegend": true,
         "type": "box",
         "xaxis": "x",
         "y": [
          66.0510025,
          81.03500366,
          69.28099823,
          79.52300262,
          88.6210022,
          92.94100189,
          75.21099854,
          84.47799683,
          104.5469971,
          69.88600159,
          73.56800079,
          98.96499634,
          80.32099915,
          89.27400208,
          87.00900269,
          87.15599823,
          75.17099762,
          85.50499725,
          78.28299713,
          49.51499939,
          85.20800018,
          72.4469986,
          54.71099854,
          96.27200317,
          75.10800171,
          52.80599976,
          76.86799622,
          72.92900085,
          72.33300018,
          87.14700317,
          79.70600128,
          77.85500336,
          102.3430023,
          68.36000061,
          72.27200317,
          90.22399902,
          99.07800293,
          101.2099991,
          84.21600342,
          111.1220016,
          79.59300232,
          91.35700226,
          102.0830002,
          118.5780029,
          81.41600037,
          48.20000076,
          80.43099976,
          109.2600021,
          74.69000244,
          69.23999786,
          89.74199677,
          77.66699982,
          88.59600067,
          76.91600037,
          68.59999847,
          80.43699646,
          93.81800079,
          73.67700195,
          63.42200089,
          79.6210022,
          87.0019989,
          85.9240036,
          91.23600006,
          62.84700012,
          105.5950012,
          95.18099976,
          64.17299652,
          79.15699768,
          96.09400177,
          74.06400299,
          75.53900146,
          64.81800079,
          111.3069992,
          69.71499634,
          96.05899811,
          91.31999969,
          92.61000061,
          97.04299927,
          93.58100128,
          88.7009964
         ],
         "yaxis": "y"
        },
        {
         "boxmean": "sd",
         "name": "3年级",
         "showlegend": true,
         "type": "box",
         "xaxis": "x",
         "y": [
          100.0490036,
          105.4850006,
          107.7249985,
          62.74000168,
          69.51399994,
          73.04799652,
          78.30400085,
          80.48999786,
          92.07800293,
          98.10399628,
          72.43499756,
          97.93800354,
          67.87400055,
          62.24000168,
          76.62000275,
          81.45800018,
          108.8320007,
          76.01200104,
          66.95500183,
          92.30999756,
          96.02400208,
          91.29100037,
          81.94300079,
          89.51300049,
          83.65499878,
          85.30400085,
          104.9069977,
          90.52799988,
          101.5889969,
          82.49900055,
          94.22799683,
          83.30699921,
          103.9990005,
          82.27200317,
          65.20800018,
          66.55999756,
          73.95999908,
          60.69400024,
          93.03900146,
          81.59600067,
          103.6340027,
          69.84799957,
          83.58799744,
          79.41799927,
          70.29199982,
          80.40299988,
          85.87799835,
          85.2519989,
          100.2220001,
          81.6269989,
          62.2840004,
          90.45899963,
          77.72399902,
          91.10399628,
          56.79899979,
          89.82800293,
          99.2009964,
          92.59700012,
          85.00900269,
          74.4509964,
          108.3860016,
          102.0680008,
          99.46800232,
          87.46199799,
          105.9079971,
          97.42700195,
          95.48400116,
          73.25099945,
          92.84700012,
          103.461998,
          90.67700195,
          108.8320007,
          83.23799896,
          91.36499786,
          80.28399658,
          105.7369995,
          105.8420029,
          91.33899689,
          91.26499939,
          114.151001,
          81.84999847,
          96.38800049,
          92.83899689
         ],
         "yaxis": "y"
        },
        {
         "boxmean": "sd",
         "name": "1年级",
         "showlegend": false,
         "type": "box",
         "xaxis": "x2",
         "y": [
          2.395999908,
          2.27699995,
          2.260999918,
          2.480000019,
          2.359999895,
          2.240999937,
          2.431999922,
          2.339999914,
          2.252000093,
          2.171000004,
          2.270999908,
          2.444000006,
          2.348999977,
          2.415999889,
          2.415999889,
          2.278000116,
          2.430000067,
          2.354000092,
          2.322000027,
          2.454999924,
          2.272000074,
          2.358999968,
          2.154999971,
          2.378999949,
          2.316999912,
          2.289999962,
          2.404000044,
          2.426000118,
          2.480999947,
          2.367000103,
          2.381000042,
          2.232000113,
          2.085999966,
          2.279000044,
          2.301000118,
          2.358999968,
          2.127000093,
          2.382999897,
          2.467000008,
          2.318000078,
          2.267999887,
          2.381000042,
          2.453000069,
          2.338999987,
          2.260999918,
          2.296000004,
          2.388999939,
          2.328000069,
          2.328000069,
          2.275000095,
          2.308000088,
          2.453999996,
          2.390000105,
          2.397000074,
          2.308000088,
          2.440999985,
          2.181999922,
          2.434000015,
          2.243000031,
          2.328000069,
          2.361999989,
          2.306999922,
          2.421999931,
          2.332000017,
          2.411999941,
          2.463000059,
          2.309000015,
          2.203999996,
          2.178999901,
          2.525000095,
          2.410000086,
          2.217000008,
          2.448999882,
          2.434999943,
          2.371000051,
          2.338999987,
          2.332999945,
          2.375999928,
          2.332000017,
          2.309000015,
          2.280999899,
          2.411999941,
          2.322999954,
          2.201999903,
          2.461999893,
          2.289999962,
          2.453000069,
          2.328000069,
          2.260999918
         ],
         "yaxis": "y2"
        },
        {
         "boxmean": "sd",
         "name": "2年级",
         "showlegend": false,
         "type": "box",
         "xaxis": "x2",
         "y": [
          2.302000046,
          2.095000029,
          2.188999891,
          2.214999914,
          2.085999966,
          2.210000038,
          2.125,
          2.444000006,
          2.089999914,
          2.282000065,
          2.414000034,
          2.167999983,
          2.219000101,
          2.313999891,
          2.269000053,
          2.161999941,
          2.467999935,
          2.187000036,
          2.259000063,
          2.463000059,
          2.069000006,
          2.183000088,
          2.40199995,
          2.496000051,
          2.230999947,
          2.204999924,
          2.049000025,
          2.351999998,
          2.003999949,
          2.187000036,
          2.236000061,
          2.190999985,
          2.33100009,
          2.512000084,
          2.684000015,
          2.336999893,
          2.299999952,
          2.121000051,
          2.276000023,
          2.270999908,
          2.197999954,
          2.072999954,
          2.351000071,
          2.11500001,
          2.302999973,
          2.273000002,
          2.306999922,
          2.346999884,
          2.213999987,
          2.305000067,
          2.325999975,
          2.35800004,
          2.335000038,
          2.447000027,
          2.438999891,
          2.40899992,
          2.355000019,
          2.177000046,
          2.450999975,
          2.375,
          2.321000099,
          2.40199995,
          2.069000006,
          2.305999994,
          2.414999962,
          2.280999899,
          2.348999977,
          2.131000042,
          2.280999899,
          2.424000025,
          2.329999924,
          2.332999945,
          2.028000116,
          2.246999979,
          1.932999969,
          2.255000114,
          2.134000063,
          2.130000114,
          2.009000063,
          1.998999953
         ],
         "yaxis": "y2"
        },
        {
         "boxmean": "sd",
         "name": "3年级",
         "showlegend": false,
         "type": "box",
         "xaxis": "x2",
         "y": [
          2.029999971,
          2.301000118,
          2.246000051,
          2.138999939,
          2.318000078,
          2.203000069,
          2.253999949,
          2.220000029,
          2.24000001,
          2.065000057,
          2.161999941,
          2.092000008,
          2.217000008,
          2.226000071,
          2.049000025,
          2.197999954,
          2.315000057,
          2.111999989,
          2.125999928,
          2.299000025,
          2.407000065,
          2.262000084,
          2.029000044,
          2.23300004,
          2.265000105,
          2.220000029,
          2.381999969,
          2.079999924,
          2.039000034,
          2.16899991,
          2.157999992,
          2.430000067,
          2.328999996,
          2.28399992,
          2.290999889,
          2.325000048,
          2.052999973,
          2.334000111,
          2.308000088,
          2.220999956,
          2.154000044,
          2.246999979,
          2.108999968,
          2.427999973,
          2.378999949,
          2.239000082,
          2.229000092,
          2.357000113,
          2.24000001,
          2.22300005,
          2.298000097,
          2.375999928,
          2.448999882,
          2.279999971,
          2.349999905,
          2.118999958,
          1.889000058,
          2.388999939,
          2.124000072,
          2.471999884,
          2.259000063,
          2.160000086,
          1.886999965,
          2.102999926,
          2.099999905,
          2.061000109,
          2.065999985,
          2.142999887,
          2.147000074,
          2.084000111,
          2.032000065,
          2.019999981,
          2.190999985,
          2.285000086,
          2.056999922,
          2.023999929,
          2.40199995,
          2.09100008,
          2.207000017,
          2.052000046,
          2.207999945,
          2.194999933,
          2.174999952
         ],
         "yaxis": "y2"
        },
        {
         "boxmean": "sd",
         "name": "1年级",
         "showlegend": false,
         "type": "box",
         "xaxis": "x3",
         "y": [
          7.414108719391692,
          2.300344143671282,
          -2.0142090308042953,
          2.166096511211421,
          3.8846537546282747,
          3.6378490244391912,
          5.659923039475416,
          4.887508368066477,
          -2.557783182667592,
          -3.9817286150395574,
          1.3615877727541204,
          3.7402799227789103,
          5.476337624968508,
          2.118406387245628,
          2.4751191985620835,
          3.02460149438312,
          1.248498450591228,
          1.8467405350572648,
          -1.3438349997498023,
          2.0601167380108905,
          3.376772031153095,
          0.054475665194274825,
          -0.17232088639855192,
          4.7571507524803565,
          -0.9655791530841213,
          3.052450399175541,
          2.6593571867058756,
          6.469054756793042,
          3.056315681931949,
          -1.069010455395329,
          3.690982605065045,
          -2.1104849906697183,
          -2.1209137911637015,
          -3.855510668503868,
          1.5820338894459667,
          0.463238291721467,
          -0.9577457875351314,
          4.602210076935393,
          5.1885779687767695,
          0.8797236348777062,
          2.520554913713184,
          0.1689543524810233,
          3.529395951316161,
          4.2110947306196636,
          0.9183453483854578,
          -1.7418770073803103,
          5.964450842857559,
          -0.9480260025794109,
          2.9177180992508625,
          -0.7054248967117047,
          3.6295289515236533,
          5.2331717087573395,
          4.565191797524662,
          1.2772534065275067,
          1.4732451891893845,
          1.715415964941613,
          0.8280955910875463,
          1.3447035018923401,
          -1.5757185689056712,
          4.736870366954292,
          3.4120891098314274,
          0.976029862163287,
          4.204964067446113,
          0.9371493053173339,
          3.8171771266005265,
          7.966087519925537,
          5.382945922276633,
          1.0277869526961183,
          3.0303942431339266,
          3.719108305276251,
          1.844513548659549,
          -3.975643264521466,
          6.973885661004658,
          3.775136605691486,
          2.3709076017200488,
          2.688638680815856,
          -2.149462183211199,
          3.3501724060002687,
          0.46047694950046036,
          0.1536983330889683,
          -3.1579441464980533,
          3.3024427284427844,
          -1.666046475069706,
          -1.973121196116395,
          6.23770858730127,
          4.286241615801487,
          4.628156288149981,
          3.484048915388044,
          1.4688401142269214
         ],
         "yaxis": "y3"
        },
        {
         "boxmean": "sd",
         "name": "2年级",
         "showlegend": false,
         "type": "box",
         "xaxis": "x3",
         "y": [
          1.970583609561018,
          -2.830761875720455,
          0.46222885887826237,
          -3.1414783338086636,
          -3.3742400997913364,
          3.8031026584763197,
          -2.0198353287640174,
          2.4425779594947272,
          -3.6100434476777252,
          0.17433853037621816,
          1.8782849686071046,
          -1.1714567049351245,
          -3.9328401179319314,
          -0.5216672815553665,
          3.24674204564613,
          -2.9314105104163986,
          3.8663181173365615,
          -3.2138660111116906,
          -0.4289135277363698,
          5.505129252762828,
          -10.411282439852492,
          -1.7257044787703677,
          5.86960049664485,
          6.446240941142747,
          0.5605412656073412,
          4.241764891629515,
          -2.1410810920437484,
          2.3763347204371996,
          -1.1328520425570758,
          1.2710064733333297,
          -4.560885550570234,
          -2.7584723466748784,
          4.663681966770042,
          6.7911373758943085,
          4.3338011471050635,
          -1.0206829048080976,
          -0.5359405555691552,
          -5.867121857514249,
          -2.4328233067992073,
          -2.61101439408759,
          1.5891006568299275,
          -0.8468203019690037,
          2.330605363011486,
          -4.629001109234366,
          -2.8756613553798474,
          2.096980893143254,
          0.4830936111048345,
          2.779505484405149,
          -1.4426590817862461,
          1.5753801226163375,
          3.5807848459768508,
          0.7910532944680284,
          3.8286554848569523,
          0.3998479655002569,
          4.734426624795773,
          1.424923322544558,
          0.18271219794260674,
          -0.7170644388528729,
          3.640654441776917,
          5.04452281528647,
          3.663259004344482,
          0.4906849765647934,
          -5.661469453525456,
          0.8248002695087138,
          3.3344157071523313,
          -0.739188702284622,
          4.974957048914661,
          -0.9511652864852351,
          3.141870435007661,
          1.1528522137523254,
          4.958983931248326,
          0.2781363133425572,
          -10.23137581061249,
          -0.9653185958359103,
          -6.60496476493536,
          -3.002843759718047,
          -5.2598496436824576,
          -2.348779954071645,
          -8.965549014176084,
          -8.700424271678934
         ],
         "yaxis": "y3"
        },
        {
         "boxmean": "sd",
         "name": "3年级",
         "showlegend": false,
         "type": "box",
         "xaxis": "x3",
         "y": [
          -6.16604683544378,
          0.2757370056084767,
          -0.10509546235681455,
          -6.126061909919542,
          0.5915610497949615,
          -3.921713486561586,
          -1.0474585254415416,
          1.5765602280046522,
          -3.4657187694527636,
          -6.113485334977696,
          -2.5120551325463367,
          -4.925065714067614,
          -2.754599619405411,
          0.5801628626957012,
          -2.5644978073382703,
          -0.014327194011272582,
          -0.91936650926813,
          -0.6408330106826696,
          -0.3182665003204761,
          -0.2877229209133674,
          9.750957355240743,
          2.1294419275259457,
          -9.088855704664688,
          -0.9832779974737775,
          1.1938952402417016,
          0.1786090722814464,
          0.8870983498974994,
          -6.946643406427725,
          -9.767713575962155,
          -0.7840378479254326,
          0.49347082145003185,
          2.5108163191405595,
          -4.80024800691659,
          0.7650737160105905,
          0.2829186295497834,
          1.45985688926487,
          -5.648627295831048,
          -0.8461786739461132,
          -4.638943139411779,
          1.2807880243556724,
          -4.022046044302982,
          2.4474230226136626,
          -4.804406441034018,
          4.159682638387352,
          3.9439594215372864,
          -1.5602883745990965,
          -1.4722550590343246,
          3.1418153320515643,
          -1.4591175012198363,
          -2.6509390023273056,
          1.378059493536938,
          0.32873253453590223,
          0.9823361401659554,
          2.835981862306241,
          0.054638423539913106,
          -6.323287315684539,
          -9.0514618630788,
          4.53250727898596,
          -3.967906531796416,
          7.262447463440125,
          -3.4098577979774802,
          -2.658813018015479,
          -10.746399530846581,
          -3.1719024494459234,
          -7.1297095019590415,
          -10.425818982925698,
          -2.7455518131232424,
          -8.476990911765967,
          -4.30590861939001,
          -5.558926256263163,
          -6.2627555312953405,
          -3.9447925616314876,
          -2.4268357416547133,
          -1.39079022778364,
          -5.09969244532148,
          -6.701629510793609,
          1.3931479145425243,
          -4.92445501324319,
          -0.4324510855419419,
          -5.628037596906438,
          -2.1417971420952,
          -3.611515603108259,
          -4.038332203117548
         ],
         "yaxis": "y3"
        }
       ],
       "layout": {
        "height": 500,
        "showlegend": true,
        "template": {
         "data": {
          "bar": [
           {
            "error_x": {
             "color": "#2a3f5f"
            },
            "error_y": {
             "color": "#2a3f5f"
            },
            "marker": {
             "line": {
              "color": "#E5ECF6",
              "width": 0.5
             },
             "pattern": {
              "fillmode": "overlay",
              "size": 10,
              "solidity": 0.2
             }
            },
            "type": "bar"
           }
          ],
          "barpolar": [
           {
            "marker": {
             "line": {
              "color": "#E5ECF6",
              "width": 0.5
             },
             "pattern": {
              "fillmode": "overlay",
              "size": 10,
              "solidity": 0.2
             }
            },
            "type": "barpolar"
           }
          ],
          "carpet": [
           {
            "aaxis": {
             "endlinecolor": "#2a3f5f",
             "gridcolor": "white",
             "linecolor": "white",
             "minorgridcolor": "white",
             "startlinecolor": "#2a3f5f"
            },
            "baxis": {
             "endlinecolor": "#2a3f5f",
             "gridcolor": "white",
             "linecolor": "white",
             "minorgridcolor": "white",
             "startlinecolor": "#2a3f5f"
            },
            "type": "carpet"
           }
          ],
          "choropleth": [
           {
            "colorbar": {
             "outlinewidth": 0,
             "ticks": ""
            },
            "type": "choropleth"
           }
          ],
          "contour": [
           {
            "colorbar": {
             "outlinewidth": 0,
             "ticks": ""
            },
            "colorscale": [
             [
              0,
              "#0d0887"
             ],
             [
              0.1111111111111111,
              "#46039f"
             ],
             [
              0.2222222222222222,
              "#7201a8"
             ],
             [
              0.3333333333333333,
              "#9c179e"
             ],
             [
              0.4444444444444444,
              "#bd3786"
             ],
             [
              0.5555555555555556,
              "#d8576b"
             ],
             [
              0.6666666666666666,
              "#ed7953"
             ],
             [
              0.7777777777777778,
              "#fb9f3a"
             ],
             [
              0.8888888888888888,
              "#fdca26"
             ],
             [
              1,
              "#f0f921"
             ]
            ],
            "type": "contour"
           }
          ],
          "contourcarpet": [
           {
            "colorbar": {
             "outlinewidth": 0,
             "ticks": ""
            },
            "type": "contourcarpet"
           }
          ],
          "heatmap": [
           {
            "colorbar": {
             "outlinewidth": 0,
             "ticks": ""
            },
            "colorscale": [
             [
              0,
              "#0d0887"
             ],
             [
              0.1111111111111111,
              "#46039f"
             ],
             [
              0.2222222222222222,
              "#7201a8"
             ],
             [
              0.3333333333333333,
              "#9c179e"
             ],
             [
              0.4444444444444444,
              "#bd3786"
             ],
             [
              0.5555555555555556,
              "#d8576b"
             ],
             [
              0.6666666666666666,
              "#ed7953"
             ],
             [
              0.7777777777777778,
              "#fb9f3a"
             ],
             [
              0.8888888888888888,
              "#fdca26"
             ],
             [
              1,
              "#f0f921"
             ]
            ],
            "type": "heatmap"
           }
          ],
          "heatmapgl": [
           {
            "colorbar": {
             "outlinewidth": 0,
             "ticks": ""
            },
            "colorscale": [
             [
              0,
              "#0d0887"
             ],
             [
              0.1111111111111111,
              "#46039f"
             ],
             [
              0.2222222222222222,
              "#7201a8"
             ],
             [
              0.3333333333333333,
              "#9c179e"
             ],
             [
              0.4444444444444444,
              "#bd3786"
             ],
             [
              0.5555555555555556,
              "#d8576b"
             ],
             [
              0.6666666666666666,
              "#ed7953"
             ],
             [
              0.7777777777777778,
              "#fb9f3a"
             ],
             [
              0.8888888888888888,
              "#fdca26"
             ],
             [
              1,
              "#f0f921"
             ]
            ],
            "type": "heatmapgl"
           }
          ],
          "histogram": [
           {
            "marker": {
             "pattern": {
              "fillmode": "overlay",
              "size": 10,
              "solidity": 0.2
             }
            },
            "type": "histogram"
           }
          ],
          "histogram2d": [
           {
            "colorbar": {
             "outlinewidth": 0,
             "ticks": ""
            },
            "colorscale": [
             [
              0,
              "#0d0887"
             ],
             [
              0.1111111111111111,
              "#46039f"
             ],
             [
              0.2222222222222222,
              "#7201a8"
             ],
             [
              0.3333333333333333,
              "#9c179e"
             ],
             [
              0.4444444444444444,
              "#bd3786"
             ],
             [
              0.5555555555555556,
              "#d8576b"
             ],
             [
              0.6666666666666666,
              "#ed7953"
             ],
             [
              0.7777777777777778,
              "#fb9f3a"
             ],
             [
              0.8888888888888888,
              "#fdca26"
             ],
             [
              1,
              "#f0f921"
             ]
            ],
            "type": "histogram2d"
           }
          ],
          "histogram2dcontour": [
           {
            "colorbar": {
             "outlinewidth": 0,
             "ticks": ""
            },
            "colorscale": [
             [
              0,
              "#0d0887"
             ],
             [
              0.1111111111111111,
              "#46039f"
             ],
             [
              0.2222222222222222,
              "#7201a8"
             ],
             [
              0.3333333333333333,
              "#9c179e"
             ],
             [
              0.4444444444444444,
              "#bd3786"
             ],
             [
              0.5555555555555556,
              "#d8576b"
             ],
             [
              0.6666666666666666,
              "#ed7953"
             ],
             [
              0.7777777777777778,
              "#fb9f3a"
             ],
             [
              0.8888888888888888,
              "#fdca26"
             ],
             [
              1,
              "#f0f921"
             ]
            ],
            "type": "histogram2dcontour"
           }
          ],
          "mesh3d": [
           {
            "colorbar": {
             "outlinewidth": 0,
             "ticks": ""
            },
            "type": "mesh3d"
           }
          ],
          "parcoords": [
           {
            "line": {
             "colorbar": {
              "outlinewidth": 0,
              "ticks": ""
             }
            },
            "type": "parcoords"
           }
          ],
          "pie": [
           {
            "automargin": true,
            "type": "pie"
           }
          ],
          "scatter": [
           {
            "fillpattern": {
             "fillmode": "overlay",
             "size": 10,
             "solidity": 0.2
            },
            "type": "scatter"
           }
          ],
          "scatter3d": [
           {
            "line": {
             "colorbar": {
              "outlinewidth": 0,
              "ticks": ""
             }
            },
            "marker": {
             "colorbar": {
              "outlinewidth": 0,
              "ticks": ""
             }
            },
            "type": "scatter3d"
           }
          ],
          "scattercarpet": [
           {
            "marker": {
             "colorbar": {
              "outlinewidth": 0,
              "ticks": ""
             }
            },
            "type": "scattercarpet"
           }
          ],
          "scattergeo": [
           {
            "marker": {
             "colorbar": {
              "outlinewidth": 0,
              "ticks": ""
             }
            },
            "type": "scattergeo"
           }
          ],
          "scattergl": [
           {
            "marker": {
             "colorbar": {
              "outlinewidth": 0,
              "ticks": ""
             }
            },
            "type": "scattergl"
           }
          ],
          "scattermapbox": [
           {
            "marker": {
             "colorbar": {
              "outlinewidth": 0,
              "ticks": ""
             }
            },
            "type": "scattermapbox"
           }
          ],
          "scatterpolar": [
           {
            "marker": {
             "colorbar": {
              "outlinewidth": 0,
              "ticks": ""
             }
            },
            "type": "scatterpolar"
           }
          ],
          "scatterpolargl": [
           {
            "marker": {
             "colorbar": {
              "outlinewidth": 0,
              "ticks": ""
             }
            },
            "type": "scatterpolargl"
           }
          ],
          "scatterternary": [
           {
            "marker": {
             "colorbar": {
              "outlinewidth": 0,
              "ticks": ""
             }
            },
            "type": "scatterternary"
           }
          ],
          "surface": [
           {
            "colorbar": {
             "outlinewidth": 0,
             "ticks": ""
            },
            "colorscale": [
             [
              0,
              "#0d0887"
             ],
             [
              0.1111111111111111,
              "#46039f"
             ],
             [
              0.2222222222222222,
              "#7201a8"
             ],
             [
              0.3333333333333333,
              "#9c179e"
             ],
             [
              0.4444444444444444,
              "#bd3786"
             ],
             [
              0.5555555555555556,
              "#d8576b"
             ],
             [
              0.6666666666666666,
              "#ed7953"
             ],
             [
              0.7777777777777778,
              "#fb9f3a"
             ],
             [
              0.8888888888888888,
              "#fdca26"
             ],
             [
              1,
              "#f0f921"
             ]
            ],
            "type": "surface"
           }
          ],
          "table": [
           {
            "cells": {
             "fill": {
              "color": "#EBF0F8"
             },
             "line": {
              "color": "white"
             }
            },
            "header": {
             "fill": {
              "color": "#C8D4E3"
             },
             "line": {
              "color": "white"
             }
            },
            "type": "table"
           }
          ]
         },
         "layout": {
          "annotationdefaults": {
           "arrowcolor": "#2a3f5f",
           "arrowhead": 0,
           "arrowwidth": 1
          },
          "autotypenumbers": "strict",
          "coloraxis": {
           "colorbar": {
            "outlinewidth": 0,
            "ticks": ""
           }
          },
          "colorscale": {
           "diverging": [
            [
             0,
             "#8e0152"
            ],
            [
             0.1,
             "#c51b7d"
            ],
            [
             0.2,
             "#de77ae"
            ],
            [
             0.3,
             "#f1b6da"
            ],
            [
             0.4,
             "#fde0ef"
            ],
            [
             0.5,
             "#f7f7f7"
            ],
            [
             0.6,
             "#e6f5d0"
            ],
            [
             0.7,
             "#b8e186"
            ],
            [
             0.8,
             "#7fbc41"
            ],
            [
             0.9,
             "#4d9221"
            ],
            [
             1,
             "#276419"
            ]
           ],
           "sequential": [
            [
             0,
             "#0d0887"
            ],
            [
             0.1111111111111111,
             "#46039f"
            ],
            [
             0.2222222222222222,
             "#7201a8"
            ],
            [
             0.3333333333333333,
             "#9c179e"
            ],
            [
             0.4444444444444444,
             "#bd3786"
            ],
            [
             0.5555555555555556,
             "#d8576b"
            ],
            [
             0.6666666666666666,
             "#ed7953"
            ],
            [
             0.7777777777777778,
             "#fb9f3a"
            ],
            [
             0.8888888888888888,
             "#fdca26"
            ],
            [
             1,
             "#f0f921"
            ]
           ],
           "sequentialminus": [
            [
             0,
             "#0d0887"
            ],
            [
             0.1111111111111111,
             "#46039f"
            ],
            [
             0.2222222222222222,
             "#7201a8"
            ],
            [
             0.3333333333333333,
             "#9c179e"
            ],
            [
             0.4444444444444444,
             "#bd3786"
            ],
            [
             0.5555555555555556,
             "#d8576b"
            ],
            [
             0.6666666666666666,
             "#ed7953"
            ],
            [
             0.7777777777777778,
             "#fb9f3a"
            ],
            [
             0.8888888888888888,
             "#fdca26"
            ],
            [
             1,
             "#f0f921"
            ]
           ]
          },
          "colorway": [
           "#636efa",
           "#EF553B",
           "#00cc96",
           "#ab63fa",
           "#FFA15A",
           "#19d3f3",
           "#FF6692",
           "#B6E880",
           "#FF97FF",
           "#FECB52"
          ],
          "font": {
           "color": "#2a3f5f"
          },
          "geo": {
           "bgcolor": "white",
           "lakecolor": "white",
           "landcolor": "#E5ECF6",
           "showlakes": true,
           "showland": true,
           "subunitcolor": "white"
          },
          "hoverlabel": {
           "align": "left"
          },
          "hovermode": "closest",
          "mapbox": {
           "style": "light"
          },
          "paper_bgcolor": "white",
          "plot_bgcolor": "#E5ECF6",
          "polar": {
           "angularaxis": {
            "gridcolor": "white",
            "linecolor": "white",
            "ticks": ""
           },
           "bgcolor": "#E5ECF6",
           "radialaxis": {
            "gridcolor": "white",
            "linecolor": "white",
            "ticks": ""
           }
          },
          "scene": {
           "xaxis": {
            "backgroundcolor": "#E5ECF6",
            "gridcolor": "white",
            "gridwidth": 2,
            "linecolor": "white",
            "showbackground": true,
            "ticks": "",
            "zerolinecolor": "white"
           },
           "yaxis": {
            "backgroundcolor": "#E5ECF6",
            "gridcolor": "white",
            "gridwidth": 2,
            "linecolor": "white",
            "showbackground": true,
            "ticks": "",
            "zerolinecolor": "white"
           },
           "zaxis": {
            "backgroundcolor": "#E5ECF6",
            "gridcolor": "white",
            "gridwidth": 2,
            "linecolor": "white",
            "showbackground": true,
            "ticks": "",
            "zerolinecolor": "white"
           }
          },
          "shapedefaults": {
           "line": {
            "color": "#2a3f5f"
           }
          },
          "ternary": {
           "aaxis": {
            "gridcolor": "white",
            "linecolor": "white",
            "ticks": ""
           },
           "baxis": {
            "gridcolor": "white",
            "linecolor": "white",
            "ticks": ""
           },
           "bgcolor": "#E5ECF6",
           "caxis": {
            "gridcolor": "white",
            "linecolor": "white",
            "ticks": ""
           }
          },
          "title": {
           "x": 0.05
          },
          "xaxis": {
           "automargin": true,
           "gridcolor": "white",
           "linecolor": "white",
           "ticks": "",
           "title": {
            "standoff": 15
           },
           "zerolinecolor": "white",
           "zerolinewidth": 2
          },
          "yaxis": {
           "automargin": true,
           "gridcolor": "white",
           "linecolor": "white",
           "ticks": "",
           "title": {
            "standoff": 15
           },
           "zerolinecolor": "white",
           "zerolinewidth": 2
          }
         }
        },
        "width": 1050,
        "xaxis": {
         "anchor": "y",
         "domain": [
          0,
          0.2888888888888889
         ],
         "title": {
          "text": "年级"
         }
        },
        "xaxis2": {
         "anchor": "y2",
         "domain": [
          0.35555555555555557,
          0.6444444444444445
         ],
         "title": {
          "text": "年级"
         }
        },
        "xaxis3": {
         "anchor": "y3",
         "domain": [
          0.7111111111111111,
          1
         ],
         "title": {
          "text": "年级"
         }
        },
        "yaxis": {
         "anchor": "x",
         "domain": [
          0,
          1
         ],
         "title": {
          "text": "多样性"
         }
        },
        "yaxis2": {
         "anchor": "x2",
         "domain": [
          0,
          1
         ],
         "title": {
          "text": "密度"
         }
        },
        "yaxis3": {
         "anchor": "x3",
         "domain": [
          0,
          1
         ],
         "title": {
          "text": "复杂度"
         }
        }
       }
      }
     },
     "metadata": {},
     "output_type": "display_data"
    }
   ],
   "source": [
    "plot_boxplots_by_grade('微观叙事-词法', pca_df, 3)"
   ]
  },
  {
   "cell_type": "code",
   "execution_count": 17,
   "id": "6afec410",
   "metadata": {},
   "outputs": [],
   "source": [
    "## 持久化保持pca_df\n",
    "pca_df.to_csv('./tmp/微观叙事-词法_PCA.csv', index=False)"
   ]
  },
  {
   "cell_type": "code",
   "execution_count": 18,
   "id": "962cefe0",
   "metadata": {},
   "outputs": [
    {
     "data": {
      "text/html": [
       "<div>\n",
       "<style scoped>\n",
       "    .dataframe tbody tr th:only-of-type {\n",
       "        vertical-align: middle;\n",
       "    }\n",
       "\n",
       "    .dataframe tbody tr th {\n",
       "        vertical-align: top;\n",
       "    }\n",
       "\n",
       "    .dataframe thead th {\n",
       "        text-align: right;\n",
       "    }\n",
       "</style>\n",
       "<table border=\"1\" class=\"dataframe\">\n",
       "  <thead>\n",
       "    <tr style=\"text-align: right;\">\n",
       "      <th></th>\n",
       "      <th>文本编号</th>\n",
       "      <th>短语长度-SYNLE（69）</th>\n",
       "      <th>短语长度-SYNNP（70）</th>\n",
       "      <th>短语密度-DRNP（76）</th>\n",
       "      <th>短语密度-DRVP（77）</th>\n",
       "      <th>短语密度-DRPP（79）</th>\n",
       "      <th>句子长度-DESSL（06）</th>\n",
       "      <th>句子结构-DRPVAL（80）</th>\n",
       "      <th>句子结构-DRNEG（81）</th>\n",
       "      <th>句子结构-DRINF（83）</th>\n",
       "      <th>句法相似-SYNSTRUTa（74）</th>\n",
       "      <th>句法相似-SYNSTRUTt（75）</th>\n",
       "      <th>年级</th>\n",
       "    </tr>\n",
       "  </thead>\n",
       "  <tbody>\n",
       "    <tr>\n",
       "      <th>0</th>\n",
       "      <td>1.txt</td>\n",
       "      <td>2.071</td>\n",
       "      <td>0.488</td>\n",
       "      <td>309.210999</td>\n",
       "      <td>296.053009</td>\n",
       "      <td>59.210999</td>\n",
       "      <td>11.000</td>\n",
       "      <td>13.158</td>\n",
       "      <td>6.579</td>\n",
       "      <td>26.316000</td>\n",
       "      <td>0.168</td>\n",
       "      <td>0.173</td>\n",
       "      <td>1</td>\n",
       "    </tr>\n",
       "    <tr>\n",
       "      <th>1</th>\n",
       "      <td>10.txt</td>\n",
       "      <td>2.529</td>\n",
       "      <td>0.673</td>\n",
       "      <td>316.062012</td>\n",
       "      <td>238.341995</td>\n",
       "      <td>93.264000</td>\n",
       "      <td>11.412</td>\n",
       "      <td>0.000</td>\n",
       "      <td>10.363</td>\n",
       "      <td>15.544000</td>\n",
       "      <td>0.161</td>\n",
       "      <td>0.162</td>\n",
       "      <td>1</td>\n",
       "    </tr>\n",
       "    <tr>\n",
       "      <th>2</th>\n",
       "      <td>100.txt</td>\n",
       "      <td>2.706</td>\n",
       "      <td>0.593</td>\n",
       "      <td>351.484985</td>\n",
       "      <td>242.574005</td>\n",
       "      <td>99.010002</td>\n",
       "      <td>11.882</td>\n",
       "      <td>9.901</td>\n",
       "      <td>9.901</td>\n",
       "      <td>24.752001</td>\n",
       "      <td>0.163</td>\n",
       "      <td>0.164</td>\n",
       "      <td>1</td>\n",
       "    </tr>\n",
       "    <tr>\n",
       "      <th>3</th>\n",
       "      <td>11.txt</td>\n",
       "      <td>1.813</td>\n",
       "      <td>0.446</td>\n",
       "      <td>333.333008</td>\n",
       "      <td>291.005005</td>\n",
       "      <td>89.946999</td>\n",
       "      <td>11.875</td>\n",
       "      <td>0.000</td>\n",
       "      <td>10.582</td>\n",
       "      <td>21.164000</td>\n",
       "      <td>0.150</td>\n",
       "      <td>0.131</td>\n",
       "      <td>1</td>\n",
       "    </tr>\n",
       "    <tr>\n",
       "      <th>4</th>\n",
       "      <td>12.txt</td>\n",
       "      <td>4.000</td>\n",
       "      <td>0.705</td>\n",
       "      <td>322.114990</td>\n",
       "      <td>221.154007</td>\n",
       "      <td>81.731003</td>\n",
       "      <td>10.450</td>\n",
       "      <td>0.000</td>\n",
       "      <td>9.615</td>\n",
       "      <td>24.038000</td>\n",
       "      <td>0.146</td>\n",
       "      <td>0.160</td>\n",
       "      <td>1</td>\n",
       "    </tr>\n",
       "  </tbody>\n",
       "</table>\n",
       "</div>"
      ],
      "text/plain": [
       "      文本编号  短语长度-SYNLE（69）  短语长度-SYNNP（70）  短语密度-DRNP（76）  短语密度-DRVP（77）  \\\n",
       "0    1.txt           2.071           0.488     309.210999     296.053009   \n",
       "1   10.txt           2.529           0.673     316.062012     238.341995   \n",
       "2  100.txt           2.706           0.593     351.484985     242.574005   \n",
       "3   11.txt           1.813           0.446     333.333008     291.005005   \n",
       "4   12.txt           4.000           0.705     322.114990     221.154007   \n",
       "\n",
       "   短语密度-DRPP（79）  句子长度-DESSL（06）  句子结构-DRPVAL（80）  句子结构-DRNEG（81）  \\\n",
       "0      59.210999          11.000           13.158           6.579   \n",
       "1      93.264000          11.412            0.000          10.363   \n",
       "2      99.010002          11.882            9.901           9.901   \n",
       "3      89.946999          11.875            0.000          10.582   \n",
       "4      81.731003          10.450            0.000           9.615   \n",
       "\n",
       "   句子结构-DRINF（83）  句法相似-SYNSTRUTa（74）  句法相似-SYNSTRUTt（75）  年级  \n",
       "0       26.316000               0.168               0.173   1  \n",
       "1       15.544000               0.161               0.162   1  \n",
       "2       24.752001               0.163               0.164   1  \n",
       "3       21.164000               0.150               0.131   1  \n",
       "4       24.038000               0.146               0.160   1  "
      ]
     },
     "execution_count": 18,
     "metadata": {},
     "output_type": "execute_result"
    }
   ],
   "source": [
    "tmp_df = cleaned_data['微观叙事-句法'].copy()\n",
    "tmp_df.head()"
   ]
  },
  {
   "cell_type": "code",
   "execution_count": 19,
   "id": "e04a9dcb",
   "metadata": {},
   "outputs": [
    {
     "name": "stdout",
     "output_type": "stream",
     "text": [
      "<class 'pandas.core.frame.DataFrame'>\n",
      "Index: 267 entries, 0 to 299\n",
      "Data columns (total 13 columns):\n",
      " #   Column              Non-Null Count  Dtype  \n",
      "---  ------              --------------  -----  \n",
      " 0   文本编号                267 non-null    object \n",
      " 1   短语长度-SYNLE（69）      267 non-null    float64\n",
      " 2   短语长度-SYNNP（70）      267 non-null    float64\n",
      " 3   短语密度-DRNP（76）       267 non-null    float64\n",
      " 4   短语密度-DRVP（77）       267 non-null    float64\n",
      " 5   短语密度-DRPP（79）       267 non-null    float64\n",
      " 6   句子长度-DESSL（06）      267 non-null    float64\n",
      " 7   句子结构-DRPVAL（80）     267 non-null    float64\n",
      " 8   句子结构-DRNEG（81）      267 non-null    float64\n",
      " 9   句子结构-DRINF（83）      267 non-null    float64\n",
      " 10  句法相似-SYNSTRUTa（74）  267 non-null    float64\n",
      " 11  句法相似-SYNSTRUTt（75）  267 non-null    float64\n",
      " 12  年级                  267 non-null    int64  \n",
      "dtypes: float64(11), int64(1), object(1)\n",
      "memory usage: 29.2+ KB\n"
     ]
    }
   ],
   "source": [
    "tmp_df.info()"
   ]
  },
  {
   "cell_type": "code",
   "execution_count": 20,
   "id": "f6203604",
   "metadata": {},
   "outputs": [
    {
     "data": {
      "text/html": [
       "<div>\n",
       "<style scoped>\n",
       "    .dataframe tbody tr th:only-of-type {\n",
       "        vertical-align: middle;\n",
       "    }\n",
       "\n",
       "    .dataframe tbody tr th {\n",
       "        vertical-align: top;\n",
       "    }\n",
       "\n",
       "    .dataframe thead th {\n",
       "        text-align: right;\n",
       "    }\n",
       "</style>\n",
       "<table border=\"1\" class=\"dataframe\">\n",
       "  <thead>\n",
       "    <tr style=\"text-align: right;\">\n",
       "      <th></th>\n",
       "      <th>文本编号</th>\n",
       "      <th>句子长度-DESSL（06）</th>\n",
       "      <th>年级</th>\n",
       "      <th>短语长度-PhraseLength</th>\n",
       "      <th>短语密度-PhraseDensity</th>\n",
       "      <th>句子结构-SentenceStructure</th>\n",
       "      <th>句法相似-SYNSTRUT</th>\n",
       "    </tr>\n",
       "  </thead>\n",
       "  <tbody>\n",
       "    <tr>\n",
       "      <th>0</th>\n",
       "      <td>1.txt</td>\n",
       "      <td>11.000</td>\n",
       "      <td>1</td>\n",
       "      <td>1.2795</td>\n",
       "      <td>221.491669</td>\n",
       "      <td>15.351000</td>\n",
       "      <td>0.1705</td>\n",
       "    </tr>\n",
       "    <tr>\n",
       "      <th>1</th>\n",
       "      <td>10.txt</td>\n",
       "      <td>11.412</td>\n",
       "      <td>1</td>\n",
       "      <td>1.6010</td>\n",
       "      <td>215.889336</td>\n",
       "      <td>8.635667</td>\n",
       "      <td>0.1615</td>\n",
       "    </tr>\n",
       "    <tr>\n",
       "      <th>2</th>\n",
       "      <td>100.txt</td>\n",
       "      <td>11.882</td>\n",
       "      <td>1</td>\n",
       "      <td>1.6495</td>\n",
       "      <td>231.022998</td>\n",
       "      <td>14.851334</td>\n",
       "      <td>0.1635</td>\n",
       "    </tr>\n",
       "    <tr>\n",
       "      <th>3</th>\n",
       "      <td>11.txt</td>\n",
       "      <td>11.875</td>\n",
       "      <td>1</td>\n",
       "      <td>1.1295</td>\n",
       "      <td>238.095004</td>\n",
       "      <td>10.582000</td>\n",
       "      <td>0.1405</td>\n",
       "    </tr>\n",
       "    <tr>\n",
       "      <th>4</th>\n",
       "      <td>12.txt</td>\n",
       "      <td>10.450</td>\n",
       "      <td>1</td>\n",
       "      <td>2.3525</td>\n",
       "      <td>208.333333</td>\n",
       "      <td>11.217667</td>\n",
       "      <td>0.1530</td>\n",
       "    </tr>\n",
       "  </tbody>\n",
       "</table>\n",
       "</div>"
      ],
      "text/plain": [
       "      文本编号  句子长度-DESSL（06）  年级  短语长度-PhraseLength  短语密度-PhraseDensity  \\\n",
       "0    1.txt          11.000   1             1.2795          221.491669   \n",
       "1   10.txt          11.412   1             1.6010          215.889336   \n",
       "2  100.txt          11.882   1             1.6495          231.022998   \n",
       "3   11.txt          11.875   1             1.1295          238.095004   \n",
       "4   12.txt          10.450   1             2.3525          208.333333   \n",
       "\n",
       "   句子结构-SentenceStructure  句法相似-SYNSTRUT  \n",
       "0               15.351000         0.1705  \n",
       "1                8.635667         0.1615  \n",
       "2               14.851334         0.1635  \n",
       "3               10.582000         0.1405  \n",
       "4               11.217667         0.1530  "
      ]
     },
     "execution_count": 20,
     "metadata": {},
     "output_type": "execute_result"
    }
   ],
   "source": [
    "from untils import create_complexity_composite_mean\n",
    "\n",
    "tmp_df = cleaned_data['微观叙事-句法'].copy()\n",
    "\n",
    "tmp_df = create_complexity_composite_mean(tmp_df,\n",
    "                                          ['短语长度-SYNLE（69）', '短语长度-SYNNP（70）'],\n",
    "                                          target_col_name='短语长度-PhraseLength')\n",
    "tmp_df = create_complexity_composite_mean(tmp_df,\n",
    "                                          ['短语密度-DRNP（76）', '短语密度-DRVP（77）',\n",
    "                                           '短语密度-DRPP（79）'],\n",
    "                                          target_col_name='短语密度-PhraseDensity')\n",
    "\n",
    "tmp_df = create_complexity_composite_mean(tmp_df,\n",
    "                                          ['句子结构-DRPVAL（80）', '句子结构-DRNEG（81）',\n",
    "                                           '句子结构-DRINF（83）'],\n",
    "                                          target_col_name='句子结构-SentenceStructure')\n",
    "\n",
    "tmp_df = create_complexity_composite_mean(tmp_df,\n",
    "                                          ['句法相似-SYNSTRUTa（74）', '句法相似-SYNSTRUTt（75）'],\n",
    "                                          target_col_name='句法相似-SYNSTRUT')\n",
    "tmp_df.head()"
   ]
  },
  {
   "cell_type": "code",
   "execution_count": 21,
   "id": "913eae5e",
   "metadata": {},
   "outputs": [
    {
     "data": {
      "application/vnd.plotly.v1+json": {
       "config": {
        "plotlyServerURL": "https://plot.ly"
       },
       "data": [
        {
         "boxmean": "sd",
         "name": "1年级",
         "showlegend": true,
         "type": "box",
         "xaxis": "x",
         "y": [
          11,
          11.4119997,
          11.88199997,
          11.875,
          10.44999981,
          15.33300018,
          15.14299965,
          12.93799973,
          19.27300072,
          12.61499977,
          16.25,
          14.14299965,
          10.86699963,
          13.60000038,
          15.80000019,
          12.72200012,
          11.93799973,
          12.19999981,
          12.38500023,
          18.2310009,
          15.08300018,
          10.29399967,
          13.35700035,
          11.82400036,
          17.625,
          15.41699982,
          14.21399975,
          12.64299965,
          14.66699982,
          16.30800056,
          10.81299973,
          13.25,
          11.05900002,
          14.36800003,
          13.84599972,
          15.23099995,
          20.33300018,
          14.31299973,
          13.54500008,
          16.5,
          10.94400024,
          11.92300034,
          12.41699982,
          12.07699966,
          18.72699928,
          14.19999981,
          13.5710001,
          15.83300018,
          17.54500008,
          12.5909996,
          15.83300018,
          11.56299973,
          16.60000038,
          12,
          12.15400028,
          14.41699982,
          11.92300034,
          13.06700039,
          11.94999981,
          14.56299973,
          11.26099968,
          16.7140007,
          13.71399975,
          14.15400028,
          11.4289999,
          17.2140007,
          10.4289999,
          9.940999985,
          15.86699963,
          12.5710001,
          14.27799988,
          15.23099995,
          11.46700001,
          17.33300018,
          12.39999962,
          12.72200012,
          13.13300037,
          14.2670002,
          11.17399979,
          13.11800003,
          11.72200012,
          16.70000076,
          11.19999981,
          14,
          12,
          13.35000038,
          11.19999981,
          19.55599976,
          14.46700001,
          20.13299942,
          14.84599972,
          11.625
         ],
         "yaxis": "y"
        },
        {
         "boxmean": "sd",
         "name": "2年级",
         "showlegend": true,
         "type": "box",
         "xaxis": "x",
         "y": [
          12.58300018,
          13,
          17.05599976,
          14.21399975,
          10.75,
          12.58300018,
          12.33300018,
          14.0710001,
          11.35299969,
          13.33300018,
          11.81299973,
          11.85700035,
          12,
          13.56299973,
          11,
          13.75,
          12.5,
          16.16699982,
          14.66699982,
          16.36400032,
          11.13300037,
          17.5,
          11.53800011,
          13.15400028,
          17.33300018,
          15.375,
          14.69200039,
          12.76900005,
          10.25,
          12.85700035,
          15.66699982,
          15.76900005,
          14.66699982,
          16.10000038,
          10,
          11.29399967,
          9.055999756,
          12,
          9.352999687,
          15.80000019,
          8.118000031,
          10.56299973,
          14,
          13.0909996,
          11.83300018,
          11.58300018,
          16.33300018,
          12.69999981,
          14.38500023,
          10.93299961,
          14.53800011,
          9.713999748,
          14.25,
          16,
          11.27299976,
          16.33300018,
          13.11100006,
          14.92300034,
          13.23099995,
          14.30000019,
          11.28600025,
          16.77799988,
          10.89999962,
          14.81799984,
          11.05900002,
          10.2670002,
          9.850000381,
          9.111000061,
          17.61499977,
          10.83300018,
          14.875,
          14.66699982,
          11.92300034,
          14.18200016,
          12.25,
          14.83300018,
          9.550000191,
          13.66699982,
          18.14299965,
          13.52900028,
          13.30000019,
          13.47099972,
          18.41699982,
          17.33300018,
          15.625,
          17.69199944,
          13,
          18.93300056
         ],
         "yaxis": "y"
        },
        {
         "boxmean": "sd",
         "name": "3年级",
         "showlegend": true,
         "type": "box",
         "xaxis": "x",
         "y": [
          20,
          10.66699982,
          13.55599976,
          13,
          16.58300018,
          10.88899994,
          11.93299961,
          15.25,
          16,
          17.0909996,
          15.18200016,
          15.61499977,
          16.46199989,
          17.85700035,
          17.29999924,
          16.7859993,
          12.33300018,
          16.54500008,
          14.53299999,
          15.30000019,
          17.22200012,
          17.58300018,
          14.14299965,
          15.81799984,
          16.69199944,
          15.72700024,
          16.91699982,
          17.5,
          14.76900005,
          18,
          16,
          13.7329998,
          15.06700039,
          11.22200012,
          13.68400002,
          16.84600067,
          15.0710001,
          16.14299965,
          16.25,
          16.29999924,
          13.5,
          13.25,
          14.14299965,
          13.39999962,
          12.31299973,
          13.31299973,
          13.7329998,
          10.17599964,
          13.53299999,
          16.7689991,
          13.75,
          11.93799973,
          11.76500034,
          13.86699963,
          14.53800011,
          12.64700031,
          12.06299973,
          11.14299965,
          9.899999619,
          18.18199921,
          17.85700035,
          20.2140007,
          21.29999924,
          17.86700058,
          21.63599968,
          16.53300095,
          16.7689991,
          17.2140007,
          20.30800056,
          19.41699982,
          17.2670002,
          15.25,
          22.46199989,
          20.25,
          17.63599968,
          16.64299965,
          11.69999981,
          17.92900085,
          14.47099972,
          15.375,
          18.46699905,
          12.9289999,
          13.27299976,
          15.625,
          18.35700035,
          19.15399933,
          18.81800079
         ],
         "yaxis": "y"
        },
        {
         "boxmean": "sd",
         "name": "1年级",
         "showlegend": false,
         "type": "box",
         "xaxis": "x2",
         "y": [
          1.279500052,
          1.601000011,
          1.6495000425,
          1.129499987,
          2.3524999915,
          2.1930000185,
          1.939500064,
          2.2795000075,
          1.4365000129999999,
          1.6519999505,
          2.0934999585,
          2.100999951,
          2.26850003,
          2.9880000950000003,
          2.354000002,
          1.6025000215,
          1.2279999855000001,
          2.0864999595,
          1.976999998,
          3.1285000445,
          2.730999917,
          1.780999988,
          1.751499951,
          1.8100000025,
          3.022000015,
          2.5745000840000003,
          2.0414999425,
          2.264999986,
          1.9035000205000001,
          2.7355000375,
          1.4434999825,
          2.219999969,
          1.5365000519999998,
          1.4454999865,
          2.7470000985,
          3.2354999185,
          1.4249999525000001,
          2.150999993,
          1.428499967,
          1.7644999920000002,
          1.6869999770000002,
          2.4844999615,
          1.9164999725,
          1.615999997,
          2.1134999695,
          2.0244999825,
          2.1875,
          2.8854998944999997,
          2.4025000335,
          2.178499967,
          2.758500084,
          2.0964999795,
          2.173000038,
          2.1900000275,
          1.8550000485,
          2.1355000134999997,
          1.8949999954999999,
          1.784500033,
          2.046999991,
          2.1215000005,
          1.602499962,
          2.3259999455,
          1.9990000125,
          2.161000043,
          2.0499999525,
          1.815999955,
          1.555000007,
          1.6859999895000002,
          1.160000026,
          1.3309999405000001,
          1.8444999755,
          1.8189999465,
          1.8910000025,
          2.701499939,
          1.8444999455,
          2.2569999995,
          1.8879999815000001,
          1.7240000365,
          1.3839999435,
          1.9489999709999999,
          1.722000003,
          3.1444999575,
          1.911499977,
          1.642999947,
          1.620999992,
          2.2485000195000002,
          1.3505000470000001,
          2.51000011,
          2.52700001,
          3.0130001005,
          2.516500056,
          2.061999977
         ],
         "yaxis": "y2"
        },
        {
         "boxmean": "sd",
         "name": "2年级",
         "showlegend": false,
         "type": "box",
         "xaxis": "x2",
         "y": [
          1.8250000174999998,
          2.1434999405,
          2.332000017,
          2.4829999505,
          2.0884999635,
          1.7500000295,
          2.2940000295,
          2.1075000465,
          2.017999977,
          2.519000083,
          1.2265000045,
          1.8055000005,
          1.717999965,
          2.6070001124999997,
          1.731000006,
          1.705000013,
          2.117999941,
          2.150000006,
          2.204000026,
          3.1684999765,
          1.7765000465,
          1.865500003,
          1.709499955,
          1.8674999775,
          3.5635000464999997,
          2.260500014,
          2.666999966,
          1.360999972,
          1.3069999965,
          1.993999988,
          1.784500003,
          2.6659998895,
          2.16049999,
          2.706499964,
          1.574000031,
          1.831499994,
          1.18599996,
          2.800000012,
          1.3460000159999999,
          1.1659999785,
          1.7669999895000001,
          1.240500003,
          2.0424999595,
          2.8009999094999998,
          1.7025000449999999,
          2.647000104,
          1.396500021,
          2.2035000325,
          2.2060000300000002,
          2.003499985,
          3.0369999109999997,
          1.4140000044999999,
          2.2364999655,
          2.1950000225,
          1.477000028,
          2.516000062,
          1.972500026,
          2.4279999735,
          1.4075000284999999,
          2.8790000974999996,
          1.933000058,
          3.2249999645,
          2.4334999025000004,
          2.4979998764999998,
          1.1994999945,
          1.766500056,
          1.534500003,
          2.1055000125,
          1.612500042,
          1.509499997,
          3.2190000115,
          2.171999991,
          1.818999976,
          2.467500001,
          2.239499986,
          1.5450000165,
          1.6339999735,
          1.8819999695,
          2.279500008,
          2.2519999740000003,
          2.785999894,
          1.8905000685,
          2.3235000075,
          2.181999952,
          3.7044999895,
          3.406000108,
          3.1755000355000003,
          2.5500001015000002
         ],
         "yaxis": "y2"
        },
        {
         "boxmean": "sd",
         "name": "3年级",
         "showlegend": false,
         "type": "box",
         "xaxis": "x2",
         "y": [
          3.86800006,
          2.1824999455,
          2.7414998710000003,
          2.9199999275,
          1.621500015,
          1.7595000564999999,
          2.1899999675,
          2.2289999725,
          2.211000025,
          2.382000029,
          1.717500001,
          2.7689999345,
          2.6180000605,
          2.4405000505,
          2.9255000055,
          2.1499999460000003,
          3.0680000780000003,
          2.7635001245,
          2.1384999455,
          2.2650000450000003,
          2.0769999625,
          3.1834999025,
          2.2214999795,
          2.423999965,
          1.8689999579999999,
          2.151499957,
          1.9855000375,
          3.3875000775,
          2.010500014,
          2.7380000950000003,
          2.830000013,
          2.24150002,
          2.193499982,
          2.4429998994999997,
          2.460999995,
          3.585999936,
          2.8760000764999996,
          1.8449999990000001,
          2.3939999044999998,
          1.9764999744999998,
          1.3924999835,
          3.140000105,
          2.7499999405000004,
          1.294999987,
          1.5379999874999999,
          2.2599999905,
          1.900000006,
          1.980499953,
          2.8544999955,
          2.8819999995,
          2.066999972,
          1.911999971,
          1.381500006,
          1.902499944,
          2.620000124,
          2.6134999100000003,
          1.6954999865,
          2.1535000505,
          1.708499998,
          3.0365000364999997,
          3.0210000575,
          3.486499995,
          2.586000055,
          2.8650000395,
          3.4619999530000003,
          2.3569999935,
          3.7875000235,
          2.4050000605,
          3.026499897,
          2.3410000205,
          2.2770000395,
          2.9300000964999997,
          3.144999951,
          3.467000097,
          2.4755000469999997,
          3.0014999510000004,
          2.0000000595,
          3.4225000145,
          3.063000053,
          1.684499979,
          2.2805000545,
          2.614499986,
          1.893999994,
          2.824000001,
          2.518999934,
          2.1070000529999997,
          3.3270001115000003
         ],
         "yaxis": "y2"
        },
        {
         "boxmean": "sd",
         "name": "1年级",
         "showlegend": false,
         "type": "box",
         "xaxis": "x3",
         "y": [
          221.49166867999998,
          215.88933561333332,
          231.0229975466667,
          238.09500376666668,
          208.3333333366667,
          226.13800046333333,
          237.42134093333334,
          199.02932993,
          221.69832868,
          209.3493347333333,
          218.74966686000002,
          221.0886662766667,
          206.54400126333334,
          217.2473398666667,
          232.0676727,
          215.42933402000003,
          225.13100177,
          228.14200083999995,
          227.08333333333334,
          234.88033292666668,
          220.3703308,
          198.09500247999998,
          223.42366789999997,
          198.33333333333334,
          202.3810018,
          247.77165983333336,
          213.80499776,
          212.80566913333334,
          219.17799631666665,
          223.28566743333332,
          224.8059997633333,
          223.27066296333336,
          245.9893315633333,
          217.33800505333332,
          238.36133324,
          254.20866393333336,
          229.50833386666667,
          227.07400769,
          201.34266662666667,
          216.88533527666664,
          226.73433174000002,
          195.69900003333336,
          217.00199890333337,
          222.9299977533333,
          230.89433286666667,
          241.26966857333332,
          231.57866923333336,
          220.4583308,
          235.60199735,
          224.24232736666667,
          229.2766698,
          210.8106715,
          238.9560038333333,
          226.389005,
          217.29965973333336,
          229.28700511333332,
          212.12133278000002,
          222.22233581666669,
          210.97066497333333,
          234.1953328333333,
          226.09800212666664,
          220.79766590666668,
          213.54166412666666,
          214.41467283333336,
          230.5556665933333,
          221.29999540333333,
          210.04566444666668,
          218.93500520666666,
          231.09267171,
          230.47633110333334,
          228.27532703333335,
          227.89132943333334,
          230.62000274000002,
          215.05366516666666,
          240.14333596333336,
          227.07433573333333,
          218.80333965,
          235.20233152,
          204.92867405666667,
          239.16299946666666,
          222.74899800000003,
          213.57266744333333,
          224.20633699333334,
          232.47867076666668,
          230.36633299999997,
          209.73799642333336,
          231.68899789333332,
          246.21199543333333,
          228.97166952,
          216.66666920666668,
          223.95800526000002,
          222.8263346
         ],
         "yaxis": "y3"
        },
        {
         "boxmean": "sd",
         "name": "2年级",
         "showlegend": false,
         "type": "box",
         "xaxis": "x3",
         "y": [
          211.92066444666668,
          249.0843277,
          198.25700124,
          239.53100586666665,
          217.05400340000003,
          238.41066739,
          225.80633036333333,
          223.35033163333333,
          236.6150004033333,
          214.58333333333334,
          218.69466910000003,
          238.95566559666665,
          217.20432535,
          221.19799806666666,
          229.2870051,
          230.3030064666667,
          240.00000254666665,
          219.93133546666664,
          250.00033316666668,
          227.77766926666663,
          207.58466591,
          211.11099750666668,
          219.99967192666668,
          213.72533673333336,
          209.40166473333332,
          238.48233033333335,
          218.08499654,
          226.90766143,
          224.9323349,
          198.14799501333334,
          237.58866883333334,
          215.68600463666667,
          196.19033049666666,
          229.16666666666666,
          216.34600065333336,
          215.78933207999998,
          204.49900307,
          217.94899747666668,
          221.51899847333334,
          225.05299888000002,
          236.71466320000002,
          222.22200266000002,
          210.9706675333333,
          217.59266662666667,
          232.70433553333336,
          213.42933401333332,
          222.98833210333336,
          244.0943298,
          230.07232921333332,
          224.28000384000003,
          220.45833588666667,
          235.29399618000002,
          226.12066396666668,
          206.73100283333335,
          224,
          229.02500153333335,
          230.22600303333334,
          243.52367145000002,
          236.43399810666665,
          233.09999847666668,
          251.05466716666663,
          217.00200398666667,
          216.21599576666668,
          216.76866913333333,
          229.94667433666666,
          222.943662,
          250.00000510000004,
          216.7690048333333,
          221.25166575666665,
          212.82033537333334,
          192.0903269733333,
          200.75766246999999,
          221.50533294666664,
          220.80666605666667,
          218.57932788666668,
          226.59200284333338,
          244.32832843666665,
          215.44733430333335,
          231.88400013333333,
          231.88399503333335,
          225.5639979,
          203.78433737666668,
          209.65299862000003,
          238.4613266,
          233.73199969999996,
          227.53633116666666,
          230.7693303333334,
          222.6109975333333
         ],
         "yaxis": "y3"
        },
        {
         "boxmean": "sd",
         "name": "3年级",
         "showlegend": false,
         "type": "box",
         "xaxis": "x3",
         "y": [
          209.37999726,
          221.64066061333332,
          225.4096679666667,
          198.0389963766667,
          223.35033162,
          216.49500023333334,
          218.51833091333336,
          222.82567089,
          219.89533233333336,
          226.38133496666669,
          226.90766653333333,
          239.27400463333333,
          234.7416687,
          218.66666666666666,
          226.74400333333332,
          227.4680023233333,
          236.03599803333336,
          227.77766421333334,
          215.50400032333332,
          228.75800068666663,
          204.30099997333332,
          209.52366382000002,
          216.58200072999998,
          202.31200153666668,
          223.7653350666666,
          199.61233772666665,
          196.36967215333334,
          219.04766336666663,
          215.27766166,
          214.5063349333333,
          228.57133227999998,
          209.15066403666665,
          222.72033179666664,
          222.77199556666665,
          237.72599793333333,
          235.47400156666666,
          243.28566996666666,
          196.42867021666666,
          223.95833079333332,
          220.85900117666665,
          247.26132708666668,
          212.26433313333334,
          220.53899892,
          226.66666666666666,
          221.65833790666667,
          230.0466741,
          201.62599946666668,
          210.52633410666667,
          221.67500303333335,
          211.98166402333334,
          222.7273305266667,
          219.89532980333334,
          228.42667261666668,
          228.6636708433333,
          219.25133769333334,
          223.2703323433333,
          252.15867103333335,
          235.63233439333337,
          219.96600087333331,
          201.66666666666666,
          203.48033139999998,
          218.22566733333335,
          210.69199880333335,
          228.8556671,
          218.48766583333335,
          243.27933756666667,
          227.82865907333337,
          236.51466373333335,
          222.2223332666667,
          238.91266883333333,
          220.07700603333333,
          227.27266693333334,
          234.01799516666668,
          213.99200187,
          214.77633663999998,
          221.74532573333332,
          222.22232816666664,
          215.13966370666665,
          205.96233876666665,
          214.96599831,
          238.26700083333333,
          207.40733337333333,
          208.90433754,
          218.66666666666666,
          216.60166167333333,
          227.57700093333335,
          204.50900269
         ],
         "yaxis": "y3"
        },
        {
         "boxmean": "sd",
         "name": "1年级",
         "showlegend": false,
         "type": "box",
         "xaxis": "x4",
         "y": [
          15.350999988666667,
          8.63566653,
          14.851333618666667,
          10.58199978,
          11.217666627,
          10.278999963333334,
          6.289333343666667,
          11.326666516666668,
          4.717000006666667,
          6.09800005,
          13.888666786666667,
          6.802666980000001,
          8.180000306666667,
          11.608333428333333,
          16.87766711,
          13.100332893333333,
          8.726333300666667,
          13.661332766666668,
          8.333333333333334,
          12.658332823333334,
          9.259333293333334,
          1.9046667416666667,
          9.008999983333334,
          13.333333333333334,
          9.524000325333335,
          8.91266648,
          11.784666539333331,
          3.7666667300000003,
          13.698333104666666,
          11.164333343333334,
          5.81400013,
          11.006333352666667,
          8.912666476666667,
          10.989000318999999,
          7.449000041000001,
          10.100999833333333,
          16.393332958333335,
          10.189333119666665,
          8.94866689,
          14.555999753333333,
          8.460333508,
          2.150666713666667,
          11.185666878666666,
          12.738666692666667,
          13.007999579333335,
          14.285999936666668,
          8.771999993333333,
          12.345666566666665,
          15.706665993333333,
          8.484666587,
          5.290999889,
          5.40533336,
          16.0643336,
          5.555666605666667,
          10.548666636666667,
          5.7803332,
          12.987333933333334,
          10.256333353333334,
          5.626000086666667,
          8.620666664333333,
          5.167999903666667,
          11.396333696,
          5.208333333333333,
          5.40500021,
          6.944666545666667,
          8.298666636,
          6.849333446666667,
          5.916999816666666,
          11.204666454,
          7.619000116666666,
          6.485000134666667,
          3.4013334900000003,
          7.752000173333333,
          6.451666673666666,
          14.336999893333333,
          7.278000195333334,
          6.837666671,
          7.788000106666666,
          5.188000043333333,
          4.484333356666666,
          7.898666858000001,
          7.984000205333333,
          5.952333290333333,
          6.837333045333334,
          6.980999947000001,
          11.235999741666665,
          11.958333334333332,
          3.788000106666667,
          14.018666903333333,
          7.777666648333334,
          17.36100006,
          9.058000246666667
         ],
         "yaxis": "y4"
        },
        {
         "boxmean": "sd",
         "name": "2年级",
         "showlegend": false,
         "type": "box",
         "xaxis": "x4",
         "y": [
          8.830333391666667,
          12.820666312,
          8.714666366666666,
          6.700000126666667,
          12.919999758333333,
          15.452666603333334,
          5.376333396,
          3.384000143333333,
          13.816667080999999,
          8.333333333333334,
          5.290999889666667,
          16.064000446666668,
          10.752666633666665,
          3.0719998680000002,
          13.487333139999999,
          6.060666403333333,
          5.714333216666667,
          8.59133339,
          13.25766627,
          9.259666762,
          9.979999858666666,
          14.285999934666668,
          22.22200012,
          11.764666556333333,
          14.957667033333331,
          5.420000076,
          14.184333325666666,
          8.032000222666667,
          5.420000076,
          9.259333293333334,
          8.865333399,
          3.267999966666667,
          17.14299965,
          8.333333333333334,
          11.218000253,
          8.771666527333332,
          4.090000152666667,
          8.547000249,
          8.438666660666668,
          16.98499949933333,
          2.415333271,
          9.920666376666667,
          5.625666617666667,
          11.573999882333332,
          6.289333343666667,
          2.3979999223333333,
          13.793333528666665,
          10.498666604,
          18.11600049333333,
          18.51866610966667,
          10.582000093333333,
          4.90200011,
          11.69600026,
          6.410333633333334,
          10.666666666666666,
          11.338000137666667,
          7.062000273333333,
          6.908333301,
          5.813999813333333,
          4.6620000206666665,
          10.548333325333333,
          8.948333582,
          6.005999883333334,
          4.090000153333333,
          14.260332743333331,
          12.987333776,
          5.10199992,
          14.315000536333335,
          13.100666998666666,
          7.692333219999999,
          5.650000253999999,
          5.68200016,
          10.752666473333335,
          2.122999986,
          8.196666876666667,
          11.23600006,
          10.471333186999999,
          6.097666579999999,
          15.810667039333334,
          2.8986666999999997,
          10.024999937666665,
          2.911333402,
          9.049666723333333,
          14.102332989333334,
          13.28000005,
          13.043333529999998,
          2.849333445333333,
          15.151666640333334
         ],
         "yaxis": "y4"
        },
        {
         "boxmean": "sd",
         "name": "3年级",
         "showlegend": false,
         "type": "box",
         "xaxis": "x4",
         "y": [
          13.400666553333332,
          13.96133296,
          15.027333103333333,
          0,
          8.460000358,
          10.309333326666666,
          20.37066666433333,
          3.623333296666667,
          10.471333186666667,
          10.694999693333335,
          12.048000333333334,
          4.950333277333333,
          10.954666934,
          6.666666666666667,
          13.565999986666668,
          10.014666556,
          5.40500021,
          11.11100006,
          7.751999854333334,
          10.893332958333332,
          12.902999880000001,
          11.111333528666668,
          11.844333648000001,
          5.78000021,
          20.06199964,
          13.565999983333333,
          8.250666617666667,
          9.524000169333334,
          3.4720001220000003,
          7.716333071333334,
          13.333333333333334,
          16.340000153333335,
          17.937000273333332,
          4.950333277333333,
          15.504000028333332,
          12.232333499666666,
          9.478666781333333,
          13.39299965,
          8.680666607666666,
          10.225000382666666,
          17.214667004333332,
          3.1446666716666667,
          13.467999773333332,
          8.333333333333334,
          6.7683334366666665,
          9.390000026666668,
          13.007999738666667,
          9.74666691,
          11.494333585666666,
          9.216333388,
          10.60599963,
          6.98066648,
          18.61266708466667,
          12.882333913666669,
          10.694999693333335,
          11.00633335,
          8.63566653,
          12.930999756666667,
          16.92033354666667,
          8.333333333333334,
          4.016000113333333,
          10.791333197999998,
          17.295666696,
          8.706333319333334,
          8.403333026666667,
          6.720666408333334,
          10.703333536333332,
          8.298999786,
          7.575666426666667,
          8.583666482333333,
          9.009000144,
          9.641666412666668,
          11.415666421333333,
          12.345333098,
          6.872999986666667,
          10.014333090333333,
          14.245000203333333,
          6.639999946,
          16.259999908,
          2.7213331860000003,
          9.626666465,
          12.962999980000001,
          5.707666396666667,
          2.6666666666666665,
          18.158333143333333,
          13.386666297333335,
          8.051666577333334
         ],
         "yaxis": "y4"
        },
        {
         "boxmean": "sd",
         "name": "1年级",
         "showlegend": false,
         "type": "box",
         "xaxis": "x5",
         "y": [
          0.1704999955,
          0.161499999,
          0.163500004,
          0.1405000015,
          0.152999997,
          0.1065,
          0.1209999995,
          0.167999998,
          0.095999997,
          0.1950000005,
          0.1109999975,
          0.123999998,
          0.19599999499999998,
          0.11800000050000001,
          0.1285,
          0.109500002,
          0.10300000000000001,
          0.126499999,
          0.1534999985,
          0.11749999950000001,
          0.147500001,
          0.153999999,
          0.137000002,
          0.146499999,
          0.085499998,
          0.116499998,
          0.08600000299999999,
          0.16899999999999998,
          0.118999999,
          0.1099999995,
          0.1735000015,
          0.103,
          0.139000006,
          0.11749999950000001,
          0.116999999,
          0.129500005,
          0.0880000035,
          0.1669999955,
          0.1395,
          0.088999998,
          0.1799999995,
          0.1519999955,
          0.1395,
          0.13549999899999998,
          0.08300000099999999,
          0.12550000449999998,
          0.0960000005,
          0.1345000005,
          0.10300000000000001,
          0.11249999699999999,
          0.1250000035,
          0.16200000050000002,
          0.1099999995,
          0.151999995,
          0.16650000199999998,
          0.1290000005,
          0.134999998,
          0.12950000150000002,
          0.18400000049999998,
          0.1195,
          0.15749999850000002,
          0.1065,
          0.09849999849999999,
          0.1195,
          0.1735000015,
          0.096499998,
          0.153499998,
          0.1499999985,
          0.10199999800000001,
          0.137000002,
          0.135499999,
          0.124999996,
          0.12649999950000002,
          0.129499994,
          0.149500005,
          0.1175000035,
          0.1494999975,
          0.1175,
          0.14350000000000002,
          0.131999999,
          0.1625000015,
          0.1085,
          0.192999996,
          0.1125000005,
          0.136,
          0.09950000049999999,
          0.158,
          0.0840000025,
          0.137000002,
          0.087500002,
          0.10350000100000001,
          0.151999995
         ],
         "yaxis": "y5"
        },
        {
         "boxmean": "sd",
         "name": "2年级",
         "showlegend": false,
         "type": "box",
         "xaxis": "x5",
         "y": [
          0.1414999965,
          0.1414999965,
          0.08900000150000001,
          0.127999999,
          0.1499999985,
          0.126499999,
          0.0899999995,
          0.131500002,
          0.1445000025,
          0.067500001,
          0.149500005,
          0.1405000015,
          0.1154999995,
          0.120500002,
          0.1215000005,
          0.129999999,
          0.134999998,
          0.1119999995,
          0.129000001,
          0.11500000199999999,
          0.147,
          0.1054999975,
          0.130499996,
          0.137000002,
          0.083999999,
          0.1550000015,
          0.1160000005,
          0.1030000005,
          0.1575000065,
          0.109000001,
          0.12549999750000002,
          0.091499999,
          0.07400000100000001,
          0.12400000150000001,
          0.126000002,
          0.118999999,
          0.1520000025,
          0.16349999599999998,
          0.188000001,
          0.07350000000000001,
          0.1494999975,
          0.097000003,
          0.08549999850000001,
          0.12800000250000002,
          0.1635000035,
          0.1064999995,
          0.096500002,
          0.125500001,
          0.1219999975,
          0.148000002,
          0.10050000249999999,
          0.133999996,
          0.1489999965,
          0.136,
          0.13150000550000002,
          0.0940000005,
          0.129999999,
          0.098999999,
          0.11500000199999999,
          0.1314999985,
          0.138000004,
          0.1059999985,
          0.16850000650000002,
          0.1160000005,
          0.1669999955,
          0.18,
          0.158500001,
          0.1939999985,
          0.0650000015,
          0.1845000015,
          0.0830000005,
          0.129499994,
          0.12249999850000001,
          0.173499994,
          0.153000005,
          0.085499998,
          0.156000003,
          0.157499999,
          0.087000001,
          0.12800000250000002,
          0.19300000350000002,
          0.1144999975,
          0.08799999950000001,
          0.0955,
          0.12149999650000001,
          0.1165000015,
          0.153499998,
          0.06949999949999999
         ],
         "yaxis": "y5"
        },
        {
         "boxmean": "sd",
         "name": "3年级",
         "showlegend": false,
         "type": "box",
         "xaxis": "x5",
         "y": [
          0.0665000005,
          0.163500004,
          0.11900000250000001,
          0.1604999975,
          0.09850000249999999,
          0.159999996,
          0.1115000025,
          0.1105,
          0.1279999985,
          0.0909999985,
          0.0764999985,
          0.124499995,
          0.0975,
          0.08650000050000001,
          0.0845,
          0.1039999985,
          0.1465000065,
          0.12950000150000002,
          0.118499998,
          0.1085000005,
          0.0634999985,
          0.10350000100000001,
          0.11399999999999999,
          0.120500002,
          0.1094999985,
          0.1085000005,
          0.07099999900000001,
          0.0955,
          0.15150000149999998,
          0.0955,
          0.10199999800000001,
          0.12249999850000001,
          0.118999999,
          0.19349999699999998,
          0.1215,
          0.1149999985,
          0.16099999850000002,
          0.09449999749999999,
          0.09950000049999999,
          0.105999999,
          0.120500002,
          0.1414999965,
          0.14700000000000002,
          0.09,
          0.1400000005,
          0.1209999995,
          0.10350000100000001,
          0.1789999975,
          0.12849999950000002,
          0.107000001,
          0.1364999935,
          0.137500003,
          0.164499998,
          0.1345000045,
          0.112000003,
          0.166000001,
          0.150500007,
          0.1909999995,
          0.1985,
          0.081500001,
          0.097999997,
          0.1105000005,
          0.0819999985,
          0.132000003,
          0.07200000100000001,
          0.130000003,
          0.1510000005,
          0.111999996,
          0.08900000150000001,
          0.0595000015,
          0.09,
          0.109499998,
          0.08900000150000001,
          0.092,
          0.1044999995,
          0.084999997,
          0.1719999985,
          0.11350000299999999,
          0.109000001,
          0.07200000100000001,
          0.079,
          0.1250000035,
          0.1085,
          0.1059999985,
          0.11500000199999999,
          0.10150000049999999,
          0.1170000025
         ],
         "yaxis": "y5"
        }
       ],
       "layout": {
        "height": 500,
        "showlegend": true,
        "template": {
         "data": {
          "bar": [
           {
            "error_x": {
             "color": "#2a3f5f"
            },
            "error_y": {
             "color": "#2a3f5f"
            },
            "marker": {
             "line": {
              "color": "#E5ECF6",
              "width": 0.5
             },
             "pattern": {
              "fillmode": "overlay",
              "size": 10,
              "solidity": 0.2
             }
            },
            "type": "bar"
           }
          ],
          "barpolar": [
           {
            "marker": {
             "line": {
              "color": "#E5ECF6",
              "width": 0.5
             },
             "pattern": {
              "fillmode": "overlay",
              "size": 10,
              "solidity": 0.2
             }
            },
            "type": "barpolar"
           }
          ],
          "carpet": [
           {
            "aaxis": {
             "endlinecolor": "#2a3f5f",
             "gridcolor": "white",
             "linecolor": "white",
             "minorgridcolor": "white",
             "startlinecolor": "#2a3f5f"
            },
            "baxis": {
             "endlinecolor": "#2a3f5f",
             "gridcolor": "white",
             "linecolor": "white",
             "minorgridcolor": "white",
             "startlinecolor": "#2a3f5f"
            },
            "type": "carpet"
           }
          ],
          "choropleth": [
           {
            "colorbar": {
             "outlinewidth": 0,
             "ticks": ""
            },
            "type": "choropleth"
           }
          ],
          "contour": [
           {
            "colorbar": {
             "outlinewidth": 0,
             "ticks": ""
            },
            "colorscale": [
             [
              0,
              "#0d0887"
             ],
             [
              0.1111111111111111,
              "#46039f"
             ],
             [
              0.2222222222222222,
              "#7201a8"
             ],
             [
              0.3333333333333333,
              "#9c179e"
             ],
             [
              0.4444444444444444,
              "#bd3786"
             ],
             [
              0.5555555555555556,
              "#d8576b"
             ],
             [
              0.6666666666666666,
              "#ed7953"
             ],
             [
              0.7777777777777778,
              "#fb9f3a"
             ],
             [
              0.8888888888888888,
              "#fdca26"
             ],
             [
              1,
              "#f0f921"
             ]
            ],
            "type": "contour"
           }
          ],
          "contourcarpet": [
           {
            "colorbar": {
             "outlinewidth": 0,
             "ticks": ""
            },
            "type": "contourcarpet"
           }
          ],
          "heatmap": [
           {
            "colorbar": {
             "outlinewidth": 0,
             "ticks": ""
            },
            "colorscale": [
             [
              0,
              "#0d0887"
             ],
             [
              0.1111111111111111,
              "#46039f"
             ],
             [
              0.2222222222222222,
              "#7201a8"
             ],
             [
              0.3333333333333333,
              "#9c179e"
             ],
             [
              0.4444444444444444,
              "#bd3786"
             ],
             [
              0.5555555555555556,
              "#d8576b"
             ],
             [
              0.6666666666666666,
              "#ed7953"
             ],
             [
              0.7777777777777778,
              "#fb9f3a"
             ],
             [
              0.8888888888888888,
              "#fdca26"
             ],
             [
              1,
              "#f0f921"
             ]
            ],
            "type": "heatmap"
           }
          ],
          "heatmapgl": [
           {
            "colorbar": {
             "outlinewidth": 0,
             "ticks": ""
            },
            "colorscale": [
             [
              0,
              "#0d0887"
             ],
             [
              0.1111111111111111,
              "#46039f"
             ],
             [
              0.2222222222222222,
              "#7201a8"
             ],
             [
              0.3333333333333333,
              "#9c179e"
             ],
             [
              0.4444444444444444,
              "#bd3786"
             ],
             [
              0.5555555555555556,
              "#d8576b"
             ],
             [
              0.6666666666666666,
              "#ed7953"
             ],
             [
              0.7777777777777778,
              "#fb9f3a"
             ],
             [
              0.8888888888888888,
              "#fdca26"
             ],
             [
              1,
              "#f0f921"
             ]
            ],
            "type": "heatmapgl"
           }
          ],
          "histogram": [
           {
            "marker": {
             "pattern": {
              "fillmode": "overlay",
              "size": 10,
              "solidity": 0.2
             }
            },
            "type": "histogram"
           }
          ],
          "histogram2d": [
           {
            "colorbar": {
             "outlinewidth": 0,
             "ticks": ""
            },
            "colorscale": [
             [
              0,
              "#0d0887"
             ],
             [
              0.1111111111111111,
              "#46039f"
             ],
             [
              0.2222222222222222,
              "#7201a8"
             ],
             [
              0.3333333333333333,
              "#9c179e"
             ],
             [
              0.4444444444444444,
              "#bd3786"
             ],
             [
              0.5555555555555556,
              "#d8576b"
             ],
             [
              0.6666666666666666,
              "#ed7953"
             ],
             [
              0.7777777777777778,
              "#fb9f3a"
             ],
             [
              0.8888888888888888,
              "#fdca26"
             ],
             [
              1,
              "#f0f921"
             ]
            ],
            "type": "histogram2d"
           }
          ],
          "histogram2dcontour": [
           {
            "colorbar": {
             "outlinewidth": 0,
             "ticks": ""
            },
            "colorscale": [
             [
              0,
              "#0d0887"
             ],
             [
              0.1111111111111111,
              "#46039f"
             ],
             [
              0.2222222222222222,
              "#7201a8"
             ],
             [
              0.3333333333333333,
              "#9c179e"
             ],
             [
              0.4444444444444444,
              "#bd3786"
             ],
             [
              0.5555555555555556,
              "#d8576b"
             ],
             [
              0.6666666666666666,
              "#ed7953"
             ],
             [
              0.7777777777777778,
              "#fb9f3a"
             ],
             [
              0.8888888888888888,
              "#fdca26"
             ],
             [
              1,
              "#f0f921"
             ]
            ],
            "type": "histogram2dcontour"
           }
          ],
          "mesh3d": [
           {
            "colorbar": {
             "outlinewidth": 0,
             "ticks": ""
            },
            "type": "mesh3d"
           }
          ],
          "parcoords": [
           {
            "line": {
             "colorbar": {
              "outlinewidth": 0,
              "ticks": ""
             }
            },
            "type": "parcoords"
           }
          ],
          "pie": [
           {
            "automargin": true,
            "type": "pie"
           }
          ],
          "scatter": [
           {
            "fillpattern": {
             "fillmode": "overlay",
             "size": 10,
             "solidity": 0.2
            },
            "type": "scatter"
           }
          ],
          "scatter3d": [
           {
            "line": {
             "colorbar": {
              "outlinewidth": 0,
              "ticks": ""
             }
            },
            "marker": {
             "colorbar": {
              "outlinewidth": 0,
              "ticks": ""
             }
            },
            "type": "scatter3d"
           }
          ],
          "scattercarpet": [
           {
            "marker": {
             "colorbar": {
              "outlinewidth": 0,
              "ticks": ""
             }
            },
            "type": "scattercarpet"
           }
          ],
          "scattergeo": [
           {
            "marker": {
             "colorbar": {
              "outlinewidth": 0,
              "ticks": ""
             }
            },
            "type": "scattergeo"
           }
          ],
          "scattergl": [
           {
            "marker": {
             "colorbar": {
              "outlinewidth": 0,
              "ticks": ""
             }
            },
            "type": "scattergl"
           }
          ],
          "scattermapbox": [
           {
            "marker": {
             "colorbar": {
              "outlinewidth": 0,
              "ticks": ""
             }
            },
            "type": "scattermapbox"
           }
          ],
          "scatterpolar": [
           {
            "marker": {
             "colorbar": {
              "outlinewidth": 0,
              "ticks": ""
             }
            },
            "type": "scatterpolar"
           }
          ],
          "scatterpolargl": [
           {
            "marker": {
             "colorbar": {
              "outlinewidth": 0,
              "ticks": ""
             }
            },
            "type": "scatterpolargl"
           }
          ],
          "scatterternary": [
           {
            "marker": {
             "colorbar": {
              "outlinewidth": 0,
              "ticks": ""
             }
            },
            "type": "scatterternary"
           }
          ],
          "surface": [
           {
            "colorbar": {
             "outlinewidth": 0,
             "ticks": ""
            },
            "colorscale": [
             [
              0,
              "#0d0887"
             ],
             [
              0.1111111111111111,
              "#46039f"
             ],
             [
              0.2222222222222222,
              "#7201a8"
             ],
             [
              0.3333333333333333,
              "#9c179e"
             ],
             [
              0.4444444444444444,
              "#bd3786"
             ],
             [
              0.5555555555555556,
              "#d8576b"
             ],
             [
              0.6666666666666666,
              "#ed7953"
             ],
             [
              0.7777777777777778,
              "#fb9f3a"
             ],
             [
              0.8888888888888888,
              "#fdca26"
             ],
             [
              1,
              "#f0f921"
             ]
            ],
            "type": "surface"
           }
          ],
          "table": [
           {
            "cells": {
             "fill": {
              "color": "#EBF0F8"
             },
             "line": {
              "color": "white"
             }
            },
            "header": {
             "fill": {
              "color": "#C8D4E3"
             },
             "line": {
              "color": "white"
             }
            },
            "type": "table"
           }
          ]
         },
         "layout": {
          "annotationdefaults": {
           "arrowcolor": "#2a3f5f",
           "arrowhead": 0,
           "arrowwidth": 1
          },
          "autotypenumbers": "strict",
          "coloraxis": {
           "colorbar": {
            "outlinewidth": 0,
            "ticks": ""
           }
          },
          "colorscale": {
           "diverging": [
            [
             0,
             "#8e0152"
            ],
            [
             0.1,
             "#c51b7d"
            ],
            [
             0.2,
             "#de77ae"
            ],
            [
             0.3,
             "#f1b6da"
            ],
            [
             0.4,
             "#fde0ef"
            ],
            [
             0.5,
             "#f7f7f7"
            ],
            [
             0.6,
             "#e6f5d0"
            ],
            [
             0.7,
             "#b8e186"
            ],
            [
             0.8,
             "#7fbc41"
            ],
            [
             0.9,
             "#4d9221"
            ],
            [
             1,
             "#276419"
            ]
           ],
           "sequential": [
            [
             0,
             "#0d0887"
            ],
            [
             0.1111111111111111,
             "#46039f"
            ],
            [
             0.2222222222222222,
             "#7201a8"
            ],
            [
             0.3333333333333333,
             "#9c179e"
            ],
            [
             0.4444444444444444,
             "#bd3786"
            ],
            [
             0.5555555555555556,
             "#d8576b"
            ],
            [
             0.6666666666666666,
             "#ed7953"
            ],
            [
             0.7777777777777778,
             "#fb9f3a"
            ],
            [
             0.8888888888888888,
             "#fdca26"
            ],
            [
             1,
             "#f0f921"
            ]
           ],
           "sequentialminus": [
            [
             0,
             "#0d0887"
            ],
            [
             0.1111111111111111,
             "#46039f"
            ],
            [
             0.2222222222222222,
             "#7201a8"
            ],
            [
             0.3333333333333333,
             "#9c179e"
            ],
            [
             0.4444444444444444,
             "#bd3786"
            ],
            [
             0.5555555555555556,
             "#d8576b"
            ],
            [
             0.6666666666666666,
             "#ed7953"
            ],
            [
             0.7777777777777778,
             "#fb9f3a"
            ],
            [
             0.8888888888888888,
             "#fdca26"
            ],
            [
             1,
             "#f0f921"
            ]
           ]
          },
          "colorway": [
           "#636efa",
           "#EF553B",
           "#00cc96",
           "#ab63fa",
           "#FFA15A",
           "#19d3f3",
           "#FF6692",
           "#B6E880",
           "#FF97FF",
           "#FECB52"
          ],
          "font": {
           "color": "#2a3f5f"
          },
          "geo": {
           "bgcolor": "white",
           "lakecolor": "white",
           "landcolor": "#E5ECF6",
           "showlakes": true,
           "showland": true,
           "subunitcolor": "white"
          },
          "hoverlabel": {
           "align": "left"
          },
          "hovermode": "closest",
          "mapbox": {
           "style": "light"
          },
          "paper_bgcolor": "white",
          "plot_bgcolor": "#E5ECF6",
          "polar": {
           "angularaxis": {
            "gridcolor": "white",
            "linecolor": "white",
            "ticks": ""
           },
           "bgcolor": "#E5ECF6",
           "radialaxis": {
            "gridcolor": "white",
            "linecolor": "white",
            "ticks": ""
           }
          },
          "scene": {
           "xaxis": {
            "backgroundcolor": "#E5ECF6",
            "gridcolor": "white",
            "gridwidth": 2,
            "linecolor": "white",
            "showbackground": true,
            "ticks": "",
            "zerolinecolor": "white"
           },
           "yaxis": {
            "backgroundcolor": "#E5ECF6",
            "gridcolor": "white",
            "gridwidth": 2,
            "linecolor": "white",
            "showbackground": true,
            "ticks": "",
            "zerolinecolor": "white"
           },
           "zaxis": {
            "backgroundcolor": "#E5ECF6",
            "gridcolor": "white",
            "gridwidth": 2,
            "linecolor": "white",
            "showbackground": true,
            "ticks": "",
            "zerolinecolor": "white"
           }
          },
          "shapedefaults": {
           "line": {
            "color": "#2a3f5f"
           }
          },
          "ternary": {
           "aaxis": {
            "gridcolor": "white",
            "linecolor": "white",
            "ticks": ""
           },
           "baxis": {
            "gridcolor": "white",
            "linecolor": "white",
            "ticks": ""
           },
           "bgcolor": "#E5ECF6",
           "caxis": {
            "gridcolor": "white",
            "linecolor": "white",
            "ticks": ""
           }
          },
          "title": {
           "x": 0.05
          },
          "xaxis": {
           "automargin": true,
           "gridcolor": "white",
           "linecolor": "white",
           "ticks": "",
           "title": {
            "standoff": 15
           },
           "zerolinecolor": "white",
           "zerolinewidth": 2
          },
          "yaxis": {
           "automargin": true,
           "gridcolor": "white",
           "linecolor": "white",
           "ticks": "",
           "title": {
            "standoff": 15
           },
           "zerolinecolor": "white",
           "zerolinewidth": 2
          }
         }
        },
        "width": 1750,
        "xaxis": {
         "anchor": "y",
         "domain": [
          0,
          0.16799999999999998
         ],
         "title": {
          "text": "年级"
         }
        },
        "xaxis2": {
         "anchor": "y2",
         "domain": [
          0.208,
          0.376
         ],
         "title": {
          "text": "年级"
         }
        },
        "xaxis3": {
         "anchor": "y3",
         "domain": [
          0.416,
          0.584
         ],
         "title": {
          "text": "年级"
         }
        },
        "xaxis4": {
         "anchor": "y4",
         "domain": [
          0.624,
          0.792
         ],
         "title": {
          "text": "年级"
         }
        },
        "xaxis5": {
         "anchor": "y5",
         "domain": [
          0.832,
          1
         ],
         "title": {
          "text": "年级"
         }
        },
        "yaxis": {
         "anchor": "x",
         "domain": [
          0,
          1
         ],
         "title": {
          "text": "句子长度"
         }
        },
        "yaxis2": {
         "anchor": "x2",
         "domain": [
          0,
          1
         ],
         "title": {
          "text": "短语长度"
         }
        },
        "yaxis3": {
         "anchor": "x3",
         "domain": [
          0,
          1
         ],
         "title": {
          "text": "短语密度"
         }
        },
        "yaxis4": {
         "anchor": "x4",
         "domain": [
          0,
          1
         ],
         "title": {
          "text": "句子结构"
         }
        },
        "yaxis5": {
         "anchor": "x5",
         "domain": [
          0,
          1
         ],
         "title": {
          "text": "句法相似"
         }
        }
       }
      }
     },
     "metadata": {},
     "output_type": "display_data"
    }
   ],
   "source": [
    "plot_boxplots_by_grade('微观叙事-句法', tmp_df, 5)"
   ]
  },
  {
   "cell_type": "code",
   "execution_count": 22,
   "id": "96cc300b",
   "metadata": {},
   "outputs": [],
   "source": [
    "## 持久化保存tmp_df\n",
    "tmp_df.to_csv('./tmp/微观叙事-句法_Mean.csv', index=False)"
   ]
  },
  {
   "cell_type": "code",
   "execution_count": 23,
   "id": "950b056a",
   "metadata": {},
   "outputs": [
    {
     "data": {
      "text/html": [
       "<div>\n",
       "<style scoped>\n",
       "    .dataframe tbody tr th:only-of-type {\n",
       "        vertical-align: middle;\n",
       "    }\n",
       "\n",
       "    .dataframe tbody tr th {\n",
       "        vertical-align: top;\n",
       "    }\n",
       "\n",
       "    .dataframe thead th {\n",
       "        text-align: right;\n",
       "    }\n",
       "</style>\n",
       "<table border=\"1\" class=\"dataframe\">\n",
       "  <thead>\n",
       "    <tr style=\"text-align: right;\">\n",
       "      <th></th>\n",
       "      <th>文本编号</th>\n",
       "      <th>年级</th>\n",
       "      <th>局部连贯-LocalCoherence</th>\n",
       "      <th>整体连贯-GlobalCoherence</th>\n",
       "    </tr>\n",
       "  </thead>\n",
       "  <tbody>\n",
       "    <tr>\n",
       "      <th>0</th>\n",
       "      <td>1.txt</td>\n",
       "      <td>1</td>\n",
       "      <td>0.316000</td>\n",
       "      <td>0.221667</td>\n",
       "    </tr>\n",
       "    <tr>\n",
       "      <th>2</th>\n",
       "      <td>100.txt</td>\n",
       "      <td>1</td>\n",
       "      <td>0.215000</td>\n",
       "      <td>-0.087777</td>\n",
       "    </tr>\n",
       "    <tr>\n",
       "      <th>3</th>\n",
       "      <td>11.txt</td>\n",
       "      <td>1</td>\n",
       "      <td>0.262000</td>\n",
       "      <td>0.064683</td>\n",
       "    </tr>\n",
       "    <tr>\n",
       "      <th>4</th>\n",
       "      <td>12.txt</td>\n",
       "      <td>1</td>\n",
       "      <td>0.242667</td>\n",
       "      <td>-0.183780</td>\n",
       "    </tr>\n",
       "    <tr>\n",
       "      <th>5</th>\n",
       "      <td>13.txt</td>\n",
       "      <td>1</td>\n",
       "      <td>0.252000</td>\n",
       "      <td>0.051443</td>\n",
       "    </tr>\n",
       "  </tbody>\n",
       "</table>\n",
       "</div>"
      ],
      "text/plain": [
       "      文本编号  年级  局部连贯-LocalCoherence  整体连贯-GlobalCoherence\n",
       "0    1.txt   1             0.316000              0.221667\n",
       "2  100.txt   1             0.215000             -0.087777\n",
       "3   11.txt   1             0.262000              0.064683\n",
       "4   12.txt   1             0.242667             -0.183780\n",
       "5   13.txt   1             0.252000              0.051443"
      ]
     },
     "execution_count": 23,
     "metadata": {},
     "output_type": "execute_result"
    }
   ],
   "source": [
    "#'宏观叙事-语篇连贯性', '宏观叙事-情境模型', '宏观叙事-段落长度']\n",
    "tmp_df = cleaned_data['宏观叙事-语篇连贯性'].copy()\n",
    "tmp_df.head()\n",
    "\n",
    "tmp_df = create_complexity_composite_mean(tmp_df,\n",
    "                                          ['局部连贯-CRFAO1（29）', '局部连贯-CRFSO1（30）',\n",
    "                                           '局部连贯-LSASS1(40)'],\n",
    "                                          target_col_name='局部连贯-LocalCoherence')\n",
    "\n",
    "from untils import create_complexity_pca\n",
    "\n",
    "tmp_df = create_complexity_pca(tmp_df,\n",
    "                               ['整体连贯-CRFAOa（32）','整体连贯-CRFSOa（33）','整体连贯-LSASSp（42）',\n",
    "                                '整体连贯-LSAPP1（44）','整体连贯-LSAGN（46）'],\n",
    "                               target_col_name='整体连贯-GlobalCoherence')\n",
    "\n",
    "tmp_df.head()"
   ]
  },
  {
   "cell_type": "code",
   "execution_count": 24,
   "id": "3cb1e2e9",
   "metadata": {},
   "outputs": [
    {
     "data": {
      "application/vnd.plotly.v1+json": {
       "config": {
        "plotlyServerURL": "https://plot.ly"
       },
       "data": [
        {
         "boxmean": "sd",
         "name": "1年级",
         "showlegend": true,
         "type": "box",
         "xaxis": "x",
         "y": [
          0.31600000466666667,
          0.21499999866666666,
          0.26200000966666664,
          0.24266667433333333,
          0.2520000016666667,
          0.23666666433333336,
          0.32699999733333335,
          0.289333336,
          0.269333333,
          0.14933333766666668,
          0.2859999936666667,
          0.24933332966666666,
          0.22166667399999998,
          0.31900001066666667,
          0.23333333200000003,
          0.37733332333333336,
          0.226666675,
          0.19899999600000004,
          0.25766666266666666,
          0.3523333256666667,
          0.232000003,
          0.40633332233333336,
          0.15433333066666668,
          0.3489999973333333,
          0.221333335,
          0.31933332966666667,
          0.2836666656666667,
          0.20266666766666666,
          0.2506666656666667,
          0.322666665,
          0.22866666566666669,
          0.2953333356666667,
          0.31199999633333336,
          0.220333334,
          0.22366667033333335,
          0.196333329,
          0.13533333433333333,
          0.1980000053333333,
          0.26499999566666665,
          0.255999996,
          0.3116666676666667,
          0.29466665799999997,
          0.26533334199999997,
          0.248666664,
          0.3873333256666667,
          0.38066666833333335,
          0.306666677,
          0.23800000033333332,
          0.15799999733333334,
          0.23966667033333333,
          0.26733333600000003,
          0.25900000333333334,
          0.254666671,
          0.32200000433333337,
          0.299333339,
          0.237666674,
          0.272000007,
          0.3800000003333333,
          0.289999992,
          0.29233333233333336,
          0.241333337,
          0.4086666753333333,
          0.11133333533333334,
          0.19933333266666667,
          0.3630000056666666,
          0.41766666599999996,
          0.24399999533333336,
          0.29466666766666666,
          0.34266667300000003,
          0.22033333533333332,
          0.299333334,
          0.353666673,
          0.224999999,
          0.29900000499999996,
          0.25699999933333334,
          0.24900000033333333,
          0.3390000016666667,
          0.25799999366666665,
          0.295000002,
          0.27533333266666665,
          0.20766666266666667,
          0.16866667100000002,
          0.236666677,
          0.34033333266666665,
          0.44999999766666665,
          0.219333342,
          0.3096666636666667,
          0.18166667
         ],
         "yaxis": "y"
        },
        {
         "boxmean": "sd",
         "name": "2年级",
         "showlegend": true,
         "type": "box",
         "xaxis": "x",
         "y": [
          0.27366667466666666,
          0.30733333766666665,
          0.283000005,
          0.31766665966666663,
          0.24099999900000002,
          0.22400000433333334,
          0.15500000133333333,
          0.3373333313333333,
          0.19233333566666666,
          0.349999999,
          0.300999999,
          0.3380000046666667,
          0.20266667033333333,
          0.2426666593333333,
          0.36399999766666663,
          0.19100000466666667,
          0.3579999956666666,
          0.3509999959999999,
          0.199000001,
          0.28833333666666666,
          0.288,
          0.316666663,
          0.16899999733333335,
          0.4373333353333333,
          0.3946666693333334,
          0.35233333966666663,
          0.2556666583333333,
          0.3303333296666667,
          0.1713333326666667,
          0.2130000046666667,
          0.10733333466666667,
          0.22333332866666666,
          0.18199999666666666,
          0.09700000033333334,
          0.3543333313333334,
          0.157666666,
          0.4366666676666666,
          0.10499999933333333,
          0.161666669,
          0.251666665,
          0.20533333466666667,
          0.247333328,
          0.29266666866666663,
          0.3376666656666667,
          0.23633332566666665,
          0.28133333233333335,
          0.335333335,
          0.283999992,
          0.31099999933333333,
          0.196000005,
          0.3589999973333333,
          0.403000002,
          0.32533333233333334,
          0.22700000299999998,
          0.15766666833333334,
          0.39266666766666664,
          0.24133332833333332,
          0.46299999966666666,
          0.289666665,
          0.41733332466666667,
          0.4370000063333333,
          0.12699999766666667,
          0.283000007,
          0.18633332866666666,
          0.178999995,
          0.41399999933333337,
          0.26766666533333333,
          0.3833333353333333,
          0.3493333263333333,
          0.297333335,
          0.27700000733333335,
          0.16266666866666665,
          0.272666658,
          0.23333333166666667,
          0.2966666643333334,
          0.22800000033333334,
          0.20766666533333333,
          0.2679999966666667,
          0.22000000133333333,
          0.16866666833333332,
          0.378666669,
          0.14533333366666668,
          0.273666665,
          0.31733333566666666,
          0.29133333033333336,
          0.256333331,
          0.38066666833333335,
          0.2949999993333333,
          0.3239999986666667
         ],
         "yaxis": "y"
        },
        {
         "boxmean": "sd",
         "name": "3年级",
         "showlegend": true,
         "type": "box",
         "xaxis": "x",
         "y": [
          0.363666666,
          0.15766666699999998,
          0.20500000066666668,
          0.336666666,
          0.399666667,
          0.19933333,
          0.2383333346666667,
          0.40866666766666665,
          0.27333333833333334,
          0.352999995,
          0.228333334,
          0.252666667,
          0.3326666706666667,
          0.38599999466666673,
          0.276333337,
          0.16833333533333336,
          0.4329999983333333,
          0.30866666633333334,
          0.22533332966666667,
          0.18466666933333334,
          0.2920000056666667,
          0.232000003,
          0.23333332900000003,
          0.3076666646666667,
          0.38966667166666663,
          0.21233333366666665,
          0.35399999733333337,
          0.2723333273333333,
          0.3976666633333334,
          0.31633333133333336,
          0.3629999906666667,
          0.35733333233333325,
          0.277,
          0.331666666,
          0.3386666676666667,
          0.22266667066666668,
          0.227000003,
          0.271666671,
          0.28633334233333335,
          0.25200000933333333,
          0.163999997,
          0.24899999566666667,
          0.29999999466666666,
          0.4153333356666667,
          0.29766666633333333,
          0.153666669,
          0.22866666566666669,
          0.36533333366666665,
          0.25566666833333335,
          0.313666669,
          0.208333336,
          0.23766667033333336,
          0.142000003,
          0.31999999533333334,
          0.26833333600000003,
          0.350666667,
          0.23166665933333333,
          0.35166666399999996,
          0.227333331,
          0.3153333316666667,
          0.27366666,
          0.28366665799999996,
          0.30433333933333334,
          0.25200000166666664,
          0.45233333633333334,
          0.2946666703333333,
          0.22833334166666666,
          0.32466665899999997,
          0.23333333433333334,
          0.3703333386666667,
          0.148333331,
          0.25933333733333336,
          0.22299999966666664,
          0.22900000233333337,
          0.3303333296666667,
          0.20400000366666668,
          0.20533333733333334,
          0.266000003,
          0.34600000066666664,
          0.42966667333333336,
          0.11733333266666666,
          0.3803333393333334
         ],
         "yaxis": "y"
        },
        {
         "boxmean": "sd",
         "name": "1年级",
         "showlegend": false,
         "type": "box",
         "xaxis": "x2",
         "y": [
          0.2216665689413687,
          -0.08777703709823248,
          0.06468295994786288,
          -0.18378028082150438,
          0.051442536946367357,
          -0.0025789030483394093,
          0.09530737631794195,
          -0.04609696933387819,
          -0.11890474872734547,
          -0.2590311582579402,
          -0.06441082381134133,
          -0.010777259203198053,
          -0.21619517908107416,
          -0.055763127592456385,
          0.027075618013772007,
          0.11751221412196211,
          0.004972657307539374,
          -0.045462959869941755,
          -0.16383163114369154,
          0.2149116277349673,
          -0.0369375460517688,
          -0.12991703053814252,
          -0.3259921010865944,
          0.11186934283704175,
          -0.08635022508510592,
          -0.04487677280471869,
          -0.07117387095869865,
          -0.05599795292076337,
          -0.09466337929596724,
          0.06359120710887822,
          0.09148200200367906,
          0.15458273348758644,
          0.14413156696402152,
          -0.15860147810126346,
          -0.10490987953435083,
          -0.08162789434387119,
          -0.19735925398174864,
          -0.13024050683234656,
          0.14614217249291528,
          0.053458934860132645,
          -0.02760786373201929,
          0.007982085204402467,
          0.1725205939249298,
          -0.06156806459555986,
          0.28079299674968006,
          0.1741150149747024,
          -0.17237331345529933,
          0.1304133451076256,
          0.02586274176833292,
          -0.17312324976340476,
          -0.10692745311916785,
          0.06219780184759083,
          0.07064524023990648,
          0.2269094074947665,
          -0.014545601479297288,
          -0.1303623924655828,
          -0.12628100158509592,
          0.16242441429638277,
          -0.015929177989610355,
          0.010772233141086662,
          -0.08543784160716317,
          0.14565184900991124,
          -0.3422418228068733,
          -0.231732108367242,
          0.1535413109644247,
          0.23331140777049453,
          -0.04765465991307405,
          0.001741097400383751,
          0.07689749552703018,
          -0.05718890649329522,
          -0.1553092497806423,
          0.04793203213335462,
          -0.15413075782799723,
          0.04842947880517334,
          0.01547298408929998,
          -0.053411854546481896,
          0.327207699513697,
          0.08768158920273017,
          0.0142456470806831,
          -0.1963218786103197,
          -0.07490570097473415,
          -0.14431806382190204,
          0.04263836204067173,
          0.22707461099168058,
          0.19252836041687071,
          -0.14309862040119148,
          0.047813170441904806,
          -0.03413969321085175
         ],
         "yaxis": "y2"
        },
        {
         "boxmean": "sd",
         "name": "2年级",
         "showlegend": false,
         "type": "box",
         "xaxis": "x2",
         "y": [
          -0.23453107068071227,
          0.001819448423568737,
          0.017813538537649998,
          0.046167776020343054,
          -0.1713210018530394,
          -0.062171596109684035,
          -0.12329093550435255,
          -0.05368059571403738,
          -0.15820000714123222,
          0.1891814498746982,
          0.10709902242977054,
          -0.06063674430111854,
          -0.13922090881965687,
          0.07570000907319963,
          0.11829460743575937,
          -0.1410573052440065,
          -0.07046258263971139,
          0.0750516867708253,
          -0.20937855022433316,
          0.07296640461231163,
          -0.24766417897066512,
          0.14823952393140938,
          -0.10568955187989393,
          0.2964390029081476,
          0.3069806773329382,
          -0.024661847911123802,
          -0.0011057658802046122,
          0.16083230805740034,
          -0.08023786993020077,
          -0.11815393060162305,
          -0.20106947756012078,
          -0.17749750786777047,
          -0.20317073846758915,
          -0.2657753457924548,
          0.02848046444532193,
          -0.18298585543118584,
          0.2899166576947344,
          -0.3267998798217412,
          -0.2556435377770923,
          -0.09107872956388452,
          -0.33051268509356696,
          -0.06069634025761117,
          0.062029256839422175,
          0.01790178911605078,
          -0.05640716393062617,
          -0.08578299563201663,
          -0.18866862878663387,
          -0.04252290033849726,
          -0.01786441766981972,
          -0.32916826292795537,
          -0.1301948468813472,
          -0.08865207881904436,
          0.050742489982437244,
          -0.09865837813431655,
          -0.21046310056511214,
          0.1506055685144827,
          -0.021989077825616987,
          0.44521228448048966,
          0.011359304833641004,
          0.3378916038016003,
          0.18268196085801658,
          -0.2762715628571131,
          -0.14528577831782885,
          -0.0694122322555375,
          -0.38692258706245714,
          0.2639356896000975,
          0.18331246461405837,
          -0.019542285028952056,
          0.05854058005417462,
          0.10180607681547849,
          0.11810889375502576,
          -0.1396282656918899,
          0.007337418571341181,
          -0.14760462619196257,
          0.04615650780274638,
          0.11284201424281926,
          0.15847798219113995,
          0.00342279146151947,
          -0.2379349061691699,
          -0.2398440199811941,
          0.23907856374588388,
          -0.21946364896448373,
          0.13649745346416275,
          -0.10298219340292647,
          0.21248722850389545,
          -0.06682405287393112,
          0.057026379951349626,
          -0.016016032991882034,
          0.166822455287841
         ],
         "yaxis": "y2"
        },
        {
         "boxmean": "sd",
         "name": "3年级",
         "showlegend": false,
         "type": "box",
         "xaxis": "x2",
         "y": [
          0.3718156240507232,
          -0.1769473766132732,
          -0.15775571886283957,
          0.10233549564074429,
          0.2206668471163139,
          -0.06427678734145537,
          0.059982237586136966,
          0.3463510195904128,
          0.18289841099736048,
          0.27310926984035344,
          0.12009160876912206,
          -0.12501729374660664,
          0.12827912135679143,
          0.32453624899759825,
          0.1382519941360273,
          0.045129605465698885,
          0.30231990004887577,
          0.21919208697596249,
          -0.11589850792928669,
          -0.11002574834044498,
          0.049439744910605876,
          -0.1644524152546103,
          -0.09749391840060928,
          -0.11613425605340655,
          0.14667460257134324,
          -0.0219684455507414,
          -0.023462562522339137,
          -0.09688672451985958,
          0.3411527568006171,
          0.18230432903847138,
          0.07993501544572745,
          0.22355208950099859,
          0.08875131112944934,
          0.05763401078342789,
          0.2560654566239695,
          -0.19018402887746372,
          -0.16680118606637534,
          0.10265260116208197,
          -0.030035990342698993,
          0.031018819596128178,
          -0.03951082399716899,
          -0.02402183514205536,
          -0.08794938033995858,
          0.045273361078394414,
          0.16404701815361822,
          -0.09456664066144116,
          -0.18563677005900997,
          0.036878610536723144,
          0.10513509730297799,
          0.15019510578279993,
          -0.08068085584798335,
          -0.17599521470699192,
          -0.23325025240701336,
          0.0978518921638386,
          0.11201549734728511,
          0.25611360274213,
          0.013300241585371908,
          0.13725542168955795,
          -0.07581461123452293,
          0.17452800072357944,
          -0.08721429440468831,
          0.13326408149256996,
          -0.024192627445418058,
          0.10128646900667881,
          0.12058582428889231,
          -0.13779216668593997,
          0.07442977615100532,
          0.08481301241628081,
          -0.20435240281315237,
          0.29537741853259203,
          -0.24369458714159392,
          -0.22599610571293327,
          -0.01675043080663685,
          -0.022542037126782155,
          -0.04682417465443878,
          -0.0907657456272064,
          -0.12898201549261912,
          0.14408435459945546,
          0.1774293561122008,
          0.19236983510480943,
          -0.2351255655467545,
          0.2563993184811223
         ],
         "yaxis": "y2"
        }
       ],
       "layout": {
        "height": 400,
        "showlegend": true,
        "template": {
         "data": {
          "bar": [
           {
            "error_x": {
             "color": "#2a3f5f"
            },
            "error_y": {
             "color": "#2a3f5f"
            },
            "marker": {
             "line": {
              "color": "#E5ECF6",
              "width": 0.5
             },
             "pattern": {
              "fillmode": "overlay",
              "size": 10,
              "solidity": 0.2
             }
            },
            "type": "bar"
           }
          ],
          "barpolar": [
           {
            "marker": {
             "line": {
              "color": "#E5ECF6",
              "width": 0.5
             },
             "pattern": {
              "fillmode": "overlay",
              "size": 10,
              "solidity": 0.2
             }
            },
            "type": "barpolar"
           }
          ],
          "carpet": [
           {
            "aaxis": {
             "endlinecolor": "#2a3f5f",
             "gridcolor": "white",
             "linecolor": "white",
             "minorgridcolor": "white",
             "startlinecolor": "#2a3f5f"
            },
            "baxis": {
             "endlinecolor": "#2a3f5f",
             "gridcolor": "white",
             "linecolor": "white",
             "minorgridcolor": "white",
             "startlinecolor": "#2a3f5f"
            },
            "type": "carpet"
           }
          ],
          "choropleth": [
           {
            "colorbar": {
             "outlinewidth": 0,
             "ticks": ""
            },
            "type": "choropleth"
           }
          ],
          "contour": [
           {
            "colorbar": {
             "outlinewidth": 0,
             "ticks": ""
            },
            "colorscale": [
             [
              0,
              "#0d0887"
             ],
             [
              0.1111111111111111,
              "#46039f"
             ],
             [
              0.2222222222222222,
              "#7201a8"
             ],
             [
              0.3333333333333333,
              "#9c179e"
             ],
             [
              0.4444444444444444,
              "#bd3786"
             ],
             [
              0.5555555555555556,
              "#d8576b"
             ],
             [
              0.6666666666666666,
              "#ed7953"
             ],
             [
              0.7777777777777778,
              "#fb9f3a"
             ],
             [
              0.8888888888888888,
              "#fdca26"
             ],
             [
              1,
              "#f0f921"
             ]
            ],
            "type": "contour"
           }
          ],
          "contourcarpet": [
           {
            "colorbar": {
             "outlinewidth": 0,
             "ticks": ""
            },
            "type": "contourcarpet"
           }
          ],
          "heatmap": [
           {
            "colorbar": {
             "outlinewidth": 0,
             "ticks": ""
            },
            "colorscale": [
             [
              0,
              "#0d0887"
             ],
             [
              0.1111111111111111,
              "#46039f"
             ],
             [
              0.2222222222222222,
              "#7201a8"
             ],
             [
              0.3333333333333333,
              "#9c179e"
             ],
             [
              0.4444444444444444,
              "#bd3786"
             ],
             [
              0.5555555555555556,
              "#d8576b"
             ],
             [
              0.6666666666666666,
              "#ed7953"
             ],
             [
              0.7777777777777778,
              "#fb9f3a"
             ],
             [
              0.8888888888888888,
              "#fdca26"
             ],
             [
              1,
              "#f0f921"
             ]
            ],
            "type": "heatmap"
           }
          ],
          "heatmapgl": [
           {
            "colorbar": {
             "outlinewidth": 0,
             "ticks": ""
            },
            "colorscale": [
             [
              0,
              "#0d0887"
             ],
             [
              0.1111111111111111,
              "#46039f"
             ],
             [
              0.2222222222222222,
              "#7201a8"
             ],
             [
              0.3333333333333333,
              "#9c179e"
             ],
             [
              0.4444444444444444,
              "#bd3786"
             ],
             [
              0.5555555555555556,
              "#d8576b"
             ],
             [
              0.6666666666666666,
              "#ed7953"
             ],
             [
              0.7777777777777778,
              "#fb9f3a"
             ],
             [
              0.8888888888888888,
              "#fdca26"
             ],
             [
              1,
              "#f0f921"
             ]
            ],
            "type": "heatmapgl"
           }
          ],
          "histogram": [
           {
            "marker": {
             "pattern": {
              "fillmode": "overlay",
              "size": 10,
              "solidity": 0.2
             }
            },
            "type": "histogram"
           }
          ],
          "histogram2d": [
           {
            "colorbar": {
             "outlinewidth": 0,
             "ticks": ""
            },
            "colorscale": [
             [
              0,
              "#0d0887"
             ],
             [
              0.1111111111111111,
              "#46039f"
             ],
             [
              0.2222222222222222,
              "#7201a8"
             ],
             [
              0.3333333333333333,
              "#9c179e"
             ],
             [
              0.4444444444444444,
              "#bd3786"
             ],
             [
              0.5555555555555556,
              "#d8576b"
             ],
             [
              0.6666666666666666,
              "#ed7953"
             ],
             [
              0.7777777777777778,
              "#fb9f3a"
             ],
             [
              0.8888888888888888,
              "#fdca26"
             ],
             [
              1,
              "#f0f921"
             ]
            ],
            "type": "histogram2d"
           }
          ],
          "histogram2dcontour": [
           {
            "colorbar": {
             "outlinewidth": 0,
             "ticks": ""
            },
            "colorscale": [
             [
              0,
              "#0d0887"
             ],
             [
              0.1111111111111111,
              "#46039f"
             ],
             [
              0.2222222222222222,
              "#7201a8"
             ],
             [
              0.3333333333333333,
              "#9c179e"
             ],
             [
              0.4444444444444444,
              "#bd3786"
             ],
             [
              0.5555555555555556,
              "#d8576b"
             ],
             [
              0.6666666666666666,
              "#ed7953"
             ],
             [
              0.7777777777777778,
              "#fb9f3a"
             ],
             [
              0.8888888888888888,
              "#fdca26"
             ],
             [
              1,
              "#f0f921"
             ]
            ],
            "type": "histogram2dcontour"
           }
          ],
          "mesh3d": [
           {
            "colorbar": {
             "outlinewidth": 0,
             "ticks": ""
            },
            "type": "mesh3d"
           }
          ],
          "parcoords": [
           {
            "line": {
             "colorbar": {
              "outlinewidth": 0,
              "ticks": ""
             }
            },
            "type": "parcoords"
           }
          ],
          "pie": [
           {
            "automargin": true,
            "type": "pie"
           }
          ],
          "scatter": [
           {
            "fillpattern": {
             "fillmode": "overlay",
             "size": 10,
             "solidity": 0.2
            },
            "type": "scatter"
           }
          ],
          "scatter3d": [
           {
            "line": {
             "colorbar": {
              "outlinewidth": 0,
              "ticks": ""
             }
            },
            "marker": {
             "colorbar": {
              "outlinewidth": 0,
              "ticks": ""
             }
            },
            "type": "scatter3d"
           }
          ],
          "scattercarpet": [
           {
            "marker": {
             "colorbar": {
              "outlinewidth": 0,
              "ticks": ""
             }
            },
            "type": "scattercarpet"
           }
          ],
          "scattergeo": [
           {
            "marker": {
             "colorbar": {
              "outlinewidth": 0,
              "ticks": ""
             }
            },
            "type": "scattergeo"
           }
          ],
          "scattergl": [
           {
            "marker": {
             "colorbar": {
              "outlinewidth": 0,
              "ticks": ""
             }
            },
            "type": "scattergl"
           }
          ],
          "scattermapbox": [
           {
            "marker": {
             "colorbar": {
              "outlinewidth": 0,
              "ticks": ""
             }
            },
            "type": "scattermapbox"
           }
          ],
          "scatterpolar": [
           {
            "marker": {
             "colorbar": {
              "outlinewidth": 0,
              "ticks": ""
             }
            },
            "type": "scatterpolar"
           }
          ],
          "scatterpolargl": [
           {
            "marker": {
             "colorbar": {
              "outlinewidth": 0,
              "ticks": ""
             }
            },
            "type": "scatterpolargl"
           }
          ],
          "scatterternary": [
           {
            "marker": {
             "colorbar": {
              "outlinewidth": 0,
              "ticks": ""
             }
            },
            "type": "scatterternary"
           }
          ],
          "surface": [
           {
            "colorbar": {
             "outlinewidth": 0,
             "ticks": ""
            },
            "colorscale": [
             [
              0,
              "#0d0887"
             ],
             [
              0.1111111111111111,
              "#46039f"
             ],
             [
              0.2222222222222222,
              "#7201a8"
             ],
             [
              0.3333333333333333,
              "#9c179e"
             ],
             [
              0.4444444444444444,
              "#bd3786"
             ],
             [
              0.5555555555555556,
              "#d8576b"
             ],
             [
              0.6666666666666666,
              "#ed7953"
             ],
             [
              0.7777777777777778,
              "#fb9f3a"
             ],
             [
              0.8888888888888888,
              "#fdca26"
             ],
             [
              1,
              "#f0f921"
             ]
            ],
            "type": "surface"
           }
          ],
          "table": [
           {
            "cells": {
             "fill": {
              "color": "#EBF0F8"
             },
             "line": {
              "color": "white"
             }
            },
            "header": {
             "fill": {
              "color": "#C8D4E3"
             },
             "line": {
              "color": "white"
             }
            },
            "type": "table"
           }
          ]
         },
         "layout": {
          "annotationdefaults": {
           "arrowcolor": "#2a3f5f",
           "arrowhead": 0,
           "arrowwidth": 1
          },
          "autotypenumbers": "strict",
          "coloraxis": {
           "colorbar": {
            "outlinewidth": 0,
            "ticks": ""
           }
          },
          "colorscale": {
           "diverging": [
            [
             0,
             "#8e0152"
            ],
            [
             0.1,
             "#c51b7d"
            ],
            [
             0.2,
             "#de77ae"
            ],
            [
             0.3,
             "#f1b6da"
            ],
            [
             0.4,
             "#fde0ef"
            ],
            [
             0.5,
             "#f7f7f7"
            ],
            [
             0.6,
             "#e6f5d0"
            ],
            [
             0.7,
             "#b8e186"
            ],
            [
             0.8,
             "#7fbc41"
            ],
            [
             0.9,
             "#4d9221"
            ],
            [
             1,
             "#276419"
            ]
           ],
           "sequential": [
            [
             0,
             "#0d0887"
            ],
            [
             0.1111111111111111,
             "#46039f"
            ],
            [
             0.2222222222222222,
             "#7201a8"
            ],
            [
             0.3333333333333333,
             "#9c179e"
            ],
            [
             0.4444444444444444,
             "#bd3786"
            ],
            [
             0.5555555555555556,
             "#d8576b"
            ],
            [
             0.6666666666666666,
             "#ed7953"
            ],
            [
             0.7777777777777778,
             "#fb9f3a"
            ],
            [
             0.8888888888888888,
             "#fdca26"
            ],
            [
             1,
             "#f0f921"
            ]
           ],
           "sequentialminus": [
            [
             0,
             "#0d0887"
            ],
            [
             0.1111111111111111,
             "#46039f"
            ],
            [
             0.2222222222222222,
             "#7201a8"
            ],
            [
             0.3333333333333333,
             "#9c179e"
            ],
            [
             0.4444444444444444,
             "#bd3786"
            ],
            [
             0.5555555555555556,
             "#d8576b"
            ],
            [
             0.6666666666666666,
             "#ed7953"
            ],
            [
             0.7777777777777778,
             "#fb9f3a"
            ],
            [
             0.8888888888888888,
             "#fdca26"
            ],
            [
             1,
             "#f0f921"
            ]
           ]
          },
          "colorway": [
           "#636efa",
           "#EF553B",
           "#00cc96",
           "#ab63fa",
           "#FFA15A",
           "#19d3f3",
           "#FF6692",
           "#B6E880",
           "#FF97FF",
           "#FECB52"
          ],
          "font": {
           "color": "#2a3f5f"
          },
          "geo": {
           "bgcolor": "white",
           "lakecolor": "white",
           "landcolor": "#E5ECF6",
           "showlakes": true,
           "showland": true,
           "subunitcolor": "white"
          },
          "hoverlabel": {
           "align": "left"
          },
          "hovermode": "closest",
          "mapbox": {
           "style": "light"
          },
          "paper_bgcolor": "white",
          "plot_bgcolor": "#E5ECF6",
          "polar": {
           "angularaxis": {
            "gridcolor": "white",
            "linecolor": "white",
            "ticks": ""
           },
           "bgcolor": "#E5ECF6",
           "radialaxis": {
            "gridcolor": "white",
            "linecolor": "white",
            "ticks": ""
           }
          },
          "scene": {
           "xaxis": {
            "backgroundcolor": "#E5ECF6",
            "gridcolor": "white",
            "gridwidth": 2,
            "linecolor": "white",
            "showbackground": true,
            "ticks": "",
            "zerolinecolor": "white"
           },
           "yaxis": {
            "backgroundcolor": "#E5ECF6",
            "gridcolor": "white",
            "gridwidth": 2,
            "linecolor": "white",
            "showbackground": true,
            "ticks": "",
            "zerolinecolor": "white"
           },
           "zaxis": {
            "backgroundcolor": "#E5ECF6",
            "gridcolor": "white",
            "gridwidth": 2,
            "linecolor": "white",
            "showbackground": true,
            "ticks": "",
            "zerolinecolor": "white"
           }
          },
          "shapedefaults": {
           "line": {
            "color": "#2a3f5f"
           }
          },
          "ternary": {
           "aaxis": {
            "gridcolor": "white",
            "linecolor": "white",
            "ticks": ""
           },
           "baxis": {
            "gridcolor": "white",
            "linecolor": "white",
            "ticks": ""
           },
           "bgcolor": "#E5ECF6",
           "caxis": {
            "gridcolor": "white",
            "linecolor": "white",
            "ticks": ""
           }
          },
          "title": {
           "x": 0.05
          },
          "xaxis": {
           "automargin": true,
           "gridcolor": "white",
           "linecolor": "white",
           "ticks": "",
           "title": {
            "standoff": 15
           },
           "zerolinecolor": "white",
           "zerolinewidth": 2
          },
          "yaxis": {
           "automargin": true,
           "gridcolor": "white",
           "linecolor": "white",
           "ticks": "",
           "title": {
            "standoff": 15
           },
           "zerolinecolor": "white",
           "zerolinewidth": 2
          }
         }
        },
        "width": 700,
        "xaxis": {
         "anchor": "y",
         "domain": [
          0,
          0.45
         ],
         "title": {
          "text": "年级"
         }
        },
        "xaxis2": {
         "anchor": "y2",
         "domain": [
          0.55,
          1
         ],
         "title": {
          "text": "年级"
         }
        },
        "yaxis": {
         "anchor": "x",
         "domain": [
          0,
          1
         ],
         "title": {
          "text": "局部连贯"
         }
        },
        "yaxis2": {
         "anchor": "x2",
         "domain": [
          0,
          1
         ],
         "title": {
          "text": "整体连贯"
         }
        }
       }
      }
     },
     "metadata": {},
     "output_type": "display_data"
    }
   ],
   "source": [
    "from untils import plot_boxplots_by_grade2\n",
    "\n",
    "plot_boxplots_by_grade2('宏观叙事-语篇连贯性', tmp_df, 2)"
   ]
  },
  {
   "cell_type": "code",
   "execution_count": 25,
   "id": "382162ab",
   "metadata": {},
   "outputs": [],
   "source": [
    "#持久化保存tmp_df\n",
    "tmp_df.to_csv('./tmp/宏观叙事-语篇连贯性.csv', index=False)"
   ]
  },
  {
   "cell_type": "code",
   "execution_count": 26,
   "id": "eb4a3653",
   "metadata": {},
   "outputs": [
    {
     "data": {
      "text/html": [
       "<div>\n",
       "<style scoped>\n",
       "    .dataframe tbody tr th:only-of-type {\n",
       "        vertical-align: middle;\n",
       "    }\n",
       "\n",
       "    .dataframe tbody tr th {\n",
       "        vertical-align: top;\n",
       "    }\n",
       "\n",
       "    .dataframe thead th {\n",
       "        text-align: right;\n",
       "    }\n",
       "</style>\n",
       "<table border=\"1\" class=\"dataframe\">\n",
       "  <thead>\n",
       "    <tr style=\"text-align: right;\">\n",
       "      <th></th>\n",
       "      <th>文本编号</th>\n",
       "      <th>因果衔接-SMCAUSr-64</th>\n",
       "      <th>意图衔接-SMINTEr-65</th>\n",
       "      <th>时体衔接-SMTEMP-68</th>\n",
       "      <th>年级</th>\n",
       "    </tr>\n",
       "  </thead>\n",
       "  <tbody>\n",
       "    <tr>\n",
       "      <th>0</th>\n",
       "      <td>1.txt</td>\n",
       "      <td>0.200</td>\n",
       "      <td>0.300</td>\n",
       "      <td>0.923</td>\n",
       "      <td>1</td>\n",
       "    </tr>\n",
       "    <tr>\n",
       "      <th>1</th>\n",
       "      <td>10.txt</td>\n",
       "      <td>0.333</td>\n",
       "      <td>0.222</td>\n",
       "      <td>0.750</td>\n",
       "      <td>1</td>\n",
       "    </tr>\n",
       "    <tr>\n",
       "      <th>2</th>\n",
       "      <td>100.txt</td>\n",
       "      <td>0.100</td>\n",
       "      <td>0.167</td>\n",
       "      <td>0.875</td>\n",
       "      <td>1</td>\n",
       "    </tr>\n",
       "    <tr>\n",
       "      <th>3</th>\n",
       "      <td>11.txt</td>\n",
       "      <td>0.250</td>\n",
       "      <td>0.364</td>\n",
       "      <td>0.933</td>\n",
       "      <td>1</td>\n",
       "    </tr>\n",
       "    <tr>\n",
       "      <th>4</th>\n",
       "      <td>12.txt</td>\n",
       "      <td>0.300</td>\n",
       "      <td>0.182</td>\n",
       "      <td>0.947</td>\n",
       "      <td>1</td>\n",
       "    </tr>\n",
       "  </tbody>\n",
       "</table>\n",
       "</div>"
      ],
      "text/plain": [
       "      文本编号  因果衔接-SMCAUSr-64  意图衔接-SMINTEr-65  时体衔接-SMTEMP-68  年级\n",
       "0    1.txt            0.200            0.300           0.923   1\n",
       "1   10.txt            0.333            0.222           0.750   1\n",
       "2  100.txt            0.100            0.167           0.875   1\n",
       "3   11.txt            0.250            0.364           0.933   1\n",
       "4   12.txt            0.300            0.182           0.947   1"
      ]
     },
     "execution_count": 26,
     "metadata": {},
     "output_type": "execute_result"
    }
   ],
   "source": [
    "tmp_df = cleaned_data['宏观叙事-情境模型'].copy()\n",
    "tmp_df.head()"
   ]
  },
  {
   "cell_type": "code",
   "execution_count": 27,
   "id": "bd9941bc",
   "metadata": {},
   "outputs": [
    {
     "data": {
      "application/vnd.plotly.v1+json": {
       "config": {
        "plotlyServerURL": "https://plot.ly"
       },
       "data": [
        {
         "boxmean": "sd",
         "name": "1年级",
         "showlegend": true,
         "type": "box",
         "xaxis": "x",
         "y": [
          0.200000003,
          0.333000004,
          0.100000001,
          0.25,
          0.300000012,
          0.200000003,
          0.166999996,
          0.713999987,
          0.100000001,
          0.400000006,
          0.5,
          0.181999996,
          0.125,
          0.5,
          0.125,
          0.5,
          0.625,
          0.181999996,
          0.143000007,
          0.42899999,
          0.666999996,
          0.57099998,
          0.25,
          0.666999996,
          0.400000006,
          0.125,
          0.333000004,
          0.300000012,
          0.286000013,
          0.286000013,
          0.111000001,
          0.222000003,
          0.444000006,
          0.333000004,
          0.400000006,
          0.333000004,
          0.57099998,
          0.333000004,
          0.125,
          0.42899999,
          0.200000003,
          0.082999997,
          0.300000012,
          0.5,
          0.5,
          0.600000024,
          0.100000001,
          0.57099998,
          0.42899999,
          0.286000013,
          0.166999996,
          0.222000003,
          0,
          0.166999996,
          0.143000007,
          0.375,
          0.200000003,
          0,
          0.666999996,
          0.666999996,
          0.25,
          0.333000004,
          0.444000006,
          0,
          0.082999997,
          0.57099998,
          0.625,
          0.166999996,
          0.713999987,
          0.363999993,
          0.625,
          0.333000004,
          0.082999997,
          0.25,
          0,
          0.077,
          0,
          0,
          0.800000012,
          0.125,
          0.090999998,
          0.25,
          0.625,
          0.294,
          0.231000006,
          0.200000003,
          0.444000006,
          0.143000007,
          0.111000001,
          0.125,
          0.5,
          0.57099998,
          0.600000024,
          0.57099998,
          0.125,
          0.222000003,
          0.181999996,
          0
         ],
         "yaxis": "y"
        },
        {
         "boxmean": "sd",
         "name": "2年级",
         "showlegend": true,
         "type": "box",
         "xaxis": "x",
         "y": [
          0.713999987,
          0,
          0,
          0,
          0.125,
          0.125,
          0.286000013,
          0.222000003,
          0.333000004,
          0.286000013,
          0,
          0.400000006,
          0.222000003,
          0.100000001,
          0.200000003,
          0.082999997,
          0.111000001,
          0.111000001,
          0.25,
          0.600000024,
          0,
          0.333000004,
          0.090999998,
          0.166999996,
          0.5,
          0,
          0.286000013,
          0.25,
          0.111000001,
          0.200000003,
          0.666999996,
          0.181999996,
          0.200000003,
          0.25,
          0,
          0.214000002,
          0.800000012,
          0.111000001,
          0.222000003,
          0.5,
          0.800000012,
          0.090999998,
          0.333000004,
          0.300000012,
          0.25,
          0.25,
          0.273000002,
          0.400000006,
          0.090999998,
          0.111000001,
          0.25,
          0,
          0.200000003,
          0.375,
          0.166999996,
          0,
          0,
          0.143000007,
          0.75,
          0.5,
          0.090999998,
          0.125,
          0.100000001,
          0.75,
          0.25,
          0.333000004,
          0.5,
          0,
          0.25,
          0.077,
          0.082999997,
          0,
          0.111000001,
          0.75,
          0,
          0.143000007,
          0.307999998,
          0,
          0.153999999,
          0.42899999,
          0.286000013,
          0.42899999,
          0.143000007,
          0.111000001,
          0.222000003,
          0.25,
          0.100000001,
          0.143000007,
          0.25,
          0.214000002,
          0,
          0,
          0,
          0.5
         ],
         "yaxis": "y"
        },
        {
         "boxmean": "sd",
         "name": "3年级",
         "showlegend": true,
         "type": "box",
         "xaxis": "x",
         "y": [
          0.166999996,
          0.111000001,
          0.375,
          0,
          0.273000002,
          0.125,
          0.200000003,
          0.5,
          0.166999996,
          0,
          0.400000006,
          0.333000004,
          0.375,
          0.5,
          0,
          0.25,
          0,
          0.666999996,
          0.5,
          0.25,
          0.200000003,
          0.125,
          0.286000013,
          0.333000004,
          0.166999996,
          0.222000003,
          0.400000006,
          0.400000006,
          0.25,
          0.143000007,
          0.181999996,
          0.300000012,
          0,
          0.200000003,
          0.166999996,
          0.600000024,
          0.090999998,
          0,
          0.300000012,
          0.143000007,
          0.286000013,
          0.286000013,
          0,
          0.363999993,
          0.400000006,
          0.333000004,
          0.100000001,
          0.125,
          0.5,
          0,
          0.166999996,
          0.166999996,
          0.375,
          0.077,
          0.143000007,
          0.25,
          0.333000004,
          0.42899999,
          0.166999996,
          0,
          0.400000006,
          0,
          0,
          0.090999998,
          0.200000003,
          0.25,
          0.400000006,
          0.222000003,
          0.222000003,
          0.5,
          0.333000004,
          0.143000007,
          0.111000001,
          0.300000012,
          0,
          0.333000004,
          0.181999996,
          0.166999996,
          0.200000003,
          0,
          0.200000003,
          0.400000006,
          0.363999993,
          0.125,
          0.111000001,
          0
         ],
         "yaxis": "y"
        },
        {
         "boxmean": "sd",
         "name": "1年级",
         "showlegend": false,
         "type": "box",
         "xaxis": "x2",
         "y": [
          0.300000012,
          0.222000003,
          0.166999996,
          0.363999993,
          0.181999996,
          0.444000006,
          0.625,
          0.555999994,
          0.375,
          0.111000001,
          0.833000004,
          0.42899999,
          0.25,
          0.363999993,
          0.363999993,
          0.726999998,
          0.5,
          0,
          0,
          0.400000006,
          0.444000006,
          0.5,
          0.555999994,
          0.181999996,
          0.5,
          0.222000003,
          0.375,
          0.625,
          0.375,
          0.416999996,
          0.25,
          0.111000001,
          0.111000001,
          0.166999996,
          0.25,
          0.400000006,
          0.42899999,
          0.57099998,
          0,
          0.400000006,
          0.5,
          0.181999996,
          0.400000006,
          0.222000003,
          0.222000003,
          0.42899999,
          0.25,
          0.363999993,
          0.713999987,
          0.444000006,
          0.100000001,
          0.286000013,
          0.42899999,
          0.42899999,
          0.071000002,
          0.077,
          0.5,
          0.375,
          0.333000004,
          0.5,
          0.111000001,
          0.153999999,
          0.545000017,
          0.100000001,
          0.063000001,
          0.333000004,
          0.333000004,
          0.090999998,
          0.333000004,
          0.583000004,
          0.356999993,
          0,
          0.111000001,
          0.444000006,
          0,
          0.125,
          0.25,
          0.125,
          0.166999996,
          0.286000013,
          0.333000004,
          0.200000003,
          0.5,
          0.416999996,
          0.231000006,
          0.200000003,
          0.444000006,
          0.273000002,
          0.25,
          0.100000001,
          0.5,
          0.25,
          0.222000003,
          0.444000006,
          0.125,
          0.25,
          0.5,
          0.300000012
         ],
         "yaxis": "y2"
        },
        {
         "boxmean": "sd",
         "name": "2年级",
         "showlegend": false,
         "type": "box",
         "xaxis": "x2",
         "y": [
          0.555999994,
          0.555999994,
          0.833000004,
          0.333000004,
          0.222000003,
          0.286000013,
          0.5,
          0.090999998,
          0.273000002,
          0.57099998,
          0.286000013,
          0.333000004,
          0.666999996,
          0.125,
          0.286000013,
          0.200000003,
          0.111000001,
          0.375,
          0.375,
          0.75,
          0.111000001,
          0.5,
          0.286000013,
          0.666999996,
          0.75,
          0.25,
          0.600000024,
          0.125,
          0.455000013,
          0.42899999,
          0.5,
          0.286000013,
          0.166999996,
          0,
          0.400000006,
          0.222000003,
          0.42899999,
          0.100000001,
          0.333000004,
          0.300000012,
          0.57099998,
          0.286000013,
          0.5,
          0.5,
          0.42899999,
          0.875,
          0.42899999,
          0.333000004,
          0.666999996,
          0.5,
          0.5,
          0,
          0.200000003,
          0.555999994,
          0.5,
          0.800000012,
          0.666999996,
          0.166999996,
          0.100000001,
          0.375,
          0.273000002,
          0.375,
          0.25,
          0.333000004,
          0.300000012,
          0.333000004,
          0.286000013,
          0,
          0.181999996,
          0.111000001,
          0.800000012,
          0,
          0,
          0.5,
          0,
          0.333000004,
          0.600000024,
          0,
          0.214000002,
          0.666999996,
          0.200000003,
          0.600000024,
          0.222000003,
          0.111000001,
          0.25,
          0.222000003,
          0.200000003,
          0.5,
          0.375,
          0.5,
          0.833000004,
          0.625,
          0,
          0.600000024
         ],
         "yaxis": "y2"
        },
        {
         "boxmean": "sd",
         "name": "3年级",
         "showlegend": false,
         "type": "box",
         "xaxis": "x2",
         "y": [
          0.5,
          0.143000007,
          0.57099998,
          0,
          0.38499999,
          0.222000003,
          0.181999996,
          0.666999996,
          0.333000004,
          0.166999996,
          0,
          0.75,
          0.333000004,
          0.666999996,
          0.666999996,
          0.273000002,
          0,
          0.400000006,
          0.5,
          0.5,
          0.333000004,
          0.833000004,
          0.600000024,
          0.200000003,
          0.333000004,
          0.25,
          0.400000006,
          0.111000001,
          0.286000013,
          0.166999996,
          0.25,
          0.307999998,
          0.25,
          0.42899999,
          0.5,
          0.57099998,
          0.181999996,
          0.200000003,
          0.5,
          0.286000013,
          0.375,
          0.777999997,
          0.222000003,
          0.300000012,
          0.666999996,
          0.600000024,
          0.111000001,
          0.5,
          0.166999996,
          0.5,
          0.25,
          0.231000006,
          0.416999996,
          0.100000001,
          0.166999996,
          0.57099998,
          0.333000004,
          0.143000007,
          0.5,
          0.42899999,
          0.713999987,
          0.125,
          0.333000004,
          0.333000004,
          0.875,
          0.363999993,
          0.625,
          0.666999996,
          0.713999987,
          0.455000013,
          0.375,
          0.222000003,
          0.286000013,
          0.444000006,
          0,
          0.5,
          0.856999993,
          0.375,
          0.833000004,
          0.200000003,
          0.231000006,
          0.222000003,
          0.375,
          0.166999996,
          0.400000006,
          0.5
         ],
         "yaxis": "y2"
        },
        {
         "boxmean": "sd",
         "name": "1年级",
         "showlegend": false,
         "type": "box",
         "xaxis": "x3",
         "y": [
          0.922999978,
          0.75,
          0.875,
          0.933000028,
          0.947000027,
          0.856999993,
          0.88499999,
          0.76700002,
          0.949999988,
          1,
          0.635999978,
          0.88499999,
          0.92900002,
          0.92900002,
          0.92900002,
          0.79400003,
          0.933000028,
          0.894999981,
          0.833000004,
          0.875,
          0.954999983,
          0.906000018,
          0.922999978,
          0.718999982,
          0.643000007,
          0.908999979,
          0.731000006,
          1,
          0.818000019,
          0.92900002,
          0.916999996,
          0.899999976,
          0.933000028,
          0.843999982,
          0.888999999,
          0.708000004,
          0.916999996,
          1,
          0.800000012,
          0.949999988,
          0.846000016,
          0.764999986,
          1,
          0.864000022,
          0.958000004,
          0.699999988,
          0.643000007,
          0.846000016,
          0.726999998,
          0.75,
          0.833000004,
          0.818000019,
          0.933000028,
          0.944000006,
          0.867999971,
          0.791999996,
          1,
          0.88499999,
          0.791999996,
          0.944000006,
          0.82099998,
          0.788999975,
          0.666999996,
          0.908999979,
          0.842000008,
          0.768999994,
          1,
          0.922999978,
          0.875,
          0.899999976,
          0.653999984,
          0.846000016,
          0.938000023,
          0.856999993,
          0.922999978,
          0.675999999,
          0.833000004,
          0.75,
          0.875,
          0.786000013,
          0.764999986,
          0.75,
          0.92900002,
          0.885999978,
          0.906000018,
          0.882000029,
          0.893000007,
          0.88499999,
          0.899999976,
          0.808000028,
          0.842000008,
          0.973999977,
          0.875,
          0.75,
          0.684000015,
          0.893000007,
          0.75,
          0.866999984
         ],
         "yaxis": "y3"
        },
        {
         "boxmean": "sd",
         "name": "2年级",
         "showlegend": false,
         "type": "box",
         "xaxis": "x3",
         "y": [
          0.908999979,
          1,
          0.912,
          0.808000028,
          0.818000019,
          0.954999983,
          0.82099998,
          0.846000016,
          0.75,
          0.773000002,
          0.967000008,
          0.808000028,
          0.875,
          0.899999976,
          0.833000004,
          0.908999979,
          0.808000028,
          0.773000002,
          0.726999998,
          0.899999976,
          0.856999993,
          0.908999979,
          0.916999996,
          0.875,
          0.875,
          0.786000013,
          0.856999993,
          0.916999996,
          0.916999996,
          0.962000012,
          0.908999979,
          0.875,
          0.864000022,
          0.888999999,
          0.899999976,
          0.899999976,
          0.938000023,
          0.852999985,
          0.833000004,
          0.906000018,
          0.777999997,
          0.906000018,
          0.866999984,
          0.938000023,
          1,
          0.824000001,
          0.908999979,
          0.888999999,
          0.791999996,
          0.856999993,
          1,
          0.88499999,
          0.818000019,
          0.916999996,
          0.949999988,
          0.813000023,
          0.824000001,
          0.875,
          0.916999996,
          0.666999996,
          0.899999976,
          1,
          0.922999978,
          1,
          0.944000006,
          0.800000012,
          0.75,
          0.786000013,
          0.921000004,
          0.882000029,
          0.940999985,
          0.875,
          1,
          0.643000007,
          0.916999996,
          1,
          0.815999985,
          0.864000022,
          0.921000004,
          0.954999983,
          1,
          1,
          0.808000028,
          0.786000013,
          0.843999982,
          0.777999997,
          0.906000018,
          1,
          0.856999993,
          0.866999984,
          1,
          0.971000016,
          0.888999999,
          0.899999976
         ],
         "yaxis": "y3"
        },
        {
         "boxmean": "sd",
         "name": "3年级",
         "showlegend": false,
         "type": "box",
         "xaxis": "x3",
         "y": [
          1,
          0.764999986,
          0.764999986,
          1,
          0.940999985,
          0.713999987,
          0.908999979,
          0.908999979,
          0.899999976,
          1,
          1,
          0.875,
          0.833000004,
          0.833000004,
          0.768999994,
          1,
          0.699999988,
          0.856999993,
          0.888999999,
          1,
          0.833000004,
          1,
          0.922999978,
          0.899999976,
          0.949999988,
          0.735000014,
          1,
          0.864000022,
          0.75,
          0.963999987,
          1,
          0.852999985,
          0.916999996,
          0.846000016,
          0.908999979,
          0.777999997,
          0.800000012,
          0.899999976,
          0.808000028,
          0.963999987,
          0.899999976,
          0.800000012,
          0.92900002,
          0.75,
          0.856999993,
          0.833000004,
          0.933000028,
          0.938000023,
          0.75,
          0.916999996,
          0.938000023,
          0.899999976,
          0.824999988,
          0.842000008,
          1,
          1,
          0.962000012,
          1,
          0.893000007,
          0.82099998,
          0.850000024,
          0.833000004,
          0.808000028,
          0.922999978,
          0.958000004,
          0.963999987,
          0.800000012,
          0.791999996,
          0.908999979,
          0.933000028,
          0.800000012,
          0.691999972,
          0.788999975,
          1,
          0.813000023,
          0.866999984,
          0.856999993,
          0.808000028,
          0.75,
          0.949999988,
          0.92900002,
          0.666999996,
          0.922999978,
          0.875,
          0.846000016,
          0.800000012
         ],
         "yaxis": "y3"
        }
       ],
       "layout": {
        "height": 400,
        "showlegend": true,
        "template": {
         "data": {
          "bar": [
           {
            "error_x": {
             "color": "#2a3f5f"
            },
            "error_y": {
             "color": "#2a3f5f"
            },
            "marker": {
             "line": {
              "color": "#E5ECF6",
              "width": 0.5
             },
             "pattern": {
              "fillmode": "overlay",
              "size": 10,
              "solidity": 0.2
             }
            },
            "type": "bar"
           }
          ],
          "barpolar": [
           {
            "marker": {
             "line": {
              "color": "#E5ECF6",
              "width": 0.5
             },
             "pattern": {
              "fillmode": "overlay",
              "size": 10,
              "solidity": 0.2
             }
            },
            "type": "barpolar"
           }
          ],
          "carpet": [
           {
            "aaxis": {
             "endlinecolor": "#2a3f5f",
             "gridcolor": "white",
             "linecolor": "white",
             "minorgridcolor": "white",
             "startlinecolor": "#2a3f5f"
            },
            "baxis": {
             "endlinecolor": "#2a3f5f",
             "gridcolor": "white",
             "linecolor": "white",
             "minorgridcolor": "white",
             "startlinecolor": "#2a3f5f"
            },
            "type": "carpet"
           }
          ],
          "choropleth": [
           {
            "colorbar": {
             "outlinewidth": 0,
             "ticks": ""
            },
            "type": "choropleth"
           }
          ],
          "contour": [
           {
            "colorbar": {
             "outlinewidth": 0,
             "ticks": ""
            },
            "colorscale": [
             [
              0,
              "#0d0887"
             ],
             [
              0.1111111111111111,
              "#46039f"
             ],
             [
              0.2222222222222222,
              "#7201a8"
             ],
             [
              0.3333333333333333,
              "#9c179e"
             ],
             [
              0.4444444444444444,
              "#bd3786"
             ],
             [
              0.5555555555555556,
              "#d8576b"
             ],
             [
              0.6666666666666666,
              "#ed7953"
             ],
             [
              0.7777777777777778,
              "#fb9f3a"
             ],
             [
              0.8888888888888888,
              "#fdca26"
             ],
             [
              1,
              "#f0f921"
             ]
            ],
            "type": "contour"
           }
          ],
          "contourcarpet": [
           {
            "colorbar": {
             "outlinewidth": 0,
             "ticks": ""
            },
            "type": "contourcarpet"
           }
          ],
          "heatmap": [
           {
            "colorbar": {
             "outlinewidth": 0,
             "ticks": ""
            },
            "colorscale": [
             [
              0,
              "#0d0887"
             ],
             [
              0.1111111111111111,
              "#46039f"
             ],
             [
              0.2222222222222222,
              "#7201a8"
             ],
             [
              0.3333333333333333,
              "#9c179e"
             ],
             [
              0.4444444444444444,
              "#bd3786"
             ],
             [
              0.5555555555555556,
              "#d8576b"
             ],
             [
              0.6666666666666666,
              "#ed7953"
             ],
             [
              0.7777777777777778,
              "#fb9f3a"
             ],
             [
              0.8888888888888888,
              "#fdca26"
             ],
             [
              1,
              "#f0f921"
             ]
            ],
            "type": "heatmap"
           }
          ],
          "heatmapgl": [
           {
            "colorbar": {
             "outlinewidth": 0,
             "ticks": ""
            },
            "colorscale": [
             [
              0,
              "#0d0887"
             ],
             [
              0.1111111111111111,
              "#46039f"
             ],
             [
              0.2222222222222222,
              "#7201a8"
             ],
             [
              0.3333333333333333,
              "#9c179e"
             ],
             [
              0.4444444444444444,
              "#bd3786"
             ],
             [
              0.5555555555555556,
              "#d8576b"
             ],
             [
              0.6666666666666666,
              "#ed7953"
             ],
             [
              0.7777777777777778,
              "#fb9f3a"
             ],
             [
              0.8888888888888888,
              "#fdca26"
             ],
             [
              1,
              "#f0f921"
             ]
            ],
            "type": "heatmapgl"
           }
          ],
          "histogram": [
           {
            "marker": {
             "pattern": {
              "fillmode": "overlay",
              "size": 10,
              "solidity": 0.2
             }
            },
            "type": "histogram"
           }
          ],
          "histogram2d": [
           {
            "colorbar": {
             "outlinewidth": 0,
             "ticks": ""
            },
            "colorscale": [
             [
              0,
              "#0d0887"
             ],
             [
              0.1111111111111111,
              "#46039f"
             ],
             [
              0.2222222222222222,
              "#7201a8"
             ],
             [
              0.3333333333333333,
              "#9c179e"
             ],
             [
              0.4444444444444444,
              "#bd3786"
             ],
             [
              0.5555555555555556,
              "#d8576b"
             ],
             [
              0.6666666666666666,
              "#ed7953"
             ],
             [
              0.7777777777777778,
              "#fb9f3a"
             ],
             [
              0.8888888888888888,
              "#fdca26"
             ],
             [
              1,
              "#f0f921"
             ]
            ],
            "type": "histogram2d"
           }
          ],
          "histogram2dcontour": [
           {
            "colorbar": {
             "outlinewidth": 0,
             "ticks": ""
            },
            "colorscale": [
             [
              0,
              "#0d0887"
             ],
             [
              0.1111111111111111,
              "#46039f"
             ],
             [
              0.2222222222222222,
              "#7201a8"
             ],
             [
              0.3333333333333333,
              "#9c179e"
             ],
             [
              0.4444444444444444,
              "#bd3786"
             ],
             [
              0.5555555555555556,
              "#d8576b"
             ],
             [
              0.6666666666666666,
              "#ed7953"
             ],
             [
              0.7777777777777778,
              "#fb9f3a"
             ],
             [
              0.8888888888888888,
              "#fdca26"
             ],
             [
              1,
              "#f0f921"
             ]
            ],
            "type": "histogram2dcontour"
           }
          ],
          "mesh3d": [
           {
            "colorbar": {
             "outlinewidth": 0,
             "ticks": ""
            },
            "type": "mesh3d"
           }
          ],
          "parcoords": [
           {
            "line": {
             "colorbar": {
              "outlinewidth": 0,
              "ticks": ""
             }
            },
            "type": "parcoords"
           }
          ],
          "pie": [
           {
            "automargin": true,
            "type": "pie"
           }
          ],
          "scatter": [
           {
            "fillpattern": {
             "fillmode": "overlay",
             "size": 10,
             "solidity": 0.2
            },
            "type": "scatter"
           }
          ],
          "scatter3d": [
           {
            "line": {
             "colorbar": {
              "outlinewidth": 0,
              "ticks": ""
             }
            },
            "marker": {
             "colorbar": {
              "outlinewidth": 0,
              "ticks": ""
             }
            },
            "type": "scatter3d"
           }
          ],
          "scattercarpet": [
           {
            "marker": {
             "colorbar": {
              "outlinewidth": 0,
              "ticks": ""
             }
            },
            "type": "scattercarpet"
           }
          ],
          "scattergeo": [
           {
            "marker": {
             "colorbar": {
              "outlinewidth": 0,
              "ticks": ""
             }
            },
            "type": "scattergeo"
           }
          ],
          "scattergl": [
           {
            "marker": {
             "colorbar": {
              "outlinewidth": 0,
              "ticks": ""
             }
            },
            "type": "scattergl"
           }
          ],
          "scattermapbox": [
           {
            "marker": {
             "colorbar": {
              "outlinewidth": 0,
              "ticks": ""
             }
            },
            "type": "scattermapbox"
           }
          ],
          "scatterpolar": [
           {
            "marker": {
             "colorbar": {
              "outlinewidth": 0,
              "ticks": ""
             }
            },
            "type": "scatterpolar"
           }
          ],
          "scatterpolargl": [
           {
            "marker": {
             "colorbar": {
              "outlinewidth": 0,
              "ticks": ""
             }
            },
            "type": "scatterpolargl"
           }
          ],
          "scatterternary": [
           {
            "marker": {
             "colorbar": {
              "outlinewidth": 0,
              "ticks": ""
             }
            },
            "type": "scatterternary"
           }
          ],
          "surface": [
           {
            "colorbar": {
             "outlinewidth": 0,
             "ticks": ""
            },
            "colorscale": [
             [
              0,
              "#0d0887"
             ],
             [
              0.1111111111111111,
              "#46039f"
             ],
             [
              0.2222222222222222,
              "#7201a8"
             ],
             [
              0.3333333333333333,
              "#9c179e"
             ],
             [
              0.4444444444444444,
              "#bd3786"
             ],
             [
              0.5555555555555556,
              "#d8576b"
             ],
             [
              0.6666666666666666,
              "#ed7953"
             ],
             [
              0.7777777777777778,
              "#fb9f3a"
             ],
             [
              0.8888888888888888,
              "#fdca26"
             ],
             [
              1,
              "#f0f921"
             ]
            ],
            "type": "surface"
           }
          ],
          "table": [
           {
            "cells": {
             "fill": {
              "color": "#EBF0F8"
             },
             "line": {
              "color": "white"
             }
            },
            "header": {
             "fill": {
              "color": "#C8D4E3"
             },
             "line": {
              "color": "white"
             }
            },
            "type": "table"
           }
          ]
         },
         "layout": {
          "annotationdefaults": {
           "arrowcolor": "#2a3f5f",
           "arrowhead": 0,
           "arrowwidth": 1
          },
          "autotypenumbers": "strict",
          "coloraxis": {
           "colorbar": {
            "outlinewidth": 0,
            "ticks": ""
           }
          },
          "colorscale": {
           "diverging": [
            [
             0,
             "#8e0152"
            ],
            [
             0.1,
             "#c51b7d"
            ],
            [
             0.2,
             "#de77ae"
            ],
            [
             0.3,
             "#f1b6da"
            ],
            [
             0.4,
             "#fde0ef"
            ],
            [
             0.5,
             "#f7f7f7"
            ],
            [
             0.6,
             "#e6f5d0"
            ],
            [
             0.7,
             "#b8e186"
            ],
            [
             0.8,
             "#7fbc41"
            ],
            [
             0.9,
             "#4d9221"
            ],
            [
             1,
             "#276419"
            ]
           ],
           "sequential": [
            [
             0,
             "#0d0887"
            ],
            [
             0.1111111111111111,
             "#46039f"
            ],
            [
             0.2222222222222222,
             "#7201a8"
            ],
            [
             0.3333333333333333,
             "#9c179e"
            ],
            [
             0.4444444444444444,
             "#bd3786"
            ],
            [
             0.5555555555555556,
             "#d8576b"
            ],
            [
             0.6666666666666666,
             "#ed7953"
            ],
            [
             0.7777777777777778,
             "#fb9f3a"
            ],
            [
             0.8888888888888888,
             "#fdca26"
            ],
            [
             1,
             "#f0f921"
            ]
           ],
           "sequentialminus": [
            [
             0,
             "#0d0887"
            ],
            [
             0.1111111111111111,
             "#46039f"
            ],
            [
             0.2222222222222222,
             "#7201a8"
            ],
            [
             0.3333333333333333,
             "#9c179e"
            ],
            [
             0.4444444444444444,
             "#bd3786"
            ],
            [
             0.5555555555555556,
             "#d8576b"
            ],
            [
             0.6666666666666666,
             "#ed7953"
            ],
            [
             0.7777777777777778,
             "#fb9f3a"
            ],
            [
             0.8888888888888888,
             "#fdca26"
            ],
            [
             1,
             "#f0f921"
            ]
           ]
          },
          "colorway": [
           "#636efa",
           "#EF553B",
           "#00cc96",
           "#ab63fa",
           "#FFA15A",
           "#19d3f3",
           "#FF6692",
           "#B6E880",
           "#FF97FF",
           "#FECB52"
          ],
          "font": {
           "color": "#2a3f5f"
          },
          "geo": {
           "bgcolor": "white",
           "lakecolor": "white",
           "landcolor": "#E5ECF6",
           "showlakes": true,
           "showland": true,
           "subunitcolor": "white"
          },
          "hoverlabel": {
           "align": "left"
          },
          "hovermode": "closest",
          "mapbox": {
           "style": "light"
          },
          "paper_bgcolor": "white",
          "plot_bgcolor": "#E5ECF6",
          "polar": {
           "angularaxis": {
            "gridcolor": "white",
            "linecolor": "white",
            "ticks": ""
           },
           "bgcolor": "#E5ECF6",
           "radialaxis": {
            "gridcolor": "white",
            "linecolor": "white",
            "ticks": ""
           }
          },
          "scene": {
           "xaxis": {
            "backgroundcolor": "#E5ECF6",
            "gridcolor": "white",
            "gridwidth": 2,
            "linecolor": "white",
            "showbackground": true,
            "ticks": "",
            "zerolinecolor": "white"
           },
           "yaxis": {
            "backgroundcolor": "#E5ECF6",
            "gridcolor": "white",
            "gridwidth": 2,
            "linecolor": "white",
            "showbackground": true,
            "ticks": "",
            "zerolinecolor": "white"
           },
           "zaxis": {
            "backgroundcolor": "#E5ECF6",
            "gridcolor": "white",
            "gridwidth": 2,
            "linecolor": "white",
            "showbackground": true,
            "ticks": "",
            "zerolinecolor": "white"
           }
          },
          "shapedefaults": {
           "line": {
            "color": "#2a3f5f"
           }
          },
          "ternary": {
           "aaxis": {
            "gridcolor": "white",
            "linecolor": "white",
            "ticks": ""
           },
           "baxis": {
            "gridcolor": "white",
            "linecolor": "white",
            "ticks": ""
           },
           "bgcolor": "#E5ECF6",
           "caxis": {
            "gridcolor": "white",
            "linecolor": "white",
            "ticks": ""
           }
          },
          "title": {
           "x": 0.05
          },
          "xaxis": {
           "automargin": true,
           "gridcolor": "white",
           "linecolor": "white",
           "ticks": "",
           "title": {
            "standoff": 15
           },
           "zerolinecolor": "white",
           "zerolinewidth": 2
          },
          "yaxis": {
           "automargin": true,
           "gridcolor": "white",
           "linecolor": "white",
           "ticks": "",
           "title": {
            "standoff": 15
           },
           "zerolinecolor": "white",
           "zerolinewidth": 2
          }
         }
        },
        "width": 1050,
        "xaxis": {
         "anchor": "y",
         "domain": [
          0,
          0.2888888888888889
         ],
         "title": {
          "text": "年级"
         }
        },
        "xaxis2": {
         "anchor": "y2",
         "domain": [
          0.35555555555555557,
          0.6444444444444445
         ],
         "title": {
          "text": "年级"
         }
        },
        "xaxis3": {
         "anchor": "y3",
         "domain": [
          0.7111111111111111,
          1
         ],
         "title": {
          "text": "年级"
         }
        },
        "yaxis": {
         "anchor": "x",
         "domain": [
          0,
          1
         ],
         "title": {
          "text": "因果衔接"
         }
        },
        "yaxis2": {
         "anchor": "x2",
         "domain": [
          0,
          1
         ],
         "title": {
          "text": "意图衔接"
         }
        },
        "yaxis3": {
         "anchor": "x3",
         "domain": [
          0,
          1
         ],
         "title": {
          "text": "时体衔接"
         }
        }
       }
      }
     },
     "metadata": {},
     "output_type": "display_data"
    }
   ],
   "source": [
    "from untils import plot_boxplots_by_grade2\n",
    "\n",
    "plot_boxplots_by_grade2('宏观叙事-情境模型', tmp_df, 3)"
   ]
  },
  {
   "cell_type": "code",
   "execution_count": 28,
   "id": "5f680af3",
   "metadata": {},
   "outputs": [
    {
     "data": {
      "application/vnd.plotly.v1+json": {
       "config": {
        "plotlyServerURL": "https://plot.ly"
       },
       "data": [
        {
         "boxmean": "sd",
         "name": "1年级",
         "showlegend": true,
         "type": "box",
         "xaxis": "x",
         "y": [
          7,
          8.5,
          8.5,
          8,
          10,
          7.5,
          7,
          8,
          5.5,
          6.5,
          6,
          7,
          7.5,
          7.5,
          7.5,
          9,
          8,
          10,
          6.5,
          6.5,
          6,
          8.5,
          7,
          8.5,
          4,
          6,
          7,
          7,
          6,
          7.5,
          6.5,
          8,
          8,
          8.5,
          5,
          9.5,
          6.5,
          6.5,
          4.5,
          8,
          5.5,
          7,
          9,
          6.5,
          6,
          6.5,
          5.5,
          7.5,
          7,
          6,
          5.5,
          11,
          6,
          8,
          5,
          10,
          6.5,
          6,
          7,
          6.5,
          5,
          7.5,
          10,
          8,
          10,
          7,
          5,
          7,
          6.5,
          10.5,
          7,
          7,
          8.5,
          7.5,
          7,
          9,
          6.5,
          7.5,
          4.5,
          7.5,
          9,
          7.5,
          7.5,
          8.5,
          9,
          5,
          7.5,
          7,
          8,
          7,
          10,
          10,
          4.5,
          7.5,
          10,
          7.5,
          6.5,
          8
         ],
         "yaxis": "y"
        },
        {
         "boxmean": "sd",
         "name": "2年级",
         "showlegend": true,
         "type": "box",
         "xaxis": "x",
         "y": [
          6,
          7,
          9,
          7,
          6,
          6,
          7.5,
          7,
          8.5,
          6,
          8,
          7,
          6.5,
          8,
          8,
          6,
          7,
          6,
          6,
          5.5,
          7.5,
          6,
          6.5,
          6.5,
          4.5,
          4,
          4,
          6.5,
          6.5,
          6,
          7,
          6,
          6.5,
          6,
          5,
          5.5,
          10.5,
          8.5,
          6.5,
          5,
          8,
          8.5,
          5.5,
          9,
          6,
          4.5,
          5,
          6.5,
          7.5,
          6.5,
          7,
          6,
          6.5,
          5.5,
          4.5,
          9,
          6.5,
          6.5,
          5,
          8,
          4,
          5,
          7,
          4.5,
          5,
          5.5,
          8.5,
          7.5,
          10,
          9,
          9,
          6.5,
          6,
          4,
          6,
          6.5,
          5.5,
          10,
          6,
          10,
          6,
          6.5,
          5,
          7,
          7.5,
          8.5,
          5,
          8.5,
          5,
          6,
          7.5,
          8,
          6.5,
          9,
          7.5,
          5,
          5.5
         ],
         "yaxis": "y"
        },
        {
         "boxmean": "sd",
         "name": "3年级",
         "showlegend": true,
         "type": "box",
         "xaxis": "x",
         "y": [
          5,
          9,
          9,
          6.5,
          6,
          9,
          7.5,
          6,
          6,
          5.5,
          5.5,
          5.5,
          6.5,
          6.5,
          7,
          5,
          7,
          7.5,
          5.5,
          7.5,
          5,
          4.5,
          5,
          6,
          7,
          5.5,
          6.5,
          5.5,
          6,
          6,
          9,
          6.5,
          6,
          5.5,
          7.5,
          4.5,
          7.5,
          9,
          9.5,
          6.5,
          7,
          7,
          6,
          5,
          8,
          8,
          7,
          7.5,
          8,
          8,
          7.5,
          8.5,
          7.5,
          6.5,
          8,
          8,
          8.5,
          7.5,
          6.5,
          5,
          8.5,
          8,
          10.5,
          10,
          5.5,
          7,
          7,
          5,
          7.5,
          5.5,
          7.5,
          5.5,
          6.5,
          7,
          7,
          6.5,
          6,
          7.5,
          8,
          6.5,
          6,
          8,
          5.5,
          7,
          10,
          7,
          8.5,
          8,
          7.5,
          7,
          5,
          4.5,
          5.5,
          11,
          8,
          7,
          6.5,
          6,
          7,
          5.5
         ],
         "yaxis": "y"
        },
        {
         "boxmean": "sd",
         "name": "1年级",
         "showlegend": false,
         "type": "box",
         "xaxis": "x2",
         "y": [
          0,
          0.707000017,
          0.707000017,
          4.243000031,
          2.828000069,
          2.121000051,
          2.828000069,
          1.414000034,
          0.707000017,
          2.121000051,
          2.828000069,
          1.414000034,
          2.121000051,
          2.121000051,
          0.707000017,
          2.828000069,
          0,
          1.414000034,
          2.121000051,
          0.707000017,
          2.828000069,
          3.536000013,
          2.828000069,
          2.121000051,
          0,
          1.414000034,
          1.414000034,
          2.828000069,
          0,
          2.121000051,
          3.536000013,
          0,
          2.828000069,
          2.121000051,
          1.414000034,
          0.707000017,
          0.707000017,
          2.121000051,
          0.707000017,
          2.828000069,
          0.707000017,
          0,
          0,
          2.121000051,
          2.828000069,
          0.707000017,
          2.121000051,
          3.536000013,
          1.414000034,
          0,
          0.707000017,
          5.657000065,
          0,
          1.414000034,
          0,
          1.414000034,
          4.949999809,
          2.828000069,
          2.828000069,
          2.121000051,
          0,
          0.707000017,
          1.414000034,
          1.414000034,
          4.243000031,
          2.828000069,
          0,
          1.414000034,
          2.121000051,
          0.707000017,
          0,
          4.243000031,
          0.707000017,
          0.707000017,
          0,
          1.414000034,
          0.707000017,
          3.536000013,
          2.121000051,
          2.121000051,
          1.414000034,
          0.707000017,
          2.121000051,
          0.707000017,
          0,
          4.243000031,
          0.707000017,
          4.243000031,
          2.828000069,
          1.414000034,
          4.243000031,
          1.414000034,
          0.707000017,
          0.707000017,
          1.414000034,
          3.536000013,
          2.121000051,
          1.414000034
         ],
         "yaxis": "y2"
        },
        {
         "boxmean": "sd",
         "name": "2年级",
         "showlegend": false,
         "type": "box",
         "xaxis": "x2",
         "y": [
          0,
          4.243000031,
          4.243000031,
          1.414000034,
          4.243000031,
          1.414000034,
          3.536000013,
          2.828000069,
          4.949999809,
          1.414000034,
          2.828000069,
          2.828000069,
          2.121000051,
          1.414000034,
          2.828000069,
          1.414000034,
          5.657000065,
          1.414000034,
          1.414000034,
          3.536000013,
          4.949999809,
          0,
          0.707000017,
          2.121000051,
          0.707000017,
          1.414000034,
          1.414000034,
          2.121000051,
          0.707000017,
          1.414000034,
          2.828000069,
          4.243000031,
          3.536000013,
          1.414000034,
          1.414000034,
          3.536000013,
          4.949999809,
          3.536000013,
          2.121000051,
          2.828000069,
          1.414000034,
          3.536000013,
          2.121000051,
          5.657000065,
          4.243000031,
          2.121000051,
          1.414000034,
          0.707000017,
          3.536000013,
          3.536000013,
          2.828000069,
          0,
          2.121000051,
          2.121000051,
          0.707000017,
          2.828000069,
          3.536000013,
          0.707000017,
          1.414000034,
          5.657000065,
          2.828000069,
          1.414000034,
          2.828000069,
          0.707000017,
          2.828000069,
          0.707000017,
          3.536000013,
          3.536000013,
          4.243000031,
          2.828000069,
          4.243000031,
          0.707000017,
          4.243000031,
          2.828000069,
          1.414000034,
          3.536000013,
          0.707000017,
          2.828000069,
          2.828000069,
          5.657000065,
          1.414000034,
          0.707000017,
          1.414000034,
          0,
          2.121000051,
          3.536000013,
          1.414000034,
          3.536000013,
          0,
          1.414000034,
          3.536000013,
          1.414000034,
          2.121000051,
          1.414000034,
          0.707000017,
          0,
          2.121000051
         ],
         "yaxis": "y2"
        },
        {
         "boxmean": "sd",
         "name": "3年级",
         "showlegend": false,
         "type": "box",
         "xaxis": "x2",
         "y": [
          0,
          1.414000034,
          4.243000031,
          0.707000017,
          1.414000034,
          1.414000034,
          2.121000051,
          1.414000034,
          0,
          0.707000017,
          0.707000017,
          0.707000017,
          0.707000017,
          0.707000017,
          1.414000034,
          0,
          0,
          2.121000051,
          0.707000017,
          0.707000017,
          1.414000034,
          2.121000051,
          0,
          0,
          0,
          0.707000017,
          0.707000017,
          0.707000017,
          0,
          2.828000069,
          2.828000069,
          2.121000051,
          1.414000034,
          2.121000051,
          0.707000017,
          0.707000017,
          2.121000051,
          1.414000034,
          0.707000017,
          0.707000017,
          1.414000034,
          1.414000034,
          1.414000034,
          1.414000034,
          1.414000034,
          1.414000034,
          2.828000069,
          2.121000051,
          2.828000069,
          1.414000034,
          0.707000017,
          2.121000051,
          2.121000051,
          0.707000017,
          2.828000069,
          1.414000034,
          2.121000051,
          2.121000051,
          2.121000051,
          1.414000034,
          0.707000017,
          1.414000034,
          0.707000017,
          1.414000034,
          2.121000051,
          0,
          0,
          0,
          2.121000051,
          0.707000017,
          2.121000051,
          0.707000017,
          0.707000017,
          4.243000031,
          1.414000034,
          2.121000051,
          1.414000034,
          0.707000017,
          0,
          0.707000017,
          1.414000034,
          0,
          2.121000051,
          1.414000034,
          2.828000069,
          1.414000034,
          3.536000013,
          5.657000065,
          3.536000013,
          1.414000034,
          0,
          0.707000017,
          2.121000051,
          2.828000069,
          2.828000069,
          2.828000069,
          0.707000017,
          1.414000034,
          1.414000034,
          0.707000017
         ],
         "yaxis": "y2"
        }
       ],
       "layout": {
        "height": 400,
        "showlegend": true,
        "template": {
         "data": {
          "bar": [
           {
            "error_x": {
             "color": "#2a3f5f"
            },
            "error_y": {
             "color": "#2a3f5f"
            },
            "marker": {
             "line": {
              "color": "#E5ECF6",
              "width": 0.5
             },
             "pattern": {
              "fillmode": "overlay",
              "size": 10,
              "solidity": 0.2
             }
            },
            "type": "bar"
           }
          ],
          "barpolar": [
           {
            "marker": {
             "line": {
              "color": "#E5ECF6",
              "width": 0.5
             },
             "pattern": {
              "fillmode": "overlay",
              "size": 10,
              "solidity": 0.2
             }
            },
            "type": "barpolar"
           }
          ],
          "carpet": [
           {
            "aaxis": {
             "endlinecolor": "#2a3f5f",
             "gridcolor": "white",
             "linecolor": "white",
             "minorgridcolor": "white",
             "startlinecolor": "#2a3f5f"
            },
            "baxis": {
             "endlinecolor": "#2a3f5f",
             "gridcolor": "white",
             "linecolor": "white",
             "minorgridcolor": "white",
             "startlinecolor": "#2a3f5f"
            },
            "type": "carpet"
           }
          ],
          "choropleth": [
           {
            "colorbar": {
             "outlinewidth": 0,
             "ticks": ""
            },
            "type": "choropleth"
           }
          ],
          "contour": [
           {
            "colorbar": {
             "outlinewidth": 0,
             "ticks": ""
            },
            "colorscale": [
             [
              0,
              "#0d0887"
             ],
             [
              0.1111111111111111,
              "#46039f"
             ],
             [
              0.2222222222222222,
              "#7201a8"
             ],
             [
              0.3333333333333333,
              "#9c179e"
             ],
             [
              0.4444444444444444,
              "#bd3786"
             ],
             [
              0.5555555555555556,
              "#d8576b"
             ],
             [
              0.6666666666666666,
              "#ed7953"
             ],
             [
              0.7777777777777778,
              "#fb9f3a"
             ],
             [
              0.8888888888888888,
              "#fdca26"
             ],
             [
              1,
              "#f0f921"
             ]
            ],
            "type": "contour"
           }
          ],
          "contourcarpet": [
           {
            "colorbar": {
             "outlinewidth": 0,
             "ticks": ""
            },
            "type": "contourcarpet"
           }
          ],
          "heatmap": [
           {
            "colorbar": {
             "outlinewidth": 0,
             "ticks": ""
            },
            "colorscale": [
             [
              0,
              "#0d0887"
             ],
             [
              0.1111111111111111,
              "#46039f"
             ],
             [
              0.2222222222222222,
              "#7201a8"
             ],
             [
              0.3333333333333333,
              "#9c179e"
             ],
             [
              0.4444444444444444,
              "#bd3786"
             ],
             [
              0.5555555555555556,
              "#d8576b"
             ],
             [
              0.6666666666666666,
              "#ed7953"
             ],
             [
              0.7777777777777778,
              "#fb9f3a"
             ],
             [
              0.8888888888888888,
              "#fdca26"
             ],
             [
              1,
              "#f0f921"
             ]
            ],
            "type": "heatmap"
           }
          ],
          "heatmapgl": [
           {
            "colorbar": {
             "outlinewidth": 0,
             "ticks": ""
            },
            "colorscale": [
             [
              0,
              "#0d0887"
             ],
             [
              0.1111111111111111,
              "#46039f"
             ],
             [
              0.2222222222222222,
              "#7201a8"
             ],
             [
              0.3333333333333333,
              "#9c179e"
             ],
             [
              0.4444444444444444,
              "#bd3786"
             ],
             [
              0.5555555555555556,
              "#d8576b"
             ],
             [
              0.6666666666666666,
              "#ed7953"
             ],
             [
              0.7777777777777778,
              "#fb9f3a"
             ],
             [
              0.8888888888888888,
              "#fdca26"
             ],
             [
              1,
              "#f0f921"
             ]
            ],
            "type": "heatmapgl"
           }
          ],
          "histogram": [
           {
            "marker": {
             "pattern": {
              "fillmode": "overlay",
              "size": 10,
              "solidity": 0.2
             }
            },
            "type": "histogram"
           }
          ],
          "histogram2d": [
           {
            "colorbar": {
             "outlinewidth": 0,
             "ticks": ""
            },
            "colorscale": [
             [
              0,
              "#0d0887"
             ],
             [
              0.1111111111111111,
              "#46039f"
             ],
             [
              0.2222222222222222,
              "#7201a8"
             ],
             [
              0.3333333333333333,
              "#9c179e"
             ],
             [
              0.4444444444444444,
              "#bd3786"
             ],
             [
              0.5555555555555556,
              "#d8576b"
             ],
             [
              0.6666666666666666,
              "#ed7953"
             ],
             [
              0.7777777777777778,
              "#fb9f3a"
             ],
             [
              0.8888888888888888,
              "#fdca26"
             ],
             [
              1,
              "#f0f921"
             ]
            ],
            "type": "histogram2d"
           }
          ],
          "histogram2dcontour": [
           {
            "colorbar": {
             "outlinewidth": 0,
             "ticks": ""
            },
            "colorscale": [
             [
              0,
              "#0d0887"
             ],
             [
              0.1111111111111111,
              "#46039f"
             ],
             [
              0.2222222222222222,
              "#7201a8"
             ],
             [
              0.3333333333333333,
              "#9c179e"
             ],
             [
              0.4444444444444444,
              "#bd3786"
             ],
             [
              0.5555555555555556,
              "#d8576b"
             ],
             [
              0.6666666666666666,
              "#ed7953"
             ],
             [
              0.7777777777777778,
              "#fb9f3a"
             ],
             [
              0.8888888888888888,
              "#fdca26"
             ],
             [
              1,
              "#f0f921"
             ]
            ],
            "type": "histogram2dcontour"
           }
          ],
          "mesh3d": [
           {
            "colorbar": {
             "outlinewidth": 0,
             "ticks": ""
            },
            "type": "mesh3d"
           }
          ],
          "parcoords": [
           {
            "line": {
             "colorbar": {
              "outlinewidth": 0,
              "ticks": ""
             }
            },
            "type": "parcoords"
           }
          ],
          "pie": [
           {
            "automargin": true,
            "type": "pie"
           }
          ],
          "scatter": [
           {
            "fillpattern": {
             "fillmode": "overlay",
             "size": 10,
             "solidity": 0.2
            },
            "type": "scatter"
           }
          ],
          "scatter3d": [
           {
            "line": {
             "colorbar": {
              "outlinewidth": 0,
              "ticks": ""
             }
            },
            "marker": {
             "colorbar": {
              "outlinewidth": 0,
              "ticks": ""
             }
            },
            "type": "scatter3d"
           }
          ],
          "scattercarpet": [
           {
            "marker": {
             "colorbar": {
              "outlinewidth": 0,
              "ticks": ""
             }
            },
            "type": "scattercarpet"
           }
          ],
          "scattergeo": [
           {
            "marker": {
             "colorbar": {
              "outlinewidth": 0,
              "ticks": ""
             }
            },
            "type": "scattergeo"
           }
          ],
          "scattergl": [
           {
            "marker": {
             "colorbar": {
              "outlinewidth": 0,
              "ticks": ""
             }
            },
            "type": "scattergl"
           }
          ],
          "scattermapbox": [
           {
            "marker": {
             "colorbar": {
              "outlinewidth": 0,
              "ticks": ""
             }
            },
            "type": "scattermapbox"
           }
          ],
          "scatterpolar": [
           {
            "marker": {
             "colorbar": {
              "outlinewidth": 0,
              "ticks": ""
             }
            },
            "type": "scatterpolar"
           }
          ],
          "scatterpolargl": [
           {
            "marker": {
             "colorbar": {
              "outlinewidth": 0,
              "ticks": ""
             }
            },
            "type": "scatterpolargl"
           }
          ],
          "scatterternary": [
           {
            "marker": {
             "colorbar": {
              "outlinewidth": 0,
              "ticks": ""
             }
            },
            "type": "scatterternary"
           }
          ],
          "surface": [
           {
            "colorbar": {
             "outlinewidth": 0,
             "ticks": ""
            },
            "colorscale": [
             [
              0,
              "#0d0887"
             ],
             [
              0.1111111111111111,
              "#46039f"
             ],
             [
              0.2222222222222222,
              "#7201a8"
             ],
             [
              0.3333333333333333,
              "#9c179e"
             ],
             [
              0.4444444444444444,
              "#bd3786"
             ],
             [
              0.5555555555555556,
              "#d8576b"
             ],
             [
              0.6666666666666666,
              "#ed7953"
             ],
             [
              0.7777777777777778,
              "#fb9f3a"
             ],
             [
              0.8888888888888888,
              "#fdca26"
             ],
             [
              1,
              "#f0f921"
             ]
            ],
            "type": "surface"
           }
          ],
          "table": [
           {
            "cells": {
             "fill": {
              "color": "#EBF0F8"
             },
             "line": {
              "color": "white"
             }
            },
            "header": {
             "fill": {
              "color": "#C8D4E3"
             },
             "line": {
              "color": "white"
             }
            },
            "type": "table"
           }
          ]
         },
         "layout": {
          "annotationdefaults": {
           "arrowcolor": "#2a3f5f",
           "arrowhead": 0,
           "arrowwidth": 1
          },
          "autotypenumbers": "strict",
          "coloraxis": {
           "colorbar": {
            "outlinewidth": 0,
            "ticks": ""
           }
          },
          "colorscale": {
           "diverging": [
            [
             0,
             "#8e0152"
            ],
            [
             0.1,
             "#c51b7d"
            ],
            [
             0.2,
             "#de77ae"
            ],
            [
             0.3,
             "#f1b6da"
            ],
            [
             0.4,
             "#fde0ef"
            ],
            [
             0.5,
             "#f7f7f7"
            ],
            [
             0.6,
             "#e6f5d0"
            ],
            [
             0.7,
             "#b8e186"
            ],
            [
             0.8,
             "#7fbc41"
            ],
            [
             0.9,
             "#4d9221"
            ],
            [
             1,
             "#276419"
            ]
           ],
           "sequential": [
            [
             0,
             "#0d0887"
            ],
            [
             0.1111111111111111,
             "#46039f"
            ],
            [
             0.2222222222222222,
             "#7201a8"
            ],
            [
             0.3333333333333333,
             "#9c179e"
            ],
            [
             0.4444444444444444,
             "#bd3786"
            ],
            [
             0.5555555555555556,
             "#d8576b"
            ],
            [
             0.6666666666666666,
             "#ed7953"
            ],
            [
             0.7777777777777778,
             "#fb9f3a"
            ],
            [
             0.8888888888888888,
             "#fdca26"
            ],
            [
             1,
             "#f0f921"
            ]
           ],
           "sequentialminus": [
            [
             0,
             "#0d0887"
            ],
            [
             0.1111111111111111,
             "#46039f"
            ],
            [
             0.2222222222222222,
             "#7201a8"
            ],
            [
             0.3333333333333333,
             "#9c179e"
            ],
            [
             0.4444444444444444,
             "#bd3786"
            ],
            [
             0.5555555555555556,
             "#d8576b"
            ],
            [
             0.6666666666666666,
             "#ed7953"
            ],
            [
             0.7777777777777778,
             "#fb9f3a"
            ],
            [
             0.8888888888888888,
             "#fdca26"
            ],
            [
             1,
             "#f0f921"
            ]
           ]
          },
          "colorway": [
           "#636efa",
           "#EF553B",
           "#00cc96",
           "#ab63fa",
           "#FFA15A",
           "#19d3f3",
           "#FF6692",
           "#B6E880",
           "#FF97FF",
           "#FECB52"
          ],
          "font": {
           "color": "#2a3f5f"
          },
          "geo": {
           "bgcolor": "white",
           "lakecolor": "white",
           "landcolor": "#E5ECF6",
           "showlakes": true,
           "showland": true,
           "subunitcolor": "white"
          },
          "hoverlabel": {
           "align": "left"
          },
          "hovermode": "closest",
          "mapbox": {
           "style": "light"
          },
          "paper_bgcolor": "white",
          "plot_bgcolor": "#E5ECF6",
          "polar": {
           "angularaxis": {
            "gridcolor": "white",
            "linecolor": "white",
            "ticks": ""
           },
           "bgcolor": "#E5ECF6",
           "radialaxis": {
            "gridcolor": "white",
            "linecolor": "white",
            "ticks": ""
           }
          },
          "scene": {
           "xaxis": {
            "backgroundcolor": "#E5ECF6",
            "gridcolor": "white",
            "gridwidth": 2,
            "linecolor": "white",
            "showbackground": true,
            "ticks": "",
            "zerolinecolor": "white"
           },
           "yaxis": {
            "backgroundcolor": "#E5ECF6",
            "gridcolor": "white",
            "gridwidth": 2,
            "linecolor": "white",
            "showbackground": true,
            "ticks": "",
            "zerolinecolor": "white"
           },
           "zaxis": {
            "backgroundcolor": "#E5ECF6",
            "gridcolor": "white",
            "gridwidth": 2,
            "linecolor": "white",
            "showbackground": true,
            "ticks": "",
            "zerolinecolor": "white"
           }
          },
          "shapedefaults": {
           "line": {
            "color": "#2a3f5f"
           }
          },
          "ternary": {
           "aaxis": {
            "gridcolor": "white",
            "linecolor": "white",
            "ticks": ""
           },
           "baxis": {
            "gridcolor": "white",
            "linecolor": "white",
            "ticks": ""
           },
           "bgcolor": "#E5ECF6",
           "caxis": {
            "gridcolor": "white",
            "linecolor": "white",
            "ticks": ""
           }
          },
          "title": {
           "x": 0.05
          },
          "xaxis": {
           "automargin": true,
           "gridcolor": "white",
           "linecolor": "white",
           "ticks": "",
           "title": {
            "standoff": 15
           },
           "zerolinecolor": "white",
           "zerolinewidth": 2
          },
          "yaxis": {
           "automargin": true,
           "gridcolor": "white",
           "linecolor": "white",
           "ticks": "",
           "title": {
            "standoff": 15
           },
           "zerolinecolor": "white",
           "zerolinewidth": 2
          }
         }
        },
        "width": 700,
        "xaxis": {
         "anchor": "y",
         "domain": [
          0,
          0.45
         ],
         "title": {
          "text": "年级"
         }
        },
        "xaxis2": {
         "anchor": "y2",
         "domain": [
          0.55,
          1
         ],
         "title": {
          "text": "年级"
         }
        },
        "yaxis": {
         "anchor": "x",
         "domain": [
          0,
          1
         ],
         "title": {
          "text": "段落平均长度"
         }
        },
        "yaxis2": {
         "anchor": "x2",
         "domain": [
          0,
          1
         ],
         "title": {
          "text": "段落平均长度标准差"
         }
        }
       }
      }
     },
     "metadata": {},
     "output_type": "display_data"
    }
   ],
   "source": [
    "tmp_df = cleaned_data['宏观叙事-段落长度'].copy()\n",
    "\n",
    "plot_boxplots_by_grade2('宏观叙事-段落长度', tmp_df, 3)"
   ]
  },
  {
   "cell_type": "code",
   "execution_count": null,
   "id": "347c0dda",
   "metadata": {},
   "outputs": [],
   "source": [
    "clean_data2 = {\n",
    "\t'描述性统计': cleaned_data['描述性统计'],\n",
    "\t'微观叙事-词法': pd.read_csv('./tmp/微观叙事-词法_PCA.csv'),\n",
    "\t'微观叙事-句法': pd.read_csv('./tmp/微观叙事-句法_Mean.csv'),\n",
    "\t'宏观叙事-语篇连贯性': pd.read_csv('./tmp/宏观叙事-语篇连贯性.csv'),\n",
    "\t'宏观叙事-情境模型': cleaned_data['宏观叙事-情境模型'],\n",
    "\t'宏观叙事-段落长度': cleaned_data['宏观叙事-段落长度']\n",
    "}\n",
    "\n",
    "clean_data2 = {\n",
    "\t'描述性统计': cleaned_data['描述性统计'],\n",
    "\t'微观叙事-词法': pd.read_csv('./tmp/微观叙事-词法_PCA.csv'),\n",
    "\t'微观叙事-句法': pd.read_csv('./tmp/微观叙事-句法_Mean.csv'),\n",
    "\t'宏观叙事-语篇连贯性': pd.read_csv('./tmp/宏观叙事-语篇连贯性.csv'),\n",
    "\t'宏观叙事-情境模型': cleaned_data['宏观叙事-情境模型'],\n",
    "\t'宏观叙事-段落长度': cleaned_data['宏观叙事-段落长度']\n",
    "}"
   ]
  },
  {
   "cell_type": "code",
   "execution_count": 30,
   "id": "8e9b1b62",
   "metadata": {},
   "outputs": [
    {
     "name": "stdout",
     "output_type": "stream",
     "text": [
      "已将所有特征表合并并保存到: ./tmp/全部特征合并表_融合.csv\n"
     ]
    }
   ],
   "source": [
    "from untils import merge_data_dict_to_csv\n",
    "\n",
    "merge_data_dict_to_csv(clean_data2,save_path='./tmp/全部特征合并表_融合.csv')"
   ]
  },
  {
   "cell_type": "code",
   "execution_count": 45,
   "id": "4ca73a0b",
   "metadata": {},
   "outputs": [
    {
     "data": {
      "image/png": "[encoded data removed]",
      "text/plain": [
       "<Figure size 1300x1000 with 2 Axes>"
      ]
     },
     "metadata": {},
     "output_type": "display_data"
    }
   ],
   "source": [
    "def create_feature_correlation_heatmap(df, feature_cols):\n",
    "    \"\"\"\n",
    "    输入一个DataFrame和要分析的特征列，输出这些特征之间的相关性热力图。\n",
    "    展示特征名时，仅取'-'分割后的第一个元素。\n",
    "    参数:\n",
    "        df: 包含特征的数据框\n",
    "        feature_cols: 需要分析的特征列名列表\n",
    "    \"\"\"\n",
    "    import matplotlib.pyplot as plt\n",
    "    import seaborn as sns\n",
    "    import numpy as np\n",
    "    import matplotlib as mpl\n",
    "\n",
    "    # 设置全局美化参数\n",
    "    sns.set_theme(style=\"white\", font_scale=1.25)\n",
    "    mpl.rcParams['font.sans-serif'] = ['PingFang HK']  # 支持中文\n",
    "    mpl.rcParams['axes.unicode_minus'] = False\n",
    "\n",
    "    # 只保留指定的特征列，并去除缺失值\n",
    "    data = df[feature_cols].dropna()\n",
    "    #将年级特征列提到第一列的位置\n",
    "    if '年级' in data.columns:\n",
    "        data = data[['年级'] + [col for col in data.columns if col != '年级']]\n",
    "    # 计算相关性矩阵\n",
    "    corr_matrix = data.corr()\n",
    "\n",
    "    # 处理特征名，只取'-'分割后的第一个元素\n",
    "    simple_names = [col.split('-')[0] for col in data.columns]\n",
    "    corr_matrix.index = simple_names\n",
    "    corr_matrix.columns = simple_names\n",
    "\n",
    "    # 创建掩码，仅显示矩阵下三角\n",
    "    mask = np.triu(np.ones_like(corr_matrix, dtype=bool))\n",
    "\n",
    "    # 设置更高端的色带\n",
    "    cmap = sns.diverging_palette(220, 20, as_cmap=True)\n",
    "\n",
    "    plt.figure(figsize=(13, 10))\n",
    "    # 绘制热力图\n",
    "    ax = sns.heatmap(\n",
    "        corr_matrix,\n",
    "        mask=mask,\n",
    "        annot=True,\n",
    "        fmt=\".2f\",\n",
    "        cmap=cmap,\n",
    "        center=0,\n",
    "        square=True,\n",
    "        linewidths=1.5,\n",
    "        cbar_kws={\"shrink\": 0.85, \"label\": \"相关系数\"},\n",
    "        annot_kws={\"size\": 13, \"weight\": \"bold\", \"color\": \"#222222\"}\n",
    "    )\n",
    "\n",
    "    # 美化标题和坐标轴\n",
    "    #plt.title('特征间相关性热力图', fontsize=22, fontweight='bold', color='#222222', pad=18)\n",
    "    plt.xticks(fontsize=14, rotation=35, ha='right', weight='bold')\n",
    "    plt.yticks(fontsize=14, rotation=0, weight='bold')\n",
    "    # 去除顶部和右侧边框\n",
    "    ax.spines['top'].set_visible(False)\n",
    "    ax.spines['right'].set_visible(False)\n",
    "    # 美化色条\n",
    "    cbar = ax.collections[0].colorbar\n",
    "    cbar.ax.tick_params(labelsize=13)\n",
    "    cbar.set_label(\"相关系数\", fontsize=15, weight='bold', labelpad=10)\n",
    "    plt.tight_layout()\n",
    "    plt.show()\n",
    "\n",
    "tmp_df = pd.read_csv('./tmp/全部特征合并表_融合.csv')\n",
    "cols = tmp_df.columns.to_list()\n",
    "cols.remove('文本编号')\n",
    "create_feature_correlation_heatmap(tmp_df, cols)"
   ]
  },
  {
   "cell_type": "code",
   "execution_count": 56,
   "id": "4d9d7356",
   "metadata": {},
   "outputs": [
    {
     "data": {
      "image/png": "[encoded data removed]",
      "text/plain": [
       "<Figure size 1400x550 with 2 Axes>"
      ]
     },
     "metadata": {},
     "output_type": "display_data"
    }
   ],
   "source": [
    "def create_density_plots(df, feature_cols):\n",
    "    \"\"\"\n",
    "    创建密度图展示年级间分布差异（美观高大上的版本）\n",
    "    参数:\n",
    "        df: 包含'年级'列和若干特征列的数据框\n",
    "        feature_cols: 需要展示密度的特征列名列表\n",
    "    \"\"\"\n",
    "    import matplotlib as mpl\n",
    "    # 设置全局美化参数\n",
    "    sns.set(palette=\"Set2\", font_scale=1.2, rc={\n",
    "        'axes.titlesize': 18,\n",
    "        'axes.labelsize': 15,\n",
    "        'legend.fontsize': 13,\n",
    "        'xtick.labelsize': 13,\n",
    "        'ytick.labelsize': 13,\n",
    "        'axes.titleweight': 'bold',\n",
    "        'axes.edgecolor': '#333333',\n",
    "        'axes.linewidth': 1.2,\n",
    "        'figure.facecolor': 'white',\n",
    "        'axes.facecolor': '#f7f7f7'\n",
    "    })\n",
    "    #mpl.rcParams['font.sans-serif'] = ['SimHei', 'Arial']  # 支持中文\n",
    "    mpl.rcParams['font.sans-serif'] = ['PingFang HK']  # 支持中文\n",
    "    mpl.rcParams['axes.unicode_minus'] = False\n",
    "\n",
    "    n_features = len(feature_cols)\n",
    "    n_cols = 2 if n_features <= 2 else 3\n",
    "    n_rows = (n_features + n_cols - 1) // n_cols\n",
    "    fig, axes = plt.subplots(n_rows, n_cols, figsize=(7 * n_cols, 5.5 * n_rows))\n",
    "    axes = axes.ravel()\n",
    "\n",
    "    color_palette = sns.color_palette(\"husl\", n_colors=len(df['年级'].dropna().unique()))\n",
    "\n",
    "    for idx, feature in enumerate(feature_cols):\n",
    "        if feature not in df.columns:\n",
    "            continue\n",
    "        ax = axes[idx]\n",
    "        for i, grade in enumerate(sorted(df['年级'].dropna().unique())):\n",
    "            grade_data = df[df['年级'] == grade][feature].dropna()\n",
    "            if len(grade_data) > 0:\n",
    "                sns.kdeplot(\n",
    "                    data=grade_data,\n",
    "                    label=f'{int(grade)}年级',\n",
    "                    ax=ax,\n",
    "                    fill=True,\n",
    "                    linewidth=2.5,\n",
    "                    alpha=0.7,\n",
    "                    color=color_palette[i]\n",
    "                )\n",
    "        sub_title = feature.split('-')[0]\n",
    "        ax.set_title(f'{sub_title}', fontsize=18, fontweight='bold', pad=15)\n",
    "        ax.set_xlabel('数值', fontsize=15)\n",
    "        ax.set_ylabel('密度', fontsize=15)\n",
    "        ax.legend(title='年级', loc='upper right', frameon=True, fancybox=True, shadow=True)\n",
    "        ax.grid(True, linestyle='--', alpha=0.3)\n",
    "        # 去除顶部和右侧边框\n",
    "        ax.spines['top'].set_visible(False)\n",
    "        ax.spines['right'].set_visible(False)\n",
    "\n",
    "    # 隐藏多余的子图\n",
    "    for j in range(n_features, len(axes)):\n",
    "        axes[j].set_visible(False)\n",
    "\n",
    "    #fig.suptitle('年级间分布密度对比', fontsize=22, fontweight='bold', color='#222222', y=1.03)\n",
    "    plt.tight_layout()\n",
    "    plt.subplots_adjust(top=0.92)\n",
    "    plt.show()\n",
    "\n",
    "create_density_plots(clean_data2['描述性统计'], ['单词数量-DESWC-03', '句子数量-DESSC-02'])"
   ]
  },
  {
   "cell_type": "markdown",
   "id": "3cff9683",
   "metadata": {},
   "source": [
    "### 5. 假设检验 - 正态性检验 (修正版)"
   ]
  },
  {
   "cell_type": "code",
   "execution_count": null,
   "id": "ed947b61",
   "metadata": {},
   "outputs": [
    {
     "name": "stdout",
     "output_type": "stream",
     "text": [
      "=== 正态性检验 (Shapiro-Wilk检验) ===\n",
      "\n",
      "描述性统计 正态性检验结果:\n",
      "\n",
      "变量: 单词数量-DESWC-03\n",
      "  1年级: W=0.9719, p=0.0351\n",
      "    → 拒绝正态性假设 (p < 0.05)\n",
      "  2年级: W=0.9618, p=0.0054\n",
      "    → 拒绝正态性假设 (p < 0.05)\n",
      "  3年级: W=0.9777, p=0.0879\n",
      "    → 接受正态性假设 (p ≥ 0.05)\n",
      "\n",
      "变量: 句子数量-DESSC-02\n",
      "  1年级: W=0.9748, p=0.0588\n",
      "    → 接受正态性假设 (p ≥ 0.05)\n",
      "  2年级: W=0.9659, p=0.0108\n",
      "    → 拒绝正态性假设 (p < 0.05)\n",
      "  3年级: W=0.9648, p=0.0089\n",
      "    → 拒绝正态性假设 (p < 0.05)\n",
      "\n",
      "微观叙事-词法 正态性检验结果:\n",
      "\n",
      "变量: 多样性-LDVOCDa（51）\n",
      "  1年级: W=0.9670, p=0.0230\n",
      "    → 拒绝正态性假设 (p < 0.05)\n",
      "  2年级: W=0.9921, p=0.9111\n",
      "    → 接受正态性假设 (p ≥ 0.05)\n",
      "  3年级: W=0.9798, p=0.2169\n",
      "    → 接受正态性假设 (p ≥ 0.05)\n",
      "\n",
      "变量: 密度-WRDFRQC（94）\n",
      "  1年级: W=0.9818, p=0.2472\n",
      "    → 接受正态性假设 (p ≥ 0.05)\n",
      "  2年级: W=0.9899, p=0.7896\n",
      "    → 接受正态性假设 (p ≥ 0.05)\n",
      "  3年级: W=0.9860, p=0.5053\n",
      "    → 接受正态性假设 (p ≥ 0.05)\n",
      "\n",
      "变量: 复杂度-K1\n",
      "  1年级: W=0.9831, p=0.3010\n",
      "    → 接受正态性假设 (p ≥ 0.05)\n",
      "  2年级: W=0.9698, p=0.0549\n",
      "    → 接受正态性假设 (p ≥ 0.05)\n",
      "  3年级: W=0.9876, p=0.6124\n",
      "    → 接受正态性假设 (p ≥ 0.05)\n",
      "\n",
      "微观叙事-句法 正态性检验结果:\n",
      "\n",
      "变量: 短语长度-SYNLE（69）\n",
      "  1年级: W=0.9676, p=0.0217\n",
      "    → 拒绝正态性假设 (p < 0.05)\n",
      "  2年级: W=0.9702, p=0.0399\n",
      "    → 拒绝正态性假设 (p < 0.05)\n",
      "  3年级: W=0.9856, p=0.4480\n",
      "    → 接受正态性假设 (p ≥ 0.05)\n",
      "\n",
      "变量: 短语长度-SYNNP（70）\n",
      "  1年级: W=0.9941, p=0.9606\n",
      "    → 接受正态性假设 (p ≥ 0.05)\n",
      "  2年级: W=0.9919, p=0.8697\n",
      "    → 接受正态性假设 (p ≥ 0.05)\n",
      "  3年级: W=0.9635, p=0.0149\n",
      "    → 拒绝正态性假设 (p < 0.05)\n",
      "\n",
      "变量: 短语密度-DRNP（76）\n",
      "  1年级: W=0.9845, p=0.3479\n",
      "    → 接受正态性假设 (p ≥ 0.05)\n",
      "  2年级: W=0.9854, p=0.4277\n",
      "    → 接受正态性假设 (p ≥ 0.05)\n",
      "  3年级: W=0.9901, p=0.7565\n",
      "    → 接受正态性假设 (p ≥ 0.05)\n",
      "\n",
      "宏观叙事-语篇连贯性 正态性检验结果:\n",
      "\n",
      "变量: 局部连贯-CRFAO1（29）\n",
      "  1年级: W=0.9899, p=0.7359\n",
      "    → 接受正态性假设 (p ≥ 0.05)\n",
      "  2年级: W=0.9911, p=0.8129\n",
      "    → 接受正态性假设 (p ≥ 0.05)\n",
      "  3年级: W=0.9874, p=0.6053\n",
      "    → 接受正态性假设 (p ≥ 0.05)\n",
      "\n",
      "变量: 局部连贯-CRFSO1（30）\n",
      "  1年级: W=0.9294, p=0.0001\n",
      "    → 拒绝正态性假设 (p < 0.05)\n",
      "  2年级: W=0.9350, p=0.0002\n",
      "    → 拒绝正态性假设 (p < 0.05)\n",
      "  3年级: W=0.9661, p=0.0290\n",
      "    → 拒绝正态性假设 (p < 0.05)\n",
      "\n",
      "变量: 局部连贯-LSASS1(40)\n",
      "  1年级: W=0.9823, p=0.2744\n",
      "    → 接受正态性假设 (p ≥ 0.05)\n",
      "  2年级: W=0.9918, p=0.8583\n",
      "    → 接受正态性假设 (p ≥ 0.05)\n",
      "  3年级: W=0.9877, p=0.6254\n",
      "    → 接受正态性假设 (p ≥ 0.05)\n",
      "\n",
      "宏观叙事-情境模型 正态性检验结果:\n",
      "\n",
      "变量: 因果衔接-SMCAUSr-64\n",
      "  1年级: W=0.9491, p=0.0008\n",
      "    → 拒绝正态性假设 (p < 0.05)\n",
      "  2年级: W=0.8780, p=0.0000\n",
      "    → 拒绝正态性假设 (p < 0.05)\n",
      "  3年级: W=0.9570, p=0.0060\n",
      "    → 拒绝正态性假设 (p < 0.05)\n",
      "\n",
      "变量: 意图衔接-SMINTEr-65\n",
      "  1年级: W=0.9787, p=0.1130\n",
      "    → 接受正态性假设 (p ≥ 0.05)\n",
      "  2年级: W=0.9709, p=0.0343\n",
      "    → 拒绝正态性假设 (p < 0.05)\n",
      "  3年级: W=0.9690, p=0.0364\n",
      "    → 拒绝正态性假设 (p < 0.05)\n",
      "\n",
      "变量: 时体衔接-SMTEMP-68\n",
      "  1年级: W=0.9505, p=0.0010\n",
      "    → 拒绝正态性假设 (p < 0.05)\n",
      "  2年级: W=0.9649, p=0.0127\n",
      "    → 拒绝正态性假设 (p < 0.05)\n",
      "  3年级: W=0.9601, p=0.0094\n",
      "    → 拒绝正态性假设 (p < 0.05)\n",
      "\n",
      "宏观叙事-段落长度 正态性检验结果:\n",
      "\n",
      "变量: 段落平均长度-DESPL-04\n",
      "  1年级: W=0.9751, p=0.0590\n",
      "    → 接受正态性假设 (p ≥ 0.05)\n",
      "  2年级: W=0.9642, p=0.0095\n",
      "    → 拒绝正态性假设 (p < 0.05)\n",
      "  3年级: W=0.9648, p=0.0089\n",
      "    → 拒绝正态性假设 (p < 0.05)\n",
      "\n",
      "变量: 段落平均长度标准差-DESPLd-05\n",
      "  1年级: W=0.9293, p=0.0001\n",
      "    → 拒绝正态性假设 (p < 0.05)\n",
      "  2年级: W=0.9491, p=0.0009\n",
      "    → 拒绝正态性假设 (p < 0.05)\n",
      "  3年级: W=0.9014, p=0.0000\n",
      "    → 拒绝正态性假设 (p < 0.05)\n"
     ]
    }
   ],
   "source": [
    "\n",
    "\n",
    "def normality_test_improved(cleaned_data):\n",
    "    \"\"\"正态性检验 (修正版)\"\"\"\n",
    "    print(\"=== 正态性检验 (Shapiro-Wilk检验) ===\")\n",
    "    \n",
    "    normality_results = {}\n",
    "    \n",
    "    for name, df in cleaned_data.items():\n",
    "        if '年级' not in df.columns:\n",
    "            print(f\"\\n{name}: 跳过（无年级信息）\")\n",
    "            continue\n",
    "            \n",
    "        print(f\"\\n{name} 正态性检验结果:\")\n",
    "        \n",
    "        # 识别数值列（排除年级列）\n",
    "        numeric_cols = df.select_dtypes(include=[np.number]).columns\n",
    "        numeric_cols = [col for col in numeric_cols if col != '年级']\n",
    "        \n",
    "        if len(numeric_cols) > 0:\n",
    "            normality_results[name] = {}\n",
    "            \n",
    "            for col in numeric_cols[:3]:  # 只检验前3个数值列\n",
    "                print(f\"\\n变量: {col}\")\n",
    "                \n",
    "                for grade in sorted(df['年级'].unique()):\n",
    "                    data = df[df['年级'] == grade][col].dropna()\n",
    "                    if len(data) >= 3:  # 至少需要3个数据点\n",
    "                        stat, p_value = shapiro(data)\n",
    "                        print(f\"  {int(grade)}年级: W={stat:.4f}, p={p_value:.4f}\")\n",
    "                        \n",
    "                        if p_value < 0.05:\n",
    "                            print(f\"    → 拒绝正态性假设 (p < 0.05)\")\n",
    "                        else:\n",
    "                            print(f\"    → 接受正态性假设 (p ≥ 0.05)\")\n",
    "                        \n",
    "                        normality_results[name][f\"{col}_{int(grade)}年级\"] = {\n",
    "                            'statistic': stat,\n",
    "                            'p_value': p_value,\n",
    "                            'is_normal': p_value >= 0.05,\n",
    "                            'sample_size': len(data)\n",
    "                        }\n",
    "                    else:\n",
    "                        print(f\"  {int(grade)}年级: 样本量不足 ({len(data)} < 3)\")\n",
    "        else:\n",
    "            print(\"未找到合适的数值列进行检验\")\n",
    "    \n",
    "    return normality_results\n",
    "\n",
    "# 执行正态性检验\n",
    "normality_results = normality_test_improved(cleaned_data)"
   ]
  },
  {
   "cell_type": "code",
   "execution_count": 9,
   "id": "a45011b8",
   "metadata": {},
   "outputs": [
    {
     "name": "stdout",
     "output_type": "stream",
     "text": [
      "=== 单因素方差分析 (ANOVA) ===\n",
      "\n",
      "描述性统计 ANOVA分析结果:\n",
      "\n",
      "变量: 单词数量-DESWC-03\n",
      "  F统计量: 24.8595\n",
      "  p值: 0.0000\n",
      "  效应量 (η²): 0.1446\n",
      "  效应大小: 大效应\n",
      "  显著性: p < 0.001\n",
      "  → 存在显著的年级间差异\n",
      "  各年级均值:\n",
      "    1年级: 197.5052 (n=97)\n",
      "    2年级: 181.8600 (n=100)\n",
      "    3年级: 216.3300 (n=100)\n",
      "\n",
      "变量: 句子数量-DESSC-02\n",
      "  F统计量: 5.0788\n",
      "  p值: 0.0068\n",
      "  效应量 (η²): 0.0334\n",
      "  效应大小: 中等效应\n",
      "  显著性: p < 0.01\n",
      "  → 存在显著的年级间差异\n",
      "  各年级均值:\n",
      "    1年级: 14.6804 (n=97)\n",
      "    2年级: 13.3900 (n=100)\n",
      "    3年级: 13.7900 (n=100)\n",
      "\n",
      "微观叙事-词法 ANOVA分析结果:\n",
      "\n",
      "变量: 多样性-LDVOCDa（51）\n",
      "  F统计量: 2.3264\n",
      "  p值: 0.0998\n",
      "  效应量 (η²): 0.0183\n",
      "  效应大小: 中等效应\n",
      "  显著性: p ≥ 0.05\n",
      "  → 无显著的年级间差异\n",
      "  各年级均值:\n",
      "    1年级: 86.2227 (n=89)\n",
      "    2年级: 82.7233 (n=80)\n",
      "    3年级: 87.2472 (n=83)\n",
      "\n",
      "变量: 密度-WRDFRQC（94）\n",
      "  F统计量: 28.0253\n",
      "  p值: 0.0000\n",
      "  效应量 (η²): 0.1837\n",
      "  效应大小: 大效应\n",
      "  显著性: p < 0.001\n",
      "  → 存在显著的年级间差异\n",
      "  各年级均值:\n",
      "    1年级: 2.3397 (n=89)\n",
      "    2年级: 2.2617 (n=80)\n",
      "    3年级: 2.2040 (n=83)\n",
      "\n",
      "变量: 复杂度-K1\n",
      "  F统计量: 28.6133\n",
      "  p值: 0.0000\n",
      "  效应量 (η²): 0.1869\n",
      "  效应大小: 大效应\n",
      "  显著性: p < 0.001\n",
      "  → 存在显著的年级间差异\n",
      "  各年级均值:\n",
      "    1年级: 88.0536 (n=89)\n",
      "    2年级: 86.1548 (n=80)\n",
      "    3年级: 84.5123 (n=83)\n",
      "\n",
      "微观叙事-句法 ANOVA分析结果:\n",
      "\n",
      "变量: 短语长度-SYNLE（69）\n",
      "  F统计量: 14.1020\n",
      "  p值: 0.0000\n",
      "  效应量 (η²): 0.0965\n",
      "  效应大小: 大效应\n",
      "  显著性: p < 0.001\n",
      "  → 存在显著的年级间差异\n",
      "  各年级均值:\n",
      "    1年级: 3.4382 (n=92)\n",
      "    2年级: 3.5313 (n=88)\n",
      "    3年级: 4.2027 (n=87)\n",
      "\n",
      "变量: 短语长度-SYNNP（70）\n",
      "  F统计量: 21.3367\n",
      "  p值: 0.0000\n",
      "  效应量 (η²): 0.1391\n",
      "  效应大小: 大效应\n",
      "  显著性: p < 0.001\n",
      "  → 存在显著的年级间差异\n",
      "  各年级均值:\n",
      "    1年级: 0.6306 (n=92)\n",
      "    2年级: 0.7075 (n=88)\n",
      "    3年级: 0.7469 (n=87)\n",
      "\n",
      "变量: 短语密度-DRNP（76）\n",
      "  F统计量: 4.9502\n",
      "  p值: 0.0078\n",
      "  效应量 (η²): 0.0361\n",
      "  效应大小: 中等效应\n",
      "  显著性: p < 0.01\n",
      "  → 存在显著的年级间差异\n",
      "  各年级均值:\n",
      "    1年级: 332.1424 (n=92)\n",
      "    2年级: 344.4251 (n=88)\n",
      "    3年级: 336.8614 (n=87)\n",
      "\n",
      "宏观叙事-语篇连贯性 ANOVA分析结果:\n",
      "\n",
      "变量: 局部连贯-CRFAO1（29）\n",
      "  F统计量: 0.4714\n",
      "  p值: 0.6247\n",
      "  效应量 (η²): 0.0037\n",
      "  效应大小: 小效应\n",
      "  显著性: p ≥ 0.05\n",
      "  → 无显著的年级间差异\n",
      "  各年级均值:\n",
      "    1年级: 0.5903 (n=88)\n",
      "    2年级: 0.5765 (n=89)\n",
      "    3年级: 0.6007 (n=82)\n",
      "\n",
      "变量: 局部连贯-CRFSO1（30）\n",
      "  F统计量: 1.6429\n",
      "  p值: 0.1955\n",
      "  效应量 (η²): 0.0127\n",
      "  效应大小: 中等效应\n",
      "  显著性: p ≥ 0.05\n",
      "  → 无显著的年级间差异\n",
      "  各年级均值:\n",
      "    1年级: 0.1140 (n=88)\n",
      "    2年级: 0.1308 (n=89)\n",
      "    3年级: 0.1389 (n=82)\n",
      "\n",
      "变量: 局部连贯-LSASS1(40)\n",
      "  F统计量: 1.3071\n",
      "  p值: 0.2724\n",
      "  效应量 (η²): 0.0101\n",
      "  效应大小: 中等效应\n",
      "  显著性: p ≥ 0.05\n",
      "  → 无显著的年级间差异\n",
      "  各年级均值:\n",
      "    1年级: 0.1093 (n=88)\n",
      "    2年级: 0.1166 (n=89)\n",
      "    3年级: 0.1098 (n=82)\n",
      "\n",
      "宏观叙事-情境模型 ANOVA分析结果:\n",
      "\n",
      "变量: 因果衔接-SMCAUSr-64\n",
      "  F统计量: 6.0466\n",
      "  p值: 0.0027\n",
      "  效应量 (η²): 0.0421\n",
      "  效应大小: 中等效应\n",
      "  显著性: p < 0.01\n",
      "  → 存在显著的年级间差异\n",
      "  各年级均值:\n",
      "    1年级: 0.3119 (n=98)\n",
      "    2年级: 0.2302 (n=94)\n",
      "    3年级: 0.2263 (n=86)\n",
      "\n",
      "变量: 意图衔接-SMINTEr-65\n",
      "  F统计量: 2.5870\n",
      "  p值: 0.0771\n",
      "  效应量 (η²): 0.0185\n",
      "  效应大小: 中等效应\n",
      "  显著性: p ≥ 0.05\n",
      "  → 无显著的年级间差异\n",
      "  各年级均值:\n",
      "    1年级: 0.3161 (n=98)\n",
      "    2年级: 0.3658 (n=94)\n",
      "    3年级: 0.3814 (n=86)\n",
      "\n",
      "变量: 时体衔接-SMTEMP-68\n",
      "  F统计量: 2.5077\n",
      "  p值: 0.0833\n",
      "  效应量 (η²): 0.0179\n",
      "  效应大小: 中等效应\n",
      "  显著性: p ≥ 0.05\n",
      "  → 无显著的年级间差异\n",
      "  各年级均值:\n",
      "    1年级: 0.8540 (n=98)\n",
      "    2年级: 0.8798 (n=94)\n",
      "    3年级: 0.8753 (n=86)\n",
      "\n",
      "宏观叙事-段落长度 ANOVA分析结果:\n",
      "\n",
      "变量: 段落平均长度-DESPL-04\n",
      "  F统计量: 5.5100\n",
      "  p值: 0.0045\n",
      "  效应量 (η²): 0.0364\n",
      "  效应大小: 中等效应\n",
      "  显著性: p < 0.01\n",
      "  → 存在显著的年级间差异\n",
      "  各年级均值:\n",
      "    1年级: 7.3163 (n=98)\n",
      "    2年级: 6.6340 (n=97)\n",
      "    3年级: 6.8950 (n=100)\n",
      "\n",
      "变量: 段落平均长度标准差-DESPLd-05\n",
      "  F统计量: 14.3200\n",
      "  p值: 0.0000\n",
      "  效应量 (η²): 0.0893\n",
      "  效应大小: 大效应\n",
      "  显著性: p < 0.001\n",
      "  → 存在显著的年级间差异\n",
      "  各年级均值:\n",
      "    1年级: 1.7316 (n=98)\n",
      "    2年级: 2.3837 (n=97)\n",
      "    3年级: 1.4211 (n=100)\n"
     ]
    }
   ],
   "source": [
    "# 7. 单因素方差分析 (ANOVA) - 修正版\n",
    "\n",
    "def one_way_anova_improved(cleaned_data):\n",
    "    \"\"\"单因素方差分析 (修正版)\"\"\"\n",
    "    print(\"=== 单因素方差分析 (ANOVA) ===\")\n",
    "    \n",
    "    anova_results = {}\n",
    "    \n",
    "    for name, df in cleaned_data.items():\n",
    "        if '年级' not in df.columns:\n",
    "            print(f\"\\n{name}: 跳过（无年级信息）\")\n",
    "            continue\n",
    "            \n",
    "        print(f\"\\n{name} ANOVA分析结果:\")\n",
    "        \n",
    "        # 识别数值列（排除年级列）\n",
    "        numeric_cols = df.select_dtypes(include=[np.number]).columns\n",
    "        numeric_cols = [col for col in numeric_cols if col != '年级']\n",
    "        \n",
    "        if len(numeric_cols) > 0:\n",
    "            anova_results[name] = {}\n",
    "            \n",
    "            for col in numeric_cols[:3]:  # 只分析前3个数值列\n",
    "                print(f\"\\n变量: {col}\")\n",
    "                \n",
    "                # 准备数据\n",
    "                groups = []\n",
    "                labels = []\n",
    "                \n",
    "                for grade in sorted(df['年级'].unique()):\n",
    "                    data = df[df['年级'] == grade][col].dropna()\n",
    "                    if len(data) >= 2:\n",
    "                        groups.append(data)\n",
    "                        labels.append(f\"{int(grade)}年级\")\n",
    "                \n",
    "                if len(groups) >= 2:\n",
    "                    # 执行ANOVA\n",
    "                    f_stat, p_value = f_oneway(*groups)\n",
    "                    \n",
    "                    # 计算效应量 (η²)\n",
    "                    all_data = np.concatenate(groups)\n",
    "                    total_mean = np.mean(all_data)\n",
    "                    \n",
    "                    total_ss = sum([(x - total_mean)**2 for x in all_data])\n",
    "                    between_ss = sum([len(g) * (np.mean(g) - total_mean)**2 for g in groups])\n",
    "                    eta_squared = between_ss / total_ss if total_ss > 0 else 0\n",
    "                    \n",
    "                    print(f\"  F统计量: {f_stat:.4f}\")\n",
    "                    print(f\"  p值: {p_value:.4f}\")\n",
    "                    print(f\"  效应量 (η²): {eta_squared:.4f}\")\n",
    "                    \n",
    "                    # 解释效应量\n",
    "                    if eta_squared < 0.01:\n",
    "                        effect_size = \"小效应\"\n",
    "                    elif eta_squared < 0.06:\n",
    "                        effect_size = \"中等效应\"\n",
    "                    else:\n",
    "                        effect_size = \"大效应\"\n",
    "                    \n",
    "                    print(f\"  效应大小: {effect_size}\")\n",
    "                    \n",
    "                    if p_value < 0.001:\n",
    "                        sig_level = \"p < 0.001\"\n",
    "                    elif p_value < 0.01:\n",
    "                        sig_level = \"p < 0.01\"\n",
    "                    elif p_value < 0.05:\n",
    "                        sig_level = \"p < 0.05\"\n",
    "                    else:\n",
    "                        sig_level = \"p ≥ 0.05\"\n",
    "                    \n",
    "                    print(f\"  显著性: {sig_level}\")\n",
    "                    \n",
    "                    if p_value < 0.05:\n",
    "                        print(f\"  → 存在显著的年级间差异\")\n",
    "                    else:\n",
    "                        print(f\"  → 无显著的年级间差异\")\n",
    "                    \n",
    "                    # 显示各年级均值\n",
    "                    print(f\"  各年级均值:\")\n",
    "                    for i, (group, label) in enumerate(zip(groups, labels)):\n",
    "                        print(f\"    {label}: {np.mean(group):.4f} (n={len(group)})\")\n",
    "                    \n",
    "                    anova_results[name][col] = {\n",
    "                        'f_statistic': f_stat,\n",
    "                        'p_value': p_value,\n",
    "                        'eta_squared': eta_squared,\n",
    "                        'effect_size': effect_size,\n",
    "                        'is_significant': p_value < 0.05,\n",
    "                        'group_means': {label: np.mean(group) for group, label in zip(groups, labels)},\n",
    "                        'group_sizes': {label: len(group) for group, label in zip(groups, labels)}\n",
    "                    }\n",
    "                else:\n",
    "                    print(\"  数据不足，无法进行分析\")\n",
    "        else:\n",
    "            print(\"未找到合适的数值列进行分析\")\n",
    "    \n",
    "    return anova_results\n",
    "\n",
    "# 执行ANOVA分析\n",
    "anova_results = one_way_anova_improved(cleaned_data)"
   ]
  },
  {
   "cell_type": "code",
   "execution_count": 10,
   "id": "ee8e3549",
   "metadata": {},
   "outputs": [
    {
     "name": "stdout",
     "output_type": "stream",
     "text": [
      "=== 事后检验 (Tukey HSD) ===\n",
      "\n",
      "描述性统计 事后检验结果:\n",
      "\n",
      "变量: 单词数量-DESWC-03 (ANOVA显著，进行事后检验)\n",
      "  两两比较结果:\n",
      "    1年级 vs 2年级:\n",
      "      差异: 15.6452\n",
      "      p值: 0.0048\n",
      "      95%置信区间: [[[-11.70866173   4.02463967 -30.44536033]\n",
      " [-27.2656696  -11.53169444 -46.00169444]\n",
      " [  7.2043304   22.93830556 -11.53169444]], [[ 11.70866173  27.2656696   -7.2043304 ]\n",
      " [ -4.02463967  11.53169444 -22.93830556]\n",
      " [ 30.44536033  46.00169444  11.53169444]]]\n",
      "      → 显著差异\n",
      "    1年级 vs 3年级:\n",
      "      差异: -18.8248\n",
      "      p值: 0.0005\n",
      "      95%置信区间: [[[-11.70866173   4.02463967 -30.44536033]\n",
      " [-27.2656696  -11.53169444 -46.00169444]\n",
      " [  7.2043304   22.93830556 -11.53169444]], [[ 11.70866173  27.2656696   -7.2043304 ]\n",
      " [ -4.02463967  11.53169444 -22.93830556]\n",
      " [ 30.44536033  46.00169444  11.53169444]]]\n",
      "      → 显著差异\n",
      "    2年级 vs 3年级:\n",
      "      差异: -34.4700\n",
      "      p值: 0.0000\n",
      "      95%置信区间: [[[-11.70866173   4.02463967 -30.44536033]\n",
      " [-27.2656696  -11.53169444 -46.00169444]\n",
      " [  7.2043304   22.93830556 -11.53169444]], [[ 11.70866173  27.2656696   -7.2043304 ]\n",
      " [ -4.02463967  11.53169444 -22.93830556]\n",
      " [ 30.44536033  46.00169444  11.53169444]]]\n",
      "      → 显著差异\n",
      "\n",
      "变量: 句子数量-DESSC-02 (ANOVA显著，进行事后检验)\n",
      "  两两比较结果:\n",
      "    1年级 vs 2年级:\n",
      "      差异: 1.2904\n",
      "      p值: 0.0057\n",
      "      95%置信区间: [[[-0.98230229  0.31550518 -0.08449482]\n",
      " [-2.26531956 -0.96745556 -1.36745556]\n",
      " [-1.86531956 -0.56745556 -0.96745556]], [[ 0.98230229  2.26531956  1.86531956]\n",
      " [-0.31550518  0.96745556  0.56745556]\n",
      " [ 0.08449482  1.36745556  0.96745556]]]\n",
      "      → 显著差异\n",
      "    1年级 vs 3年级:\n",
      "      差异: 0.8904\n",
      "      p值: 0.0815\n",
      "      95%置信区间: [[[-0.98230229  0.31550518 -0.08449482]\n",
      " [-2.26531956 -0.96745556 -1.36745556]\n",
      " [-1.86531956 -0.56745556 -0.96745556]], [[ 0.98230229  2.26531956  1.86531956]\n",
      " [-0.31550518  0.96745556  0.56745556]\n",
      " [ 0.08449482  1.36745556  0.96745556]]]\n",
      "      → 无显著差异\n",
      "    2年级 vs 3年级:\n",
      "      差异: -0.4000\n",
      "      p值: 0.5939\n",
      "      95%置信区间: [[[-0.98230229  0.31550518 -0.08449482]\n",
      " [-2.26531956 -0.96745556 -1.36745556]\n",
      " [-1.86531956 -0.56745556 -0.96745556]], [[ 0.98230229  2.26531956  1.86531956]\n",
      " [-0.31550518  0.96745556  0.56745556]\n",
      " [ 0.08449482  1.36745556  0.96745556]]]\n",
      "      → 无显著差异\n",
      "\n",
      "微观叙事-词法 事后检验结果:\n",
      "\n",
      "变量: 多样性-LDVOCDa（51） (ANOVA不显著，跳过事后检验)\n",
      "\n",
      "变量: 密度-WRDFRQC（94） (ANOVA显著，进行事后检验)\n",
      "  两两比较结果:\n",
      "    1年级 vs 2年级:\n",
      "      差异: 0.0780\n",
      "      p值: 0.0001\n",
      "      95%置信区间: [[[-0.04220011  0.03461843  0.09270773]\n",
      " [-0.12135993 -0.04451061  0.01356797]\n",
      " [-0.17861972 -0.10178112 -0.0436988 ]], [[ 0.04220011  0.12135993  0.17861972]\n",
      " [-0.03461843  0.04451061  0.10178112]\n",
      " [-0.09270773 -0.01356797  0.0436988 ]]]\n",
      "      → 显著差异\n",
      "    1年级 vs 3年级:\n",
      "      差异: 0.1357\n",
      "      p值: 0.0000\n",
      "      95%置信区间: [[[-0.04220011  0.03461843  0.09270773]\n",
      " [-0.12135993 -0.04451061  0.01356797]\n",
      " [-0.17861972 -0.10178112 -0.0436988 ]], [[ 0.04220011  0.12135993  0.17861972]\n",
      " [-0.03461843  0.04451061  0.10178112]\n",
      " [-0.09270773 -0.01356797  0.0436988 ]]]\n",
      "      → 显著差异\n",
      "    2年级 vs 3年级:\n",
      "      差异: 0.0577\n",
      "      p值: 0.0064\n",
      "      95%置信区间: [[[-0.04220011  0.03461843  0.09270773]\n",
      " [-0.12135993 -0.04451061  0.01356797]\n",
      " [-0.17861972 -0.10178112 -0.0436988 ]], [[ 0.04220011  0.12135993  0.17861972]\n",
      " [-0.03461843  0.04451061  0.10178112]\n",
      " [-0.09270773 -0.01356797  0.0436988 ]]]\n",
      "      → 显著差异\n",
      "\n",
      "变量: 复杂度-K1 (ANOVA显著，进行事后检验)\n",
      "  两两比较结果:\n",
      "    1年级 vs 2年级:\n",
      "      差异: 1.8988\n",
      "      p值: 0.0002\n",
      "      95%置信区间: [[[-1.08629203  0.78237201  2.43547409]\n",
      " [-3.01522406 -1.14576777  0.50705836]\n",
      " [-4.64697319 -2.77779285 -1.12487056]], [[ 1.08629203  3.01522406  4.64697319]\n",
      " [-0.78237201  1.14576777  2.77779285]\n",
      " [-2.43547409 -0.50705836  1.12487056]]]\n",
      "      → 显著差异\n",
      "    1年级 vs 3年级:\n",
      "      差异: 3.5412\n",
      "      p值: 0.0000\n",
      "      95%置信区间: [[[-1.08629203  0.78237201  2.43547409]\n",
      " [-3.01522406 -1.14576777  0.50705836]\n",
      " [-4.64697319 -2.77779285 -1.12487056]], [[ 1.08629203  3.01522406  4.64697319]\n",
      " [-0.78237201  1.14576777  2.77779285]\n",
      " [-2.43547409 -0.50705836  1.12487056]]]\n",
      "      → 显著差异\n",
      "    2年级 vs 3年级:\n",
      "      差异: 1.6424\n",
      "      p值: 0.0022\n",
      "      95%置信区间: [[[-1.08629203  0.78237201  2.43547409]\n",
      " [-3.01522406 -1.14576777  0.50705836]\n",
      " [-4.64697319 -2.77779285 -1.12487056]], [[ 1.08629203  3.01522406  4.64697319]\n",
      " [-0.78237201  1.14576777  2.77779285]\n",
      " [-2.43547409 -0.50705836  1.12487056]]]\n",
      "      → 显著差异\n",
      "\n",
      "微观叙事-句法 事后检验结果:\n",
      "\n",
      "变量: 短语长度-SYNLE（69） (ANOVA显著，进行事后检验)\n",
      "  两两比较结果:\n",
      "    1年级 vs 2年级:\n",
      "      差异: -0.0931\n",
      "      p值: 0.8211\n",
      "      95%置信区间: [[[-0.36262972 -0.45982569 -1.13230665]\n",
      " [-0.27362904 -0.37077972 -1.04324897]\n",
      " [ 0.39670062  0.29956166 -0.37290455]], [[ 0.36262972  0.27362904 -0.39670062]\n",
      " [ 0.45982569  0.37077972 -0.29956166]\n",
      " [ 1.13230665  1.04324897  0.37290455]]]\n",
      "      → 无显著差异\n",
      "    1年级 vs 3年级:\n",
      "      差异: -0.7645\n",
      "      p值: 0.0000\n",
      "      95%置信区间: [[[-0.36262972 -0.45982569 -1.13230665]\n",
      " [-0.27362904 -0.37077972 -1.04324897]\n",
      " [ 0.39670062  0.29956166 -0.37290455]], [[ 0.36262972  0.27362904 -0.39670062]\n",
      " [ 0.45982569  0.37077972 -0.29956166]\n",
      " [ 1.13230665  1.04324897  0.37290455]]]\n",
      "      → 显著差异\n",
      "    2年级 vs 3年级:\n",
      "      差异: -0.6714\n",
      "      p值: 0.0001\n",
      "      95%置信区间: [[[-0.36262972 -0.45982569 -1.13230665]\n",
      " [-0.27362904 -0.37077972 -1.04324897]\n",
      " [ 0.39670062  0.29956166 -0.37290455]], [[ 0.36262972  0.27362904 -0.39670062]\n",
      " [ 0.45982569  0.37077972 -0.29956166]\n",
      " [ 1.13230665  1.04324897  0.37290455]]]\n",
      "      → 显著差异\n",
      "\n",
      "变量: 短语长度-SYNNP（70） (ANOVA显著，进行事后检验)\n",
      "  两两比较结果:\n",
      "    1年级 vs 2年级:\n",
      "      差异: -0.0769\n",
      "      p值: 0.0001\n",
      "      95%置信区间: [[[-0.04220611 -0.11955161 -0.15913056]\n",
      " [ 0.03418555 -0.04315468 -0.08273227]\n",
      " [ 0.07351411 -0.00382475 -0.04340199]], [[ 0.04220611 -0.03418555 -0.07351411]\n",
      " [ 0.11955161  0.04315468  0.00382475]\n",
      " [ 0.15913056  0.08273227  0.04340199]]]\n",
      "      → 显著差异\n",
      "    1年级 vs 3年级:\n",
      "      差异: -0.1163\n",
      "      p值: 0.0000\n",
      "      95%置信区间: [[[-0.04220611 -0.11955161 -0.15913056]\n",
      " [ 0.03418555 -0.04315468 -0.08273227]\n",
      " [ 0.07351411 -0.00382475 -0.04340199]], [[ 0.04220611 -0.03418555 -0.07351411]\n",
      " [ 0.11955161  0.04315468  0.00382475]\n",
      " [ 0.15913056  0.08273227  0.04340199]]]\n",
      "      → 显著差异\n",
      "    2年级 vs 3年级:\n",
      "      差异: -0.0395\n",
      "      p值: 0.0822\n",
      "      95%置信区间: [[[-0.04220611 -0.11955161 -0.15913056]\n",
      " [ 0.03418555 -0.04315468 -0.08273227]\n",
      " [ 0.07351411 -0.00382475 -0.04340199]], [[ 0.04220611 -0.03418555 -0.07351411]\n",
      " [ 0.11955161  0.04315468  0.00382475]\n",
      " [ 0.15913056  0.08273227  0.04340199]]]\n",
      "      → 无显著差异\n",
      "\n",
      "变量: 短语密度-DRNP（76） (ANOVA显著，进行事后检验)\n",
      "  两两比较结果:\n",
      "    1年级 vs 2年级:\n",
      "      差异: -12.2826\n",
      "      p值: 0.0056\n",
      "      95%置信区间: [[[ -9.16279705 -21.54896665 -14.01250447]\n",
      " [  3.01629712  -9.36872831  -1.83196994]\n",
      " [ -4.57452357 -16.95925281  -9.42241774]], [[ 9.16279705 -3.01629712  4.57452357]\n",
      " [21.54896665  9.36872831 16.95925281]\n",
      " [14.01250447  1.83196994  9.42241774]]]\n",
      "      → 显著差异\n",
      "    1年级 vs 3年级:\n",
      "      差异: -4.7190\n",
      "      p值: 0.4561\n",
      "      95%置信区间: [[[ -9.16279705 -21.54896665 -14.01250447]\n",
      " [  3.01629712  -9.36872831  -1.83196994]\n",
      " [ -4.57452357 -16.95925281  -9.42241774]], [[ 9.16279705 -3.01629712  4.57452357]\n",
      " [21.54896665  9.36872831 16.95925281]\n",
      " [14.01250447  1.83196994  9.42241774]]]\n",
      "      → 无显著差异\n",
      "    2年级 vs 3年级:\n",
      "      差异: 7.5636\n",
      "      p值: 0.1414\n",
      "      95%置信区间: [[[ -9.16279705 -21.54896665 -14.01250447]\n",
      " [  3.01629712  -9.36872831  -1.83196994]\n",
      " [ -4.57452357 -16.95925281  -9.42241774]], [[ 9.16279705 -3.01629712  4.57452357]\n",
      " [21.54896665  9.36872831 16.95925281]\n",
      " [14.01250447  1.83196994  9.42241774]]]\n",
      "      → 无显著差异\n",
      "\n",
      "宏观叙事-语篇连贯性 事后检验结果:\n",
      "\n",
      "变量: 局部连贯-CRFAO1（29） (ANOVA不显著，跳过事后检验)\n",
      "\n",
      "变量: 局部连贯-CRFSO1（30） (ANOVA不显著，跳过事后检验)\n",
      "\n",
      "变量: 局部连贯-LSASS1(40) (ANOVA不显著，跳过事后检验)\n",
      "\n",
      "宏观叙事-情境模型 事后检验结果:\n",
      "\n",
      "变量: 因果衔接-SMCAUSr-64 (ANOVA显著，进行事后检验)\n",
      "  两两比较结果:\n",
      "    1年级 vs 2年级:\n",
      "      差异: 0.0817\n",
      "      p值: 0.0095\n",
      "      95%置信区间: [[[-0.06451362  0.01652035  0.0189262 ]\n",
      " [-0.14691299 -0.06587195 -0.06345077]\n",
      " [-0.1523785  -0.07132212 -0.06886764]], [[ 0.06451362  0.14691299  0.1523785 ]\n",
      " [-0.01652035  0.06587195  0.07132212]\n",
      " [-0.0189262   0.06345077  0.06886764]]]\n",
      "      → 显著差异\n",
      "    1年级 vs 3年级:\n",
      "      差异: 0.0857\n",
      "      p值: 0.0076\n",
      "      95%置信区间: [[[-0.06451362  0.01652035  0.0189262 ]\n",
      " [-0.14691299 -0.06587195 -0.06345077]\n",
      " [-0.1523785  -0.07132212 -0.06886764]], [[ 0.06451362  0.14691299  0.1523785 ]\n",
      " [-0.01652035  0.06587195  0.07132212]\n",
      " [-0.0189262   0.06345077  0.06886764]]]\n",
      "      → 显著差异\n",
      "    2年级 vs 3年级:\n",
      "      差异: 0.0039\n",
      "      p值: 0.9896\n",
      "      95%置信区间: [[[-0.06451362  0.01652035  0.0189262 ]\n",
      " [-0.14691299 -0.06587195 -0.06345077]\n",
      " [-0.1523785  -0.07132212 -0.06886764]], [[ 0.06451362  0.14691299  0.1523785 ]\n",
      " [-0.01652035  0.06587195  0.07132212]\n",
      " [-0.0189262   0.06345077  0.06886764]]]\n",
      "      → 无显著差异\n",
      "\n",
      "变量: 意图衔接-SMINTEr-65 (ANOVA不显著，跳过事后检验)\n",
      "\n",
      "变量: 时体衔接-SMTEMP-68 (ANOVA不显著，跳过事后检验)\n",
      "\n",
      "宏观叙事-段落长度 事后检验结果:\n",
      "\n",
      "变量: 段落平均长度-DESPL-04 (ANOVA显著，进行事后检验)\n",
      "  两两比较结果:\n",
      "    1年级 vs 2年级:\n",
      "      差异: 0.6823\n",
      "      p值: 0.0032\n",
      "      95%置信区间: [[[-0.48764193  0.19340878 -0.06387107]\n",
      " [-1.17120304 -0.49014911 -0.74743848]\n",
      " [-0.90652413 -0.22547972 -0.48274089]], [[ 0.48764193  1.17120304  0.90652413]\n",
      " [-0.19340878  0.49014911  0.22547972]\n",
      " [ 0.06387107  0.74743848  0.48274089]]]\n",
      "      → 显著差异\n",
      "    1年级 vs 3年级:\n",
      "      差异: 0.4213\n",
      "      p值: 0.1033\n",
      "      95%置信区间: [[[-0.48764193  0.19340878 -0.06387107]\n",
      " [-1.17120304 -0.49014911 -0.74743848]\n",
      " [-0.90652413 -0.22547972 -0.48274089]], [[ 0.48764193  1.17120304  0.90652413]\n",
      " [-0.19340878  0.49014911  0.22547972]\n",
      " [ 0.06387107  0.74743848  0.48274089]]]\n",
      "      → 无显著差异\n",
      "    2年级 vs 3年级:\n",
      "      差异: -0.2610\n",
      "      p值: 0.4168\n",
      "      95%置信区间: [[[-0.48764193  0.19340878 -0.06387107]\n",
      " [-1.17120304 -0.49014911 -0.74743848]\n",
      " [-0.90652413 -0.22547972 -0.48274089]], [[ 0.48764193  1.17120304  0.90652413]\n",
      " [-0.19340878  0.49014911  0.22547972]\n",
      " [ 0.06387107  0.74743848  0.48274089]]]\n",
      "      → 无显著差异\n",
      "\n",
      "变量: 段落平均长度标准差-DESPLd-05 (ANOVA显著，进行事后检验)\n",
      "  两两比较结果:\n",
      "    1年级 vs 2年级:\n",
      "      差异: -0.6521\n",
      "      p值: 0.0013\n",
      "      95%置信区间: [[[-0.43281645 -1.08607033 -0.12020571]\n",
      " [ 0.21820928 -0.43504174  0.53081443]\n",
      " [-0.74108816 -1.39434763 -0.42846643]], [[ 0.43281645 -0.21820928  0.74108816]\n",
      " [ 1.08607033  0.43504174  1.39434763]\n",
      " [ 0.12020571 -0.53081443  0.42846643]]]\n",
      "      → 显著差异\n",
      "    1年级 vs 3年级:\n",
      "      差异: 0.3104\n",
      "      p值: 0.2076\n",
      "      95%置信区间: [[[-0.43281645 -1.08607033 -0.12020571]\n",
      " [ 0.21820928 -0.43504174  0.53081443]\n",
      " [-0.74108816 -1.39434763 -0.42846643]], [[ 0.43281645 -0.21820928  0.74108816]\n",
      " [ 1.08607033  0.43504174  1.39434763]\n",
      " [ 0.12020571 -0.53081443  0.42846643]]]\n",
      "      → 无显著差异\n",
      "    2年级 vs 3年级:\n",
      "      差异: 0.9626\n",
      "      p值: 0.0000\n",
      "      95%置信区间: [[[-0.43281645 -1.08607033 -0.12020571]\n",
      " [ 0.21820928 -0.43504174  0.53081443]\n",
      " [-0.74108816 -1.39434763 -0.42846643]], [[ 0.43281645 -0.21820928  0.74108816]\n",
      " [ 1.08607033  0.43504174  1.39434763]\n",
      " [ 0.12020571 -0.53081443  0.42846643]]]\n",
      "      → 显著差异\n"
     ]
    }
   ],
   "source": [
    "# 8. 事后检验 (Tukey HSD) - 修正版\n",
    "\n",
    "def post_hoc_test_improved(cleaned_data, anova_results):\n",
    "    \"\"\"事后检验 (Tukey HSD) - 修正版\"\"\"\n",
    "    print(\"=== 事后检验 (Tukey HSD) ===\")\n",
    "    \n",
    "    post_hoc_results = {}\n",
    "    \n",
    "    for name, df in cleaned_data.items():\n",
    "        if '年级' not in df.columns:\n",
    "            continue\n",
    "            \n",
    "        print(f\"\\n{name} 事后检验结果:\")\n",
    "        \n",
    "        # 只对有显著差异的变量进行事后检验\n",
    "        if name in anova_results:\n",
    "            for col, result in anova_results[name].items():\n",
    "                if result['is_significant']:\n",
    "                    print(f\"\\n变量: {col} (ANOVA显著，进行事后检验)\")\n",
    "                    \n",
    "                    # 准备数据\n",
    "                    groups = []\n",
    "                    labels = []\n",
    "                    \n",
    "                    for grade in sorted(df['年级'].unique()):\n",
    "                        data = df[df['年级'] == grade][col].dropna()\n",
    "                        if len(data) >= 2:\n",
    "                            groups.append(data)\n",
    "                            labels.append(f\"{int(grade)}年级\")\n",
    "                    \n",
    "                    if len(groups) >= 2:\n",
    "                        # 执行Tukey HSD检验\n",
    "                        tukey_result = tukey_hsd(*groups)\n",
    "                        \n",
    "                        print(\"  两两比较结果:\")\n",
    "                        for i in range(len(labels)):\n",
    "                            for j in range(i+1, len(labels)):\n",
    "                                diff = tukey_result.statistic[i, j]\n",
    "                                p_val = tukey_result.pvalue[i, j]\n",
    "                                conf_low = tukey_result.confidence_interval(confidence_level=0.95).low\n",
    "                                conf_high = tukey_result.confidence_interval(confidence_level=0.95).high\n",
    "                                #.confidence_interval(confidence_level=0.95)\n",
    "                                \n",
    "                                print(f\"    {labels[i]} vs {labels[j]}:\")\n",
    "                                print(f\"      差异: {diff:.4f}\")\n",
    "                                print(f\"      p值: {p_val:.4f}\")\n",
    "                                print(f\"      95%置信区间: [{conf_low}, {conf_high}]\")\n",
    "                                \n",
    "                                if p_val < 0.05:\n",
    "                                    print(f\"      → 显著差异\")\n",
    "                                else:\n",
    "                                    print(f\"      → 无显著差异\")\n",
    "                        \n",
    "                        post_hoc_results[f\"{name}_{col}\"] = {\n",
    "                            'tukey_result': tukey_result,\n",
    "                            'labels': labels\n",
    "                        }\n",
    "                    else:\n",
    "                        print(\"  数据不足，无法进行事后检验\")\n",
    "                else:\n",
    "                    print(f\"\\n变量: {col} (ANOVA不显著，跳过事后检验)\")\n",
    "        else:\n",
    "            print(\"无显著差异的变量\")\n",
    "    \n",
    "    return post_hoc_results\n",
    "\n",
    "# 执行事后检验\n",
    "post_hoc_results = post_hoc_test_improved(cleaned_data, anova_results)"
   ]
  },
  {
   "cell_type": "code",
   "execution_count": 11,
   "id": "8c068682",
   "metadata": {},
   "outputs": [
    {
     "name": "stdout",
     "output_type": "stream",
     "text": [
      "=== 分析结果汇总 ===\n",
      "\n",
      "方差分析结果汇总表:\n",
      "            维度                   变量     F统计量      p值  效应量(η²)  效应大小  显著性\n",
      "0        描述性统计        单词数量-DESWC-03  24.8595  0.0000   0.1446   大效应   显著\n",
      "1        描述性统计        句子数量-DESSC-02   5.0788  0.0068   0.0334  中等效应   显著\n",
      "2      微观叙事-词法      多样性-LDVOCDa（51）   2.3264  0.0998   0.0183  中等效应  不显著\n",
      "3      微观叙事-词法       密度-WRDFRQC（94）  28.0253  0.0000   0.1837   大效应   显著\n",
      "4      微观叙事-词法               复杂度-K1  28.6133  0.0000   0.1869   大效应   显著\n",
      "5      微观叙事-句法       短语长度-SYNLE（69）  14.1020  0.0000   0.0965   大效应   显著\n",
      "6      微观叙事-句法       短语长度-SYNNP（70）  21.3367  0.0000   0.1391   大效应   显著\n",
      "7      微观叙事-句法        短语密度-DRNP（76）   4.9502  0.0078   0.0361  中等效应   显著\n",
      "8   宏观叙事-语篇连贯性      局部连贯-CRFAO1（29）   0.4714  0.6247   0.0037   小效应  不显著\n",
      "9   宏观叙事-语篇连贯性      局部连贯-CRFSO1（30）   1.6429  0.1955   0.0127  中等效应  不显著\n",
      "10  宏观叙事-语篇连贯性      局部连贯-LSASS1(40)   1.3071  0.2724   0.0101  中等效应  不显著\n",
      "11   宏观叙事-情境模型      因果衔接-SMCAUSr-64   6.0466  0.0027   0.0421  中等效应   显著\n",
      "12   宏观叙事-情境模型      意图衔接-SMINTEr-65   2.5870  0.0771   0.0185  中等效应  不显著\n",
      "13   宏观叙事-情境模型       时体衔接-SMTEMP-68   2.5077  0.0833   0.0179  中等效应  不显著\n",
      "14   宏观叙事-段落长度      段落平均长度-DESPL-04   5.5100  0.0045   0.0364  中等效应   显著\n",
      "15   宏观叙事-段落长度  段落平均长度标准差-DESPLd-05  14.3200  0.0000   0.0893   大效应   显著\n"
     ]
    },
    {
     "data": {
      "image/png": "[encoded data removed]",
      "text/plain": [
       "<Figure size 1500x600 with 2 Axes>"
      ]
     },
     "metadata": {},
     "output_type": "display_data"
    },
    {
     "name": "stdout",
     "output_type": "stream",
     "text": [
      "\n",
      "发现 10 个显著差异的变量\n"
     ]
    }
   ],
   "source": [
    "# 9. 结果汇总与可视化 (修正版)\n",
    "\n",
    "def summarize_results_improved(anova_results, post_hoc_results):\n",
    "    \"\"\"结果汇总与可视化 (修正版)\"\"\"\n",
    "    print(\"=== 分析结果汇总 ===\")\n",
    "    \n",
    "    # 创建结果汇总表\n",
    "    summary_data = []\n",
    "    \n",
    "    for name, results in anova_results.items():\n",
    "        for col, result in results.items():\n",
    "            summary_data.append({\n",
    "                '维度': name,\n",
    "                '变量': col,\n",
    "                'F统计量': result['f_statistic'],\n",
    "                'p值': result['p_value'],\n",
    "                '效应量(η²)': result['eta_squared'],\n",
    "                '效应大小': result['effect_size'],\n",
    "                '显著性': '显著' if result['is_significant'] else '不显著'\n",
    "            })\n",
    "    \n",
    "    if summary_data:\n",
    "        summary_df = pd.DataFrame(summary_data)\n",
    "        print(\"\\n方差分析结果汇总表:\")\n",
    "        print(summary_df.round(4))\n",
    "        \n",
    "        # 可视化显著结果\n",
    "        significant_results = summary_df[summary_df['显著性'] == '显著']\n",
    "        \n",
    "        if len(significant_results) > 0:\n",
    "            fig, (ax1, ax2) = plt.subplots(1, 2, figsize=(15, 6))\n",
    "            \n",
    "            # 效应量可视化\n",
    "            ax1.bar(range(len(significant_results)), significant_results['效应量(η²)'])\n",
    "            ax1.set_xticks(range(len(significant_results)))\n",
    "            ax1.set_xticklabels([f\"{row['维度']}\\n{row['变量']}\" for _, row in significant_results.iterrows()], \n",
    "                               rotation=45, ha='right')\n",
    "            ax1.set_ylabel('效应量 (η²)')\n",
    "            ax1.set_title('显著差异的效应量')\n",
    "            ax1.grid(True, alpha=0.3)\n",
    "            \n",
    "            # p值可视化\n",
    "            ax2.bar(range(len(significant_results)), -np.log10(significant_results['p值']))\n",
    "            ax2.set_xticks(range(len(significant_results)))\n",
    "            ax2.set_xticklabels([f\"{row['维度']}\\n{row['变量']}\" for _, row in significant_results.iterrows()], \n",
    "                               rotation=45, ha='right')\n",
    "            ax2.set_ylabel('-log10(p值)')\n",
    "            ax2.set_title('显著性水平')\n",
    "            ax2.axhline(y=-np.log10(0.05), color='red', linestyle='--', label='p=0.05')\n",
    "            ax2.axhline(y=-np.log10(0.01), color='orange', linestyle='--', label='p=0.01')\n",
    "            ax2.axhline(y=-np.log10(0.001), color='green', linestyle='--', label='p=0.001')\n",
    "            ax2.legend()\n",
    "            ax2.grid(True, alpha=0.3)\n",
    "            \n",
    "            plt.tight_layout()\n",
    "            plt.show()\n",
    "            \n",
    "            print(f\"\\n发现 {len(significant_results)} 个显著差异的变量\")\n",
    "        else:\n",
    "            print(\"\\n未发现显著差异的变量\")\n",
    "    else:\n",
    "        print(\"\\n没有可用的分析结果\")\n",
    "        summary_df = pd.DataFrame()\n",
    "    \n",
    "    return summary_df\n",
    "\n",
    "# 汇总结果\n",
    "summary_df = summarize_results_improved(anova_results, post_hoc_results)"
   ]
  },
  {
   "cell_type": "code",
   "execution_count": 12,
   "id": "46d535ba",
   "metadata": {},
   "outputs": [
    {
     "name": "stdout",
     "output_type": "stream",
     "text": [
      "=== 分析结论与教育建议 ===\n",
      "\n",
      "1. 总体发现:\n",
      "   - 共分析了 16 个变量\n",
      "   - 发现 10 个变量存在显著的年级间差异\n",
      "   - 显著差异比例: 62.5%\n",
      "\n",
      "2. 显著差异的维度分析:\n",
      "   各维度显著差异数量:\n",
      "   - 宏观叙事-情境模型: 1 个变量\n",
      "   - 宏观叙事-段落长度: 2 个变量\n",
      "   - 微观叙事-句法: 3 个变量\n",
      "   - 微观叙事-词法: 2 个变量\n",
      "   - 描述性统计: 2 个变量\n",
      "\n",
      "3. 最重要的发现:\n",
      "   - 效应量最大的变量: 微观叙事-词法 - 复杂度-K1\n",
      "   - 效应量: 0.1869 (大效应)\n",
      "\n",
      "4. 教育建议:\n",
      "   - 重点关注存在显著差异的维度，特别是效应量较大的变量\n",
      "   - 针对不同年级学生的叙事能力特点，制定差异化的教学策略\n",
      "   - 对于发展较慢的年级，加强相关能力的培养\n",
      "   - 定期评估学生叙事能力发展，及时调整教学方案\n",
      "\n",
      "5. 研究局限性:\n",
      "   - 样本量相对较小，可能影响统计检验力\n",
      "   - 需要结合质性分析深入了解差异原因\n",
      "   - 建议进行纵向研究追踪个体发展轨迹\n",
      "\n",
      "6. 数据质量评估:\n",
      "   - 成功处理了多张数据表的结构\n",
      "   - 自动识别并合并了年级信息\n",
      "   - 进行了完整的数据清洗和预处理\n"
     ]
    }
   ],
   "source": [
    "# 10. 结论与建议 (修正版)\n",
    "\n",
    "def generate_conclusions_improved(summary_df, anova_results):\n",
    "    \"\"\"生成分析结论与建议 (修正版)\"\"\"\n",
    "    print(\"=== 分析结论与教育建议 ===\")\n",
    "    \n",
    "    if len(summary_df) == 0:\n",
    "        print(\"\\n⚠️ 没有可用的分析结果，可能的原因:\")\n",
    "        print(\"   - 数据文件格式不符合预期\")\n",
    "        print(\"   - 缺少年级信息\")\n",
    "        print(\"   - 数据量不足\")\n",
    "        return\n",
    "    \n",
    "    # 统计显著差异的数量\n",
    "    significant_count = len(summary_df[summary_df['显著性'] == '显著'])\n",
    "    total_count = len(summary_df)\n",
    "    \n",
    "    print(f\"\\n1. 总体发现:\")\n",
    "    print(f\"   - 共分析了 {total_count} 个变量\")\n",
    "    print(f\"   - 发现 {significant_count} 个变量存在显著的年级间差异\")\n",
    "    print(f\"   - 显著差异比例: {significant_count/total_count*100:.1f}%\")\n",
    "    \n",
    "    if significant_count > 0:\n",
    "        print(f\"\\n2. 显著差异的维度分析:\")\n",
    "        \n",
    "        # 按维度统计显著差异\n",
    "        dimension_sig = summary_df[summary_df['显著性'] == '显著'].groupby('维度').size()\n",
    "        print(\"   各维度显著差异数量:\")\n",
    "        for dim, count in dimension_sig.items():\n",
    "            print(f\"   - {dim}: {count} 个变量\")\n",
    "        \n",
    "        # 找出效应量最大的变量\n",
    "        max_effect = summary_df.loc[summary_df['效应量(η²)'].idxmax()]\n",
    "        print(f\"\\n3. 最重要的发现:\")\n",
    "        print(f\"   - 效应量最大的变量: {max_effect['维度']} - {max_effect['变量']}\")\n",
    "        print(f\"   - 效应量: {max_effect['效应量(η²)']:.4f} ({max_effect['效应大小']})\")\n",
    "        \n",
    "        print(f\"\\n4. 教育建议:\")\n",
    "        print(f\"   - 重点关注存在显著差异的维度，特别是效应量较大的变量\")\n",
    "        print(f\"   - 针对不同年级学生的叙事能力特点，制定差异化的教学策略\")\n",
    "        print(f\"   - 对于发展较慢的年级，加强相关能力的培养\")\n",
    "        print(f\"   - 定期评估学生叙事能力发展，及时调整教学方案\")\n",
    "    else:\n",
    "        print(f\"\\n2. 教育建议:\")\n",
    "        print(f\"   - 三个年级在叙事能力各维度上差异不显著\")\n",
    "        print(f\"   - 可能需要更精细的分析方法或更大的样本量\")\n",
    "        print(f\"   - 建议关注个体差异而非年级差异\")\n",
    "    \n",
    "    print(f\"\\n5. 研究局限性:\")\n",
    "    print(f\"   - 样本量相对较小，可能影响统计检验力\")\n",
    "    print(f\"   - 需要结合质性分析深入了解差异原因\")\n",
    "    print(f\"   - 建议进行纵向研究追踪个体发展轨迹\")\n",
    "    \n",
    "    print(f\"\\n6. 数据质量评估:\")\n",
    "    print(f\"   - 成功处理了多张数据表的结构\")\n",
    "    print(f\"   - 自动识别并合并了年级信息\")\n",
    "    print(f\"   - 进行了完整的数据清洗和预处理\")\n",
    "\n",
    "# 生成结论\n",
    "generate_conclusions_improved(summary_df, anova_results)"
   ]
  },
  {
   "cell_type": "code",
   "execution_count": 13,
   "id": "ba3b62dd",
   "metadata": {},
   "outputs": [
    {
     "name": "stdout",
     "output_type": "stream",
     "text": [
      "=== 保存分析结果 ===\n",
      "✓ 已保存: 年级间差异分析结果汇总_修正版.xlsx\n",
      "✓ 已保存: ANOVA详细结果_修正版.xlsx\n",
      "✓ 已保存: 年级间差异分析图表_修正版.png\n",
      "\n",
      "所有结果已保存完成！\n"
     ]
    },
    {
     "data": {
      "text/plain": [
       "<Figure size 800x550 with 0 Axes>"
      ]
     },
     "metadata": {},
     "output_type": "display_data"
    }
   ],
   "source": [
    "# 11. 保存结果 (修正版)\n",
    "\n",
    "def save_results_improved(summary_df, anova_results, post_hoc_results):\n",
    "    \"\"\"保存分析结果 (修正版)\"\"\"\n",
    "    print(\"=== 保存分析结果 ===\")\n",
    "    \n",
    "    # 保存汇总表\n",
    "    if len(summary_df) > 0:\n",
    "        summary_df.to_excel('年级间差异分析结果汇总_修正版.xlsx', index=False)\n",
    "        print(\"✓ 已保存: 年级间差异分析结果汇总_修正版.xlsx\")\n",
    "    \n",
    "    # 保存详细ANOVA结果\n",
    "    anova_details = []\n",
    "    for name, results in anova_results.items():\n",
    "        for col, result in results.items():\n",
    "            anova_details.append({\n",
    "                '维度': name,\n",
    "                '变量': col,\n",
    "                'F统计量': result['f_statistic'],\n",
    "                'p值': result['p_value'],\n",
    "                '效应量(η²)': result['eta_squared'],\n",
    "                '效应大小': result['effect_size'],\n",
    "                '显著性': '显著' if result['is_significant'] else '不显著',\n",
    "                '各年级均值': str(result.get('group_means', {})),\n",
    "                '各年级样本量': str(result.get('group_sizes', {}))\n",
    "            })\n",
    "    \n",
    "    if anova_details:\n",
    "        anova_df = pd.DataFrame(anova_details)\n",
    "        anova_df.to_excel('ANOVA详细结果_修正版.xlsx', index=False)\n",
    "        print(\"✓ 已保存: ANOVA详细结果_修正版.xlsx\")\n",
    "    \n",
    "    # 保存图表\n",
    "    try:\n",
    "        plt.savefig('年级间差异分析图表_修正版.png', dpi=300, bbox_inches='tight')\n",
    "        print(\"✓ 已保存: 年级间差异分析图表_修正版.png\")\n",
    "    except:\n",
    "        print(\"⚠️ 图表保存失败\")\n",
    "    \n",
    "    print(\"\\n所有结果已保存完成！\")\n",
    "\n",
    "# 保存结果\n",
    "save_results_improved(summary_df, anova_results, post_hoc_results)"
   ]
  },
  {
   "cell_type": "code",
   "execution_count": null,
   "id": "23fc6db3",
   "metadata": {},
   "outputs": [],
   "source": []
  }
 ],
 "metadata": {
  "kernelspec": {
   "display_name": "base",
   "language": "python",
   "name": "python3"
  },
  "language_info": {
   "codemirror_mode": {
    "name": "ipython",
    "version": 3
   },
   "file_extension": ".py",
   "mimetype": "text/x-python",
   "name": "python",
   "nbconvert_exporter": "python",
   "pygments_lexer": "ipython3",
   "version": "3.12.7"
  }
 },
 "nbformat": 4,
 "nbformat_minor": 5
}
