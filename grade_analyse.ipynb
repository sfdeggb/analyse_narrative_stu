{
 "cells": [
  {
   "cell_type": "code",
   "execution_count": 2,
   "id": "a11e75ff",
   "metadata": {},
   "outputs": [],
   "source": [
    "## 高中英语读后写作文叙事能力发展分析"
   ]
  },
  {
   "cell_type": "code",
   "execution_count": 3,
   "id": "5274703a",
   "metadata": {},
   "outputs": [
    {
     "name": "stdout",
     "output_type": "stream",
     "text": [
      "=== 高中英语读后写作文叙事能力发展分析 ===\n",
      "=== 年级间差异性分析 (修正版) ===\n"
     ]
    }
   ],
   "source": [
    "import pandas as pd\n",
    "import numpy as np\n",
    "import matplotlib.pyplot as plt\n",
    "import seaborn as sns\n",
    "from scipy import stats\n",
    "from scipy.stats import shapiro, levene, f_oneway, tukey_hsd\n",
    "import warnings\n",
    "warnings.filterwarnings('ignore')\n",
    "\n",
    "# 设置中文字体和图表样式\n",
    "#sns.set_style(\"whitegrid\")\n",
    "plt.style.use('seaborn-v0_8')\n",
    "plt.rcParams['font.family'] = 'sans-serif'          # 指定族\n",
    "plt.rcParams['font.sans-serif'] = ['SimHei']        # 先尝试黑体\n",
    "#plt.rcParams['font.sans-serif'] = ['SimHei', 'Microsoft YaHei']\n",
    "plt.rcParams['axes.unicode_minus'] = False\n",
    "\n",
    "# 设置随机种子确保结果可重现\n",
    "np.random.seed(42)\n",
    "\n",
    "print(\"=== 高中英语读后写作文叙事能力发展分析 ===\")\n",
    "print(\"=== 年级间差异性分析 (修正版) ===\")"
   ]
  },
  {
   "cell_type": "code",
   "execution_count": 4,
   "id": "c0272bfc",
   "metadata": {},
   "outputs": [
    {
     "name": "stdout",
     "output_type": "stream",
     "text": [
      "\n",
      "✓ 成功加载: 描述性统计\n",
      "  文件路径: pre_data/1.描述性统计.xlsx\n",
      "  工作表: ['高一', '高二', '高三']\n",
      "  发现年级工作表: ['高一', '高二', '高三']\n",
      "    工作表 '高一' -> 年级 1, 数据形状: (100, 4)\n",
      "    工作表 '高二' -> 年级 2, 数据形状: (100, 4)\n",
      "    工作表 '高三' -> 年级 3, 数据形状: (100, 4)\n",
      "  合并后总数据形状: (300, 4)\n",
      "\n",
      "✓ 成功加载: 微观叙事-词法\n",
      "  文件路径: pre_data/2-1微观叙事-词法.xlsx\n",
      "  工作表: ['高一', '高二', '高三']\n",
      "  发现年级工作表: ['高一', '高二', '高三']\n",
      "    工作表 '高一' -> 年级 1, 数据形状: (100, 10)\n",
      "    工作表 '高二' -> 年级 2, 数据形状: (100, 10)\n",
      "    工作表 '高三' -> 年级 3, 数据形状: (100, 10)\n",
      "  合并后总数据形状: (300, 10)\n",
      "\n",
      "✓ 成功加载: 微观叙事-句法\n",
      "  文件路径: pre_data/2-2微观叙事-句法.xlsx\n",
      "  工作表: ['高一', '高二', '高三']\n",
      "  发现年级工作表: ['高一', '高二', '高三']\n",
      "    工作表 '高一' -> 年级 1, 数据形状: (100, 13)\n",
      "    工作表 '高二' -> 年级 2, 数据形状: (100, 13)\n",
      "    工作表 '高三' -> 年级 3, 数据形状: (100, 13)\n",
      "  合并后总数据形状: (300, 13)\n",
      "\n",
      "✓ 成功加载: 宏观叙事-语篇连贯性\n",
      "  文件路径: pre_data/3-1宏观叙事-语篇连贯性.xlsx\n",
      "  工作表: ['高一', '高二', '高三']\n",
      "  发现年级工作表: ['高一', '高二', '高三']\n",
      "    工作表 '高一' -> 年级 1, 数据形状: (100, 10)\n",
      "    工作表 '高二' -> 年级 2, 数据形状: (100, 10)\n",
      "    工作表 '高三' -> 年级 3, 数据形状: (100, 10)\n",
      "  合并后总数据形状: (300, 10)\n",
      "\n",
      "✓ 成功加载: 宏观叙事-情境模型\n",
      "  文件路径: pre_data/3-2宏观叙事-情境模型.xlsx\n",
      "  工作表: ['高一', '高二', '高三']\n",
      "  发现年级工作表: ['高一', '高二', '高三']\n",
      "    工作表 '高一' -> 年级 1, 数据形状: (100, 5)\n",
      "    工作表 '高二' -> 年级 2, 数据形状: (100, 5)\n",
      "    工作表 '高三' -> 年级 3, 数据形状: (100, 5)\n",
      "  合并后总数据形状: (300, 5)\n",
      "\n",
      "✓ 成功加载: 宏观叙事-段落长度\n",
      "  文件路径: pre_data/3-3宏观叙事-段落长度.xlsx\n",
      "  工作表: ['高一', '高二', '高三']\n",
      "  发现年级工作表: ['高一', '高二', '高三']\n",
      "    工作表 '高一' -> 年级 1, 数据形状: (100, 4)\n",
      "    工作表 '高二' -> 年级 2, 数据形状: (100, 4)\n",
      "    工作表 '高三' -> 年级 3, 数据形状: (100, 4)\n",
      "  合并后总数据形状: (300, 4)\n",
      "\n",
      "描述性统计 数据预览:\n",
      "列名: ['文本编号', '单词数量-DESWC-03', '句子数量-DESSC-02', '年级']\n",
      "数据形状: (300, 4)\n",
      "年级分布: 年级\n",
      "1    100\n",
      "2    100\n",
      "3    100\n",
      "Name: count, dtype: int64\n",
      "前5行数据:\n",
      "      文本编号  单词数量-DESWC-03  句子数量-DESSC-02  年级\n",
      "0    1.txt            152             14   1\n",
      "1   10.txt            193             17   1\n",
      "2  100.txt            202             17   1\n",
      "3   11.txt            189             16   1\n",
      "4   12.txt            208             20   1\n",
      "--------------------------------------------------\n",
      "\n",
      "微观叙事-词法 数据预览:\n",
      "列名: ['文本编号', '多样性-LDVOCDa（51）', '密度-WRDFRQC（94）', '复杂度-K1', '复杂度-K2', '复杂度-K3', '复杂度-K4', '复杂度-K5', '复杂度-K6+', '年级']\n",
      "数据形状: (300, 10)\n",
      "年级分布: 年级\n",
      "1    100\n",
      "2    100\n",
      "3    100\n",
      "Name: count, dtype: int64\n",
      "前5行数据:\n",
      "      文本编号  多样性-LDVOCDa（51）  密度-WRDFRQC（94）  复杂度-K1  复杂度-K2  复杂度-K3  复杂度-K4  \\\n",
      "0    1.txt        59.249001           2.396  92.903   3.226   3.226   0.645   \n",
      "1   10.txt        89.566002           2.277  88.144   6.186   2.062   3.093   \n",
      "2  100.txt       106.974998           2.261  84.653   8.416   3.960   1.485   \n",
      "3   11.txt        77.302002           2.480  87.500   6.250   1.562   0.000   \n",
      "4   12.txt        83.122002           2.098  82.464   9.479   2.370   2.370   \n",
      "\n",
      "   复杂度-K5  复杂度-K6+  年级  \n",
      "0   0.000    0.000   1  \n",
      "1   0.000    0.000   1  \n",
      "2   1.485    0.000   1  \n",
      "3   1.042    0.521   1  \n",
      "4   1.422    1.422   1  \n",
      "--------------------------------------------------\n",
      "\n",
      "微观叙事-句法 数据预览:\n",
      "列名: ['文本编号', '短语长度-SYNLE（69）', '短语长度-SYNNP（70）', '短语密度-DRNP（76）', '短语密度-DRVP（77）', '短语密度-DRPP（79）', '句子长度-DESSL（06）', '句子结构-DRPVAL（80）', '句子结构-DRNEG（81）', '句子结构-DRINF（83）', '句法相似-SYNSTRUTa（74）', '句法相似-SYNSTRUTt（75）', '年级']\n",
      "数据形状: (300, 13)\n",
      "年级分布: 年级\n",
      "1    100\n",
      "2    100\n",
      "3    100\n",
      "Name: count, dtype: int64\n",
      "前5行数据:\n",
      "      文本编号  短语长度-SYNLE（69）  短语长度-SYNNP（70）  短语密度-DRNP（76）  短语密度-DRVP（77）  \\\n",
      "0    1.txt           2.071           0.488     309.210999     296.053009   \n",
      "1   10.txt           2.529           0.673     316.062012     238.341995   \n",
      "2  100.txt           2.706           0.593     351.484985     242.574005   \n",
      "3   11.txt           1.813           0.446     333.333008     291.005005   \n",
      "4   12.txt           4.000           0.705     322.114990     221.154007   \n",
      "\n",
      "   短语密度-DRPP（79）  句子长度-DESSL（06）  句子结构-DRPVAL（80）  句子结构-DRNEG（81）  \\\n",
      "0      59.210999          11.000           13.158           6.579   \n",
      "1      93.264000          11.412            0.000          10.363   \n",
      "2      99.010002          11.882            9.901           9.901   \n",
      "3      89.946999          11.875            0.000          10.582   \n",
      "4      81.731003          10.450            0.000           9.615   \n",
      "\n",
      "   句子结构-DRINF（83）  句法相似-SYNSTRUTa（74）  句法相似-SYNSTRUTt（75）  年级  \n",
      "0       26.316000               0.168               0.173   1  \n",
      "1       15.544000               0.161               0.162   1  \n",
      "2       24.752001               0.163               0.164   1  \n",
      "3       21.164000               0.150               0.131   1  \n",
      "4       24.038000               0.146               0.160   1  \n",
      "--------------------------------------------------\n",
      "\n",
      "宏观叙事-语篇连贯性 数据预览:\n",
      "列名: ['文本编号', '局部连贯-CRFAO1（29）', '局部连贯-CRFSO1（30）', '局部连贯-LSASS1(40)', '整体连贯-CRFAOa（32）', '整体连贯-CRFSOa（33）', '整体连贯-LSASSp（42）', '整体连贯-LSAPP1（44）', '整体连贯-LSAGN（46）', '年级']\n",
      "数据形状: (300, 10)\n",
      "年级分布: 年级\n",
      "1    100\n",
      "2    100\n",
      "3    100\n",
      "Name: count, dtype: int64\n",
      "前5行数据:\n",
      "      文本编号  局部连贯-CRFAO1（29）  局部连贯-CRFSO1（30）  局部连贯-LSASS1(40)  \\\n",
      "0    1.txt            0.615            0.154            0.179   \n",
      "1   10.txt            0.438            0.063            0.043   \n",
      "2  100.txt            0.438            0.125            0.082   \n",
      "3   11.txt            0.600            0.067            0.119   \n",
      "4   12.txt            0.526            0.105            0.097   \n",
      "\n",
      "   整体连贯-CRFAOa（32）  整体连贯-CRFSOa（33）  整体连贯-LSASSp（42）  整体连贯-LSAPP1（44）  \\\n",
      "0            0.776            0.129            0.189            0.488   \n",
      "1            0.548            0.113            0.091            0.688   \n",
      "2            0.522            0.052            0.081            0.246   \n",
      "3            0.667            0.038            0.121            0.304   \n",
      "4            0.393            0.055            0.067            0.450   \n",
      "\n",
      "   整体连贯-LSAGN（46）  年级  \n",
      "0           0.306   1  \n",
      "1           0.272   1  \n",
      "2           0.233   1  \n",
      "3           0.273   1  \n",
      "4           0.239   1  \n",
      "--------------------------------------------------\n",
      "\n",
      "宏观叙事-情境模型 数据预览:\n",
      "列名: ['文本编号', '因果衔接-SMCAUSr-64', '意图衔接-SMINTEr-65', '时体衔接-SMTEMP-68', '年级']\n",
      "数据形状: (300, 5)\n",
      "年级分布: 年级\n",
      "1    100\n",
      "2    100\n",
      "3    100\n",
      "Name: count, dtype: int64\n",
      "前5行数据:\n",
      "      文本编号  因果衔接-SMCAUSr-64  意图衔接-SMINTEr-65  时体衔接-SMTEMP-68  年级\n",
      "0    1.txt            0.200            0.300           0.923   1\n",
      "1   10.txt            0.333            0.222           0.750   1\n",
      "2  100.txt            0.100            0.167           0.875   1\n",
      "3   11.txt            0.250            0.364           0.933   1\n",
      "4   12.txt            0.300            0.182           0.947   1\n",
      "--------------------------------------------------\n",
      "\n",
      "宏观叙事-段落长度 数据预览:\n",
      "列名: ['文本编号', '段落平均长度-DESPL-04', '段落平均长度标准差-DESPLd-05', '年级']\n",
      "数据形状: (300, 4)\n",
      "年级分布: 年级\n",
      "1    100\n",
      "2    100\n",
      "3    100\n",
      "Name: count, dtype: int64\n",
      "前5行数据:\n",
      "      文本编号  段落平均长度-DESPL-04  段落平均长度标准差-DESPLd-05  年级\n",
      "0    1.txt              7.0                0.000   1\n",
      "1   10.txt              8.5                0.707   1\n",
      "2  100.txt              8.5                0.707   1\n",
      "3   11.txt              8.0                4.243   1\n",
      "4   12.txt             10.0                2.828   1\n",
      "--------------------------------------------------\n"
     ]
    }
   ],
   "source": [
    "# 1. 数据加载与预处理 - 修正版\n",
    "\n",
    "def load_data_with_sheets():\n",
    "    \"\"\"加载所有数据文件，处理多张数据表的情况\"\"\"\n",
    "    data_files = {\n",
    "        '描述性统计': 'pre_data/1.描述性统计.xlsx',\n",
    "        '微观叙事-词法': 'pre_data/2-1微观叙事-词法.xlsx',\n",
    "        '微观叙事-句法': 'pre_data/2-2微观叙事-句法.xlsx',\n",
    "        '宏观叙事-语篇连贯性': 'pre_data/3-1宏观叙事-语篇连贯性.xlsx',\n",
    "        '宏观叙事-情境模型': 'pre_data/3-2宏观叙事-情境模型.xlsx',\n",
    "        '宏观叙事-段落长度': 'pre_data/3-3宏观叙事-段落长度.xlsx'\n",
    "    }\n",
    "    \n",
    "    data_dict = {}\n",
    "    \n",
    "    for name, file_path in data_files.items():\n",
    "        try:\n",
    "            # 读取Excel文件的所有工作表\n",
    "            excel_file = pd.ExcelFile(file_path)\n",
    "            sheet_names = excel_file.sheet_names\n",
    "            \n",
    "            print(f\"\\n✓ 成功加载: {name}\")\n",
    "            print(f\"  文件路径: {file_path}\")\n",
    "            print(f\"  工作表: {sheet_names}\")\n",
    "            \n",
    "            # 检查是否包含年级相关的工作表\n",
    "            grade_sheets = []\n",
    "            for sheet in sheet_names:\n",
    "                if any(keyword in sheet for keyword in ['高一', '高二', '高三', 'grade1', 'grade2', 'grade3']):\n",
    "                    grade_sheets.append(sheet)\n",
    "            \n",
    "            if grade_sheets:\n",
    "                print(f\"  发现年级工作表: {grade_sheets}\")\n",
    "                \n",
    "                # 合并所有年级数据，添加年级标识\n",
    "                combined_data = []\n",
    "                grade_mapping = {\n",
    "                    '高一': 1, '高二': 2, '高三': 3,\n",
    "                    'grade1': 1, 'grade2': 2, 'grade3': 3\n",
    "                }\n",
    "                \n",
    "                for sheet in grade_sheets:\n",
    "                    df_sheet = pd.read_excel(file_path, sheet_name=sheet)\n",
    "                    \n",
    "                    # 确定年级值\n",
    "                    grade_value = None\n",
    "                    for key, value in grade_mapping.items():\n",
    "                        if key in sheet:\n",
    "                            grade_value = value\n",
    "                            break\n",
    "                    \n",
    "                    if grade_value:\n",
    "                        # 添加年级列\n",
    "                        df_sheet['年级'] = grade_value\n",
    "                        combined_data.append(df_sheet)\n",
    "                        print(f\"    工作表 '{sheet}' -> 年级 {grade_value}, 数据形状: {df_sheet.shape}\")\n",
    "                \n",
    "                if combined_data:\n",
    "                    # 合并所有年级数据\n",
    "                    final_df = pd.concat(combined_data, ignore_index=True)\n",
    "                    data_dict[name] = final_df\n",
    "                    print(f\"  合并后总数据形状: {final_df.shape}\")\n",
    "                else:\n",
    "                    print(f\"  ⚠️ 警告: 无法处理年级数据\")\n",
    "                    # 如果无法处理，读取第一个工作表\n",
    "                    df = pd.read_excel(file_path, sheet_name=sheet_names[0])\n",
    "                    data_dict[name] = df\n",
    "                    print(f\"  使用第一个工作表，数据形状: {df.shape}\")\n",
    "            else:\n",
    "                print(f\"  ⚠️ 警告: 未发现年级工作表，使用第一个工作表\")\n",
    "                df = pd.read_excel(file_path, sheet_name=sheet_names[0])\n",
    "                data_dict[name] = df\n",
    "                print(f\"  数据形状: {df.shape}\")\n",
    "                \n",
    "        except Exception as e:\n",
    "            print(f\"✗ 加载失败: {name} - 错误: {e}\")\n",
    "    \n",
    "    return data_dict\n",
    "\n",
    "# 加载数据\n",
    "data_dict = load_data_with_sheets()\n",
    "\n",
    "# 显示每个数据文件的基本信息\n",
    "for name, df in data_dict.items():\n",
    "    print(f\"\\n{name} 数据预览:\")\n",
    "    print(f\"列名: {list(df.columns)}\")\n",
    "    print(f\"数据形状: {df.shape}\")\n",
    "    \n",
    "    # 检查年级列\n",
    "    if '年级' in df.columns:\n",
    "        print(f\"年级分布: {df['年级'].value_counts().sort_index()}\")\n",
    "    \n",
    "    print(f\"前5行数据:\")\n",
    "    print(df.head())\n",
    "    print(\"-\" * 50)"
   ]
  },
  {
   "cell_type": "code",
   "execution_count": 5,
   "id": "844fe328",
   "metadata": {},
   "outputs": [
    {
     "name": "stdout",
     "output_type": "stream",
     "text": [
      "已保存: ./pre_data\\描述性统计-grade.csv\n",
      "已保存: ./pre_data\\微观叙事-词法-grade.csv\n",
      "已保存: ./pre_data\\微观叙事-句法-grade.csv\n",
      "已保存: ./pre_data\\宏观叙事-语篇连贯性-grade.csv\n",
      "已保存: ./pre_data\\宏观叙事-情境模型-grade.csv\n",
      "已保存: ./pre_data\\宏观叙事-段落长度-grade.csv\n"
     ]
    }
   ],
   "source": [
    "import os\n",
    "\n",
    "# 如果目录不存在则创建\n",
    "save_dir = \"./pre_data\"\n",
    "if not os.path.exists(save_dir):\n",
    "    os.makedirs(save_dir)\n",
    "\n",
    "# 遍历data_dict，将每个DataFrame保存为csv文件\n",
    "for name, df in data_dict.items():\n",
    "    save_path = os.path.join(save_dir, f\"{name}-grade.csv\")\n",
    "    df.to_csv(save_path, index=False, encoding='utf-8-sig')\n",
    "    print(f\"已保存: {save_path}\")"
   ]
  },
  {
   "cell_type": "markdown",
   "id": "cc56b529",
   "metadata": {},
   "source": [
    "### 2. 数据清洗与预处理"
   ]
  },
  {
   "cell_type": "code",
   "execution_count": 6,
   "id": "df7aae95",
   "metadata": {},
   "outputs": [
    {
     "data": {
      "text/plain": [
       "dict_keys(['描述性统计', '微观叙事-词法', '微观叙事-句法', '宏观叙事-语篇连贯性', '宏观叙事-情境模型', '宏观叙事-段落长度'])"
      ]
     },
     "execution_count": 6,
     "metadata": {},
     "output_type": "execute_result"
    }
   ],
   "source": [
    "data_dict.keys()"
   ]
  },
  {
   "cell_type": "code",
   "execution_count": 7,
   "id": "680b2881",
   "metadata": {},
   "outputs": [
    {
     "name": "stdout",
     "output_type": "stream",
     "text": [
      "已将所有特征表合并并保存到: ./pre_data/全部特征合并表.csv\n"
     ]
    }
   ],
   "source": [
    "# 将data_dict中的所有dataframe按照“文本编号”和“年级”两列进行横向合并（属性水平拼接）\n",
    "\n",
    "import functools\n",
    "\n",
    "# 先将所有dataframe的“文本编号”和“年级”列名标准化，避免后续合并出错\n",
    "def standardize_id_grade(df):\n",
    "    df = df.copy()\n",
    "    # 统一列名\n",
    "    for col in df.columns:\n",
    "        if col.strip() in ['文本编号', '编号', 'file', 'File', 'filename']:\n",
    "            df.rename(columns={col: '文本编号'}, inplace=True)\n",
    "        if col.strip() in ['年级', 'grade', 'Grade', 'level']:\n",
    "            df.rename(columns={col: '年级'}, inplace=True)\n",
    "    return df\n",
    "\n",
    "data_dict_std = {k: standardize_id_grade(df) for k, df in data_dict.items()}\n",
    "\n",
    "# 合并时避免重复列名，给每个dataframe的特征列加前缀\n",
    "dfs_with_prefix = []\n",
    "for name, df in data_dict_std.items():\n",
    "    # 除了“文本编号”和“年级”，其他列加前缀\n",
    "    cols = df.columns.tolist()\n",
    "    new_cols = []\n",
    "    for col in cols:\n",
    "        if col in ['文本编号', '年级']:\n",
    "            new_cols.append(col)\n",
    "        else:\n",
    "            new_cols.append(f\"{col}\")\n",
    "    df = df.copy()\n",
    "    df.columns = new_cols\n",
    "    dfs_with_prefix.append(df)\n",
    "\n",
    "# 依次按“文本编号”和“年级”做外连接\n",
    "df_merged = functools.reduce(lambda left, right: pd.merge(left, right, on=['文本编号', '年级'], how='outer'), dfs_with_prefix)\n",
    "\n",
    "# 保存合并后的大表\n",
    "save_path = \"./pre_data/全部特征合并表.csv\"\n",
    "df_merged.to_csv(save_path, index=False, encoding='utf-8-sig')\n",
    "print(f\"已将所有特征表合并并保存到: {save_path}\")"
   ]
  },
  {
   "cell_type": "code",
   "execution_count": 8,
   "id": "755e84f1",
   "metadata": {},
   "outputs": [
    {
     "name": "stdout",
     "output_type": "stream",
     "text": [
      "\n",
      "处理 描述性统计 数据...\n",
      "✓ 找到年级列，年级分布: 年级\n",
      "1    100\n",
      "2    100\n",
      "3    100\n",
      "Name: count, dtype: int64\n",
      "  有效年级: [np.int64(1), np.int64(2), np.int64(3)]\n",
      "数据类型分布:\n",
      "int64     3\n",
      "object    1\n",
      "Name: count, dtype: int64\n",
      "  单词数量-DESWC-03: 发现 1 个异常值\n",
      "  句子数量-DESSC-02: 发现 2 个异常值\n",
      "清理后数据形状: (297, 4)\n",
      "\n",
      "处理 微观叙事-词法 数据...\n",
      "✓ 找到年级列，年级分布: 年级\n",
      "1    100\n",
      "2    100\n",
      "3    100\n",
      "Name: count, dtype: int64\n",
      "  有效年级: [np.int64(1), np.int64(2), np.int64(3)]\n",
      "数据类型分布:\n",
      "float64    8\n",
      "object     1\n",
      "int64      1\n",
      "Name: count, dtype: int64\n",
      "  多样性-LDVOCDa（51）: 发现 7 个异常值\n",
      "  密度-WRDFRQC（94）: 发现 3 个异常值\n",
      "  复杂度-K1: 发现 7 个异常值\n",
      "  复杂度-K2: 发现 5 个异常值\n",
      "  复杂度-K3: 发现 2 个异常值\n",
      "  复杂度-K4: 发现 5 个异常值\n",
      "  复杂度-K5: 发现 4 个异常值\n",
      "  复杂度-K6+: 发现 15 个异常值\n",
      "清理后数据形状: (252, 10)\n",
      "\n",
      "处理 微观叙事-句法 数据...\n",
      "✓ 找到年级列，年级分布: 年级\n",
      "1    100\n",
      "2    100\n",
      "3    100\n",
      "Name: count, dtype: int64\n",
      "  有效年级: [np.int64(1), np.int64(2), np.int64(3)]\n",
      "数据类型分布:\n",
      "float64    11\n",
      "object      1\n",
      "int64       1\n",
      "Name: count, dtype: int64\n",
      "  短语长度-SYNLE（69）: 发现 10 个异常值\n",
      "  短语长度-SYNNP（70）: 发现 5 个异常值\n",
      "  短语密度-DRNP（76）: 发现 1 个异常值\n",
      "  句子长度-DESSL（06）: 发现 5 个异常值\n",
      "  句子结构-DRPVAL（80）: 发现 4 个异常值\n",
      "  句子结构-DRNEG（81）: 发现 1 个异常值\n",
      "  句子结构-DRINF（83）: 发现 2 个异常值\n",
      "  句法相似-SYNSTRUTa（74）: 发现 2 个异常值\n",
      "  句法相似-SYNSTRUTt（75）: 发现 3 个异常值\n",
      "清理后数据形状: (267, 13)\n",
      "\n",
      "处理 宏观叙事-语篇连贯性 数据...\n",
      "✓ 找到年级列，年级分布: 年级\n",
      "1    100\n",
      "2    100\n",
      "3    100\n",
      "Name: count, dtype: int64\n",
      "  有效年级: [np.int64(1), np.int64(2), np.int64(3)]\n",
      "数据类型分布:\n",
      "float64    8\n",
      "object     1\n",
      "int64      1\n",
      "Name: count, dtype: int64\n",
      "  局部连贯-CRFSO1（30）: 发现 15 个异常值\n",
      "  局部连贯-LSASS1(40): 发现 1 个异常值\n",
      "  整体连贯-CRFSOa（33）: 发现 8 个异常值\n",
      "  整体连贯-LSASSp（42）: 发现 7 个异常值\n",
      "  整体连贯-LSAPP1（44）: 发现 5 个异常值\n",
      "  整体连贯-LSAGN（46）: 发现 5 个异常值\n",
      "清理后数据形状: (259, 10)\n",
      "\n",
      "处理 宏观叙事-情境模型 数据...\n",
      "✓ 找到年级列，年级分布: 年级\n",
      "1    100\n",
      "2    100\n",
      "3    100\n",
      "Name: count, dtype: int64\n",
      "  有效年级: [np.int64(1), np.int64(2), np.int64(3)]\n",
      "数据类型分布:\n",
      "float64    3\n",
      "object     1\n",
      "int64      1\n",
      "Name: count, dtype: int64\n",
      "  因果衔接-SMCAUSr-64: 发现 5 个异常值\n",
      "  意图衔接-SMINTEr-65: 发现 17 个异常值\n",
      "清理后数据形状: (278, 5)\n",
      "\n",
      "处理 宏观叙事-段落长度 数据...\n",
      "✓ 找到年级列，年级分布: 年级\n",
      "1    100\n",
      "2    100\n",
      "3    100\n",
      "Name: count, dtype: int64\n",
      "  有效年级: [np.int64(1), np.int64(2), np.int64(3)]\n",
      "数据类型分布:\n",
      "float64    2\n",
      "object     1\n",
      "int64      1\n",
      "Name: count, dtype: int64\n",
      "  段落平均长度-DESPL-04: 发现 2 个异常值\n",
      "  段落平均长度标准差-DESPLd-05: 发现 3 个异常值\n",
      "清理后数据形状: (295, 4)\n"
     ]
    }
   ],
   "source": [
    "def clean_and_preprocess_data_improved(data_dict):\n",
    "    \"\"\"改进的数据清洗与预处理\"\"\"\n",
    "    cleaned_data = {}\n",
    "    \n",
    "    for name, df in data_dict.items():\n",
    "        print(f\"\\n处理 {name} 数据...\")\n",
    "        \n",
    "        # 复制数据避免修改原始数据\n",
    "        df_clean = df.copy()\n",
    "        \n",
    "        # 检查年级列\n",
    "        if '年级' in df_clean.columns:\n",
    "            print(f\"✓ 找到年级列，年级分布: {df_clean['年级'].value_counts().sort_index()}\")\n",
    "            \n",
    "            # 确保年级数据为数值型\n",
    "            df_clean['年级'] = pd.to_numeric(df_clean['年级'], errors='coerce')\n",
    "            \n",
    "            # 移除年级缺失的行\n",
    "            before_count = len(df_clean)\n",
    "            df_clean = df_clean.dropna(subset=['年级'])\n",
    "            after_count = len(df_clean)\n",
    "            \n",
    "            if before_count != after_count:\n",
    "                print(f\"  移除年级缺失行: {before_count - after_count} 行\")\n",
    "            \n",
    "            # 验证年级值\n",
    "            unique_grades = sorted(df_clean['年级'].unique())\n",
    "            print(f\"  有效年级: {unique_grades}\")\n",
    "            \n",
    "        else:\n",
    "            print(f\"⚠️ 警告: 未找到年级列\")\n",
    "            # 尝试从其他列推断年级信息\n",
    "            grade_col = None\n",
    "            for col in df_clean.columns:\n",
    "                if any(keyword in str(col).lower() for keyword in ['年级', 'grade', 'level']):\n",
    "                    grade_col = col\n",
    "                    break\n",
    "            \n",
    "            if grade_col:\n",
    "                print(f\"  尝试使用列 '{grade_col}' 作为年级标识\")\n",
    "                # 这里可以添加年级信息推断逻辑\n",
    "            else:\n",
    "                print(f\"  无法识别年级信息，将跳过年级间比较分析\")\n",
    "        \n",
    "        # 检查并处理缺失值\n",
    "        missing_count = df_clean.isnull().sum()\n",
    "        if missing_count.sum() > 0:\n",
    "            print(f\"发现缺失值:\")\n",
    "            for col, count in missing_count[missing_count > 0].items():\n",
    "                print(f\"  {col}: {count} 个缺失值\")\n",
    "            \n",
    "            # 对于数值型数据，使用中位数填充\n",
    "            numeric_cols = df_clean.select_dtypes(include=[np.number]).columns\n",
    "            numeric_cols = [col for col in numeric_cols if col != '年级']  # 排除年级列\n",
    "            \n",
    "            for col in numeric_cols:\n",
    "                if df_clean[col].isnull().sum() > 0:\n",
    "                    median_val = df_clean[col].median()\n",
    "                    df_clean[col].fillna(median_val, inplace=True)\n",
    "                    print(f\"  使用中位数 {median_val:.4f} 填充 {col}\")\n",
    "        \n",
    "        # 检查数据类型\n",
    "        print(f\"数据类型分布:\")\n",
    "        print(df_clean.dtypes.value_counts())\n",
    "        \n",
    "        # 检查异常值\n",
    "        numeric_cols = df_clean.select_dtypes(include=[np.number]).columns\n",
    "        numeric_cols = [col for col in numeric_cols if col != '年级']\n",
    "        \n",
    "        for col in numeric_cols:\n",
    "            Q1 = df_clean[col].quantile(0.25)\n",
    "            Q3 = df_clean[col].quantile(0.75)\n",
    "            IQR = Q3 - Q1\n",
    "            lower_bound = Q1 - 1.5 * IQR\n",
    "            upper_bound = Q3 + 1.5 * IQR\n",
    "            \n",
    "            outliers = df_clean[(df_clean[col] < lower_bound) | (df_clean[col] > upper_bound)]\n",
    "            if len(outliers) > 0:\n",
    "                print(f\"  {col}: 发现 {len(outliers)} 个异常值\")\n",
    "                # 可以选择移除异常值或进行其他处理\n",
    "                df_clean = df_clean[(df_clean[col] >= lower_bound) & (df_clean[col] <= upper_bound)]\n",
    "        \n",
    "        cleaned_data[name] = df_clean\n",
    "        print(f\"清理后数据形状: {df_clean.shape}\")\n",
    "    \n",
    "    return cleaned_data\n",
    "\n",
    "# 数据清洗\n",
    "cleaned_data = clean_and_preprocess_data_improved(data_dict)"
   ]
  },
  {
   "cell_type": "markdown",
   "id": "22ed9379",
   "metadata": {},
   "source": [
    "### 3. 描述性统计分析"
   ]
  },
  {
   "cell_type": "code",
   "execution_count": 9,
   "id": "2d10aeb3",
   "metadata": {},
   "outputs": [
    {
     "data": {
      "text/plain": [
       "dict_keys(['描述性统计', '微观叙事-词法', '微观叙事-句法', '宏观叙事-语篇连贯性', '宏观叙事-情境模型', '宏观叙事-段落长度'])"
      ]
     },
     "execution_count": 9,
     "metadata": {},
     "output_type": "execute_result"
    }
   ],
   "source": [
    "cleaned_data.keys()"
   ]
  },
  {
   "cell_type": "code",
   "execution_count": 10,
   "id": "7957d50a",
   "metadata": {},
   "outputs": [
    {
     "name": "stdout",
     "output_type": "stream",
     "text": [
      "=== 描述性统计分析 ===\n",
      "\n",
      "描述性统计 描述性统计:\n",
      "✓ 按年级分组的描述性统计:\n",
      "   单词数量-DESWC-03                         句子数量-DESSC-02                     \n",
      "            mean     std  min  max count          mean    std min max count\n",
      "年级                                                                         \n",
      "1        197.505  32.116  140  300    97         14.68  2.949   8  22    97\n",
      "2        181.860  39.656  111  306   100         13.39  2.998   8  21   100\n",
      "3        216.330  31.394  153  292   100         13.79  2.761   9  22   100\n",
      "\n",
      "各年级样本量:\n",
      "  年级 1: 97 个样本\n",
      "  年级 2: 100 个样本\n",
      "  年级 3: 100 个样本\n",
      "\n",
      "总体描述性统计:\n",
      "       单词数量-DESWC-03  句子数量-DESSC-02\n",
      "count        297.000        297.000\n",
      "mean         198.576         13.946\n",
      "std           37.301          2.944\n",
      "min          111.000          8.000\n",
      "25%          172.000         12.000\n",
      "50%          196.000         14.000\n",
      "75%          225.000         16.000\n",
      "max          306.000         22.000\n",
      "--------------------------------------------------\n",
      "\n",
      "微观叙事-词法 描述性统计:\n",
      "✓ 按年级分组的描述性统计:\n",
      "   多样性-LDVOCDa（51）                                密度-WRDFRQC（94）         \\\n",
      "              mean     std     min      max count           mean    std   \n",
      "年级                                                                        \n",
      "1           86.223  14.303  59.249  125.428    89          2.340  0.089   \n",
      "2           82.723  14.281  48.200  118.578    80          2.262  0.140   \n",
      "3           87.247  13.483  56.799  114.151    83          2.204  0.127   \n",
      "\n",
      "                        ... 复杂度-K5                          复杂度-K6+         \\\n",
      "      min    max count  ...   mean    std  min    max count    mean    std   \n",
      "年级                      ...                                                  \n",
      "1   2.086  2.525    89  ...  0.880  0.556  0.0  2.312    89   0.317  0.359   \n",
      "2   1.933  2.684    80  ...  1.079  0.632  0.0  2.632    80   0.285  0.391   \n",
      "3   1.887  2.472    83  ...  1.056  0.563  0.0  2.778    83   0.233  0.351   \n",
      "\n",
      "                      \n",
      "    min    max count  \n",
      "年级                    \n",
      "1   0.0  1.380    89  \n",
      "2   0.0  1.342    80  \n",
      "3   0.0  1.351    83  \n",
      "\n",
      "[3 rows x 40 columns]\n",
      "\n",
      "各年级样本量:\n",
      "  年级 1: 89 个样本\n",
      "  年级 2: 80 个样本\n",
      "  年级 3: 83 个样本\n",
      "\n",
      "总体描述性统计:\n",
      "       多样性-LDVOCDa（51）  密度-WRDFRQC（94）   复杂度-K1   复杂度-K2   复杂度-K3   复杂度-K4  \\\n",
      "count          252.000         252.000  252.000  252.000  252.000  252.000   \n",
      "mean            85.449           2.270   86.284    7.219    3.515    1.382   \n",
      "std             14.105           0.132    3.395    1.826    1.723    0.862   \n",
      "min             48.200           1.887   76.923    2.899    0.000    0.000   \n",
      "25%             74.867           2.186   84.088    6.030    2.346    0.645   \n",
      "50%             85.109           2.281   86.652    7.059    3.376    1.262   \n",
      "75%             95.185           2.360   88.889    8.375    4.517    1.918   \n",
      "max            125.428           2.684   94.839   12.227    8.099    3.879   \n",
      "\n",
      "        复杂度-K5  复杂度-K6+  \n",
      "count  252.000  252.000  \n",
      "mean     1.001    0.279  \n",
      "std      0.588    0.367  \n",
      "min      0.000    0.000  \n",
      "25%      0.548    0.000  \n",
      "50%      0.952    0.000  \n",
      "75%      1.413    0.521  \n",
      "max      2.778    1.380  \n",
      "--------------------------------------------------\n",
      "\n",
      "微观叙事-句法 描述性统计:\n",
      "✓ 按年级分组的描述性统计:\n",
      "   短语长度-SYNLE（69）                            短语长度-SYNNP（70）                \\\n",
      "             mean    std    min    max count           mean    std    min   \n",
      "年级                                                                          \n",
      "1           3.438  0.936  1.667  5.923    92          0.631  0.109  0.367   \n",
      "2           3.531  1.099  1.611  6.625    88          0.707  0.135  0.364   \n",
      "3           4.203  1.093  2.000  6.900    87          0.747  0.120  0.539   \n",
      "\n",
      "                 ... 句法相似-SYNSTRUTa（74）                             \\\n",
      "      max count  ...               mean    std    min    max count   \n",
      "年级               ...                                                 \n",
      "1   0.919    92  ...              0.133  0.031  0.068  0.219    92   \n",
      "2   1.053    88  ...              0.128  0.034  0.055  0.206    88   \n",
      "3   1.015    87  ...              0.117  0.034  0.055  0.205    87   \n",
      "\n",
      "   句法相似-SYNSTRUTt（75）                             \n",
      "                 mean    std    min    max count  \n",
      "年级                                                \n",
      "1               0.131  0.026  0.076  0.191    92  \n",
      "2               0.124  0.028  0.073  0.200    88  \n",
      "3               0.115  0.028  0.064  0.193    87  \n",
      "\n",
      "[3 rows x 55 columns]\n",
      "\n",
      "各年级样本量:\n",
      "  年级 1: 92 个样本\n",
      "  年级 2: 88 个样本\n",
      "  年级 3: 87 个样本\n",
      "\n",
      "总体描述性统计:\n",
      "       短语长度-SYNLE（69）  短语长度-SYNNP（70）  短语密度-DRNP（76）  短语密度-DRVP（77）  \\\n",
      "count         267.000         267.000        267.000        267.000   \n",
      "mean            3.718           0.694        337.728        237.600   \n",
      "std             1.094           0.130         26.755         25.714   \n",
      "min             1.611           0.364        276.786        172.973   \n",
      "25%             2.917           0.604        317.337        219.251   \n",
      "50%             3.643           0.680        339.041        238.095   \n",
      "75%             4.434           0.780        355.503        253.888   \n",
      "max             6.900           1.053        411.392        304.813   \n",
      "\n",
      "       短语密度-DRPP（79）  句子长度-DESSL（06）  句子结构-DRPVAL（80）  句子结构-DRNEG（81）  \\\n",
      "count        267.000         267.000          267.000         267.000   \n",
      "mean          92.630          14.249            2.808           7.651   \n",
      "std           19.188           2.702            3.657           6.547   \n",
      "min           44.444           8.118            0.000           0.000   \n",
      "25%           78.627          12.000            0.000           0.000   \n",
      "50%           92.391          14.071            0.000           6.369   \n",
      "75%          105.851          16.250            5.277          11.696   \n",
      "max          141.732          22.462           13.333          28.037   \n",
      "\n",
      "       句子结构-DRINF（83）  句法相似-SYNSTRUTa（74）  句法相似-SYNSTRUTt（75）  \n",
      "count         267.000             267.000             267.000  \n",
      "mean           18.742               0.126               0.124  \n",
      "std             9.423               0.033               0.028  \n",
      "min             0.000               0.055               0.064  \n",
      "25%            11.551               0.102               0.102  \n",
      "50%            18.349               0.121               0.122  \n",
      "75%            25.724               0.149               0.142  \n",
      "max            44.586               0.219               0.200  \n",
      "--------------------------------------------------\n",
      "\n",
      "宏观叙事-语篇连贯性 描述性统计:\n",
      "✓ 按年级分组的描述性统计:\n",
      "   局部连贯-CRFAO1（29）                          局部连贯-CRFSO1（30）              \\\n",
      "              mean    std    min  max count            mean    std  min   \n",
      "年级                                                                        \n",
      "1            0.590  0.152  0.231  1.0    88           0.114  0.086  0.0   \n",
      "2            0.577  0.176  0.188  1.0    89           0.131  0.102  0.0   \n",
      "3            0.601  0.162  0.263  1.0    82           0.139  0.087  0.0   \n",
      "\n",
      "                 ... 整体连贯-LSAPP1（44）                             \\\n",
      "      max count  ...            mean    std    min    max count   \n",
      "年级               ...                                              \n",
      "1   0.385    88  ...           0.419  0.091  0.214  0.658    88   \n",
      "2   0.364    89  ...           0.417  0.100  0.210  0.628    89   \n",
      "3   0.364    82  ...           0.455  0.076  0.246  0.632    82   \n",
      "\n",
      "   整体连贯-LSAGN（46）                             \n",
      "             mean    std    min    max count  \n",
      "年级                                            \n",
      "1           0.260  0.020  0.202  0.309    88  \n",
      "2           0.251  0.024  0.203  0.303    89  \n",
      "3           0.260  0.022  0.211  0.313    82  \n",
      "\n",
      "[3 rows x 40 columns]\n",
      "\n",
      "各年级样本量:\n",
      "  年级 1: 88 个样本\n",
      "  年级 2: 89 个样本\n",
      "  年级 3: 82 个样本\n",
      "\n",
      "总体描述性统计:\n",
      "       局部连贯-CRFAO1（29）  局部连贯-CRFSO1（30）  局部连贯-LSASS1(40)  整体连贯-CRFAOa（32）  \\\n",
      "count          259.000          259.000          259.000          259.000   \n",
      "mean             0.589            0.128            0.112            0.568   \n",
      "std              0.163            0.092            0.034            0.154   \n",
      "min              0.188            0.000            0.024            0.184   \n",
      "25%              0.467            0.067            0.089            0.454   \n",
      "50%              0.591            0.111            0.112            0.553   \n",
      "75%              0.700            0.185            0.135            0.674   \n",
      "max              1.000            0.385            0.199            1.000   \n",
      "\n",
      "       整体连贯-CRFSOa（33）  整体连贯-LSASSp（42）  整体连贯-LSAPP1（44）  整体连贯-LSAGN（46）  \n",
      "count          259.000          259.000          259.000         259.000  \n",
      "mean             0.125            0.111            0.430           0.257  \n",
      "std              0.057            0.029            0.091           0.022  \n",
      "min              0.012            0.041            0.210           0.202  \n",
      "25%              0.080            0.090            0.368           0.244  \n",
      "50%              0.118            0.109            0.432           0.256  \n",
      "75%              0.161            0.128            0.494           0.272  \n",
      "max              0.286            0.189            0.658           0.313  \n",
      "--------------------------------------------------\n",
      "\n",
      "宏观叙事-情境模型 描述性统计:\n",
      "✓ 按年级分组的描述性统计:\n",
      "   因果衔接-SMCAUSr-64                          意图衔接-SMINTEr-65              \\\n",
      "              mean    std  min    max count            mean    std  min   \n",
      "年级                                                                        \n",
      "1            0.312  0.206  0.0  0.800    98           0.316  0.178  0.0   \n",
      "2            0.230  0.205  0.0  0.800    94           0.366  0.223  0.0   \n",
      "3            0.226  0.157  0.0  0.667    86           0.381  0.214  0.0   \n",
      "\n",
      "                时体衔接-SMTEMP-68                           \n",
      "      max count           mean    std    min  max count  \n",
      "年级                                                       \n",
      "1   0.833    98          0.854  0.092  0.636  1.0    98  \n",
      "2   0.875    94          0.880  0.076  0.643  1.0    94  \n",
      "3   0.875    86          0.875  0.086  0.667  1.0    86  \n",
      "\n",
      "各年级样本量:\n",
      "  年级 1: 98 个样本\n",
      "  年级 2: 94 个样本\n",
      "  年级 3: 86 个样本\n",
      "\n",
      "总体描述性统计:\n",
      "       因果衔接-SMCAUSr-64  意图衔接-SMINTEr-65  时体衔接-SMTEMP-68\n",
      "count          278.000          278.000         278.000\n",
      "mean             0.258            0.353           0.869\n",
      "std              0.195            0.207           0.086\n",
      "min              0.000            0.000           0.636\n",
      "25%              0.111            0.200           0.809\n",
      "50%              0.222            0.333           0.882\n",
      "75%              0.375            0.500           0.929\n",
      "max              0.800            0.875           1.000\n",
      "--------------------------------------------------\n",
      "\n",
      "宏观叙事-段落长度 描述性统计:\n",
      "✓ 按年级分组的描述性统计:\n",
      "   段落平均长度-DESPL-04                         段落平均长度标准差-DESPLd-05              \\\n",
      "              mean    std  min   max count                mean    std  min   \n",
      "年级                                                                           \n",
      "1            7.316  1.486  4.0  11.0    98               1.732  1.317  0.0   \n",
      "2            6.634  1.480  4.0  10.5    97               2.384  1.455  0.0   \n",
      "3            6.895  1.380  4.5  11.0   100               1.421  1.061  0.0   \n",
      "\n",
      "                 \n",
      "      max count  \n",
      "年级               \n",
      "1   5.657    98  \n",
      "2   5.657    97  \n",
      "3   5.657   100  \n",
      "\n",
      "各年级样本量:\n",
      "  年级 1: 98 个样本\n",
      "  年级 2: 97 个样本\n",
      "  年级 3: 100 个样本\n",
      "\n",
      "总体描述性统计:\n",
      "       段落平均长度-DESPL-04  段落平均长度标准差-DESPLd-05\n",
      "count          295.000              295.000\n",
      "mean             6.949                1.841\n",
      "std              1.471                1.343\n",
      "min              4.000                0.000\n",
      "25%              6.000                0.707\n",
      "50%              7.000                1.414\n",
      "75%              8.000                2.828\n",
      "max             11.000                5.657\n",
      "--------------------------------------------------\n"
     ]
    }
   ],
   "source": [
    "def descriptive_analysis_improved(cleaned_data):\n",
    "    \"\"\"改进的描述性统计分析\"\"\"\n",
    "    print(\"=== 描述性统计分析 ===\")\n",
    "    \n",
    "    for name, df in cleaned_data.items():\n",
    "        print(f\"\\n{name} 描述性统计:\")\n",
    "        \n",
    "        # 检查是否有年级列\n",
    "        if '年级' in df.columns:\n",
    "            print(f\"✓ 按年级分组的描述性统计:\")\n",
    "            \n",
    "            # 识别数值型列（排除年级列）\n",
    "            numeric_cols = df.select_dtypes(include=[np.number]).columns\n",
    "            numeric_cols = [col for col in numeric_cols if col != '年级']\n",
    "            \n",
    "            if len(numeric_cols) > 0:\n",
    "                # 按年级分组统计\n",
    "                desc_stats = df.groupby('年级')[numeric_cols].agg(['mean', 'std', 'min', 'max', 'count'])\n",
    "                print(desc_stats.round(3))\n",
    "                \n",
    "                # 显示每个年级的样本量\n",
    "                print(f\"\\n各年级样本量:\")\n",
    "                grade_counts = df['年级'].value_counts().sort_index()\n",
    "                for grade, count in grade_counts.items():\n",
    "                    print(f\"  年级 {int(grade)}: {count} 个样本\")\n",
    "                \n",
    "                # 计算总体统计\n",
    "                print(f\"\\n总体描述性统计:\")\n",
    "                print(df[numeric_cols].describe().round(3))\n",
    "                \n",
    "            else:\n",
    "                print(\"未找到数值型列\")\n",
    "        else:\n",
    "            print(\"⚠️ 未找到年级列，显示整体描述性统计:\")\n",
    "            numeric_cols = df.select_dtypes(include=[np.number]).columns\n",
    "            if len(numeric_cols) > 0:\n",
    "                print(df[numeric_cols].describe().round(3))\n",
    "            else:\n",
    "                print(\"未找到数值型列\")\n",
    "        \n",
    "        print(\"-\" * 50)\n",
    "\n",
    "# 执行描述性分析\n",
    "descriptive_analysis_improved(cleaned_data)"
   ]
  },
  {
   "cell_type": "markdown",
   "id": "d04c2437",
   "metadata": {},
   "source": [
    "### 4. 数据可视化 - 年级间差异 "
   ]
  },
  {
   "cell_type": "code",
   "execution_count": 11,
   "id": "2ab426f7",
   "metadata": {},
   "outputs": [
    {
     "data": {
      "image/png": "[encoded data removed]",
      "text/plain": [
       "<Figure size 1800x1000 with 6 Axes>"
      ]
     },
     "metadata": {},
     "output_type": "display_data"
    },
    {
     "name": "stdout",
     "output_type": "stream",
     "text": [
      "\n",
      "创建相关性热力图...\n",
      "<class 'pandas.core.frame.DataFrame'>\n",
      "RangeIndex: 9043 entries, 0 to 9042\n",
      "Data columns (total 36 columns):\n",
      " #   Column               Non-Null Count  Dtype  \n",
      "---  ------               --------------  -----  \n",
      " 0   年级                   9043 non-null   int64  \n",
      " 1   单词数量-DESWC-03        297 non-null    float64\n",
      " 2   变量                   9043 non-null   object \n",
      " 3   句子数量-DESSC-02        297 non-null    float64\n",
      " 4   多样性-LDVOCDa（51）      252 non-null    float64\n",
      " 5   密度-WRDFRQC（94）       252 non-null    float64\n",
      " 6   复杂度-K1               252 non-null    float64\n",
      " 7   复杂度-K2               252 non-null    float64\n",
      " 8   复杂度-K3               252 non-null    float64\n",
      " 9   复杂度-K4               252 non-null    float64\n",
      " 10  复杂度-K5               252 non-null    float64\n",
      " 11  复杂度-K6+              252 non-null    float64\n",
      " 12  短语长度-SYNLE（69）       267 non-null    float64\n",
      " 13  短语长度-SYNNP（70）       267 non-null    float64\n",
      " 14  短语密度-DRNP（76）        267 non-null    float64\n",
      " 15  短语密度-DRVP（77）        267 non-null    float64\n",
      " 16  短语密度-DRPP（79）        267 non-null    float64\n",
      " 17  句子长度-DESSL（06）       267 non-null    float64\n",
      " 18  句子结构-DRPVAL（80）      267 non-null    float64\n",
      " 19  句子结构-DRNEG（81）       267 non-null    float64\n",
      " 20  句子结构-DRINF（83）       267 non-null    float64\n",
      " 21  句法相似-SYNSTRUTa（74）   267 non-null    float64\n",
      " 22  句法相似-SYNSTRUTt（75）   267 non-null    float64\n",
      " 23  局部连贯-CRFAO1（29）      259 non-null    float64\n",
      " 24  局部连贯-CRFSO1（30）      259 non-null    float64\n",
      " 25  局部连贯-LSASS1(40)      259 non-null    float64\n",
      " 26  整体连贯-CRFAOa（32）      259 non-null    float64\n",
      " 27  整体连贯-CRFSOa（33）      259 non-null    float64\n",
      " 28  整体连贯-LSASSp（42）      259 non-null    float64\n",
      " 29  整体连贯-LSAPP1（44）      259 non-null    float64\n",
      " 30  整体连贯-LSAGN（46）       259 non-null    float64\n",
      " 31  因果衔接-SMCAUSr-64      278 non-null    float64\n",
      " 32  意图衔接-SMINTEr-65      278 non-null    float64\n",
      " 33  时体衔接-SMTEMP-68       278 non-null    float64\n",
      " 34  段落平均长度-DESPL-04      295 non-null    float64\n",
      " 35  段落平均长度标准差-DESPLd-05  295 non-null    float64\n",
      "dtypes: float64(34), int64(1), object(1)\n",
      "memory usage: 2.5+ MB\n",
      "None\n"
     ]
    },
    {
     "data": {
      "image/png": "[encoded data removed]",
      "text/plain": [
       "<Figure size 1000x800 with 2 Axes>"
      ]
     },
     "metadata": {},
     "output_type": "display_data"
    }
   ],
   "source": [
    "\n",
    "def create_visualizations_improved(cleaned_data):\n",
    "    \"\"\"创建年级间差异的可视化图表 (修正版)\"\"\"\n",
    "    \n",
    "    # 计算需要多少个子图\n",
    "    valid_datasets = []\n",
    "    for name, df in cleaned_data.items():\n",
    "        if '年级' in df.columns:\n",
    "            numeric_cols = df.select_dtypes(include=[np.number]).columns\n",
    "            numeric_cols = [col for col in numeric_cols if col != '年级']\n",
    "            if len(numeric_cols) > 0:\n",
    "                valid_datasets.append((name, df, numeric_cols))\n",
    "    \n",
    "    if not valid_datasets:\n",
    "        print(\"⚠️ 没有找到包含年级信息的有效数据集\")\n",
    "        return\n",
    "    \n",
    "    # 设置图表布局\n",
    "    n_datasets = len(valid_datasets)\n",
    "    n_cols = min(3, n_datasets)\n",
    "    n_rows = (n_datasets + n_cols - 1) // n_cols\n",
    "    \n",
    "    fig, axes = plt.subplots(n_rows, n_cols, figsize=(6*n_cols, 5*n_rows))\n",
    "    if n_datasets == 1:\n",
    "        axes = [axes]\n",
    "    elif n_rows == 1:\n",
    "        axes = axes.reshape(1, -1)\n",
    "    \n",
    "    fig.suptitle('高中三个年级叙事能力各维度对比分析', fontsize=16, fontweight='bold')\n",
    "    \n",
    "    colors = ['#FF6B6B', '#4ECDC4', '#45B7D1']\n",
    "    \n",
    "    for idx, (name, df, numeric_cols) in enumerate(valid_datasets):\n",
    "        row = idx // n_cols\n",
    "        col = idx % n_cols\n",
    "        ax = axes[row, col]\n",
    "        \n",
    "        # 选择第一个数值列进行可视化\n",
    "        target_col = numeric_cols[0]\n",
    "        \n",
    "        # 创建箱线图\n",
    "        grade_data = []\n",
    "        grade_labels = []\n",
    "        \n",
    "        for grade in sorted(df['年级'].unique()):\n",
    "            grade_data.append(df[df['年级'] == grade][target_col].dropna())\n",
    "            grade_labels.append(f'{int(grade)}年级')\n",
    "        \n",
    "        # 绘制箱线图\n",
    "        bp = ax.boxplot(grade_data, labels=grade_labels, patch_artist=True)\n",
    "        \n",
    "        # 设置颜色\n",
    "        for patch, color in zip(bp['boxes'], colors[:len(grade_data)]):\n",
    "            patch.set_facecolor(color)\n",
    "            patch.set_alpha(0.7)\n",
    "        \n",
    "        ax.set_title(f'{name}\\n({target_col})', fontsize=12, fontweight='bold')\n",
    "        ax.set_ylabel('数值', fontsize=10)\n",
    "        ax.grid(True, alpha=0.3)\n",
    "        \n",
    "        # 添加均值点\n",
    "        for i, data in enumerate(grade_data):\n",
    "            if len(data) > 0:\n",
    "                mean_val = np.mean(data)\n",
    "                ax.plot(i+1, mean_val, 'ro', markersize=8, markeredgecolor='black')\n",
    "        \n",
    "        # 添加样本量标注\n",
    "        for i, data in enumerate(grade_data):\n",
    "            if len(data) > 0:\n",
    "                ax.text(i+1, ax.get_ylim()[0], f'n={len(data)}', \n",
    "                       ha='center', va='bottom', fontsize=9)\n",
    "    \n",
    "    # 隐藏多余的子图\n",
    "    for idx in range(len(valid_datasets), n_rows * n_cols):\n",
    "        row = idx // n_cols\n",
    "        col = idx % n_cols\n",
    "        axes[row, col].set_visible(False)\n",
    "    \n",
    "    plt.tight_layout()\n",
    "    plt.show()\n",
    "    \n",
    "    # 创建热力图显示相关性\n",
    "    if len(valid_datasets) > 1:\n",
    "        create_correlation_heatmap(cleaned_data)\n",
    "\n",
    "def create_correlation_heatmap(cleaned_data):\n",
    "    \"\"\"创建相关性热力图\"\"\"\n",
    "    print(\"\\n创建相关性热力图...\")\n",
    "    \n",
    "    # 收集所有数值数据\n",
    "    all_data = []\n",
    "    for name, df in cleaned_data.items():\n",
    "        if '年级' in df.columns:\n",
    "            numeric_cols = df.select_dtypes(include=[np.number]).columns\n",
    "            numeric_cols = [col for col in numeric_cols if col != '年级']\n",
    "            \n",
    "            for col in numeric_cols:\n",
    "                temp_df = df[['年级', col]].copy()\n",
    "                temp_df['变量'] = f\"{name}_{col}\"\n",
    "                all_data.append(temp_df)\n",
    "    \n",
    "    if all_data:\n",
    "        combined_df = pd.concat(all_data, ignore_index=True)\n",
    "        print(combined_df.info())\n",
    "        # 计算相关性矩阵\n",
    "        corr_matrix = combined_df.pivot_table(\n",
    "            index='变量', \n",
    "            columns='年级', \n",
    "            values=combined_df.columns[3],  # 数值列\n",
    "            aggfunc='mean'\n",
    "        )\n",
    "        \n",
    "        plt.figure(figsize=(10, 8))\n",
    "        sns.heatmap(corr_matrix, annot=True, cmap='coolwarm', center=0, \n",
    "                   fmt='.3f', cbar_kws={'label': '相关系数'})\n",
    "        plt.title('各维度与年级的相关性热力图', fontsize=14, fontweight='bold')\n",
    "        plt.xlabel('年级', fontsize=12)\n",
    "        plt.ylabel('变量', fontsize=12)\n",
    "        plt.xticks(rotation=0)\n",
    "        plt.yticks(rotation=0)\n",
    "        plt.tight_layout()\n",
    "        plt.show()\n",
    "\n",
    "# 创建可视化\n",
    "create_visualizations_improved(cleaned_data)"
   ]
  },
  {
   "cell_type": "code",
   "execution_count": 28,
   "id": "bba7c9ab",
   "metadata": {},
   "outputs": [
    {
     "data": {
      "text/plain": [
       "dict_keys(['描述性统计', '微观叙事-词法', '微观叙事-句法', '宏观叙事-语篇连贯性', '宏观叙事-情境模型', '宏观叙事-段落长度'])"
      ]
     },
     "execution_count": 28,
     "metadata": {},
     "output_type": "execute_result"
    }
   ],
   "source": [
    "cleaned_data.keys()"
   ]
  },
  {
   "cell_type": "code",
   "execution_count": 12,
   "id": "3f9b23f8",
   "metadata": {},
   "outputs": [
    {
     "data": {
      "application/vnd.plotly.v1+json": {
       "config": {
        "plotlyServerURL": "https://plot.ly"
       },
       "data": [
        {
         "boxmean": "sd",
         "name": "1年级",
         "showlegend": true,
         "type": "box",
         "xaxis": "x",
         "y": {
          "bdata": "mADBAMoAvQDQAOMA1ADOANQApADAAMQAowDJAO0A5QC/APQAoADtALQArwC5AMgAjAC7AMYAsQClANsA0QCsANQAuwA4AREBswDGALcA5QCVAOUAxQCbAJUAnQDNANIAvgC9AL8AEwG9ALkApgDwAJ4ArQDEAJoA7wDDAO0A6AACAcsA6gCTAMAAuQDwAPEAkgCpAO4ArwABAcQArACbALoA5QDDANYAAQHfANMApwCoAMMAvwCPAAsB3wCwANYAuwAsAcAAuAA=",
          "dtype": "i2"
         },
         "yaxis": "y"
        },
        {
         "boxmean": "sd",
         "name": "2年级",
         "showlegend": true,
         "type": "box",
         "xaxis": "x",
         "y": {
          "bdata": "lwC2ADIBxwCBAJcAugDFAMEAoAC9AKYAmwDZAK0ApQCvAMIAsAC0AKcA0gCWAKoAnADaAHsAvACmAHsAtAC8AMwArwCgAIwA0AC+AKMAnACeAJ0AigCoAO0AkADUAIsAkQB/ALgAogC9AIgAqwDQAH0AkwDsAMEArACPAN8AjwCMAJ4AlQBvAKMAuwCaAMQApACjAOUAggB2ALAAmwCdAPQAsgC/AKQAtQDnAP0A4QDmAIUA5QD0AN0ABAH7AOYA6gAeAQkB+gA=",
          "dtype": "i2"
         },
         "yaxis": "y"
        },
        {
         "boxmean": "sd",
         "name": "3年级",
         "showlegend": true,
         "type": "box",
         "xaxis": "x",
         "y": {
          "bdata": "xwC/APQAqgDFAMIAtAC4AL8AuwDkAKYAygDVAPoArADpALkAtADXAJkAmwDUANIAxQCtANgArADKANIAxwDAANgArwDMAMwA3wDKAAIB2gDTAOAAwACjANUA1ADGAMgAxQDVAM0AqwDLANkA3AC/AMUAzwC7AOEA1ADBAOgAxQDIAPkAFgHUAAwB7gD4AAAB2gDxAAUBCAHpAAMB8gAkAfMAIQHCAOkA6gD7APYA9QAVAbQA+wDzAO0AJAH6AAEB+QD8AMAAzwA=",
          "dtype": "i2"
         },
         "yaxis": "y"
        },
        {
         "boxmean": "sd",
         "name": "1年级",
         "showlegend": false,
         "type": "box",
         "xaxis": "x2",
         "y": {
          "bdata": "DhEREBQPDhALDQwODw8PEhAUDQ0MEQ4RCAwODgwPDRAQEQoTDQ0JEAsOEg0MDQsPDgwLFgwQChQNDA4NCg8UEBcUDgoODRUODhEPDhINDwkPEg8PFxESCg8OEA4UFAkPFA8NEA==",
          "dtype": "i1"
         },
         "yaxis": "y2"
        },
        {
         "boxmean": "sd",
         "name": "2年级",
         "showlegend": false,
         "type": "box",
         "xaxis": "x2",
         "y": {
          "bdata": "DA4SDgwMDw4RDBAODRAQDA4MDAsPDA0NCQgIDQ0MDgwNDAoLFRESDREKERARCxIMCQoNDw0ODA0LCRINDQoQCAoOCQoLEQ8UEhINDAgMDQsUDBQMDQoODxEKEQoMDxANEg8KCw==",
          "dtype": "i1"
         },
         "yaxis": "y2"
        },
        {
         "boxmean": "sd",
         "name": "3年级",
         "showlegend": false,
         "type": "box",
         "xaxis": "x2",
         "y": {
          "bdata": "ChISDQwSDwwMCwsLDQ0OCg4PCw8KCQoMDgsNCwwMEg0MCw8JDxITDQ4ODAoQEA4PEBAPEQ8NEBARDw0KERAVFAsODgoPCw8LDQ4ODQwPEA0MEAsOFA4REA8OCgkLFhAODQwOCw==",
          "dtype": "i1"
         },
         "yaxis": "y2"
        }
       ],
       "layout": {
        "annotations": [
         {
          "font": {
           "size": 16
          },
          "showarrow": false,
          "text": "DESWC-03",
          "x": 0.225,
          "xanchor": "center",
          "xref": "paper",
          "y": 1,
          "yanchor": "bottom",
          "yref": "paper"
         },
         {
          "font": {
           "size": 16
          },
          "showarrow": false,
          "text": "DESSC-02",
          "x": 0.775,
          "xanchor": "center",
          "xref": "paper",
          "y": 1,
          "yanchor": "bottom",
          "yref": "paper"
         }
        ],
        "height": 500,
        "showlegend": true,
        "template": {
         "data": {
          "bar": [
           {
            "error_x": {
             "color": "#2a3f5f"
            },
            "error_y": {
             "color": "#2a3f5f"
            },
            "marker": {
             "line": {
              "color": "#E5ECF6",
              "width": 0.5
             },
             "pattern": {
              "fillmode": "overlay",
              "size": 10,
              "solidity": 0.2
             }
            },
            "type": "bar"
           }
          ],
          "barpolar": [
           {
            "marker": {
             "line": {
              "color": "#E5ECF6",
              "width": 0.5
             },
             "pattern": {
              "fillmode": "overlay",
              "size": 10,
              "solidity": 0.2
             }
            },
            "type": "barpolar"
           }
          ],
          "carpet": [
           {
            "aaxis": {
             "endlinecolor": "#2a3f5f",
             "gridcolor": "white",
             "linecolor": "white",
             "minorgridcolor": "white",
             "startlinecolor": "#2a3f5f"
            },
            "baxis": {
             "endlinecolor": "#2a3f5f",
             "gridcolor": "white",
             "linecolor": "white",
             "minorgridcolor": "white",
             "startlinecolor": "#2a3f5f"
            },
            "type": "carpet"
           }
          ],
          "choropleth": [
           {
            "colorbar": {
             "outlinewidth": 0,
             "ticks": ""
            },
            "type": "choropleth"
           }
          ],
          "contour": [
           {
            "colorbar": {
             "outlinewidth": 0,
             "ticks": ""
            },
            "colorscale": [
             [
              0,
              "#0d0887"
             ],
             [
              0.1111111111111111,
              "#46039f"
             ],
             [
              0.2222222222222222,
              "#7201a8"
             ],
             [
              0.3333333333333333,
              "#9c179e"
             ],
             [
              0.4444444444444444,
              "#bd3786"
             ],
             [
              0.5555555555555556,
              "#d8576b"
             ],
             [
              0.6666666666666666,
              "#ed7953"
             ],
             [
              0.7777777777777778,
              "#fb9f3a"
             ],
             [
              0.8888888888888888,
              "#fdca26"
             ],
             [
              1,
              "#f0f921"
             ]
            ],
            "type": "contour"
           }
          ],
          "contourcarpet": [
           {
            "colorbar": {
             "outlinewidth": 0,
             "ticks": ""
            },
            "type": "contourcarpet"
           }
          ],
          "heatmap": [
           {
            "colorbar": {
             "outlinewidth": 0,
             "ticks": ""
            },
            "colorscale": [
             [
              0,
              "#0d0887"
             ],
             [
              0.1111111111111111,
              "#46039f"
             ],
             [
              0.2222222222222222,
              "#7201a8"
             ],
             [
              0.3333333333333333,
              "#9c179e"
             ],
             [
              0.4444444444444444,
              "#bd3786"
             ],
             [
              0.5555555555555556,
              "#d8576b"
             ],
             [
              0.6666666666666666,
              "#ed7953"
             ],
             [
              0.7777777777777778,
              "#fb9f3a"
             ],
             [
              0.8888888888888888,
              "#fdca26"
             ],
             [
              1,
              "#f0f921"
             ]
            ],
            "type": "heatmap"
           }
          ],
          "histogram": [
           {
            "marker": {
             "pattern": {
              "fillmode": "overlay",
              "size": 10,
              "solidity": 0.2
             }
            },
            "type": "histogram"
           }
          ],
          "histogram2d": [
           {
            "colorbar": {
             "outlinewidth": 0,
             "ticks": ""
            },
            "colorscale": [
             [
              0,
              "#0d0887"
             ],
             [
              0.1111111111111111,
              "#46039f"
             ],
             [
              0.2222222222222222,
              "#7201a8"
             ],
             [
              0.3333333333333333,
              "#9c179e"
             ],
             [
              0.4444444444444444,
              "#bd3786"
             ],
             [
              0.5555555555555556,
              "#d8576b"
             ],
             [
              0.6666666666666666,
              "#ed7953"
             ],
             [
              0.7777777777777778,
              "#fb9f3a"
             ],
             [
              0.8888888888888888,
              "#fdca26"
             ],
             [
              1,
              "#f0f921"
             ]
            ],
            "type": "histogram2d"
           }
          ],
          "histogram2dcontour": [
           {
            "colorbar": {
             "outlinewidth": 0,
             "ticks": ""
            },
            "colorscale": [
             [
              0,
              "#0d0887"
             ],
             [
              0.1111111111111111,
              "#46039f"
             ],
             [
              0.2222222222222222,
              "#7201a8"
             ],
             [
              0.3333333333333333,
              "#9c179e"
             ],
             [
              0.4444444444444444,
              "#bd3786"
             ],
             [
              0.5555555555555556,
              "#d8576b"
             ],
             [
              0.6666666666666666,
              "#ed7953"
             ],
             [
              0.7777777777777778,
              "#fb9f3a"
             ],
             [
              0.8888888888888888,
              "#fdca26"
             ],
             [
              1,
              "#f0f921"
             ]
            ],
            "type": "histogram2dcontour"
           }
          ],
          "mesh3d": [
           {
            "colorbar": {
             "outlinewidth": 0,
             "ticks": ""
            },
            "type": "mesh3d"
           }
          ],
          "parcoords": [
           {
            "line": {
             "colorbar": {
              "outlinewidth": 0,
              "ticks": ""
             }
            },
            "type": "parcoords"
           }
          ],
          "pie": [
           {
            "automargin": true,
            "type": "pie"
           }
          ],
          "scatter": [
           {
            "fillpattern": {
             "fillmode": "overlay",
             "size": 10,
             "solidity": 0.2
            },
            "type": "scatter"
           }
          ],
          "scatter3d": [
           {
            "line": {
             "colorbar": {
              "outlinewidth": 0,
              "ticks": ""
             }
            },
            "marker": {
             "colorbar": {
              "outlinewidth": 0,
              "ticks": ""
             }
            },
            "type": "scatter3d"
           }
          ],
          "scattercarpet": [
           {
            "marker": {
             "colorbar": {
              "outlinewidth": 0,
              "ticks": ""
             }
            },
            "type": "scattercarpet"
           }
          ],
          "scattergeo": [
           {
            "marker": {
             "colorbar": {
              "outlinewidth": 0,
              "ticks": ""
             }
            },
            "type": "scattergeo"
           }
          ],
          "scattergl": [
           {
            "marker": {
             "colorbar": {
              "outlinewidth": 0,
              "ticks": ""
             }
            },
            "type": "scattergl"
           }
          ],
          "scattermap": [
           {
            "marker": {
             "colorbar": {
              "outlinewidth": 0,
              "ticks": ""
             }
            },
            "type": "scattermap"
           }
          ],
          "scattermapbox": [
           {
            "marker": {
             "colorbar": {
              "outlinewidth": 0,
              "ticks": ""
             }
            },
            "type": "scattermapbox"
           }
          ],
          "scatterpolar": [
           {
            "marker": {
             "colorbar": {
              "outlinewidth": 0,
              "ticks": ""
             }
            },
            "type": "scatterpolar"
           }
          ],
          "scatterpolargl": [
           {
            "marker": {
             "colorbar": {
              "outlinewidth": 0,
              "ticks": ""
             }
            },
            "type": "scatterpolargl"
           }
          ],
          "scatterternary": [
           {
            "marker": {
             "colorbar": {
              "outlinewidth": 0,
              "ticks": ""
             }
            },
            "type": "scatterternary"
           }
          ],
          "surface": [
           {
            "colorbar": {
             "outlinewidth": 0,
             "ticks": ""
            },
            "colorscale": [
             [
              0,
              "#0d0887"
             ],
             [
              0.1111111111111111,
              "#46039f"
             ],
             [
              0.2222222222222222,
              "#7201a8"
             ],
             [
              0.3333333333333333,
              "#9c179e"
             ],
             [
              0.4444444444444444,
              "#bd3786"
             ],
             [
              0.5555555555555556,
              "#d8576b"
             ],
             [
              0.6666666666666666,
              "#ed7953"
             ],
             [
              0.7777777777777778,
              "#fb9f3a"
             ],
             [
              0.8888888888888888,
              "#fdca26"
             ],
             [
              1,
              "#f0f921"
             ]
            ],
            "type": "surface"
           }
          ],
          "table": [
           {
            "cells": {
             "fill": {
              "color": "#EBF0F8"
             },
             "line": {
              "color": "white"
             }
            },
            "header": {
             "fill": {
              "color": "#C8D4E3"
             },
             "line": {
              "color": "white"
             }
            },
            "type": "table"
           }
          ]
         },
         "layout": {
          "annotationdefaults": {
           "arrowcolor": "#2a3f5f",
           "arrowhead": 0,
           "arrowwidth": 1
          },
          "autotypenumbers": "strict",
          "coloraxis": {
           "colorbar": {
            "outlinewidth": 0,
            "ticks": ""
           }
          },
          "colorscale": {
           "diverging": [
            [
             0,
             "#8e0152"
            ],
            [
             0.1,
             "#c51b7d"
            ],
            [
             0.2,
             "#de77ae"
            ],
            [
             0.3,
             "#f1b6da"
            ],
            [
             0.4,
             "#fde0ef"
            ],
            [
             0.5,
             "#f7f7f7"
            ],
            [
             0.6,
             "#e6f5d0"
            ],
            [
             0.7,
             "#b8e186"
            ],
            [
             0.8,
             "#7fbc41"
            ],
            [
             0.9,
             "#4d9221"
            ],
            [
             1,
             "#276419"
            ]
           ],
           "sequential": [
            [
             0,
             "#0d0887"
            ],
            [
             0.1111111111111111,
             "#46039f"
            ],
            [
             0.2222222222222222,
             "#7201a8"
            ],
            [
             0.3333333333333333,
             "#9c179e"
            ],
            [
             0.4444444444444444,
             "#bd3786"
            ],
            [
             0.5555555555555556,
             "#d8576b"
            ],
            [
             0.6666666666666666,
             "#ed7953"
            ],
            [
             0.7777777777777778,
             "#fb9f3a"
            ],
            [
             0.8888888888888888,
             "#fdca26"
            ],
            [
             1,
             "#f0f921"
            ]
           ],
           "sequentialminus": [
            [
             0,
             "#0d0887"
            ],
            [
             0.1111111111111111,
             "#46039f"
            ],
            [
             0.2222222222222222,
             "#7201a8"
            ],
            [
             0.3333333333333333,
             "#9c179e"
            ],
            [
             0.4444444444444444,
             "#bd3786"
            ],
            [
             0.5555555555555556,
             "#d8576b"
            ],
            [
             0.6666666666666666,
             "#ed7953"
            ],
            [
             0.7777777777777778,
             "#fb9f3a"
            ],
            [
             0.8888888888888888,
             "#fdca26"
            ],
            [
             1,
             "#f0f921"
            ]
           ]
          },
          "colorway": [
           "#636efa",
           "#EF553B",
           "#00cc96",
           "#ab63fa",
           "#FFA15A",
           "#19d3f3",
           "#FF6692",
           "#B6E880",
           "#FF97FF",
           "#FECB52"
          ],
          "font": {
           "color": "#2a3f5f"
          },
          "geo": {
           "bgcolor": "white",
           "lakecolor": "white",
           "landcolor": "#E5ECF6",
           "showlakes": true,
           "showland": true,
           "subunitcolor": "white"
          },
          "hoverlabel": {
           "align": "left"
          },
          "hovermode": "closest",
          "mapbox": {
           "style": "light"
          },
          "paper_bgcolor": "white",
          "plot_bgcolor": "#E5ECF6",
          "polar": {
           "angularaxis": {
            "gridcolor": "white",
            "linecolor": "white",
            "ticks": ""
           },
           "bgcolor": "#E5ECF6",
           "radialaxis": {
            "gridcolor": "white",
            "linecolor": "white",
            "ticks": ""
           }
          },
          "scene": {
           "xaxis": {
            "backgroundcolor": "#E5ECF6",
            "gridcolor": "white",
            "gridwidth": 2,
            "linecolor": "white",
            "showbackground": true,
            "ticks": "",
            "zerolinecolor": "white"
           },
           "yaxis": {
            "backgroundcolor": "#E5ECF6",
            "gridcolor": "white",
            "gridwidth": 2,
            "linecolor": "white",
            "showbackground": true,
            "ticks": "",
            "zerolinecolor": "white"
           },
           "zaxis": {
            "backgroundcolor": "#E5ECF6",
            "gridcolor": "white",
            "gridwidth": 2,
            "linecolor": "white",
            "showbackground": true,
            "ticks": "",
            "zerolinecolor": "white"
           }
          },
          "shapedefaults": {
           "line": {
            "color": "#2a3f5f"
           }
          },
          "ternary": {
           "aaxis": {
            "gridcolor": "white",
            "linecolor": "white",
            "ticks": ""
           },
           "baxis": {
            "gridcolor": "white",
            "linecolor": "white",
            "ticks": ""
           },
           "bgcolor": "#E5ECF6",
           "caxis": {
            "gridcolor": "white",
            "linecolor": "white",
            "ticks": ""
           }
          },
          "title": {
           "x": 0.05
          },
          "xaxis": {
           "automargin": true,
           "gridcolor": "white",
           "linecolor": "white",
           "ticks": "",
           "title": {
            "standoff": 15
           },
           "zerolinecolor": "white",
           "zerolinewidth": 2
          },
          "yaxis": {
           "automargin": true,
           "gridcolor": "white",
           "linecolor": "white",
           "ticks": "",
           "title": {
            "standoff": 15
           },
           "zerolinecolor": "white",
           "zerolinewidth": 2
          }
         }
        },
        "width": 700,
        "xaxis": {
         "anchor": "y",
         "domain": [
          0,
          0.45
         ],
         "title": {
          "text": "年级"
         }
        },
        "xaxis2": {
         "anchor": "y2",
         "domain": [
          0.55,
          1
         ],
         "title": {
          "text": "年级"
         }
        },
        "yaxis": {
         "anchor": "x",
         "domain": [
          0,
          1
         ],
         "title": {
          "text": "DESWC-03"
         }
        },
        "yaxis2": {
         "anchor": "x2",
         "domain": [
          0,
          1
         ],
         "title": {
          "text": "DESSC-02"
         }
        }
       }
      }
     },
     "metadata": {},
     "output_type": "display_data"
    }
   ],
   "source": [
    "\n",
    "import plotly.graph_objs as go\n",
    "from plotly.subplots import make_subplots\n",
    "\n",
    "def plot_boxplots_by_grade(file_name, df, n):\n",
    "    \"\"\"\n",
    "    输入文件名、对应的DataFrame和要可视化的特征数n，输出该DataFrame的箱线图（plotly），\n",
    "    一个特征一个子图，最后是一个大图。\n",
    "    箱线图横坐标为年级，纵坐标为特征值，箱线图标题为特征名（仅展示-后的部分），\n",
    "    大图的名称为文件名。\n",
    "    \"\"\"\n",
    "    # 识别数值列（排除年级列）\n",
    "    if '年级' not in df.columns:\n",
    "        print(\"该数据集不包含'年级'列，无法绘制箱线图。\")\n",
    "        return\n",
    "\n",
    "    numeric_cols = df.select_dtypes(include='number').columns\n",
    "    numeric_cols = [col for col in numeric_cols if col != '年级']\n",
    "    if len(numeric_cols) == 0:\n",
    "        print(\"没有可用的数值特征。\")\n",
    "        return\n",
    "\n",
    "    # 只取前n个特征\n",
    "    selected_cols = numeric_cols[:n]\n",
    "    num_features = len(selected_cols)\n",
    "\n",
    "    # 创建子图\n",
    "    fig = make_subplots(rows=1, cols=num_features, subplot_titles=[\n",
    "        col.split('-', 1)[-1] if '-' in col else col for col in selected_cols\n",
    "    ])\n",
    "\n",
    "    for i, col in enumerate(selected_cols):\n",
    "        # 按年级分组绘制箱线图\n",
    "        grades = sorted(df['年级'].dropna().unique())\n",
    "        for grade in grades:\n",
    "            grade_data = df[df['年级'] == grade][col].dropna()\n",
    "            fig.add_trace(\n",
    "                go.Box(\n",
    "                    y=grade_data,\n",
    "                    name=f\"{int(grade)}年级\",\n",
    "                    boxmean='sd',\n",
    "                    showlegend=(i == 0),  # 只在第一个子图显示图例\n",
    "                ),\n",
    "                row=1, col=i+1\n",
    "            )\n",
    "        # 设置y轴标题\n",
    "        fig.update_yaxes(title_text=col.split('-', 1)[-1] if '-' in col else col, row=1, col=i+1)\n",
    "        # 设置x轴为年级\n",
    "        fig.update_xaxes(title_text=\"年级\", row=1, col=i+1)\n",
    "\n",
    "    fig.update_layout(\n",
    "        #title_text=f\"{file_name} 的特征箱线图\",\n",
    "        height=500,\n",
    "        width=350*num_features,\n",
    "        showlegend=True\n",
    "    )\n",
    "    fig.show()\n",
    "\n",
    "plot_boxplots_by_grade('描述性统计', data_dict['描述性统计'], 3)\n"
   ]
  },
  {
   "cell_type": "code",
   "execution_count": 13,
   "id": "9e88e452",
   "metadata": {},
   "outputs": [
    {
     "data": {
      "text/html": [
       "<div>\n",
       "<style scoped>\n",
       "    .dataframe tbody tr th:only-of-type {\n",
       "        vertical-align: middle;\n",
       "    }\n",
       "\n",
       "    .dataframe tbody tr th {\n",
       "        vertical-align: top;\n",
       "    }\n",
       "\n",
       "    .dataframe thead th {\n",
       "        text-align: right;\n",
       "    }\n",
       "</style>\n",
       "<table border=\"1\" class=\"dataframe\">\n",
       "  <thead>\n",
       "    <tr style=\"text-align: right;\">\n",
       "      <th></th>\n",
       "      <th>文本编号</th>\n",
       "      <th>多样性-LDVOCDa（51）</th>\n",
       "      <th>密度-WRDFRQC（94）</th>\n",
       "      <th>复杂度-K1</th>\n",
       "      <th>复杂度-K2</th>\n",
       "      <th>复杂度-K3</th>\n",
       "      <th>复杂度-K4</th>\n",
       "      <th>复杂度-K5</th>\n",
       "      <th>复杂度-K6+</th>\n",
       "      <th>年级</th>\n",
       "    </tr>\n",
       "  </thead>\n",
       "  <tbody>\n",
       "    <tr>\n",
       "      <th>0</th>\n",
       "      <td>1.txt</td>\n",
       "      <td>59.249001</td>\n",
       "      <td>2.396</td>\n",
       "      <td>92.903</td>\n",
       "      <td>3.226</td>\n",
       "      <td>3.226</td>\n",
       "      <td>0.645</td>\n",
       "      <td>0.000</td>\n",
       "      <td>0.000</td>\n",
       "      <td>1</td>\n",
       "    </tr>\n",
       "    <tr>\n",
       "      <th>1</th>\n",
       "      <td>10.txt</td>\n",
       "      <td>89.566002</td>\n",
       "      <td>2.277</td>\n",
       "      <td>88.144</td>\n",
       "      <td>6.186</td>\n",
       "      <td>2.062</td>\n",
       "      <td>3.093</td>\n",
       "      <td>0.000</td>\n",
       "      <td>0.000</td>\n",
       "      <td>1</td>\n",
       "    </tr>\n",
       "    <tr>\n",
       "      <th>2</th>\n",
       "      <td>100.txt</td>\n",
       "      <td>106.974998</td>\n",
       "      <td>2.261</td>\n",
       "      <td>84.653</td>\n",
       "      <td>8.416</td>\n",
       "      <td>3.960</td>\n",
       "      <td>1.485</td>\n",
       "      <td>1.485</td>\n",
       "      <td>0.000</td>\n",
       "      <td>1</td>\n",
       "    </tr>\n",
       "    <tr>\n",
       "      <th>3</th>\n",
       "      <td>11.txt</td>\n",
       "      <td>77.302002</td>\n",
       "      <td>2.480</td>\n",
       "      <td>87.500</td>\n",
       "      <td>6.250</td>\n",
       "      <td>1.562</td>\n",
       "      <td>0.000</td>\n",
       "      <td>1.042</td>\n",
       "      <td>0.521</td>\n",
       "      <td>1</td>\n",
       "    </tr>\n",
       "    <tr>\n",
       "      <th>5</th>\n",
       "      <td>13.txt</td>\n",
       "      <td>94.193001</td>\n",
       "      <td>2.360</td>\n",
       "      <td>89.912</td>\n",
       "      <td>7.018</td>\n",
       "      <td>1.754</td>\n",
       "      <td>0.877</td>\n",
       "      <td>0.439</td>\n",
       "      <td>0.000</td>\n",
       "      <td>1</td>\n",
       "    </tr>\n",
       "  </tbody>\n",
       "</table>\n",
       "</div>"
      ],
      "text/plain": [
       "      文本编号  多样性-LDVOCDa（51）  密度-WRDFRQC（94）  复杂度-K1  复杂度-K2  复杂度-K3  复杂度-K4  \\\n",
       "0    1.txt        59.249001           2.396  92.903   3.226   3.226   0.645   \n",
       "1   10.txt        89.566002           2.277  88.144   6.186   2.062   3.093   \n",
       "2  100.txt       106.974998           2.261  84.653   8.416   3.960   1.485   \n",
       "3   11.txt        77.302002           2.480  87.500   6.250   1.562   0.000   \n",
       "5   13.txt        94.193001           2.360  89.912   7.018   1.754   0.877   \n",
       "\n",
       "   复杂度-K5  复杂度-K6+  年级  \n",
       "0   0.000    0.000   1  \n",
       "1   0.000    0.000   1  \n",
       "2   1.485    0.000   1  \n",
       "3   1.042    0.521   1  \n",
       "5   0.439    0.000   1  "
      ]
     },
     "execution_count": 13,
     "metadata": {},
     "output_type": "execute_result"
    }
   ],
   "source": [
    "cleaned_data['微观叙事-词法'].head()"
   ]
  },
  {
   "cell_type": "code",
   "execution_count": 14,
   "id": "6afec410",
   "metadata": {},
   "outputs": [
    {
     "name": "stdout",
     "output_type": "stream",
     "text": [
      "已合并复杂度-K1~K6+为新列'复杂度-K'，并删除原有六个列。\n"
     ]
    }
   ],
   "source": [
    "# 实现将复杂度-K1 ~ 复杂度-K6+ 六个属性列相加求平均，生成新列“复杂度-K”，并删除原有六个列\n",
    "def merge_k_complexity(df):\n",
    "    k_cols = ['复杂度-K1', '复杂度-K2', '复杂度-K3', '复杂度-K4', '复杂度-K5', '复杂度-K6+']\n",
    "    # 检查所有列都存在\n",
    "    if all(col in df.columns for col in k_cols):\n",
    "        df['复杂度-K'] = df[k_cols].mean(axis=1)\n",
    "        df = df.drop(columns=k_cols)\n",
    "        print(\"已合并复杂度-K1~K6+为新列'复杂度-K'，并删除原有六个列。\")\n",
    "    else:\n",
    "        print(\"缺少部分复杂度-K列，无法合并。\")\n",
    "    return df\n",
    "tmp_df1 = merge_k_complexity(cleaned_data['微观叙事-词法'])"
   ]
  },
  {
   "cell_type": "code",
   "execution_count": 19,
   "id": "207c2a27",
   "metadata": {},
   "outputs": [
    {
     "data": {
      "text/html": [
       "<div>\n",
       "<style scoped>\n",
       "    .dataframe tbody tr th:only-of-type {\n",
       "        vertical-align: middle;\n",
       "    }\n",
       "\n",
       "    .dataframe tbody tr th {\n",
       "        vertical-align: top;\n",
       "    }\n",
       "\n",
       "    .dataframe thead th {\n",
       "        text-align: right;\n",
       "    }\n",
       "</style>\n",
       "<table border=\"1\" class=\"dataframe\">\n",
       "  <thead>\n",
       "    <tr style=\"text-align: right;\">\n",
       "      <th></th>\n",
       "      <th>文本编号</th>\n",
       "      <th>多样性-LDVOCDa（51）</th>\n",
       "      <th>密度-WRDFRQC（94）</th>\n",
       "      <th>年级</th>\n",
       "      <th>复杂度-K</th>\n",
       "    </tr>\n",
       "  </thead>\n",
       "  <tbody>\n",
       "    <tr>\n",
       "      <th>293</th>\n",
       "      <td>93.txt</td>\n",
       "      <td>91.264999</td>\n",
       "      <td>2.207</td>\n",
       "      <td>3</td>\n",
       "      <td>16.610667</td>\n",
       "    </tr>\n",
       "    <tr>\n",
       "      <th>294</th>\n",
       "      <td>94.txt</td>\n",
       "      <td>114.151001</td>\n",
       "      <td>2.052</td>\n",
       "      <td>3</td>\n",
       "      <td>16.666833</td>\n",
       "    </tr>\n",
       "    <tr>\n",
       "      <th>295</th>\n",
       "      <td>95.txt</td>\n",
       "      <td>81.849998</td>\n",
       "      <td>2.208</td>\n",
       "      <td>3</td>\n",
       "      <td>16.666667</td>\n",
       "    </tr>\n",
       "    <tr>\n",
       "      <th>296</th>\n",
       "      <td>96.txt</td>\n",
       "      <td>96.388000</td>\n",
       "      <td>2.195</td>\n",
       "      <td>3</td>\n",
       "      <td>16.666833</td>\n",
       "    </tr>\n",
       "    <tr>\n",
       "      <th>297</th>\n",
       "      <td>97.txt</td>\n",
       "      <td>92.838997</td>\n",
       "      <td>2.175</td>\n",
       "      <td>3</td>\n",
       "      <td>16.600833</td>\n",
       "    </tr>\n",
       "  </tbody>\n",
       "</table>\n",
       "</div>"
      ],
      "text/plain": [
       "       文本编号  多样性-LDVOCDa（51）  密度-WRDFRQC（94）  年级      复杂度-K\n",
       "293  93.txt        91.264999           2.207   3  16.610667\n",
       "294  94.txt       114.151001           2.052   3  16.666833\n",
       "295  95.txt        81.849998           2.208   3  16.666667\n",
       "296  96.txt        96.388000           2.195   3  16.666833\n",
       "297  97.txt        92.838997           2.175   3  16.600833"
      ]
     },
     "execution_count": 19,
     "metadata": {},
     "output_type": "execute_result"
    }
   ],
   "source": [
    "tmp_df1.tail(5)"
   ]
  },
  {
   "cell_type": "code",
   "execution_count": 18,
   "id": "ceb0c55c",
   "metadata": {},
   "outputs": [
    {
     "data": {
      "application/vnd.plotly.v1+json": {
       "config": {
        "plotlyServerURL": "https://plot.ly"
       },
       "data": [
        {
         "boxmean": "sd",
         "name": "1年级",
         "showlegend": true,
         "type": "box",
         "xaxis": "x",
         "y": {
          "bdata": "z3cBQN+fTUCMwf1fOWRWQIrJG2BmvlpAAqX8/1NTU0C9SfwfWoxXQP30AmC6oVRAAAAAAADYWEABZgCg8QpYQEYA/d9NslNAofvNH65vXEC7pP8fBmFSQO7R+t96FFRAJW8l4Hy3W0Aa6ftfZFtfQG/NBGCPwlJAtCgFQInxUUAEcf0/N/FRQFv6AkC2g1VAFNMBINkmVUBdYAPgp75WQOi7AKDvD1NABHH9PzfxU0B0ff7/KPxVQK2/JQB/clxAKQwE4KPIVUBZLgIA0x1WQLczAuDOz1BA6WD9n0O7UkBalAKgxBBUQIscAWDlAE5AMu7+XxIDV0ClBf2/SdxXQC8i/h8vvVFA0Rz+PzOrVkBKM8y/zFRaQNQn+9944VJAhMjYv6GVW0DjSgNguI5SQFv6AkC2a1JAoFUDILBiT0AXnwJgvOxVQLDL8J9uqlpAI/YJoBhMXEDU6P5/FsFTQEzX+r92tlVAScz9HzEQUkDrxv0/NY5UQG5nBMCdD1dA53wEQI2nUUB0PgKgxtNTQBefAmC85FBA7uXjf5cmWUCSmPs/YtBTQKG7A8ChpVVARBwEgJduV0ADC/2fRb5VQC/jAcDMjFJA6LsAoO83UUBGAP3fTVpWQBU5AsDKiVVATNf6v3ZGVkBIZv1/P41SQOYWBKCbzFdAFCbnH1hBWUApuR7gJBZaQBU5AsDKWVJAelT831EQUUABZgCg8YpYQBTTASDZxlNAEi4FIIWTUkAv4wHAzARUQO7l43+XPltA6LsAoO8XU0DmFgSgm5RSQKZr/V87n1JA1Cf733gJVUD+8zRgEFBaQCwXAYDpVlFAj43+nxxqWEDOEQGg7RRUQP+Z/18OpVdAqnUsANf7XEBFWwDg+TZWQOWwAwCqyVNAoFUDILAyUUCkxgBg59tUQKG7A8ChnVVA7uXjf5duW0AiuNs/YBVZQA==",
          "dtype": "f8"
         },
         "yaxis": "y"
        },
        {
         "boxmean": "sd",
         "name": "2年级",
         "showlegend": true,
         "type": "box",
         "xaxis": "x",
         "y": {
          "bdata": "6WD9n0ODUEAuvP1/PUJUQF4FAOD7UVFA1Cf733jhU0Cf7wKAvidWQIzB/V85PFdAcTMFAIHNUkBEHASAlx5VQHDgHwACI1pAQlADQLR4UUC9SfwfWmRSQNJDAoDCvVhAztIEQIsUVEC0KAVAiVFWQBHIBICTwFVAXgUA4PvJVUABZgCg8cpSQHpU/N9RYFVAj43+nxySU0BGwQCA68FIQGCq/N9PTVVA5hYEoJscUkDhZgoAAltLQLzj+39oEVhALBcBgOnGUkBV5AgAK2dKQOd8BECNN1NAMi37v3Q7UkBgqvzfTxVSQLzj+39oyVVALyL+Hy/tU0DjSgNguHZTQPo867/zlVlAXZ//PwoXUUC84/t/aBFSQBtP/P9VjlZA5lUAAP7EWEAgrBCgcE1ZQFkuAgDTDVVA0oPM387HW0CJtgDA8+VTQBTTASDZ1lZA7yMS4E+FWUCQH+D//aRdQIgRBMCfWlRABbD5n5kZSEArcgSAlRtUQAsZ2d+jUFtAdH3+/yisUkDX8/sfXE9RQM84BeB8b1ZAoFUDILBqU0DSgv7fJCZWQIgRBMCfOlNANJP7X2YmUUC9CgDA9xtUQL1J/B9adFdAAqX8/1NrUkBptwogBLZPQJ/vAoC+51NAMYj+vyDAVUC52P7fIntVQHXj/p8az1ZA1Y37f2psT0Arxel/FGZaQCtyBICVy1dAMu7+XxILUEB3Sf8/DMpTQKL6/x8EBlhAXDn/nxiEUkCPzPr/fuJSQL1J/B9aNFBAfPn436XTW0DSQwKAwm1RQHQ+AqDGA1hA7tH633rUVkBdn/8/CidXQLiZAoDAQlhALyL+Hy9lV0BHJwEg3SxWQA==",
          "dtype": "f8"
         },
         "yaxis": "y"
        },
        {
         "boxmean": "sd",
         "name": "3年级",
         "showlegend": true,
         "type": "box",
         "xaxis": "x",
         "y": {
          "bdata": "udj+3yIDWUCW4vQ/Cl9aQIrJG2Bm7lpA40oDYLheT0CLHAFg5WBRQDLu/l8SQ1JAMi37v3STU0DX8/sfXB9UQOZVAAD+BFdAXWAD4KeGWECMggEA1xtSQEP1/z8IfFhA6LsAoO/3UEDjSgNguB5PQIarAyCuJ1NAYKr8309dVEDxL91/PzVbQFqUAqDEAFNAF97+vx69UECMggEA1xNXQLQoBUCJAVhAiBEEwJ/SVkC9SfwfWnxUQHLYAQDVYFZARsEAgOvpVEAyLfu/dFNVQAbDFEAMOlpAFTkCwMqhVkCBvA0gsmVZQOi7AKDvn1RARBwEgJeOV0BDtgPgpdNUQAIMy5/v/1lAvOP7f2iRVEBgqvzfT01QQIyCAQDXo1BAkTL7n3B9UkCrG/f/1FhOQI/M+v9+QldA0oL+3yRmVEDYhA+Ak+hZQAML/Z9FdlFAobsDwKHlVEC4mQKAwNpTQKBVAyCwklFAFTkCwMoZVEBJzP0fMXhVQDGI/r8gUFVAXE3oPzUOWUAxiP6/IGhUQIQGByBaJE9AeO77P2CdVkAbT/z/VW5TQF1gA+CnxlZAy8cHoEVmTEDmVQAA/nRWQEcnASDdzFhA68b9PzUmV0ARyASAk0BVQEcnASDdnFJACQ0OQLQYW0CEBgcgWoRZQIm2AMDz3VhAiXcEYJHdVUA5V96fHHpaQAKl/P9TW1hARVsA4PneV0AYRP9fEFBSQOvG/T81NldAUDQPYJHdWUACpfz/U6tWQPEv3X8/NVtApmv9XzvPVEDX8/sfXNdWQKfR/f8sElRAxmrz/ypvWkDHqCFg43VaQLr/AiCy1VZAo2AAwPXQVkBzKhkAqolcQDST+19mdlRActgBANUYWEC6/wIgsjVXQA==",
          "dtype": "f8"
         },
         "yaxis": "y"
        },
        {
         "boxmean": "sd",
         "name": "1年级",
         "showlegend": false,
         "type": "box",
         "xaxis": "x2",
         "y": {
          "bdata": "z6Hw/wErA0D38vG/SzcCQKmMACCHFgJAnHn9PwrXA0AdtfyfR+ECQEUG/l+R7QFAmuoGYLx0A0C4LvrfUbgCQBEx8J8YBAJA8V0GQDVeAUDPofD/ASsCQOmMCeBPjQNAdCj8f8DKAkA0KPO/91MDQDQo87/3UwNAnQj0H1g5AkCsVwjgo3ADQDFeDwD+1AJAfTUKwHSTAkCSGQoA16MDQHa38l8OLQJAspkOYDvfAkCLm/KfcD0BQBYgESAxCANAwP/2PzeJAkDJDAWA61ECQCCABGBkOwNAljf3v3JoA0Ae8Q2AFtkDQOsbAMCd7wJAKFEBwEkMA0DEBhDgItsBQLpqC8AgsABAIIAEYGQ7AkCWN/e/cmgCQLKZDmA73wJAETHwnxgEAUAV5P8/YhADQOG7DIBqvANAZhX5n0OLAkA8+e8f3SQCQChRAcBJDANApIYLgL6fA0BNEwygRbYCQKmMACCHFgJA8V0GQDVeAkA9NQEArBwDQKSGC4C+nwJApIYLgL6fAkAKYPM/MzMCQEAACcDIdgJAD6L5v8qhA0DjSgNguB4DQHa38l8OLQNAQAAJwMh2AkBV5AgAK4cDQJrqBmC8dAFAqxv3/9R4A0BtkxAAqvEBQKSGC4C+nwJARkIPQGDlAkCa6gZgvHQCQFx59H9BYANAo0r6n++nAkA1ZASgxksDQMub+185tANAqxv3/9R4AkAPovm/yqEBQAZCBoCXbgFACmDzPzMzBEBI0QUgrkcDQOG7DIBqvAFAasgIQI2XA0AtkwdA4XoDQOrf7t/O9wJATRMMoEW2AkAmwgrg+6kCQIN3EEAMAgNAo0r6n++nAkCrG/f/1HgCQA4TA+B8PwJANWQEoMZLA0DoUPj/gJUCQP5wCSCynQFAJYb5/yyyA0DJDAWA61ECQKSGC4C+nwNApIYLgL6fAkCpjAAghxYCQA==",
          "dtype": "f8"
         },
         "yaxis": "y2"
        },
        {
         "boxmean": "sd",
         "name": "2年级",
         "showlegend": false,
         "type": "box",
         "xaxis": "x2",
         "y": {
          "bdata": "GK8HAH9qAkB1ZA1gj8IAQCxX9l8SgwFAuC7631G4AUC6agvAILAAQDfz+n8UrgFAAAAAAAAAAUDpjAngT40DQLgu+t9RuABAtCgFQIlBAkBGlfQ/308DQF21BWAQWAFA8uz8H4PAAUAsV/ZfEoMCQOIO8n/pJgJANWQEoMZLAUBM1/q/dr4DQD/E99/5fgFAu/kBoG4SAkDLm/tfObQDQOmMCeBPjQBAQAAJwMh2AUD38vG/SzcDQOrf7t/O9wNAHvENgBbZAUCSGQoA16MBQIQGByBaZABACNH8X+XQAkAWIBEgMQgAQD/E99/5fgFAw8r+/1PjAUBV5AgAK4cBQDgvDGDjpQJAT6ICgJMYBECrG/f/1HgFQCWG+f8ssgJA7yH1X2ZmAkDq3+7fzvcAQIzXA4A/NQJAz6Hw/wErAkDoUPj/gJUBQOhQ+P+AlQBAnbUOINnOAkDa6g8ghesAQIPK9T+LbAJA+C4DoBovAkCa6gZgvHQCQGP3C+CnxgJATRMMoEW2AUCsVwjgo3ACQHz5+N+lmwJALyL+Hy/dAkA38/p/FK4CQH01CsB0kwNALFf2XxKDA0ChuwPAoUUDQJx5/T8K1wJAGK8HAH9qAUB8+fjfpZsDQAAAAAAAAANA+r35f2iRAkD38vG/SzcDQOmMCeBPjQBAF3P2H7ByAkDJDAWA61EDQA4TA+B8PwJAdCj8f8DKAkAoUQHASQwBQA4TA+B8PwJAhAYHIFpkA0CSGQoA16MCQCbCCuD7qQJAnQj0H1g5AEBsV/8f2/kBQFxiIGCR7f4/pdnwfz0KAkC7+QGgbhIBQKXZ8H89CgFAu/kBoG4SAEDXcu1f5/v/Pw==",
          "dtype": "f8"
         },
         "yaxis": "y2"
        },
        {
         "boxmean": "sd",
         "name": "3年级",
         "showlegend": false,
         "type": "box",
         "xaxis": "x2",
         "y": {
          "bdata": "i5vyn3A9AECWN/e/cmgCQOrf7t/O9wFAPTUBAKwcAUBmFfmfQ4sCQKSGC4C+nwFAFiARIDEIAkB1ZA1gj8IBQNrqDyCF6wFA02z4vx6FAEA1ZASgxksBQOG7DIBqvABA4bsMgGq8AUCdtQ4g2c4BQIQGByBaZABA6FD4/4CVAUDTbPi/HoUCQEZCD0Bg5QBAg3cQQAwCAUCEBgcgWmQCQLQoBUCJQQNAT6ICgJMYAkAggARgZDsAQC8i/h8v3QFA40oDYLgeAkB1ZA1gj8IBQJNs7/9VDgNAkhkKANejAEBGlfQ/308AQMjQ858cWgFAH0Tzf5VDAUCsVwjgo3ADQA+i+b/KoQJAobsDwKFFAkA0KPO/91MCQBHeCqCZmQJAg8r1P4tsAEDM1wxACKwCQEAACcDIdgJA4H/7n5vEAUAggARgZDsBQGxX/x/b+QFAspkOYDvfAECDyvU/i2wDQBYgESAxCANAV3P/33jpAUAxXg8A/tQBQMQGEOAi2wJA2uoPIIXrAUAJDQ5AtMgBQAKP9t9NYgJAg3cQQAwCA0BqyAhAjZcDQIub8p9wPQJA9p8MwMzMAkDYrv4/tvMAQJ0I9B9YOf4/PTUBAKwcA0B9iO+/8/0AQGP3C+CnxgNAu/kBoG4SAkBI0QUgrkcBQHumE+AmMf4/ikgNoPHSAED2nwzAzMwAQNSoCaDtfABAVeQIACuHAEA8+e8f3SQBQHa38l8OLQFAzNcMQAisAEC0KAVAiUEAQGSGAsD1KABAVeQIACuHAUBI0QUgrkcCQJrqBmC8dABAY0rx3yYxAED38vG/SzcDQF9E/D9eugBAo0r6n++nAUAYrwcAf2oAQCbCCuD7qQFAVKj3H1yPAUDvIfVfZmYBQA==",
          "dtype": "f8"
         },
         "yaxis": "y2"
        },
        {
         "boxmean": "sd",
         "name": "1年级",
         "showlegend": false,
         "type": "box",
         "xaxis": "x3",
         "y": {
          "bdata": "q6qqqqqqMEDlF0t+sZQwQLTIdr6fqjBAVVVVVVUlMECrqqqqqqowQLTIdr6fqjBAq6qqqqqqMECrqqqqqqowQJMYBFYOXTBAl24Sg8CqMEAua3VM8JAwQKqqqqqqqjBAy1odEzyYMEC1yHa+n6owQLTIdr6fqjBAodMGOm2QMECrqqqqqqowQBbZzvdTkzBAoYzelrWqMECrqqqqqqowQKGM3pa1qjBAq6qqqqqqMEChjN6WtaowQLTIdr6fqjBAq6qqqqqqMECrqqqqqqowQLTIdr6fqjBA6t8IZfSWMECrqqqqqqowQLTIdr6fqjBAq6qqqqqqMEChjN6WtaowQC/dJAaBlTBAv+ZC0pSqMECrqqqqqqowQKGM3pa1qjBAoozelrWqMEC1yHa+n6owQKuqqqqqqjBAq6qqqqqqMECrqqqqqqowQKuqqqqqqjBAtch2vp+qMEC0yHa+n6owQAisHFpkmzBAMAisHFqUMECXbhKDwKowQLXIdr6fqjBAq6qqqqqqMEC0yHa+n6owQKGM3pa1qjBAq6qqqqqqMECqqqqqqqowQAuQe82FlDBAYxBYObSYMEC1yHa+n6owQLTIdr6fqjBAs8h2vp+qMECIiIiIiJgwQLXIdr6fqjBAq6qqqqqqMECqqqqqqqowQKGM3pa1qjBAtch2vp+qMECqqqqqqqowQLXIdr6fqjBAoIzelrWqMECrqqqqqqowQLTIdr6fqjBAtch2vp+qMEDByqFFtpMwQPLSTWIQmDBAq6qqqqqqMECrqqqqqqowQKuqqqqqqjBAUf9GKKOXMEBA7jUXkpYwQJvEILByeDBAq6qqqqqqMEChjN6WtaowQKCM3pa1qjBAxwQP5omaMEC95kLSlKowQKuqqqqqqjBAbef7qfGCMEChjN6WtaowQH6x5BdLjjBAq6qqqqqqMECZUnH24ZMwQA==",
          "dtype": "f8"
         },
         "yaxis": "y3"
        },
        {
         "boxmean": "sd",
         "name": "2年级",
         "showlegend": false,
         "type": "box",
         "xaxis": "x3",
         "y": {
          "bdata": "oYzelrWqMECrqqqqqqowQKuqqqqqqjBAqqqqqqqqMEDv7u7u7o4wQFlkO99PfTBAq6qqqqqqMEC0yHa+n6owQL0ta3VMkDBAdNpApw2UMECrqqqqqqowQKGM3pa1qjBAq6qqqqqqMECrqqqqqqowQN9PjZdukjBAY8kvlvySMEDflrU6JngwQKGM3pa1qjBAtch2vp+qMECbUnH24YMwQMtaHRM8iDBAddpApw2UMEAH80T9G5EwQKuqqqqqqjBAvuZC0pSqMECqqqqqqqowQKuqqqqqqjBAq6qqqqqqMEC95kLSlKowQMOuALnXbDBAVZx9+Aw7MECnDXTaQHcwQHNoke18jzBA0LArQO51MEDuNReSpnQwQKCM3pa1qjBAIyIiIiKSMEAzelvW6pgwQEkMAiuHljBAF5KmVJyNMECqqqqqqqowQKuqqqqqqjBAq6qqqqqqMECqqqqqqqowQKGM3pa1qjBAtMh2vp+qMECrqqqqqqowQKqqqqqqqjBAwYN5ov6NMECrqqqqqqowQKGM3pa1qjBAqqqqqqqqMEDfT42XblIwQJ020GkDjTBAq6qqqqqqMECR7Xw/NY4wQLXIdr6fqjBAq6qqqqqqMEChjN6WtaowQBVnHz7DjjBAq6qqqqqqMEChjN6WtaowQP9GKKO3hTBAtch2vp+qMECrqqqqqqowQOltWatjkjBAq6qqqqqqMEChjN6WtaowQKuqqqqqqjBAY8kvlvySMEDvNReSppQwQKqqqqqqqjBAtMh2vp+qMECgjN6WtaowQPvwGXYFiDBAtch2vp+qMECzyHa+n6owQLTIdr6fqjBA8dJNYhCYMEDqJjEIrIwwQA==",
          "dtype": "f8"
         },
         "yaxis": "y3"
        },
        {
         "boxmean": "sd",
         "name": "3年级",
         "showlegend": false,
         "type": "box",
         "xaxis": "x3",
         "y": {
          "bdata": "q6qqqqqqMECrqqqqqqowQPnFkl8smTBAq6qqqqqqMEBfLPnFkn8wQKuqqqqqqjBAtch2vp+qMEChjN6WtaowQKGM3pa1qjBAq6qqqqqqMECrqqqqqqowQKuqqqqqqjBAoYzelrWqMEChjN6WtaowQKuqqqqqqjBAoYzelrWqMEAqFWcfPnMwQKuqqqqqqjBAF9nO91OTMEDwYJ6of4MwQKuqqqqqqjBAtMh2vp+qMED9G6GM3pYwQKGM3pa1qjBAq6qqqqqqMECrqqqqqqowQBYg95oLeTBALbKd76eWMECrqqqqqqowQC/dJAaBVS9Am334DLuSMEC0yHa+n6owQHe+nxovLTBAgZVDi2yXMEDFILByaIEwQESLbOf7mTBApw102kCXMECrqqqqqqowQNv5fmq8hDBA0duyVseUMEBT46WbxJAwQKuqqqqqqjBA9P3UeOmWMEBoke18P5UwQMdLN4lBgDBAtch2vp+qMECrqqqqqqowQKuqqqqqqjBAtMh2vp+qMECLbOf7qYEwQKGM3pa1qjBAF9nO91ODMEArzj58hn0wQKqqqqqqqjBAqqqqqqqqMECd76fGS2cwQNEi2/l+SjBAbhKDwMqBMEBjEFg5tGgwQLNWxwQPhjBAqqqqqqqqMECrqqqqqqowQKuqqqqqqjBAq6qqqqqqMEChjN6WtYowQK8AuddcmDBAq6qqqqqqMECqqqqqqqowQHnpJjEInDBAoYzelrWqMEChjN6WtaowQKuqqqqqqjBA2c73U+OFMECqqqqqqqowQKqqqqqqqjBAq6qqqqqqMED2b4QyenswQKGM3pa1qjBANReSplScMEChjN6WtaowQKuqqqqqqjBAoYzelrWqMEBqA5020JkwQA==",
          "dtype": "f8"
         },
         "yaxis": "y3"
        }
       ],
       "layout": {
        "annotations": [
         {
          "font": {
           "size": 16
          },
          "showarrow": false,
          "text": "LDVOCDa（51）",
          "x": 0.14444444444444446,
          "xanchor": "center",
          "xref": "paper",
          "y": 1,
          "yanchor": "bottom",
          "yref": "paper"
         },
         {
          "font": {
           "size": 16
          },
          "showarrow": false,
          "text": "WRDFRQC（94）",
          "x": 0.5,
          "xanchor": "center",
          "xref": "paper",
          "y": 1,
          "yanchor": "bottom",
          "yref": "paper"
         },
         {
          "font": {
           "size": 16
          },
          "showarrow": false,
          "text": "K",
          "x": 0.8555555555555556,
          "xanchor": "center",
          "xref": "paper",
          "y": 1,
          "yanchor": "bottom",
          "yref": "paper"
         }
        ],
        "height": 500,
        "showlegend": true,
        "template": {
         "data": {
          "bar": [
           {
            "error_x": {
             "color": "#2a3f5f"
            },
            "error_y": {
             "color": "#2a3f5f"
            },
            "marker": {
             "line": {
              "color": "#E5ECF6",
              "width": 0.5
             },
             "pattern": {
              "fillmode": "overlay",
              "size": 10,
              "solidity": 0.2
             }
            },
            "type": "bar"
           }
          ],
          "barpolar": [
           {
            "marker": {
             "line": {
              "color": "#E5ECF6",
              "width": 0.5
             },
             "pattern": {
              "fillmode": "overlay",
              "size": 10,
              "solidity": 0.2
             }
            },
            "type": "barpolar"
           }
          ],
          "carpet": [
           {
            "aaxis": {
             "endlinecolor": "#2a3f5f",
             "gridcolor": "white",
             "linecolor": "white",
             "minorgridcolor": "white",
             "startlinecolor": "#2a3f5f"
            },
            "baxis": {
             "endlinecolor": "#2a3f5f",
             "gridcolor": "white",
             "linecolor": "white",
             "minorgridcolor": "white",
             "startlinecolor": "#2a3f5f"
            },
            "type": "carpet"
           }
          ],
          "choropleth": [
           {
            "colorbar": {
             "outlinewidth": 0,
             "ticks": ""
            },
            "type": "choropleth"
           }
          ],
          "contour": [
           {
            "colorbar": {
             "outlinewidth": 0,
             "ticks": ""
            },
            "colorscale": [
             [
              0,
              "#0d0887"
             ],
             [
              0.1111111111111111,
              "#46039f"
             ],
             [
              0.2222222222222222,
              "#7201a8"
             ],
             [
              0.3333333333333333,
              "#9c179e"
             ],
             [
              0.4444444444444444,
              "#bd3786"
             ],
             [
              0.5555555555555556,
              "#d8576b"
             ],
             [
              0.6666666666666666,
              "#ed7953"
             ],
             [
              0.7777777777777778,
              "#fb9f3a"
             ],
             [
              0.8888888888888888,
              "#fdca26"
             ],
             [
              1,
              "#f0f921"
             ]
            ],
            "type": "contour"
           }
          ],
          "contourcarpet": [
           {
            "colorbar": {
             "outlinewidth": 0,
             "ticks": ""
            },
            "type": "contourcarpet"
           }
          ],
          "heatmap": [
           {
            "colorbar": {
             "outlinewidth": 0,
             "ticks": ""
            },
            "colorscale": [
             [
              0,
              "#0d0887"
             ],
             [
              0.1111111111111111,
              "#46039f"
             ],
             [
              0.2222222222222222,
              "#7201a8"
             ],
             [
              0.3333333333333333,
              "#9c179e"
             ],
             [
              0.4444444444444444,
              "#bd3786"
             ],
             [
              0.5555555555555556,
              "#d8576b"
             ],
             [
              0.6666666666666666,
              "#ed7953"
             ],
             [
              0.7777777777777778,
              "#fb9f3a"
             ],
             [
              0.8888888888888888,
              "#fdca26"
             ],
             [
              1,
              "#f0f921"
             ]
            ],
            "type": "heatmap"
           }
          ],
          "histogram": [
           {
            "marker": {
             "pattern": {
              "fillmode": "overlay",
              "size": 10,
              "solidity": 0.2
             }
            },
            "type": "histogram"
           }
          ],
          "histogram2d": [
           {
            "colorbar": {
             "outlinewidth": 0,
             "ticks": ""
            },
            "colorscale": [
             [
              0,
              "#0d0887"
             ],
             [
              0.1111111111111111,
              "#46039f"
             ],
             [
              0.2222222222222222,
              "#7201a8"
             ],
             [
              0.3333333333333333,
              "#9c179e"
             ],
             [
              0.4444444444444444,
              "#bd3786"
             ],
             [
              0.5555555555555556,
              "#d8576b"
             ],
             [
              0.6666666666666666,
              "#ed7953"
             ],
             [
              0.7777777777777778,
              "#fb9f3a"
             ],
             [
              0.8888888888888888,
              "#fdca26"
             ],
             [
              1,
              "#f0f921"
             ]
            ],
            "type": "histogram2d"
           }
          ],
          "histogram2dcontour": [
           {
            "colorbar": {
             "outlinewidth": 0,
             "ticks": ""
            },
            "colorscale": [
             [
              0,
              "#0d0887"
             ],
             [
              0.1111111111111111,
              "#46039f"
             ],
             [
              0.2222222222222222,
              "#7201a8"
             ],
             [
              0.3333333333333333,
              "#9c179e"
             ],
             [
              0.4444444444444444,
              "#bd3786"
             ],
             [
              0.5555555555555556,
              "#d8576b"
             ],
             [
              0.6666666666666666,
              "#ed7953"
             ],
             [
              0.7777777777777778,
              "#fb9f3a"
             ],
             [
              0.8888888888888888,
              "#fdca26"
             ],
             [
              1,
              "#f0f921"
             ]
            ],
            "type": "histogram2dcontour"
           }
          ],
          "mesh3d": [
           {
            "colorbar": {
             "outlinewidth": 0,
             "ticks": ""
            },
            "type": "mesh3d"
           }
          ],
          "parcoords": [
           {
            "line": {
             "colorbar": {
              "outlinewidth": 0,
              "ticks": ""
             }
            },
            "type": "parcoords"
           }
          ],
          "pie": [
           {
            "automargin": true,
            "type": "pie"
           }
          ],
          "scatter": [
           {
            "fillpattern": {
             "fillmode": "overlay",
             "size": 10,
             "solidity": 0.2
            },
            "type": "scatter"
           }
          ],
          "scatter3d": [
           {
            "line": {
             "colorbar": {
              "outlinewidth": 0,
              "ticks": ""
             }
            },
            "marker": {
             "colorbar": {
              "outlinewidth": 0,
              "ticks": ""
             }
            },
            "type": "scatter3d"
           }
          ],
          "scattercarpet": [
           {
            "marker": {
             "colorbar": {
              "outlinewidth": 0,
              "ticks": ""
             }
            },
            "type": "scattercarpet"
           }
          ],
          "scattergeo": [
           {
            "marker": {
             "colorbar": {
              "outlinewidth": 0,
              "ticks": ""
             }
            },
            "type": "scattergeo"
           }
          ],
          "scattergl": [
           {
            "marker": {
             "colorbar": {
              "outlinewidth": 0,
              "ticks": ""
             }
            },
            "type": "scattergl"
           }
          ],
          "scattermap": [
           {
            "marker": {
             "colorbar": {
              "outlinewidth": 0,
              "ticks": ""
             }
            },
            "type": "scattermap"
           }
          ],
          "scattermapbox": [
           {
            "marker": {
             "colorbar": {
              "outlinewidth": 0,
              "ticks": ""
             }
            },
            "type": "scattermapbox"
           }
          ],
          "scatterpolar": [
           {
            "marker": {
             "colorbar": {
              "outlinewidth": 0,
              "ticks": ""
             }
            },
            "type": "scatterpolar"
           }
          ],
          "scatterpolargl": [
           {
            "marker": {
             "colorbar": {
              "outlinewidth": 0,
              "ticks": ""
             }
            },
            "type": "scatterpolargl"
           }
          ],
          "scatterternary": [
           {
            "marker": {
             "colorbar": {
              "outlinewidth": 0,
              "ticks": ""
             }
            },
            "type": "scatterternary"
           }
          ],
          "surface": [
           {
            "colorbar": {
             "outlinewidth": 0,
             "ticks": ""
            },
            "colorscale": [
             [
              0,
              "#0d0887"
             ],
             [
              0.1111111111111111,
              "#46039f"
             ],
             [
              0.2222222222222222,
              "#7201a8"
             ],
             [
              0.3333333333333333,
              "#9c179e"
             ],
             [
              0.4444444444444444,
              "#bd3786"
             ],
             [
              0.5555555555555556,
              "#d8576b"
             ],
             [
              0.6666666666666666,
              "#ed7953"
             ],
             [
              0.7777777777777778,
              "#fb9f3a"
             ],
             [
              0.8888888888888888,
              "#fdca26"
             ],
             [
              1,
              "#f0f921"
             ]
            ],
            "type": "surface"
           }
          ],
          "table": [
           {
            "cells": {
             "fill": {
              "color": "#EBF0F8"
             },
             "line": {
              "color": "white"
             }
            },
            "header": {
             "fill": {
              "color": "#C8D4E3"
             },
             "line": {
              "color": "white"
             }
            },
            "type": "table"
           }
          ]
         },
         "layout": {
          "annotationdefaults": {
           "arrowcolor": "#2a3f5f",
           "arrowhead": 0,
           "arrowwidth": 1
          },
          "autotypenumbers": "strict",
          "coloraxis": {
           "colorbar": {
            "outlinewidth": 0,
            "ticks": ""
           }
          },
          "colorscale": {
           "diverging": [
            [
             0,
             "#8e0152"
            ],
            [
             0.1,
             "#c51b7d"
            ],
            [
             0.2,
             "#de77ae"
            ],
            [
             0.3,
             "#f1b6da"
            ],
            [
             0.4,
             "#fde0ef"
            ],
            [
             0.5,
             "#f7f7f7"
            ],
            [
             0.6,
             "#e6f5d0"
            ],
            [
             0.7,
             "#b8e186"
            ],
            [
             0.8,
             "#7fbc41"
            ],
            [
             0.9,
             "#4d9221"
            ],
            [
             1,
             "#276419"
            ]
           ],
           "sequential": [
            [
             0,
             "#0d0887"
            ],
            [
             0.1111111111111111,
             "#46039f"
            ],
            [
             0.2222222222222222,
             "#7201a8"
            ],
            [
             0.3333333333333333,
             "#9c179e"
            ],
            [
             0.4444444444444444,
             "#bd3786"
            ],
            [
             0.5555555555555556,
             "#d8576b"
            ],
            [
             0.6666666666666666,
             "#ed7953"
            ],
            [
             0.7777777777777778,
             "#fb9f3a"
            ],
            [
             0.8888888888888888,
             "#fdca26"
            ],
            [
             1,
             "#f0f921"
            ]
           ],
           "sequentialminus": [
            [
             0,
             "#0d0887"
            ],
            [
             0.1111111111111111,
             "#46039f"
            ],
            [
             0.2222222222222222,
             "#7201a8"
            ],
            [
             0.3333333333333333,
             "#9c179e"
            ],
            [
             0.4444444444444444,
             "#bd3786"
            ],
            [
             0.5555555555555556,
             "#d8576b"
            ],
            [
             0.6666666666666666,
             "#ed7953"
            ],
            [
             0.7777777777777778,
             "#fb9f3a"
            ],
            [
             0.8888888888888888,
             "#fdca26"
            ],
            [
             1,
             "#f0f921"
            ]
           ]
          },
          "colorway": [
           "#636efa",
           "#EF553B",
           "#00cc96",
           "#ab63fa",
           "#FFA15A",
           "#19d3f3",
           "#FF6692",
           "#B6E880",
           "#FF97FF",
           "#FECB52"
          ],
          "font": {
           "color": "#2a3f5f"
          },
          "geo": {
           "bgcolor": "white",
           "lakecolor": "white",
           "landcolor": "#E5ECF6",
           "showlakes": true,
           "showland": true,
           "subunitcolor": "white"
          },
          "hoverlabel": {
           "align": "left"
          },
          "hovermode": "closest",
          "mapbox": {
           "style": "light"
          },
          "paper_bgcolor": "white",
          "plot_bgcolor": "#E5ECF6",
          "polar": {
           "angularaxis": {
            "gridcolor": "white",
            "linecolor": "white",
            "ticks": ""
           },
           "bgcolor": "#E5ECF6",
           "radialaxis": {
            "gridcolor": "white",
            "linecolor": "white",
            "ticks": ""
           }
          },
          "scene": {
           "xaxis": {
            "backgroundcolor": "#E5ECF6",
            "gridcolor": "white",
            "gridwidth": 2,
            "linecolor": "white",
            "showbackground": true,
            "ticks": "",
            "zerolinecolor": "white"
           },
           "yaxis": {
            "backgroundcolor": "#E5ECF6",
            "gridcolor": "white",
            "gridwidth": 2,
            "linecolor": "white",
            "showbackground": true,
            "ticks": "",
            "zerolinecolor": "white"
           },
           "zaxis": {
            "backgroundcolor": "#E5ECF6",
            "gridcolor": "white",
            "gridwidth": 2,
            "linecolor": "white",
            "showbackground": true,
            "ticks": "",
            "zerolinecolor": "white"
           }
          },
          "shapedefaults": {
           "line": {
            "color": "#2a3f5f"
           }
          },
          "ternary": {
           "aaxis": {
            "gridcolor": "white",
            "linecolor": "white",
            "ticks": ""
           },
           "baxis": {
            "gridcolor": "white",
            "linecolor": "white",
            "ticks": ""
           },
           "bgcolor": "#E5ECF6",
           "caxis": {
            "gridcolor": "white",
            "linecolor": "white",
            "ticks": ""
           }
          },
          "title": {
           "x": 0.05
          },
          "xaxis": {
           "automargin": true,
           "gridcolor": "white",
           "linecolor": "white",
           "ticks": "",
           "title": {
            "standoff": 15
           },
           "zerolinecolor": "white",
           "zerolinewidth": 2
          },
          "yaxis": {
           "automargin": true,
           "gridcolor": "white",
           "linecolor": "white",
           "ticks": "",
           "title": {
            "standoff": 15
           },
           "zerolinecolor": "white",
           "zerolinewidth": 2
          }
         }
        },
        "width": 1050,
        "xaxis": {
         "anchor": "y",
         "domain": [
          0,
          0.2888888888888889
         ],
         "title": {
          "text": "年级"
         }
        },
        "xaxis2": {
         "anchor": "y2",
         "domain": [
          0.35555555555555557,
          0.6444444444444445
         ],
         "title": {
          "text": "年级"
         }
        },
        "xaxis3": {
         "anchor": "y3",
         "domain": [
          0.7111111111111111,
          1
         ],
         "title": {
          "text": "年级"
         }
        },
        "yaxis": {
         "anchor": "x",
         "domain": [
          0,
          1
         ],
         "title": {
          "text": "LDVOCDa（51）"
         }
        },
        "yaxis2": {
         "anchor": "x2",
         "domain": [
          0,
          1
         ],
         "title": {
          "text": "WRDFRQC（94）"
         }
        },
        "yaxis3": {
         "anchor": "x3",
         "domain": [
          0,
          1
         ],
         "title": {
          "text": "K"
         }
        }
       }
      }
     },
     "metadata": {},
     "output_type": "display_data"
    }
   ],
   "source": [
    "plot_boxplots_by_grade('微观叙事-词法', tmp_df1, 3)"
   ]
  },
  {
   "cell_type": "code",
   "execution_count": 21,
   "id": "dd3c3b8f",
   "metadata": {},
   "outputs": [
    {
     "data": {
      "application/vnd.plotly.v1+json": {
       "config": {
        "plotlyServerURL": "https://plot.ly"
       },
       "data": [
        {
         "boxmean": "sd",
         "name": "1年级",
         "showlegend": true,
         "type": "box",
         "xaxis": "x",
         "y": {
          "bdata": "z3cBQN+fTUCMwf1fOWRWQIrJG2BmvlpAAqX8/1NTU0C9SfwfWoxXQP30AmC6oVRAAAAAAADYWEABZgCg8QpYQEYA/d9NslNAofvNH65vXEC7pP8fBmFSQO7R+t96FFRAJW8l4Hy3W0Aa6ftfZFtfQG/NBGCPwlJAtCgFQInxUUAEcf0/N/FRQFv6AkC2g1VAFNMBINkmVUBdYAPgp75WQOi7AKDvD1NABHH9PzfxU0B0ff7/KPxVQK2/JQB/clxAKQwE4KPIVUBZLgIA0x1WQLczAuDOz1BA6WD9n0O7UkBalAKgxBBUQIscAWDlAE5AMu7+XxIDV0ClBf2/SdxXQC8i/h8vvVFA0Rz+PzOrVkBKM8y/zFRaQNQn+9944VJAhMjYv6GVW0DjSgNguI5SQFv6AkC2a1JAoFUDILBiT0AXnwJgvOxVQLDL8J9uqlpAI/YJoBhMXEDU6P5/FsFTQEzX+r92tlVAScz9HzEQUkDrxv0/NY5UQG5nBMCdD1dA53wEQI2nUUB0PgKgxtNTQBefAmC85FBA7uXjf5cmWUCSmPs/YtBTQKG7A8ChpVVARBwEgJduV0ADC/2fRb5VQC/jAcDMjFJA6LsAoO83UUBGAP3fTVpWQBU5AsDKiVVATNf6v3ZGVkBIZv1/P41SQOYWBKCbzFdAFCbnH1hBWUApuR7gJBZaQBU5AsDKWVJAelT831EQUUABZgCg8YpYQBTTASDZxlNAEi4FIIWTUkAv4wHAzARUQO7l43+XPltA6LsAoO8XU0DmFgSgm5RSQKZr/V87n1JA1Cf733gJVUD+8zRgEFBaQCwXAYDpVlFAj43+nxxqWEDOEQGg7RRUQP+Z/18OpVdAqnUsANf7XEBFWwDg+TZWQOWwAwCqyVNAoFUDILAyUUCkxgBg59tUQKG7A8ChnVVA7uXjf5duW0AiuNs/YBVZQA==",
          "dtype": "f8"
         },
         "yaxis": "y"
        },
        {
         "boxmean": "sd",
         "name": "2年级",
         "showlegend": true,
         "type": "box",
         "xaxis": "x",
         "y": {
          "bdata": "6WD9n0ODUEAuvP1/PUJUQF4FAOD7UVFA1Cf733jhU0Cf7wKAvidWQIzB/V85PFdAcTMFAIHNUkBEHASAlx5VQHDgHwACI1pAQlADQLR4UUC9SfwfWmRSQNJDAoDCvVhAztIEQIsUVEC0KAVAiVFWQBHIBICTwFVAXgUA4PvJVUABZgCg8cpSQHpU/N9RYFVAj43+nxySU0BGwQCA68FIQGCq/N9PTVVA5hYEoJscUkDhZgoAAltLQLzj+39oEVhALBcBgOnGUkBV5AgAK2dKQOd8BECNN1NAMi37v3Q7UkBgqvzfTxVSQLzj+39oyVVALyL+Hy/tU0DjSgNguHZTQPo867/zlVlAXZ//PwoXUUC84/t/aBFSQBtP/P9VjlZA5lUAAP7EWEAgrBCgcE1ZQFkuAgDTDVVA0oPM387HW0CJtgDA8+VTQBTTASDZ1lZA7yMS4E+FWUCQH+D//aRdQIgRBMCfWlRABbD5n5kZSEArcgSAlRtUQAsZ2d+jUFtAdH3+/yisUkDX8/sfXE9RQM84BeB8b1ZAoFUDILBqU0DSgv7fJCZWQIgRBMCfOlNANJP7X2YmUUC9CgDA9xtUQL1J/B9adFdAAqX8/1NrUkBptwogBLZPQJ/vAoC+51NAMYj+vyDAVUC52P7fIntVQHXj/p8az1ZA1Y37f2psT0Arxel/FGZaQCtyBICVy1dAMu7+XxILUEB3Sf8/DMpTQKL6/x8EBlhAXDn/nxiEUkCPzPr/fuJSQL1J/B9aNFBAfPn436XTW0DSQwKAwm1RQHQ+AqDGA1hA7tH633rUVkBdn/8/CidXQLiZAoDAQlhALyL+Hy9lV0BHJwEg3SxWQA==",
          "dtype": "f8"
         },
         "yaxis": "y"
        },
        {
         "boxmean": "sd",
         "name": "3年级",
         "showlegend": true,
         "type": "box",
         "xaxis": "x",
         "y": {
          "bdata": "udj+3yIDWUCW4vQ/Cl9aQIrJG2Bm7lpA40oDYLheT0CLHAFg5WBRQDLu/l8SQ1JAMi37v3STU0DX8/sfXB9UQOZVAAD+BFdAXWAD4KeGWECMggEA1xtSQEP1/z8IfFhA6LsAoO/3UEDjSgNguB5PQIarAyCuJ1NAYKr8309dVEDxL91/PzVbQFqUAqDEAFNAF97+vx69UECMggEA1xNXQLQoBUCJAVhAiBEEwJ/SVkC9SfwfWnxUQHLYAQDVYFZARsEAgOvpVEAyLfu/dFNVQAbDFEAMOlpAFTkCwMqhVkCBvA0gsmVZQOi7AKDvn1RARBwEgJeOV0BDtgPgpdNUQAIMy5/v/1lAvOP7f2iRVEBgqvzfT01QQIyCAQDXo1BAkTL7n3B9UkCrG/f/1FhOQI/M+v9+QldA0oL+3yRmVEDYhA+Ak+hZQAML/Z9FdlFAobsDwKHlVEC4mQKAwNpTQKBVAyCwklFAFTkCwMoZVEBJzP0fMXhVQDGI/r8gUFVAXE3oPzUOWUAxiP6/IGhUQIQGByBaJE9AeO77P2CdVkAbT/z/VW5TQF1gA+CnxlZAy8cHoEVmTEDmVQAA/nRWQEcnASDdzFhA68b9PzUmV0ARyASAk0BVQEcnASDdnFJACQ0OQLQYW0CEBgcgWoRZQIm2AMDz3VhAiXcEYJHdVUA5V96fHHpaQAKl/P9TW1hARVsA4PneV0AYRP9fEFBSQOvG/T81NldAUDQPYJHdWUACpfz/U6tWQPEv3X8/NVtApmv9XzvPVEDX8/sfXNdWQKfR/f8sElRAxmrz/ypvWkDHqCFg43VaQLr/AiCy1VZAo2AAwPXQVkBzKhkAqolcQDST+19mdlRActgBANUYWEC6/wIgsjVXQA==",
          "dtype": "f8"
         },
         "yaxis": "y"
        },
        {
         "boxmean": "sd",
         "name": "1年级",
         "showlegend": false,
         "type": "box",
         "xaxis": "x2",
         "y": {
          "bdata": "z6Hw/wErA0D38vG/SzcCQKmMACCHFgJAnHn9PwrXA0AdtfyfR+ECQEUG/l+R7QFAmuoGYLx0A0C4LvrfUbgCQBEx8J8YBAJA8V0GQDVeAUDPofD/ASsCQOmMCeBPjQNAdCj8f8DKAkA0KPO/91MDQDQo87/3UwNAnQj0H1g5AkCsVwjgo3ADQDFeDwD+1AJAfTUKwHSTAkCSGQoA16MDQHa38l8OLQJAspkOYDvfAkCLm/KfcD0BQBYgESAxCANAwP/2PzeJAkDJDAWA61ECQCCABGBkOwNAljf3v3JoA0Ae8Q2AFtkDQOsbAMCd7wJAKFEBwEkMA0DEBhDgItsBQLpqC8AgsABAIIAEYGQ7AkCWN/e/cmgCQLKZDmA73wJAETHwnxgEAUAV5P8/YhADQOG7DIBqvANAZhX5n0OLAkA8+e8f3SQCQChRAcBJDANApIYLgL6fA0BNEwygRbYCQKmMACCHFgJA8V0GQDVeAkA9NQEArBwDQKSGC4C+nwJApIYLgL6fAkAKYPM/MzMCQEAACcDIdgJAD6L5v8qhA0DjSgNguB4DQHa38l8OLQNAQAAJwMh2AkBV5AgAK4cDQJrqBmC8dAFAqxv3/9R4A0BtkxAAqvEBQKSGC4C+nwJARkIPQGDlAkCa6gZgvHQCQFx59H9BYANAo0r6n++nAkA1ZASgxksDQMub+185tANAqxv3/9R4AkAPovm/yqEBQAZCBoCXbgFACmDzPzMzBEBI0QUgrkcDQOG7DIBqvAFAasgIQI2XA0AtkwdA4XoDQOrf7t/O9wJATRMMoEW2AkAmwgrg+6kCQIN3EEAMAgNAo0r6n++nAkCrG/f/1HgCQA4TA+B8PwJANWQEoMZLA0DoUPj/gJUCQP5wCSCynQFAJYb5/yyyA0DJDAWA61ECQKSGC4C+nwNApIYLgL6fAkCpjAAghxYCQA==",
          "dtype": "f8"
         },
         "yaxis": "y2"
        },
        {
         "boxmean": "sd",
         "name": "2年级",
         "showlegend": false,
         "type": "box",
         "xaxis": "x2",
         "y": {
          "bdata": "GK8HAH9qAkB1ZA1gj8IAQCxX9l8SgwFAuC7631G4AUC6agvAILAAQDfz+n8UrgFAAAAAAAAAAUDpjAngT40DQLgu+t9RuABAtCgFQIlBAkBGlfQ/308DQF21BWAQWAFA8uz8H4PAAUAsV/ZfEoMCQOIO8n/pJgJANWQEoMZLAUBM1/q/dr4DQD/E99/5fgFAu/kBoG4SAkDLm/tfObQDQOmMCeBPjQBAQAAJwMh2AUD38vG/SzcDQOrf7t/O9wNAHvENgBbZAUCSGQoA16MBQIQGByBaZABACNH8X+XQAkAWIBEgMQgAQD/E99/5fgFAw8r+/1PjAUBV5AgAK4cBQDgvDGDjpQJAT6ICgJMYBECrG/f/1HgFQCWG+f8ssgJA7yH1X2ZmAkDq3+7fzvcAQIzXA4A/NQJAz6Hw/wErAkDoUPj/gJUBQOhQ+P+AlQBAnbUOINnOAkDa6g8ghesAQIPK9T+LbAJA+C4DoBovAkCa6gZgvHQCQGP3C+CnxgJATRMMoEW2AUCsVwjgo3ACQHz5+N+lmwJALyL+Hy/dAkA38/p/FK4CQH01CsB0kwNALFf2XxKDA0ChuwPAoUUDQJx5/T8K1wJAGK8HAH9qAUB8+fjfpZsDQAAAAAAAAANA+r35f2iRAkD38vG/SzcDQOmMCeBPjQBAF3P2H7ByAkDJDAWA61EDQA4TA+B8PwJAdCj8f8DKAkAoUQHASQwBQA4TA+B8PwJAhAYHIFpkA0CSGQoA16MCQCbCCuD7qQJAnQj0H1g5AEBsV/8f2/kBQFxiIGCR7f4/pdnwfz0KAkC7+QGgbhIBQKXZ8H89CgFAu/kBoG4SAEDXcu1f5/v/Pw==",
          "dtype": "f8"
         },
         "yaxis": "y2"
        },
        {
         "boxmean": "sd",
         "name": "3年级",
         "showlegend": false,
         "type": "box",
         "xaxis": "x2",
         "y": {
          "bdata": "i5vyn3A9AECWN/e/cmgCQOrf7t/O9wFAPTUBAKwcAUBmFfmfQ4sCQKSGC4C+nwFAFiARIDEIAkB1ZA1gj8IBQNrqDyCF6wFA02z4vx6FAEA1ZASgxksBQOG7DIBqvABA4bsMgGq8AUCdtQ4g2c4BQIQGByBaZABA6FD4/4CVAUDTbPi/HoUCQEZCD0Bg5QBAg3cQQAwCAUCEBgcgWmQCQLQoBUCJQQNAT6ICgJMYAkAggARgZDsAQC8i/h8v3QFA40oDYLgeAkB1ZA1gj8IBQJNs7/9VDgNAkhkKANejAEBGlfQ/308AQMjQ858cWgFAH0Tzf5VDAUCsVwjgo3ADQA+i+b/KoQJAobsDwKFFAkA0KPO/91MCQBHeCqCZmQJAg8r1P4tsAEDM1wxACKwCQEAACcDIdgJA4H/7n5vEAUAggARgZDsBQGxX/x/b+QFAspkOYDvfAECDyvU/i2wDQBYgESAxCANAV3P/33jpAUAxXg8A/tQBQMQGEOAi2wJA2uoPIIXrAUAJDQ5AtMgBQAKP9t9NYgJAg3cQQAwCA0BqyAhAjZcDQIub8p9wPQJA9p8MwMzMAkDYrv4/tvMAQJ0I9B9YOf4/PTUBAKwcA0B9iO+/8/0AQGP3C+CnxgNAu/kBoG4SAkBI0QUgrkcBQHumE+AmMf4/ikgNoPHSAED2nwzAzMwAQNSoCaDtfABAVeQIACuHAEA8+e8f3SQBQHa38l8OLQFAzNcMQAisAEC0KAVAiUEAQGSGAsD1KABAVeQIACuHAUBI0QUgrkcCQJrqBmC8dABAY0rx3yYxAED38vG/SzcDQF9E/D9eugBAo0r6n++nAUAYrwcAf2oAQCbCCuD7qQFAVKj3H1yPAUDvIfVfZmYBQA==",
          "dtype": "f8"
         },
         "yaxis": "y2"
        },
        {
         "boxmean": "sd",
         "name": "1年级",
         "showlegend": false,
         "type": "box",
         "xaxis": "x3",
         "y": {
          "bdata": "bxKDwMo5V0Dwp8ZLNwlWQG8Sg8DKKVVAAAAAAADgVUDufD81XnpWQBfZzvdTU1ZAsHJoke28VkDpJjEIrKxWQGIQWDm06FRAw/UoXI+6VEB1kxgEVtZVQL6fGi/dXFZA6SYxCKy8VkDwp8ZLNwlWQAaBlUOLJFZAvHSTGAQWVkDpJjEIrNxVQM/3U+Ol21VAlkOLbOdTVUBWDi2ynQdWQLpJDAIrV1ZAAAAAAACgVUAZBFYOLYJVQFg5tMh2nlZAmpmZmZlpVUBI4XoUrj9WQGq8dJMYHFZAppvEILDqVkArhxbZzk9WQJ7vp8ZLX1VAVg4tsp1vVkDhehSuRxFVQIXrUbgeBVVAfT81XrrJVEDHSzeJQfhVQJqZmZmZkVVARIts5/tRVUAfhetRuJZWQKabxCCwqlZATDeJQWCtVUA3iUFg5ThWQFpkO99PnVVAmG4Sg8BaVkBSuB6F64lWQJHtfD81xlVAPzVeukk0VUAj2/l+atxWQO58PzVeYlVA+n5qvHQrVkAEVg4tsm1VQPhT46WbXFZAy6FFtvO9VkA5tMh2vp9WQFyPwvUo5FVA2c73U+PVVUD0/dR46f5VQIPAyqFFvlVASOF6FK7vVUAQWDm0yEZVQC2yne+nplZAMzMzMzNLVkBcj8L1KMxVQAAAAAAAgFZA7nw/NV7KVUAAAAAAAIBWQOxRuB6FU1dAYhBYObTAVkAOLbKd79dVQAwCK4cWQVZA16NwPQpnVkBeukkMAgtWQESLbOf72VRAYhBYObQYV0CuR+F6FG5WQKrx0k1iIFZA/tR46SYZVkCcxCCwciBVQNv5fmq8NFZA16NwPQqvVUCmm8QgsKpVQOkmMQis3FRAsp3vp8ZbVkAGgZVDizRVQBkEVg4tKlVA1XjpJjHoVkBg5dAi22FWQI/C9Shcl1ZAWmQ7309lVkC+nxov3exVQA==",
          "dtype": "f8"
         },
         "yaxis": "y3"
        },
        {
         "boxmean": "sd",
         "name": "2年级",
         "showlegend": false,
         "type": "box",
         "xaxis": "x3",
         "y": {
          "bdata": "AAAAAAAAVkACK4cW2eZUQD81XrpJpFVA5/up8dIFVUBzaJHtfMdUQLpJDAIrV1ZAAAAAAAAgVUAK16NwPSpWQOf7qfHSrVRAZDvfT42PVUAhsHJokR1WQM/3U+OlO1VAjZduEoPIVEB7FK5H4XJVQIXrUbgeTVZAWmQ730/VVEB1kxgEVlZWQAisHFpk41RAnMQgsHJ4VUAZBFYOLbpWQIlBYOXQWlNARIts5/spVUBzaJHtfOdWQEjhehSu91ZAj8L1KFyvVUAAAAAAAIBWQPT91HjpFlVAvHSTGAQWVkAv3SQGgU1VQGiR7Xw/vVVA2/l+aryMVEDXo3A9Cu9UQAaBlUOLnFZAZmZmZmb+VkAdWmQ733dWQLpJDAIrZ1VAnMQgsHJoVUAAAAAAAFBUQLKd76fGG1VAUI2XbhLrVECR7Xw/NeZVQEa28/3UaFVAvHSTGAQWVkDb+X5qvIxUQNv5fmq89FRAarx0kxgcVkDfT42XbqJVQD0K16NwLVZAarx0kxgkVUA3iUFg5fBVQFpkO99PZVZAEFg5tMjWVUDn+6nx0j1WQN0kBoGVs1VAAAAAAACoVkBaZDvfT9VVQMl2vp8an1VAhetRuB5dVUD2KFyPwnVWQAaBlUOLjFZA8KfGSzdZVkAUrkfhesxVQLByaJHtPFRAtvP91HjBVUC+nxov3URWQHsUrkfhclVAy6FFtvO9VkAxCKwcWlxVQDVeukkMSlZAke18PzXOVUB3vp8aL41WQL6fGi/dtFVAUrgehetJU0AQWDm0yGZVQHe+nxovBVRAJzEIrBzaVEDl0CLb+WZUQCGwcmiRHVVAO99PjZemU0DTTWIQWKFTQA==",
          "dtype": "f8"
         },
         "yaxis": "y3"
        },
        {
         "boxmean": "sd",
         "name": "3年级",
         "showlegend": false,
         "type": "box",
         "xaxis": "x3",
         "y": {
          "bdata": "AAAAAABAVEAtsp3vp75VQCuHFtnOh1VA/tR46SZJVEBWDi2ynbdVQN9PjZduylRAcT0K16NoVUAxCKwcWuRVQOF6FK5H8VRAsHJoke08VEBg5dAi2xFVQAisHFpke1RA2/l+arz0VEC0yHa+n7pVQAAAAAAAAFVAMzMzMzOjVUBEi2zn+1FVQKAaL90khlVAppvEILByVUBSuB6F63FVQARWDi2ytVdAVOOlm8QYVkAfhetRuKZTQPhT46WbZFVAAAAAAADgVUAzMzMzM4tVQNV46SYxqFVANV66SQwSVEDD9Shcj2pTQDvfT42XBlVAkxgEVg7FVUBmZmZmZi5WQB1aZDvfV1RAhxbZzve7VUCPwvUoXH9VQAAAAAAA4FVAYOXQIttRVEBeukkMAoNVQJHtfD81jlRA+n5qvHTLVUBSuB6F68FUQC2yne+nHlZAI9v5fmp8VEDNzMzMzHxWQBfZzvdTY1ZAF9nO91NDVUCBlUOLbEdVQP7UeOkmUVZAiUFg5dBSVUBxPQrXowhVQAAAAAAA4FVAYhBYObSoVUAX2c73U9NVQDeJQWDlOFZAO99PjZemVUCLbOf7qSFUQAisHFpke1NAsHJoke18VkB1kxgEVp5UQJqZmZmZEVdAaJHtfD/lVECWQ4ts5wtVQCuHFtnOR1NAAiuHFtn2VECamZmZmfFTQFCNl24SO1NAvHSTGAT+VEAEVg4tstVTQDEIrBxatFRAaJHtfD9tVEBvEoPAyjlUQG8Sg8DKqVRAF9nO91MDVUCJQWDl0EpVQDEIrBxadFRABoGVQ4sUVECYbhKDwNJVQMHKoUW2e1RAqMZLN4mJVUCamZmZmVFUQDm0yHa+H1VAhxbZzve7VEDl0CLb+aZUQA==",
          "dtype": "f8"
         },
         "yaxis": "y3"
        }
       ],
       "layout": {
        "annotations": [
         {
          "font": {
           "size": 16
          },
          "showarrow": false,
          "text": "LDVOCDa（51）",
          "x": 0.14444444444444446,
          "xanchor": "center",
          "xref": "paper",
          "y": 1,
          "yanchor": "bottom",
          "yref": "paper"
         },
         {
          "font": {
           "size": 16
          },
          "showarrow": false,
          "text": "WRDFRQC（94）",
          "x": 0.5,
          "xanchor": "center",
          "xref": "paper",
          "y": 1,
          "yanchor": "bottom",
          "yref": "paper"
         },
         {
          "font": {
           "size": 16
          },
          "showarrow": false,
          "text": "K1",
          "x": 0.8555555555555556,
          "xanchor": "center",
          "xref": "paper",
          "y": 1,
          "yanchor": "bottom",
          "yref": "paper"
         }
        ],
        "height": 500,
        "showlegend": true,
        "template": {
         "data": {
          "bar": [
           {
            "error_x": {
             "color": "#2a3f5f"
            },
            "error_y": {
             "color": "#2a3f5f"
            },
            "marker": {
             "line": {
              "color": "#E5ECF6",
              "width": 0.5
             },
             "pattern": {
              "fillmode": "overlay",
              "size": 10,
              "solidity": 0.2
             }
            },
            "type": "bar"
           }
          ],
          "barpolar": [
           {
            "marker": {
             "line": {
              "color": "#E5ECF6",
              "width": 0.5
             },
             "pattern": {
              "fillmode": "overlay",
              "size": 10,
              "solidity": 0.2
             }
            },
            "type": "barpolar"
           }
          ],
          "carpet": [
           {
            "aaxis": {
             "endlinecolor": "#2a3f5f",
             "gridcolor": "white",
             "linecolor": "white",
             "minorgridcolor": "white",
             "startlinecolor": "#2a3f5f"
            },
            "baxis": {
             "endlinecolor": "#2a3f5f",
             "gridcolor": "white",
             "linecolor": "white",
             "minorgridcolor": "white",
             "startlinecolor": "#2a3f5f"
            },
            "type": "carpet"
           }
          ],
          "choropleth": [
           {
            "colorbar": {
             "outlinewidth": 0,
             "ticks": ""
            },
            "type": "choropleth"
           }
          ],
          "contour": [
           {
            "colorbar": {
             "outlinewidth": 0,
             "ticks": ""
            },
            "colorscale": [
             [
              0,
              "#0d0887"
             ],
             [
              0.1111111111111111,
              "#46039f"
             ],
             [
              0.2222222222222222,
              "#7201a8"
             ],
             [
              0.3333333333333333,
              "#9c179e"
             ],
             [
              0.4444444444444444,
              "#bd3786"
             ],
             [
              0.5555555555555556,
              "#d8576b"
             ],
             [
              0.6666666666666666,
              "#ed7953"
             ],
             [
              0.7777777777777778,
              "#fb9f3a"
             ],
             [
              0.8888888888888888,
              "#fdca26"
             ],
             [
              1,
              "#f0f921"
             ]
            ],
            "type": "contour"
           }
          ],
          "contourcarpet": [
           {
            "colorbar": {
             "outlinewidth": 0,
             "ticks": ""
            },
            "type": "contourcarpet"
           }
          ],
          "heatmap": [
           {
            "colorbar": {
             "outlinewidth": 0,
             "ticks": ""
            },
            "colorscale": [
             [
              0,
              "#0d0887"
             ],
             [
              0.1111111111111111,
              "#46039f"
             ],
             [
              0.2222222222222222,
              "#7201a8"
             ],
             [
              0.3333333333333333,
              "#9c179e"
             ],
             [
              0.4444444444444444,
              "#bd3786"
             ],
             [
              0.5555555555555556,
              "#d8576b"
             ],
             [
              0.6666666666666666,
              "#ed7953"
             ],
             [
              0.7777777777777778,
              "#fb9f3a"
             ],
             [
              0.8888888888888888,
              "#fdca26"
             ],
             [
              1,
              "#f0f921"
             ]
            ],
            "type": "heatmap"
           }
          ],
          "histogram": [
           {
            "marker": {
             "pattern": {
              "fillmode": "overlay",
              "size": 10,
              "solidity": 0.2
             }
            },
            "type": "histogram"
           }
          ],
          "histogram2d": [
           {
            "colorbar": {
             "outlinewidth": 0,
             "ticks": ""
            },
            "colorscale": [
             [
              0,
              "#0d0887"
             ],
             [
              0.1111111111111111,
              "#46039f"
             ],
             [
              0.2222222222222222,
              "#7201a8"
             ],
             [
              0.3333333333333333,
              "#9c179e"
             ],
             [
              0.4444444444444444,
              "#bd3786"
             ],
             [
              0.5555555555555556,
              "#d8576b"
             ],
             [
              0.6666666666666666,
              "#ed7953"
             ],
             [
              0.7777777777777778,
              "#fb9f3a"
             ],
             [
              0.8888888888888888,
              "#fdca26"
             ],
             [
              1,
              "#f0f921"
             ]
            ],
            "type": "histogram2d"
           }
          ],
          "histogram2dcontour": [
           {
            "colorbar": {
             "outlinewidth": 0,
             "ticks": ""
            },
            "colorscale": [
             [
              0,
              "#0d0887"
             ],
             [
              0.1111111111111111,
              "#46039f"
             ],
             [
              0.2222222222222222,
              "#7201a8"
             ],
             [
              0.3333333333333333,
              "#9c179e"
             ],
             [
              0.4444444444444444,
              "#bd3786"
             ],
             [
              0.5555555555555556,
              "#d8576b"
             ],
             [
              0.6666666666666666,
              "#ed7953"
             ],
             [
              0.7777777777777778,
              "#fb9f3a"
             ],
             [
              0.8888888888888888,
              "#fdca26"
             ],
             [
              1,
              "#f0f921"
             ]
            ],
            "type": "histogram2dcontour"
           }
          ],
          "mesh3d": [
           {
            "colorbar": {
             "outlinewidth": 0,
             "ticks": ""
            },
            "type": "mesh3d"
           }
          ],
          "parcoords": [
           {
            "line": {
             "colorbar": {
              "outlinewidth": 0,
              "ticks": ""
             }
            },
            "type": "parcoords"
           }
          ],
          "pie": [
           {
            "automargin": true,
            "type": "pie"
           }
          ],
          "scatter": [
           {
            "fillpattern": {
             "fillmode": "overlay",
             "size": 10,
             "solidity": 0.2
            },
            "type": "scatter"
           }
          ],
          "scatter3d": [
           {
            "line": {
             "colorbar": {
              "outlinewidth": 0,
              "ticks": ""
             }
            },
            "marker": {
             "colorbar": {
              "outlinewidth": 0,
              "ticks": ""
             }
            },
            "type": "scatter3d"
           }
          ],
          "scattercarpet": [
           {
            "marker": {
             "colorbar": {
              "outlinewidth": 0,
              "ticks": ""
             }
            },
            "type": "scattercarpet"
           }
          ],
          "scattergeo": [
           {
            "marker": {
             "colorbar": {
              "outlinewidth": 0,
              "ticks": ""
             }
            },
            "type": "scattergeo"
           }
          ],
          "scattergl": [
           {
            "marker": {
             "colorbar": {
              "outlinewidth": 0,
              "ticks": ""
             }
            },
            "type": "scattergl"
           }
          ],
          "scattermap": [
           {
            "marker": {
             "colorbar": {
              "outlinewidth": 0,
              "ticks": ""
             }
            },
            "type": "scattermap"
           }
          ],
          "scattermapbox": [
           {
            "marker": {
             "colorbar": {
              "outlinewidth": 0,
              "ticks": ""
             }
            },
            "type": "scattermapbox"
           }
          ],
          "scatterpolar": [
           {
            "marker": {
             "colorbar": {
              "outlinewidth": 0,
              "ticks": ""
             }
            },
            "type": "scatterpolar"
           }
          ],
          "scatterpolargl": [
           {
            "marker": {
             "colorbar": {
              "outlinewidth": 0,
              "ticks": ""
             }
            },
            "type": "scatterpolargl"
           }
          ],
          "scatterternary": [
           {
            "marker": {
             "colorbar": {
              "outlinewidth": 0,
              "ticks": ""
             }
            },
            "type": "scatterternary"
           }
          ],
          "surface": [
           {
            "colorbar": {
             "outlinewidth": 0,
             "ticks": ""
            },
            "colorscale": [
             [
              0,
              "#0d0887"
             ],
             [
              0.1111111111111111,
              "#46039f"
             ],
             [
              0.2222222222222222,
              "#7201a8"
             ],
             [
              0.3333333333333333,
              "#9c179e"
             ],
             [
              0.4444444444444444,
              "#bd3786"
             ],
             [
              0.5555555555555556,
              "#d8576b"
             ],
             [
              0.6666666666666666,
              "#ed7953"
             ],
             [
              0.7777777777777778,
              "#fb9f3a"
             ],
             [
              0.8888888888888888,
              "#fdca26"
             ],
             [
              1,
              "#f0f921"
             ]
            ],
            "type": "surface"
           }
          ],
          "table": [
           {
            "cells": {
             "fill": {
              "color": "#EBF0F8"
             },
             "line": {
              "color": "white"
             }
            },
            "header": {
             "fill": {
              "color": "#C8D4E3"
             },
             "line": {
              "color": "white"
             }
            },
            "type": "table"
           }
          ]
         },
         "layout": {
          "annotationdefaults": {
           "arrowcolor": "#2a3f5f",
           "arrowhead": 0,
           "arrowwidth": 1
          },
          "autotypenumbers": "strict",
          "coloraxis": {
           "colorbar": {
            "outlinewidth": 0,
            "ticks": ""
           }
          },
          "colorscale": {
           "diverging": [
            [
             0,
             "#8e0152"
            ],
            [
             0.1,
             "#c51b7d"
            ],
            [
             0.2,
             "#de77ae"
            ],
            [
             0.3,
             "#f1b6da"
            ],
            [
             0.4,
             "#fde0ef"
            ],
            [
             0.5,
             "#f7f7f7"
            ],
            [
             0.6,
             "#e6f5d0"
            ],
            [
             0.7,
             "#b8e186"
            ],
            [
             0.8,
             "#7fbc41"
            ],
            [
             0.9,
             "#4d9221"
            ],
            [
             1,
             "#276419"
            ]
           ],
           "sequential": [
            [
             0,
             "#0d0887"
            ],
            [
             0.1111111111111111,
             "#46039f"
            ],
            [
             0.2222222222222222,
             "#7201a8"
            ],
            [
             0.3333333333333333,
             "#9c179e"
            ],
            [
             0.4444444444444444,
             "#bd3786"
            ],
            [
             0.5555555555555556,
             "#d8576b"
            ],
            [
             0.6666666666666666,
             "#ed7953"
            ],
            [
             0.7777777777777778,
             "#fb9f3a"
            ],
            [
             0.8888888888888888,
             "#fdca26"
            ],
            [
             1,
             "#f0f921"
            ]
           ],
           "sequentialminus": [
            [
             0,
             "#0d0887"
            ],
            [
             0.1111111111111111,
             "#46039f"
            ],
            [
             0.2222222222222222,
             "#7201a8"
            ],
            [
             0.3333333333333333,
             "#9c179e"
            ],
            [
             0.4444444444444444,
             "#bd3786"
            ],
            [
             0.5555555555555556,
             "#d8576b"
            ],
            [
             0.6666666666666666,
             "#ed7953"
            ],
            [
             0.7777777777777778,
             "#fb9f3a"
            ],
            [
             0.8888888888888888,
             "#fdca26"
            ],
            [
             1,
             "#f0f921"
            ]
           ]
          },
          "colorway": [
           "#636efa",
           "#EF553B",
           "#00cc96",
           "#ab63fa",
           "#FFA15A",
           "#19d3f3",
           "#FF6692",
           "#B6E880",
           "#FF97FF",
           "#FECB52"
          ],
          "font": {
           "color": "#2a3f5f"
          },
          "geo": {
           "bgcolor": "white",
           "lakecolor": "white",
           "landcolor": "#E5ECF6",
           "showlakes": true,
           "showland": true,
           "subunitcolor": "white"
          },
          "hoverlabel": {
           "align": "left"
          },
          "hovermode": "closest",
          "mapbox": {
           "style": "light"
          },
          "paper_bgcolor": "white",
          "plot_bgcolor": "#E5ECF6",
          "polar": {
           "angularaxis": {
            "gridcolor": "white",
            "linecolor": "white",
            "ticks": ""
           },
           "bgcolor": "#E5ECF6",
           "radialaxis": {
            "gridcolor": "white",
            "linecolor": "white",
            "ticks": ""
           }
          },
          "scene": {
           "xaxis": {
            "backgroundcolor": "#E5ECF6",
            "gridcolor": "white",
            "gridwidth": 2,
            "linecolor": "white",
            "showbackground": true,
            "ticks": "",
            "zerolinecolor": "white"
           },
           "yaxis": {
            "backgroundcolor": "#E5ECF6",
            "gridcolor": "white",
            "gridwidth": 2,
            "linecolor": "white",
            "showbackground": true,
            "ticks": "",
            "zerolinecolor": "white"
           },
           "zaxis": {
            "backgroundcolor": "#E5ECF6",
            "gridcolor": "white",
            "gridwidth": 2,
            "linecolor": "white",
            "showbackground": true,
            "ticks": "",
            "zerolinecolor": "white"
           }
          },
          "shapedefaults": {
           "line": {
            "color": "#2a3f5f"
           }
          },
          "ternary": {
           "aaxis": {
            "gridcolor": "white",
            "linecolor": "white",
            "ticks": ""
           },
           "baxis": {
            "gridcolor": "white",
            "linecolor": "white",
            "ticks": ""
           },
           "bgcolor": "#E5ECF6",
           "caxis": {
            "gridcolor": "white",
            "linecolor": "white",
            "ticks": ""
           }
          },
          "title": {
           "x": 0.05
          },
          "xaxis": {
           "automargin": true,
           "gridcolor": "white",
           "linecolor": "white",
           "ticks": "",
           "title": {
            "standoff": 15
           },
           "zerolinecolor": "white",
           "zerolinewidth": 2
          },
          "yaxis": {
           "automargin": true,
           "gridcolor": "white",
           "linecolor": "white",
           "ticks": "",
           "title": {
            "standoff": 15
           },
           "zerolinecolor": "white",
           "zerolinewidth": 2
          }
         }
        },
        "width": 1050,
        "xaxis": {
         "anchor": "y",
         "domain": [
          0,
          0.2888888888888889
         ],
         "title": {
          "text": "年级"
         }
        },
        "xaxis2": {
         "anchor": "y2",
         "domain": [
          0.35555555555555557,
          0.6444444444444445
         ],
         "title": {
          "text": "年级"
         }
        },
        "xaxis3": {
         "anchor": "y3",
         "domain": [
          0.7111111111111111,
          1
         ],
         "title": {
          "text": "年级"
         }
        },
        "yaxis": {
         "anchor": "x",
         "domain": [
          0,
          1
         ],
         "title": {
          "text": "LDVOCDa（51）"
         }
        },
        "yaxis2": {
         "anchor": "x2",
         "domain": [
          0,
          1
         ],
         "title": {
          "text": "WRDFRQC（94）"
         }
        },
        "yaxis3": {
         "anchor": "x3",
         "domain": [
          0,
          1
         ],
         "title": {
          "text": "K1"
         }
        }
       }
      }
     },
     "metadata": {},
     "output_type": "display_data"
    }
   ],
   "source": [
    "plot_boxplots_by_grade('微观叙事-词法', cleaned_data['微观叙事-词法'], 3)"
   ]
  },
  {
   "cell_type": "code",
   "execution_count": null,
   "id": "666742cd",
   "metadata": {},
   "outputs": [],
   "source": []
  },
  {
   "cell_type": "code",
   "execution_count": 8,
   "id": "ed947b61",
   "metadata": {},
   "outputs": [
    {
     "name": "stdout",
     "output_type": "stream",
     "text": [
      "=== 正态性检验 (Shapiro-Wilk检验) ===\n",
      "\n",
      "描述性统计 正态性检验结果:\n",
      "\n",
      "变量: 单词数量-DESWC-03\n",
      "  1年级: W=0.9719, p=0.0351\n",
      "    → 拒绝正态性假设 (p < 0.05)\n",
      "  2年级: W=0.9618, p=0.0054\n",
      "    → 拒绝正态性假设 (p < 0.05)\n",
      "  3年级: W=0.9777, p=0.0879\n",
      "    → 接受正态性假设 (p ≥ 0.05)\n",
      "\n",
      "变量: 句子数量-DESSC-02\n",
      "  1年级: W=0.9748, p=0.0588\n",
      "    → 接受正态性假设 (p ≥ 0.05)\n",
      "  2年级: W=0.9659, p=0.0108\n",
      "    → 拒绝正态性假设 (p < 0.05)\n",
      "  3年级: W=0.9648, p=0.0089\n",
      "    → 拒绝正态性假设 (p < 0.05)\n",
      "\n",
      "微观叙事-词法 正态性检验结果:\n",
      "\n",
      "变量: 多样性-LDVOCDa（51）\n",
      "  1年级: W=0.9670, p=0.0230\n",
      "    → 拒绝正态性假设 (p < 0.05)\n",
      "  2年级: W=0.9921, p=0.9111\n",
      "    → 接受正态性假设 (p ≥ 0.05)\n",
      "  3年级: W=0.9798, p=0.2169\n",
      "    → 接受正态性假设 (p ≥ 0.05)\n",
      "\n",
      "变量: 密度-WRDFRQC（94）\n",
      "  1年级: W=0.9818, p=0.2472\n",
      "    → 接受正态性假设 (p ≥ 0.05)\n",
      "  2年级: W=0.9899, p=0.7896\n",
      "    → 接受正态性假设 (p ≥ 0.05)\n",
      "  3年级: W=0.9860, p=0.5053\n",
      "    → 接受正态性假设 (p ≥ 0.05)\n",
      "\n",
      "变量: 复杂度-K1\n",
      "  1年级: W=0.9831, p=0.3010\n",
      "    → 接受正态性假设 (p ≥ 0.05)\n",
      "  2年级: W=0.9698, p=0.0549\n",
      "    → 接受正态性假设 (p ≥ 0.05)\n",
      "  3年级: W=0.9876, p=0.6124\n",
      "    → 接受正态性假设 (p ≥ 0.05)\n",
      "\n",
      "微观叙事-句法 正态性检验结果:\n",
      "\n",
      "变量: 短语长度-SYNLE（69）\n",
      "  1年级: W=0.9676, p=0.0217\n",
      "    → 拒绝正态性假设 (p < 0.05)\n",
      "  2年级: W=0.9702, p=0.0399\n",
      "    → 拒绝正态性假设 (p < 0.05)\n",
      "  3年级: W=0.9856, p=0.4480\n",
      "    → 接受正态性假设 (p ≥ 0.05)\n",
      "\n",
      "变量: 短语长度-SYNNP（70）\n",
      "  1年级: W=0.9941, p=0.9606\n",
      "    → 接受正态性假设 (p ≥ 0.05)\n",
      "  2年级: W=0.9919, p=0.8697\n",
      "    → 接受正态性假设 (p ≥ 0.05)\n",
      "  3年级: W=0.9635, p=0.0149\n",
      "    → 拒绝正态性假设 (p < 0.05)\n",
      "\n",
      "变量: 短语密度-DRNP（76）\n",
      "  1年级: W=0.9845, p=0.3479\n",
      "    → 接受正态性假设 (p ≥ 0.05)\n",
      "  2年级: W=0.9854, p=0.4277\n",
      "    → 接受正态性假设 (p ≥ 0.05)\n",
      "  3年级: W=0.9901, p=0.7565\n",
      "    → 接受正态性假设 (p ≥ 0.05)\n",
      "\n",
      "宏观叙事-语篇连贯性 正态性检验结果:\n",
      "\n",
      "变量: 局部连贯-CRFAO1（29）\n",
      "  1年级: W=0.9899, p=0.7359\n",
      "    → 接受正态性假设 (p ≥ 0.05)\n",
      "  2年级: W=0.9911, p=0.8129\n",
      "    → 接受正态性假设 (p ≥ 0.05)\n",
      "  3年级: W=0.9874, p=0.6053\n",
      "    → 接受正态性假设 (p ≥ 0.05)\n",
      "\n",
      "变量: 局部连贯-CRFSO1（30）\n",
      "  1年级: W=0.9294, p=0.0001\n",
      "    → 拒绝正态性假设 (p < 0.05)\n",
      "  2年级: W=0.9350, p=0.0002\n",
      "    → 拒绝正态性假设 (p < 0.05)\n",
      "  3年级: W=0.9661, p=0.0290\n",
      "    → 拒绝正态性假设 (p < 0.05)\n",
      "\n",
      "变量: 局部连贯-LSASS1(40)\n",
      "  1年级: W=0.9823, p=0.2744\n",
      "    → 接受正态性假设 (p ≥ 0.05)\n",
      "  2年级: W=0.9918, p=0.8583\n",
      "    → 接受正态性假设 (p ≥ 0.05)\n",
      "  3年级: W=0.9877, p=0.6254\n",
      "    → 接受正态性假设 (p ≥ 0.05)\n",
      "\n",
      "宏观叙事-情境模型 正态性检验结果:\n",
      "\n",
      "变量: 因果衔接-SMCAUSr-64\n",
      "  1年级: W=0.9491, p=0.0008\n",
      "    → 拒绝正态性假设 (p < 0.05)\n",
      "  2年级: W=0.8780, p=0.0000\n",
      "    → 拒绝正态性假设 (p < 0.05)\n",
      "  3年级: W=0.9570, p=0.0060\n",
      "    → 拒绝正态性假设 (p < 0.05)\n",
      "\n",
      "变量: 意图衔接-SMINTEr-65\n",
      "  1年级: W=0.9787, p=0.1130\n",
      "    → 接受正态性假设 (p ≥ 0.05)\n",
      "  2年级: W=0.9709, p=0.0343\n",
      "    → 拒绝正态性假设 (p < 0.05)\n",
      "  3年级: W=0.9690, p=0.0364\n",
      "    → 拒绝正态性假设 (p < 0.05)\n",
      "\n",
      "变量: 时体衔接-SMTEMP-68\n",
      "  1年级: W=0.9505, p=0.0010\n",
      "    → 拒绝正态性假设 (p < 0.05)\n",
      "  2年级: W=0.9649, p=0.0127\n",
      "    → 拒绝正态性假设 (p < 0.05)\n",
      "  3年级: W=0.9601, p=0.0094\n",
      "    → 拒绝正态性假设 (p < 0.05)\n",
      "\n",
      "宏观叙事-段落长度 正态性检验结果:\n",
      "\n",
      "变量: 段落平均长度-DESPL-04\n",
      "  1年级: W=0.9751, p=0.0590\n",
      "    → 接受正态性假设 (p ≥ 0.05)\n",
      "  2年级: W=0.9642, p=0.0095\n",
      "    → 拒绝正态性假设 (p < 0.05)\n",
      "  3年级: W=0.9648, p=0.0089\n",
      "    → 拒绝正态性假设 (p < 0.05)\n",
      "\n",
      "变量: 段落平均长度标准差-DESPLd-05\n",
      "  1年级: W=0.9293, p=0.0001\n",
      "    → 拒绝正态性假设 (p < 0.05)\n",
      "  2年级: W=0.9491, p=0.0009\n",
      "    → 拒绝正态性假设 (p < 0.05)\n",
      "  3年级: W=0.9014, p=0.0000\n",
      "    → 拒绝正态性假设 (p < 0.05)\n"
     ]
    }
   ],
   "source": [
    "# 5. 假设检验 - 正态性检验 (修正版)\n",
    "\n",
    "def normality_test_improved(cleaned_data):\n",
    "    \"\"\"正态性检验 (修正版)\"\"\"\n",
    "    print(\"=== 正态性检验 (Shapiro-Wilk检验) ===\")\n",
    "    \n",
    "    normality_results = {}\n",
    "    \n",
    "    for name, df in cleaned_data.items():\n",
    "        if '年级' not in df.columns:\n",
    "            print(f\"\\n{name}: 跳过（无年级信息）\")\n",
    "            continue\n",
    "            \n",
    "        print(f\"\\n{name} 正态性检验结果:\")\n",
    "        \n",
    "        # 识别数值列（排除年级列）\n",
    "        numeric_cols = df.select_dtypes(include=[np.number]).columns\n",
    "        numeric_cols = [col for col in numeric_cols if col != '年级']\n",
    "        \n",
    "        if len(numeric_cols) > 0:\n",
    "            normality_results[name] = {}\n",
    "            \n",
    "            for col in numeric_cols[:3]:  # 只检验前3个数值列\n",
    "                print(f\"\\n变量: {col}\")\n",
    "                \n",
    "                for grade in sorted(df['年级'].unique()):\n",
    "                    data = df[df['年级'] == grade][col].dropna()\n",
    "                    if len(data) >= 3:  # 至少需要3个数据点\n",
    "                        stat, p_value = shapiro(data)\n",
    "                        print(f\"  {int(grade)}年级: W={stat:.4f}, p={p_value:.4f}\")\n",
    "                        \n",
    "                        if p_value < 0.05:\n",
    "                            print(f\"    → 拒绝正态性假设 (p < 0.05)\")\n",
    "                        else:\n",
    "                            print(f\"    → 接受正态性假设 (p ≥ 0.05)\")\n",
    "                        \n",
    "                        normality_results[name][f\"{col}_{int(grade)}年级\"] = {\n",
    "                            'statistic': stat,\n",
    "                            'p_value': p_value,\n",
    "                            'is_normal': p_value >= 0.05,\n",
    "                            'sample_size': len(data)\n",
    "                        }\n",
    "                    else:\n",
    "                        print(f\"  {int(grade)}年级: 样本量不足 ({len(data)} < 3)\")\n",
    "        else:\n",
    "            print(\"未找到合适的数值列进行检验\")\n",
    "    \n",
    "    return normality_results\n",
    "\n",
    "# 执行正态性检验\n",
    "normality_results = normality_test_improved(cleaned_data)"
   ]
  },
  {
   "cell_type": "code",
   "execution_count": 9,
   "id": "a45011b8",
   "metadata": {},
   "outputs": [
    {
     "name": "stdout",
     "output_type": "stream",
     "text": [
      "=== 单因素方差分析 (ANOVA) ===\n",
      "\n",
      "描述性统计 ANOVA分析结果:\n",
      "\n",
      "变量: 单词数量-DESWC-03\n",
      "  F统计量: 24.8595\n",
      "  p值: 0.0000\n",
      "  效应量 (η²): 0.1446\n",
      "  效应大小: 大效应\n",
      "  显著性: p < 0.001\n",
      "  → 存在显著的年级间差异\n",
      "  各年级均值:\n",
      "    1年级: 197.5052 (n=97)\n",
      "    2年级: 181.8600 (n=100)\n",
      "    3年级: 216.3300 (n=100)\n",
      "\n",
      "变量: 句子数量-DESSC-02\n",
      "  F统计量: 5.0788\n",
      "  p值: 0.0068\n",
      "  效应量 (η²): 0.0334\n",
      "  效应大小: 中等效应\n",
      "  显著性: p < 0.01\n",
      "  → 存在显著的年级间差异\n",
      "  各年级均值:\n",
      "    1年级: 14.6804 (n=97)\n",
      "    2年级: 13.3900 (n=100)\n",
      "    3年级: 13.7900 (n=100)\n",
      "\n",
      "微观叙事-词法 ANOVA分析结果:\n",
      "\n",
      "变量: 多样性-LDVOCDa（51）\n",
      "  F统计量: 2.3264\n",
      "  p值: 0.0998\n",
      "  效应量 (η²): 0.0183\n",
      "  效应大小: 中等效应\n",
      "  显著性: p ≥ 0.05\n",
      "  → 无显著的年级间差异\n",
      "  各年级均值:\n",
      "    1年级: 86.2227 (n=89)\n",
      "    2年级: 82.7233 (n=80)\n",
      "    3年级: 87.2472 (n=83)\n",
      "\n",
      "变量: 密度-WRDFRQC（94）\n",
      "  F统计量: 28.0253\n",
      "  p值: 0.0000\n",
      "  效应量 (η²): 0.1837\n",
      "  效应大小: 大效应\n",
      "  显著性: p < 0.001\n",
      "  → 存在显著的年级间差异\n",
      "  各年级均值:\n",
      "    1年级: 2.3397 (n=89)\n",
      "    2年级: 2.2617 (n=80)\n",
      "    3年级: 2.2040 (n=83)\n",
      "\n",
      "变量: 复杂度-K1\n",
      "  F统计量: 28.6133\n",
      "  p值: 0.0000\n",
      "  效应量 (η²): 0.1869\n",
      "  效应大小: 大效应\n",
      "  显著性: p < 0.001\n",
      "  → 存在显著的年级间差异\n",
      "  各年级均值:\n",
      "    1年级: 88.0536 (n=89)\n",
      "    2年级: 86.1548 (n=80)\n",
      "    3年级: 84.5123 (n=83)\n",
      "\n",
      "微观叙事-句法 ANOVA分析结果:\n",
      "\n",
      "变量: 短语长度-SYNLE（69）\n",
      "  F统计量: 14.1020\n",
      "  p值: 0.0000\n",
      "  效应量 (η²): 0.0965\n",
      "  效应大小: 大效应\n",
      "  显著性: p < 0.001\n",
      "  → 存在显著的年级间差异\n",
      "  各年级均值:\n",
      "    1年级: 3.4382 (n=92)\n",
      "    2年级: 3.5313 (n=88)\n",
      "    3年级: 4.2027 (n=87)\n",
      "\n",
      "变量: 短语长度-SYNNP（70）\n",
      "  F统计量: 21.3367\n",
      "  p值: 0.0000\n",
      "  效应量 (η²): 0.1391\n",
      "  效应大小: 大效应\n",
      "  显著性: p < 0.001\n",
      "  → 存在显著的年级间差异\n",
      "  各年级均值:\n",
      "    1年级: 0.6306 (n=92)\n",
      "    2年级: 0.7075 (n=88)\n",
      "    3年级: 0.7469 (n=87)\n",
      "\n",
      "变量: 短语密度-DRNP（76）\n",
      "  F统计量: 4.9502\n",
      "  p值: 0.0078\n",
      "  效应量 (η²): 0.0361\n",
      "  效应大小: 中等效应\n",
      "  显著性: p < 0.01\n",
      "  → 存在显著的年级间差异\n",
      "  各年级均值:\n",
      "    1年级: 332.1424 (n=92)\n",
      "    2年级: 344.4251 (n=88)\n",
      "    3年级: 336.8614 (n=87)\n",
      "\n",
      "宏观叙事-语篇连贯性 ANOVA分析结果:\n",
      "\n",
      "变量: 局部连贯-CRFAO1（29）\n",
      "  F统计量: 0.4714\n",
      "  p值: 0.6247\n",
      "  效应量 (η²): 0.0037\n",
      "  效应大小: 小效应\n",
      "  显著性: p ≥ 0.05\n",
      "  → 无显著的年级间差异\n",
      "  各年级均值:\n",
      "    1年级: 0.5903 (n=88)\n",
      "    2年级: 0.5765 (n=89)\n",
      "    3年级: 0.6007 (n=82)\n",
      "\n",
      "变量: 局部连贯-CRFSO1（30）\n",
      "  F统计量: 1.6429\n",
      "  p值: 0.1955\n",
      "  效应量 (η²): 0.0127\n",
      "  效应大小: 中等效应\n",
      "  显著性: p ≥ 0.05\n",
      "  → 无显著的年级间差异\n",
      "  各年级均值:\n",
      "    1年级: 0.1140 (n=88)\n",
      "    2年级: 0.1308 (n=89)\n",
      "    3年级: 0.1389 (n=82)\n",
      "\n",
      "变量: 局部连贯-LSASS1(40)\n",
      "  F统计量: 1.3071\n",
      "  p值: 0.2724\n",
      "  效应量 (η²): 0.0101\n",
      "  效应大小: 中等效应\n",
      "  显著性: p ≥ 0.05\n",
      "  → 无显著的年级间差异\n",
      "  各年级均值:\n",
      "    1年级: 0.1093 (n=88)\n",
      "    2年级: 0.1166 (n=89)\n",
      "    3年级: 0.1098 (n=82)\n",
      "\n",
      "宏观叙事-情境模型 ANOVA分析结果:\n",
      "\n",
      "变量: 因果衔接-SMCAUSr-64\n",
      "  F统计量: 6.0466\n",
      "  p值: 0.0027\n",
      "  效应量 (η²): 0.0421\n",
      "  效应大小: 中等效应\n",
      "  显著性: p < 0.01\n",
      "  → 存在显著的年级间差异\n",
      "  各年级均值:\n",
      "    1年级: 0.3119 (n=98)\n",
      "    2年级: 0.2302 (n=94)\n",
      "    3年级: 0.2263 (n=86)\n",
      "\n",
      "变量: 意图衔接-SMINTEr-65\n",
      "  F统计量: 2.5870\n",
      "  p值: 0.0771\n",
      "  效应量 (η²): 0.0185\n",
      "  效应大小: 中等效应\n",
      "  显著性: p ≥ 0.05\n",
      "  → 无显著的年级间差异\n",
      "  各年级均值:\n",
      "    1年级: 0.3161 (n=98)\n",
      "    2年级: 0.3658 (n=94)\n",
      "    3年级: 0.3814 (n=86)\n",
      "\n",
      "变量: 时体衔接-SMTEMP-68\n",
      "  F统计量: 2.5077\n",
      "  p值: 0.0833\n",
      "  效应量 (η²): 0.0179\n",
      "  效应大小: 中等效应\n",
      "  显著性: p ≥ 0.05\n",
      "  → 无显著的年级间差异\n",
      "  各年级均值:\n",
      "    1年级: 0.8540 (n=98)\n",
      "    2年级: 0.8798 (n=94)\n",
      "    3年级: 0.8753 (n=86)\n",
      "\n",
      "宏观叙事-段落长度 ANOVA分析结果:\n",
      "\n",
      "变量: 段落平均长度-DESPL-04\n",
      "  F统计量: 5.5100\n",
      "  p值: 0.0045\n",
      "  效应量 (η²): 0.0364\n",
      "  效应大小: 中等效应\n",
      "  显著性: p < 0.01\n",
      "  → 存在显著的年级间差异\n",
      "  各年级均值:\n",
      "    1年级: 7.3163 (n=98)\n",
      "    2年级: 6.6340 (n=97)\n",
      "    3年级: 6.8950 (n=100)\n",
      "\n",
      "变量: 段落平均长度标准差-DESPLd-05\n",
      "  F统计量: 14.3200\n",
      "  p值: 0.0000\n",
      "  效应量 (η²): 0.0893\n",
      "  效应大小: 大效应\n",
      "  显著性: p < 0.001\n",
      "  → 存在显著的年级间差异\n",
      "  各年级均值:\n",
      "    1年级: 1.7316 (n=98)\n",
      "    2年级: 2.3837 (n=97)\n",
      "    3年级: 1.4211 (n=100)\n"
     ]
    }
   ],
   "source": [
    "# 7. 单因素方差分析 (ANOVA) - 修正版\n",
    "\n",
    "def one_way_anova_improved(cleaned_data):\n",
    "    \"\"\"单因素方差分析 (修正版)\"\"\"\n",
    "    print(\"=== 单因素方差分析 (ANOVA) ===\")\n",
    "    \n",
    "    anova_results = {}\n",
    "    \n",
    "    for name, df in cleaned_data.items():\n",
    "        if '年级' not in df.columns:\n",
    "            print(f\"\\n{name}: 跳过（无年级信息）\")\n",
    "            continue\n",
    "            \n",
    "        print(f\"\\n{name} ANOVA分析结果:\")\n",
    "        \n",
    "        # 识别数值列（排除年级列）\n",
    "        numeric_cols = df.select_dtypes(include=[np.number]).columns\n",
    "        numeric_cols = [col for col in numeric_cols if col != '年级']\n",
    "        \n",
    "        if len(numeric_cols) > 0:\n",
    "            anova_results[name] = {}\n",
    "            \n",
    "            for col in numeric_cols[:3]:  # 只分析前3个数值列\n",
    "                print(f\"\\n变量: {col}\")\n",
    "                \n",
    "                # 准备数据\n",
    "                groups = []\n",
    "                labels = []\n",
    "                \n",
    "                for grade in sorted(df['年级'].unique()):\n",
    "                    data = df[df['年级'] == grade][col].dropna()\n",
    "                    if len(data) >= 2:\n",
    "                        groups.append(data)\n",
    "                        labels.append(f\"{int(grade)}年级\")\n",
    "                \n",
    "                if len(groups) >= 2:\n",
    "                    # 执行ANOVA\n",
    "                    f_stat, p_value = f_oneway(*groups)\n",
    "                    \n",
    "                    # 计算效应量 (η²)\n",
    "                    all_data = np.concatenate(groups)\n",
    "                    total_mean = np.mean(all_data)\n",
    "                    \n",
    "                    total_ss = sum([(x - total_mean)**2 for x in all_data])\n",
    "                    between_ss = sum([len(g) * (np.mean(g) - total_mean)**2 for g in groups])\n",
    "                    eta_squared = between_ss / total_ss if total_ss > 0 else 0\n",
    "                    \n",
    "                    print(f\"  F统计量: {f_stat:.4f}\")\n",
    "                    print(f\"  p值: {p_value:.4f}\")\n",
    "                    print(f\"  效应量 (η²): {eta_squared:.4f}\")\n",
    "                    \n",
    "                    # 解释效应量\n",
    "                    if eta_squared < 0.01:\n",
    "                        effect_size = \"小效应\"\n",
    "                    elif eta_squared < 0.06:\n",
    "                        effect_size = \"中等效应\"\n",
    "                    else:\n",
    "                        effect_size = \"大效应\"\n",
    "                    \n",
    "                    print(f\"  效应大小: {effect_size}\")\n",
    "                    \n",
    "                    if p_value < 0.001:\n",
    "                        sig_level = \"p < 0.001\"\n",
    "                    elif p_value < 0.01:\n",
    "                        sig_level = \"p < 0.01\"\n",
    "                    elif p_value < 0.05:\n",
    "                        sig_level = \"p < 0.05\"\n",
    "                    else:\n",
    "                        sig_level = \"p ≥ 0.05\"\n",
    "                    \n",
    "                    print(f\"  显著性: {sig_level}\")\n",
    "                    \n",
    "                    if p_value < 0.05:\n",
    "                        print(f\"  → 存在显著的年级间差异\")\n",
    "                    else:\n",
    "                        print(f\"  → 无显著的年级间差异\")\n",
    "                    \n",
    "                    # 显示各年级均值\n",
    "                    print(f\"  各年级均值:\")\n",
    "                    for i, (group, label) in enumerate(zip(groups, labels)):\n",
    "                        print(f\"    {label}: {np.mean(group):.4f} (n={len(group)})\")\n",
    "                    \n",
    "                    anova_results[name][col] = {\n",
    "                        'f_statistic': f_stat,\n",
    "                        'p_value': p_value,\n",
    "                        'eta_squared': eta_squared,\n",
    "                        'effect_size': effect_size,\n",
    "                        'is_significant': p_value < 0.05,\n",
    "                        'group_means': {label: np.mean(group) for group, label in zip(groups, labels)},\n",
    "                        'group_sizes': {label: len(group) for group, label in zip(groups, labels)}\n",
    "                    }\n",
    "                else:\n",
    "                    print(\"  数据不足，无法进行分析\")\n",
    "        else:\n",
    "            print(\"未找到合适的数值列进行分析\")\n",
    "    \n",
    "    return anova_results\n",
    "\n",
    "# 执行ANOVA分析\n",
    "anova_results = one_way_anova_improved(cleaned_data)"
   ]
  },
  {
   "cell_type": "code",
   "execution_count": 10,
   "id": "ee8e3549",
   "metadata": {},
   "outputs": [
    {
     "name": "stdout",
     "output_type": "stream",
     "text": [
      "=== 事后检验 (Tukey HSD) ===\n",
      "\n",
      "描述性统计 事后检验结果:\n",
      "\n",
      "变量: 单词数量-DESWC-03 (ANOVA显著，进行事后检验)\n",
      "  两两比较结果:\n",
      "    1年级 vs 2年级:\n",
      "      差异: 15.6452\n",
      "      p值: 0.0048\n",
      "      95%置信区间: [[[-11.70866173   4.02463967 -30.44536033]\n",
      " [-27.2656696  -11.53169444 -46.00169444]\n",
      " [  7.2043304   22.93830556 -11.53169444]], [[ 11.70866173  27.2656696   -7.2043304 ]\n",
      " [ -4.02463967  11.53169444 -22.93830556]\n",
      " [ 30.44536033  46.00169444  11.53169444]]]\n",
      "      → 显著差异\n",
      "    1年级 vs 3年级:\n",
      "      差异: -18.8248\n",
      "      p值: 0.0005\n",
      "      95%置信区间: [[[-11.70866173   4.02463967 -30.44536033]\n",
      " [-27.2656696  -11.53169444 -46.00169444]\n",
      " [  7.2043304   22.93830556 -11.53169444]], [[ 11.70866173  27.2656696   -7.2043304 ]\n",
      " [ -4.02463967  11.53169444 -22.93830556]\n",
      " [ 30.44536033  46.00169444  11.53169444]]]\n",
      "      → 显著差异\n",
      "    2年级 vs 3年级:\n",
      "      差异: -34.4700\n",
      "      p值: 0.0000\n",
      "      95%置信区间: [[[-11.70866173   4.02463967 -30.44536033]\n",
      " [-27.2656696  -11.53169444 -46.00169444]\n",
      " [  7.2043304   22.93830556 -11.53169444]], [[ 11.70866173  27.2656696   -7.2043304 ]\n",
      " [ -4.02463967  11.53169444 -22.93830556]\n",
      " [ 30.44536033  46.00169444  11.53169444]]]\n",
      "      → 显著差异\n",
      "\n",
      "变量: 句子数量-DESSC-02 (ANOVA显著，进行事后检验)\n",
      "  两两比较结果:\n",
      "    1年级 vs 2年级:\n",
      "      差异: 1.2904\n",
      "      p值: 0.0057\n",
      "      95%置信区间: [[[-0.98230229  0.31550518 -0.08449482]\n",
      " [-2.26531956 -0.96745556 -1.36745556]\n",
      " [-1.86531956 -0.56745556 -0.96745556]], [[ 0.98230229  2.26531956  1.86531956]\n",
      " [-0.31550518  0.96745556  0.56745556]\n",
      " [ 0.08449482  1.36745556  0.96745556]]]\n",
      "      → 显著差异\n",
      "    1年级 vs 3年级:\n",
      "      差异: 0.8904\n",
      "      p值: 0.0815\n",
      "      95%置信区间: [[[-0.98230229  0.31550518 -0.08449482]\n",
      " [-2.26531956 -0.96745556 -1.36745556]\n",
      " [-1.86531956 -0.56745556 -0.96745556]], [[ 0.98230229  2.26531956  1.86531956]\n",
      " [-0.31550518  0.96745556  0.56745556]\n",
      " [ 0.08449482  1.36745556  0.96745556]]]\n",
      "      → 无显著差异\n",
      "    2年级 vs 3年级:\n",
      "      差异: -0.4000\n",
      "      p值: 0.5939\n",
      "      95%置信区间: [[[-0.98230229  0.31550518 -0.08449482]\n",
      " [-2.26531956 -0.96745556 -1.36745556]\n",
      " [-1.86531956 -0.56745556 -0.96745556]], [[ 0.98230229  2.26531956  1.86531956]\n",
      " [-0.31550518  0.96745556  0.56745556]\n",
      " [ 0.08449482  1.36745556  0.96745556]]]\n",
      "      → 无显著差异\n",
      "\n",
      "微观叙事-词法 事后检验结果:\n",
      "\n",
      "变量: 多样性-LDVOCDa（51） (ANOVA不显著，跳过事后检验)\n",
      "\n",
      "变量: 密度-WRDFRQC（94） (ANOVA显著，进行事后检验)\n",
      "  两两比较结果:\n",
      "    1年级 vs 2年级:\n",
      "      差异: 0.0780\n",
      "      p值: 0.0001\n",
      "      95%置信区间: [[[-0.04220011  0.03461843  0.09270773]\n",
      " [-0.12135993 -0.04451061  0.01356797]\n",
      " [-0.17861972 -0.10178112 -0.0436988 ]], [[ 0.04220011  0.12135993  0.17861972]\n",
      " [-0.03461843  0.04451061  0.10178112]\n",
      " [-0.09270773 -0.01356797  0.0436988 ]]]\n",
      "      → 显著差异\n",
      "    1年级 vs 3年级:\n",
      "      差异: 0.1357\n",
      "      p值: 0.0000\n",
      "      95%置信区间: [[[-0.04220011  0.03461843  0.09270773]\n",
      " [-0.12135993 -0.04451061  0.01356797]\n",
      " [-0.17861972 -0.10178112 -0.0436988 ]], [[ 0.04220011  0.12135993  0.17861972]\n",
      " [-0.03461843  0.04451061  0.10178112]\n",
      " [-0.09270773 -0.01356797  0.0436988 ]]]\n",
      "      → 显著差异\n",
      "    2年级 vs 3年级:\n",
      "      差异: 0.0577\n",
      "      p值: 0.0064\n",
      "      95%置信区间: [[[-0.04220011  0.03461843  0.09270773]\n",
      " [-0.12135993 -0.04451061  0.01356797]\n",
      " [-0.17861972 -0.10178112 -0.0436988 ]], [[ 0.04220011  0.12135993  0.17861972]\n",
      " [-0.03461843  0.04451061  0.10178112]\n",
      " [-0.09270773 -0.01356797  0.0436988 ]]]\n",
      "      → 显著差异\n",
      "\n",
      "变量: 复杂度-K1 (ANOVA显著，进行事后检验)\n",
      "  两两比较结果:\n",
      "    1年级 vs 2年级:\n",
      "      差异: 1.8988\n",
      "      p值: 0.0002\n",
      "      95%置信区间: [[[-1.08629203  0.78237201  2.43547409]\n",
      " [-3.01522406 -1.14576777  0.50705836]\n",
      " [-4.64697319 -2.77779285 -1.12487056]], [[ 1.08629203  3.01522406  4.64697319]\n",
      " [-0.78237201  1.14576777  2.77779285]\n",
      " [-2.43547409 -0.50705836  1.12487056]]]\n",
      "      → 显著差异\n",
      "    1年级 vs 3年级:\n",
      "      差异: 3.5412\n",
      "      p值: 0.0000\n",
      "      95%置信区间: [[[-1.08629203  0.78237201  2.43547409]\n",
      " [-3.01522406 -1.14576777  0.50705836]\n",
      " [-4.64697319 -2.77779285 -1.12487056]], [[ 1.08629203  3.01522406  4.64697319]\n",
      " [-0.78237201  1.14576777  2.77779285]\n",
      " [-2.43547409 -0.50705836  1.12487056]]]\n",
      "      → 显著差异\n",
      "    2年级 vs 3年级:\n",
      "      差异: 1.6424\n",
      "      p值: 0.0022\n",
      "      95%置信区间: [[[-1.08629203  0.78237201  2.43547409]\n",
      " [-3.01522406 -1.14576777  0.50705836]\n",
      " [-4.64697319 -2.77779285 -1.12487056]], [[ 1.08629203  3.01522406  4.64697319]\n",
      " [-0.78237201  1.14576777  2.77779285]\n",
      " [-2.43547409 -0.50705836  1.12487056]]]\n",
      "      → 显著差异\n",
      "\n",
      "微观叙事-句法 事后检验结果:\n",
      "\n",
      "变量: 短语长度-SYNLE（69） (ANOVA显著，进行事后检验)\n",
      "  两两比较结果:\n",
      "    1年级 vs 2年级:\n",
      "      差异: -0.0931\n",
      "      p值: 0.8211\n",
      "      95%置信区间: [[[-0.36262972 -0.45982569 -1.13230665]\n",
      " [-0.27362904 -0.37077972 -1.04324897]\n",
      " [ 0.39670062  0.29956166 -0.37290455]], [[ 0.36262972  0.27362904 -0.39670062]\n",
      " [ 0.45982569  0.37077972 -0.29956166]\n",
      " [ 1.13230665  1.04324897  0.37290455]]]\n",
      "      → 无显著差异\n",
      "    1年级 vs 3年级:\n",
      "      差异: -0.7645\n",
      "      p值: 0.0000\n",
      "      95%置信区间: [[[-0.36262972 -0.45982569 -1.13230665]\n",
      " [-0.27362904 -0.37077972 -1.04324897]\n",
      " [ 0.39670062  0.29956166 -0.37290455]], [[ 0.36262972  0.27362904 -0.39670062]\n",
      " [ 0.45982569  0.37077972 -0.29956166]\n",
      " [ 1.13230665  1.04324897  0.37290455]]]\n",
      "      → 显著差异\n",
      "    2年级 vs 3年级:\n",
      "      差异: -0.6714\n",
      "      p值: 0.0001\n",
      "      95%置信区间: [[[-0.36262972 -0.45982569 -1.13230665]\n",
      " [-0.27362904 -0.37077972 -1.04324897]\n",
      " [ 0.39670062  0.29956166 -0.37290455]], [[ 0.36262972  0.27362904 -0.39670062]\n",
      " [ 0.45982569  0.37077972 -0.29956166]\n",
      " [ 1.13230665  1.04324897  0.37290455]]]\n",
      "      → 显著差异\n",
      "\n",
      "变量: 短语长度-SYNNP（70） (ANOVA显著，进行事后检验)\n",
      "  两两比较结果:\n",
      "    1年级 vs 2年级:\n",
      "      差异: -0.0769\n",
      "      p值: 0.0001\n",
      "      95%置信区间: [[[-0.04220611 -0.11955161 -0.15913056]\n",
      " [ 0.03418555 -0.04315468 -0.08273227]\n",
      " [ 0.07351411 -0.00382475 -0.04340199]], [[ 0.04220611 -0.03418555 -0.07351411]\n",
      " [ 0.11955161  0.04315468  0.00382475]\n",
      " [ 0.15913056  0.08273227  0.04340199]]]\n",
      "      → 显著差异\n",
      "    1年级 vs 3年级:\n",
      "      差异: -0.1163\n",
      "      p值: 0.0000\n",
      "      95%置信区间: [[[-0.04220611 -0.11955161 -0.15913056]\n",
      " [ 0.03418555 -0.04315468 -0.08273227]\n",
      " [ 0.07351411 -0.00382475 -0.04340199]], [[ 0.04220611 -0.03418555 -0.07351411]\n",
      " [ 0.11955161  0.04315468  0.00382475]\n",
      " [ 0.15913056  0.08273227  0.04340199]]]\n",
      "      → 显著差异\n",
      "    2年级 vs 3年级:\n",
      "      差异: -0.0395\n",
      "      p值: 0.0822\n",
      "      95%置信区间: [[[-0.04220611 -0.11955161 -0.15913056]\n",
      " [ 0.03418555 -0.04315468 -0.08273227]\n",
      " [ 0.07351411 -0.00382475 -0.04340199]], [[ 0.04220611 -0.03418555 -0.07351411]\n",
      " [ 0.11955161  0.04315468  0.00382475]\n",
      " [ 0.15913056  0.08273227  0.04340199]]]\n",
      "      → 无显著差异\n",
      "\n",
      "变量: 短语密度-DRNP（76） (ANOVA显著，进行事后检验)\n",
      "  两两比较结果:\n",
      "    1年级 vs 2年级:\n",
      "      差异: -12.2826\n",
      "      p值: 0.0056\n",
      "      95%置信区间: [[[ -9.16279705 -21.54896665 -14.01250447]\n",
      " [  3.01629712  -9.36872831  -1.83196994]\n",
      " [ -4.57452357 -16.95925281  -9.42241774]], [[ 9.16279705 -3.01629712  4.57452357]\n",
      " [21.54896665  9.36872831 16.95925281]\n",
      " [14.01250447  1.83196994  9.42241774]]]\n",
      "      → 显著差异\n",
      "    1年级 vs 3年级:\n",
      "      差异: -4.7190\n",
      "      p值: 0.4561\n",
      "      95%置信区间: [[[ -9.16279705 -21.54896665 -14.01250447]\n",
      " [  3.01629712  -9.36872831  -1.83196994]\n",
      " [ -4.57452357 -16.95925281  -9.42241774]], [[ 9.16279705 -3.01629712  4.57452357]\n",
      " [21.54896665  9.36872831 16.95925281]\n",
      " [14.01250447  1.83196994  9.42241774]]]\n",
      "      → 无显著差异\n",
      "    2年级 vs 3年级:\n",
      "      差异: 7.5636\n",
      "      p值: 0.1414\n",
      "      95%置信区间: [[[ -9.16279705 -21.54896665 -14.01250447]\n",
      " [  3.01629712  -9.36872831  -1.83196994]\n",
      " [ -4.57452357 -16.95925281  -9.42241774]], [[ 9.16279705 -3.01629712  4.57452357]\n",
      " [21.54896665  9.36872831 16.95925281]\n",
      " [14.01250447  1.83196994  9.42241774]]]\n",
      "      → 无显著差异\n",
      "\n",
      "宏观叙事-语篇连贯性 事后检验结果:\n",
      "\n",
      "变量: 局部连贯-CRFAO1（29） (ANOVA不显著，跳过事后检验)\n",
      "\n",
      "变量: 局部连贯-CRFSO1（30） (ANOVA不显著，跳过事后检验)\n",
      "\n",
      "变量: 局部连贯-LSASS1(40) (ANOVA不显著，跳过事后检验)\n",
      "\n",
      "宏观叙事-情境模型 事后检验结果:\n",
      "\n",
      "变量: 因果衔接-SMCAUSr-64 (ANOVA显著，进行事后检验)\n",
      "  两两比较结果:\n",
      "    1年级 vs 2年级:\n",
      "      差异: 0.0817\n",
      "      p值: 0.0095\n",
      "      95%置信区间: [[[-0.06451362  0.01652035  0.0189262 ]\n",
      " [-0.14691299 -0.06587195 -0.06345077]\n",
      " [-0.1523785  -0.07132212 -0.06886764]], [[ 0.06451362  0.14691299  0.1523785 ]\n",
      " [-0.01652035  0.06587195  0.07132212]\n",
      " [-0.0189262   0.06345077  0.06886764]]]\n",
      "      → 显著差异\n",
      "    1年级 vs 3年级:\n",
      "      差异: 0.0857\n",
      "      p值: 0.0076\n",
      "      95%置信区间: [[[-0.06451362  0.01652035  0.0189262 ]\n",
      " [-0.14691299 -0.06587195 -0.06345077]\n",
      " [-0.1523785  -0.07132212 -0.06886764]], [[ 0.06451362  0.14691299  0.1523785 ]\n",
      " [-0.01652035  0.06587195  0.07132212]\n",
      " [-0.0189262   0.06345077  0.06886764]]]\n",
      "      → 显著差异\n",
      "    2年级 vs 3年级:\n",
      "      差异: 0.0039\n",
      "      p值: 0.9896\n",
      "      95%置信区间: [[[-0.06451362  0.01652035  0.0189262 ]\n",
      " [-0.14691299 -0.06587195 -0.06345077]\n",
      " [-0.1523785  -0.07132212 -0.06886764]], [[ 0.06451362  0.14691299  0.1523785 ]\n",
      " [-0.01652035  0.06587195  0.07132212]\n",
      " [-0.0189262   0.06345077  0.06886764]]]\n",
      "      → 无显著差异\n",
      "\n",
      "变量: 意图衔接-SMINTEr-65 (ANOVA不显著，跳过事后检验)\n",
      "\n",
      "变量: 时体衔接-SMTEMP-68 (ANOVA不显著，跳过事后检验)\n",
      "\n",
      "宏观叙事-段落长度 事后检验结果:\n",
      "\n",
      "变量: 段落平均长度-DESPL-04 (ANOVA显著，进行事后检验)\n",
      "  两两比较结果:\n",
      "    1年级 vs 2年级:\n",
      "      差异: 0.6823\n",
      "      p值: 0.0032\n",
      "      95%置信区间: [[[-0.48764193  0.19340878 -0.06387107]\n",
      " [-1.17120304 -0.49014911 -0.74743848]\n",
      " [-0.90652413 -0.22547972 -0.48274089]], [[ 0.48764193  1.17120304  0.90652413]\n",
      " [-0.19340878  0.49014911  0.22547972]\n",
      " [ 0.06387107  0.74743848  0.48274089]]]\n",
      "      → 显著差异\n",
      "    1年级 vs 3年级:\n",
      "      差异: 0.4213\n",
      "      p值: 0.1033\n",
      "      95%置信区间: [[[-0.48764193  0.19340878 -0.06387107]\n",
      " [-1.17120304 -0.49014911 -0.74743848]\n",
      " [-0.90652413 -0.22547972 -0.48274089]], [[ 0.48764193  1.17120304  0.90652413]\n",
      " [-0.19340878  0.49014911  0.22547972]\n",
      " [ 0.06387107  0.74743848  0.48274089]]]\n",
      "      → 无显著差异\n",
      "    2年级 vs 3年级:\n",
      "      差异: -0.2610\n",
      "      p值: 0.4168\n",
      "      95%置信区间: [[[-0.48764193  0.19340878 -0.06387107]\n",
      " [-1.17120304 -0.49014911 -0.74743848]\n",
      " [-0.90652413 -0.22547972 -0.48274089]], [[ 0.48764193  1.17120304  0.90652413]\n",
      " [-0.19340878  0.49014911  0.22547972]\n",
      " [ 0.06387107  0.74743848  0.48274089]]]\n",
      "      → 无显著差异\n",
      "\n",
      "变量: 段落平均长度标准差-DESPLd-05 (ANOVA显著，进行事后检验)\n",
      "  两两比较结果:\n",
      "    1年级 vs 2年级:\n",
      "      差异: -0.6521\n",
      "      p值: 0.0013\n",
      "      95%置信区间: [[[-0.43281645 -1.08607033 -0.12020571]\n",
      " [ 0.21820928 -0.43504174  0.53081443]\n",
      " [-0.74108816 -1.39434763 -0.42846643]], [[ 0.43281645 -0.21820928  0.74108816]\n",
      " [ 1.08607033  0.43504174  1.39434763]\n",
      " [ 0.12020571 -0.53081443  0.42846643]]]\n",
      "      → 显著差异\n",
      "    1年级 vs 3年级:\n",
      "      差异: 0.3104\n",
      "      p值: 0.2076\n",
      "      95%置信区间: [[[-0.43281645 -1.08607033 -0.12020571]\n",
      " [ 0.21820928 -0.43504174  0.53081443]\n",
      " [-0.74108816 -1.39434763 -0.42846643]], [[ 0.43281645 -0.21820928  0.74108816]\n",
      " [ 1.08607033  0.43504174  1.39434763]\n",
      " [ 0.12020571 -0.53081443  0.42846643]]]\n",
      "      → 无显著差异\n",
      "    2年级 vs 3年级:\n",
      "      差异: 0.9626\n",
      "      p值: 0.0000\n",
      "      95%置信区间: [[[-0.43281645 -1.08607033 -0.12020571]\n",
      " [ 0.21820928 -0.43504174  0.53081443]\n",
      " [-0.74108816 -1.39434763 -0.42846643]], [[ 0.43281645 -0.21820928  0.74108816]\n",
      " [ 1.08607033  0.43504174  1.39434763]\n",
      " [ 0.12020571 -0.53081443  0.42846643]]]\n",
      "      → 显著差异\n"
     ]
    }
   ],
   "source": [
    "# 8. 事后检验 (Tukey HSD) - 修正版\n",
    "\n",
    "def post_hoc_test_improved(cleaned_data, anova_results):\n",
    "    \"\"\"事后检验 (Tukey HSD) - 修正版\"\"\"\n",
    "    print(\"=== 事后检验 (Tukey HSD) ===\")\n",
    "    \n",
    "    post_hoc_results = {}\n",
    "    \n",
    "    for name, df in cleaned_data.items():\n",
    "        if '年级' not in df.columns:\n",
    "            continue\n",
    "            \n",
    "        print(f\"\\n{name} 事后检验结果:\")\n",
    "        \n",
    "        # 只对有显著差异的变量进行事后检验\n",
    "        if name in anova_results:\n",
    "            for col, result in anova_results[name].items():\n",
    "                if result['is_significant']:\n",
    "                    print(f\"\\n变量: {col} (ANOVA显著，进行事后检验)\")\n",
    "                    \n",
    "                    # 准备数据\n",
    "                    groups = []\n",
    "                    labels = []\n",
    "                    \n",
    "                    for grade in sorted(df['年级'].unique()):\n",
    "                        data = df[df['年级'] == grade][col].dropna()\n",
    "                        if len(data) >= 2:\n",
    "                            groups.append(data)\n",
    "                            labels.append(f\"{int(grade)}年级\")\n",
    "                    \n",
    "                    if len(groups) >= 2:\n",
    "                        # 执行Tukey HSD检验\n",
    "                        tukey_result = tukey_hsd(*groups)\n",
    "                        \n",
    "                        print(\"  两两比较结果:\")\n",
    "                        for i in range(len(labels)):\n",
    "                            for j in range(i+1, len(labels)):\n",
    "                                diff = tukey_result.statistic[i, j]\n",
    "                                p_val = tukey_result.pvalue[i, j]\n",
    "                                conf_low = tukey_result.confidence_interval(confidence_level=0.95).low\n",
    "                                conf_high = tukey_result.confidence_interval(confidence_level=0.95).high\n",
    "                                #.confidence_interval(confidence_level=0.95)\n",
    "                                \n",
    "                                print(f\"    {labels[i]} vs {labels[j]}:\")\n",
    "                                print(f\"      差异: {diff:.4f}\")\n",
    "                                print(f\"      p值: {p_val:.4f}\")\n",
    "                                print(f\"      95%置信区间: [{conf_low}, {conf_high}]\")\n",
    "                                \n",
    "                                if p_val < 0.05:\n",
    "                                    print(f\"      → 显著差异\")\n",
    "                                else:\n",
    "                                    print(f\"      → 无显著差异\")\n",
    "                        \n",
    "                        post_hoc_results[f\"{name}_{col}\"] = {\n",
    "                            'tukey_result': tukey_result,\n",
    "                            'labels': labels\n",
    "                        }\n",
    "                    else:\n",
    "                        print(\"  数据不足，无法进行事后检验\")\n",
    "                else:\n",
    "                    print(f\"\\n变量: {col} (ANOVA不显著，跳过事后检验)\")\n",
    "        else:\n",
    "            print(\"无显著差异的变量\")\n",
    "    \n",
    "    return post_hoc_results\n",
    "\n",
    "# 执行事后检验\n",
    "post_hoc_results = post_hoc_test_improved(cleaned_data, anova_results)"
   ]
  },
  {
   "cell_type": "code",
   "execution_count": 11,
   "id": "8c068682",
   "metadata": {},
   "outputs": [
    {
     "name": "stdout",
     "output_type": "stream",
     "text": [
      "=== 分析结果汇总 ===\n",
      "\n",
      "方差分析结果汇总表:\n",
      "            维度                   变量     F统计量      p值  效应量(η²)  效应大小  显著性\n",
      "0        描述性统计        单词数量-DESWC-03  24.8595  0.0000   0.1446   大效应   显著\n",
      "1        描述性统计        句子数量-DESSC-02   5.0788  0.0068   0.0334  中等效应   显著\n",
      "2      微观叙事-词法      多样性-LDVOCDa（51）   2.3264  0.0998   0.0183  中等效应  不显著\n",
      "3      微观叙事-词法       密度-WRDFRQC（94）  28.0253  0.0000   0.1837   大效应   显著\n",
      "4      微观叙事-词法               复杂度-K1  28.6133  0.0000   0.1869   大效应   显著\n",
      "5      微观叙事-句法       短语长度-SYNLE（69）  14.1020  0.0000   0.0965   大效应   显著\n",
      "6      微观叙事-句法       短语长度-SYNNP（70）  21.3367  0.0000   0.1391   大效应   显著\n",
      "7      微观叙事-句法        短语密度-DRNP（76）   4.9502  0.0078   0.0361  中等效应   显著\n",
      "8   宏观叙事-语篇连贯性      局部连贯-CRFAO1（29）   0.4714  0.6247   0.0037   小效应  不显著\n",
      "9   宏观叙事-语篇连贯性      局部连贯-CRFSO1（30）   1.6429  0.1955   0.0127  中等效应  不显著\n",
      "10  宏观叙事-语篇连贯性      局部连贯-LSASS1(40)   1.3071  0.2724   0.0101  中等效应  不显著\n",
      "11   宏观叙事-情境模型      因果衔接-SMCAUSr-64   6.0466  0.0027   0.0421  中等效应   显著\n",
      "12   宏观叙事-情境模型      意图衔接-SMINTEr-65   2.5870  0.0771   0.0185  中等效应  不显著\n",
      "13   宏观叙事-情境模型       时体衔接-SMTEMP-68   2.5077  0.0833   0.0179  中等效应  不显著\n",
      "14   宏观叙事-段落长度      段落平均长度-DESPL-04   5.5100  0.0045   0.0364  中等效应   显著\n",
      "15   宏观叙事-段落长度  段落平均长度标准差-DESPLd-05  14.3200  0.0000   0.0893   大效应   显著\n"
     ]
    },
    {
     "data": {
      "image/png": "[encoded data removed]",
      "text/plain": [
       "<Figure size 1500x600 with 2 Axes>"
      ]
     },
     "metadata": {},
     "output_type": "display_data"
    },
    {
     "name": "stdout",
     "output_type": "stream",
     "text": [
      "\n",
      "发现 10 个显著差异的变量\n"
     ]
    }
   ],
   "source": [
    "# 9. 结果汇总与可视化 (修正版)\n",
    "\n",
    "def summarize_results_improved(anova_results, post_hoc_results):\n",
    "    \"\"\"结果汇总与可视化 (修正版)\"\"\"\n",
    "    print(\"=== 分析结果汇总 ===\")\n",
    "    \n",
    "    # 创建结果汇总表\n",
    "    summary_data = []\n",
    "    \n",
    "    for name, results in anova_results.items():\n",
    "        for col, result in results.items():\n",
    "            summary_data.append({\n",
    "                '维度': name,\n",
    "                '变量': col,\n",
    "                'F统计量': result['f_statistic'],\n",
    "                'p值': result['p_value'],\n",
    "                '效应量(η²)': result['eta_squared'],\n",
    "                '效应大小': result['effect_size'],\n",
    "                '显著性': '显著' if result['is_significant'] else '不显著'\n",
    "            })\n",
    "    \n",
    "    if summary_data:\n",
    "        summary_df = pd.DataFrame(summary_data)\n",
    "        print(\"\\n方差分析结果汇总表:\")\n",
    "        print(summary_df.round(4))\n",
    "        \n",
    "        # 可视化显著结果\n",
    "        significant_results = summary_df[summary_df['显著性'] == '显著']\n",
    "        \n",
    "        if len(significant_results) > 0:\n",
    "            fig, (ax1, ax2) = plt.subplots(1, 2, figsize=(15, 6))\n",
    "            \n",
    "            # 效应量可视化\n",
    "            ax1.bar(range(len(significant_results)), significant_results['效应量(η²)'])\n",
    "            ax1.set_xticks(range(len(significant_results)))\n",
    "            ax1.set_xticklabels([f\"{row['维度']}\\n{row['变量']}\" for _, row in significant_results.iterrows()], \n",
    "                               rotation=45, ha='right')\n",
    "            ax1.set_ylabel('效应量 (η²)')\n",
    "            ax1.set_title('显著差异的效应量')\n",
    "            ax1.grid(True, alpha=0.3)\n",
    "            \n",
    "            # p值可视化\n",
    "            ax2.bar(range(len(significant_results)), -np.log10(significant_results['p值']))\n",
    "            ax2.set_xticks(range(len(significant_results)))\n",
    "            ax2.set_xticklabels([f\"{row['维度']}\\n{row['变量']}\" for _, row in significant_results.iterrows()], \n",
    "                               rotation=45, ha='right')\n",
    "            ax2.set_ylabel('-log10(p值)')\n",
    "            ax2.set_title('显著性水平')\n",
    "            ax2.axhline(y=-np.log10(0.05), color='red', linestyle='--', label='p=0.05')\n",
    "            ax2.axhline(y=-np.log10(0.01), color='orange', linestyle='--', label='p=0.01')\n",
    "            ax2.axhline(y=-np.log10(0.001), color='green', linestyle='--', label='p=0.001')\n",
    "            ax2.legend()\n",
    "            ax2.grid(True, alpha=0.3)\n",
    "            \n",
    "            plt.tight_layout()\n",
    "            plt.show()\n",
    "            \n",
    "            print(f\"\\n发现 {len(significant_results)} 个显著差异的变量\")\n",
    "        else:\n",
    "            print(\"\\n未发现显著差异的变量\")\n",
    "    else:\n",
    "        print(\"\\n没有可用的分析结果\")\n",
    "        summary_df = pd.DataFrame()\n",
    "    \n",
    "    return summary_df\n",
    "\n",
    "# 汇总结果\n",
    "summary_df = summarize_results_improved(anova_results, post_hoc_results)"
   ]
  },
  {
   "cell_type": "code",
   "execution_count": 12,
   "id": "46d535ba",
   "metadata": {},
   "outputs": [
    {
     "name": "stdout",
     "output_type": "stream",
     "text": [
      "=== 分析结论与教育建议 ===\n",
      "\n",
      "1. 总体发现:\n",
      "   - 共分析了 16 个变量\n",
      "   - 发现 10 个变量存在显著的年级间差异\n",
      "   - 显著差异比例: 62.5%\n",
      "\n",
      "2. 显著差异的维度分析:\n",
      "   各维度显著差异数量:\n",
      "   - 宏观叙事-情境模型: 1 个变量\n",
      "   - 宏观叙事-段落长度: 2 个变量\n",
      "   - 微观叙事-句法: 3 个变量\n",
      "   - 微观叙事-词法: 2 个变量\n",
      "   - 描述性统计: 2 个变量\n",
      "\n",
      "3. 最重要的发现:\n",
      "   - 效应量最大的变量: 微观叙事-词法 - 复杂度-K1\n",
      "   - 效应量: 0.1869 (大效应)\n",
      "\n",
      "4. 教育建议:\n",
      "   - 重点关注存在显著差异的维度，特别是效应量较大的变量\n",
      "   - 针对不同年级学生的叙事能力特点，制定差异化的教学策略\n",
      "   - 对于发展较慢的年级，加强相关能力的培养\n",
      "   - 定期评估学生叙事能力发展，及时调整教学方案\n",
      "\n",
      "5. 研究局限性:\n",
      "   - 样本量相对较小，可能影响统计检验力\n",
      "   - 需要结合质性分析深入了解差异原因\n",
      "   - 建议进行纵向研究追踪个体发展轨迹\n",
      "\n",
      "6. 数据质量评估:\n",
      "   - 成功处理了多张数据表的结构\n",
      "   - 自动识别并合并了年级信息\n",
      "   - 进行了完整的数据清洗和预处理\n"
     ]
    }
   ],
   "source": [
    "# 10. 结论与建议 (修正版)\n",
    "\n",
    "def generate_conclusions_improved(summary_df, anova_results):\n",
    "    \"\"\"生成分析结论与建议 (修正版)\"\"\"\n",
    "    print(\"=== 分析结论与教育建议 ===\")\n",
    "    \n",
    "    if len(summary_df) == 0:\n",
    "        print(\"\\n⚠️ 没有可用的分析结果，可能的原因:\")\n",
    "        print(\"   - 数据文件格式不符合预期\")\n",
    "        print(\"   - 缺少年级信息\")\n",
    "        print(\"   - 数据量不足\")\n",
    "        return\n",
    "    \n",
    "    # 统计显著差异的数量\n",
    "    significant_count = len(summary_df[summary_df['显著性'] == '显著'])\n",
    "    total_count = len(summary_df)\n",
    "    \n",
    "    print(f\"\\n1. 总体发现:\")\n",
    "    print(f\"   - 共分析了 {total_count} 个变量\")\n",
    "    print(f\"   - 发现 {significant_count} 个变量存在显著的年级间差异\")\n",
    "    print(f\"   - 显著差异比例: {significant_count/total_count*100:.1f}%\")\n",
    "    \n",
    "    if significant_count > 0:\n",
    "        print(f\"\\n2. 显著差异的维度分析:\")\n",
    "        \n",
    "        # 按维度统计显著差异\n",
    "        dimension_sig = summary_df[summary_df['显著性'] == '显著'].groupby('维度').size()\n",
    "        print(\"   各维度显著差异数量:\")\n",
    "        for dim, count in dimension_sig.items():\n",
    "            print(f\"   - {dim}: {count} 个变量\")\n",
    "        \n",
    "        # 找出效应量最大的变量\n",
    "        max_effect = summary_df.loc[summary_df['效应量(η²)'].idxmax()]\n",
    "        print(f\"\\n3. 最重要的发现:\")\n",
    "        print(f\"   - 效应量最大的变量: {max_effect['维度']} - {max_effect['变量']}\")\n",
    "        print(f\"   - 效应量: {max_effect['效应量(η²)']:.4f} ({max_effect['效应大小']})\")\n",
    "        \n",
    "        print(f\"\\n4. 教育建议:\")\n",
    "        print(f\"   - 重点关注存在显著差异的维度，特别是效应量较大的变量\")\n",
    "        print(f\"   - 针对不同年级学生的叙事能力特点，制定差异化的教学策略\")\n",
    "        print(f\"   - 对于发展较慢的年级，加强相关能力的培养\")\n",
    "        print(f\"   - 定期评估学生叙事能力发展，及时调整教学方案\")\n",
    "    else:\n",
    "        print(f\"\\n2. 教育建议:\")\n",
    "        print(f\"   - 三个年级在叙事能力各维度上差异不显著\")\n",
    "        print(f\"   - 可能需要更精细的分析方法或更大的样本量\")\n",
    "        print(f\"   - 建议关注个体差异而非年级差异\")\n",
    "    \n",
    "    print(f\"\\n5. 研究局限性:\")\n",
    "    print(f\"   - 样本量相对较小，可能影响统计检验力\")\n",
    "    print(f\"   - 需要结合质性分析深入了解差异原因\")\n",
    "    print(f\"   - 建议进行纵向研究追踪个体发展轨迹\")\n",
    "    \n",
    "    print(f\"\\n6. 数据质量评估:\")\n",
    "    print(f\"   - 成功处理了多张数据表的结构\")\n",
    "    print(f\"   - 自动识别并合并了年级信息\")\n",
    "    print(f\"   - 进行了完整的数据清洗和预处理\")\n",
    "\n",
    "# 生成结论\n",
    "generate_conclusions_improved(summary_df, anova_results)"
   ]
  },
  {
   "cell_type": "code",
   "execution_count": 13,
   "id": "ba3b62dd",
   "metadata": {},
   "outputs": [
    {
     "name": "stdout",
     "output_type": "stream",
     "text": [
      "=== 保存分析结果 ===\n",
      "✓ 已保存: 年级间差异分析结果汇总_修正版.xlsx\n",
      "✓ 已保存: ANOVA详细结果_修正版.xlsx\n",
      "✓ 已保存: 年级间差异分析图表_修正版.png\n",
      "\n",
      "所有结果已保存完成！\n"
     ]
    },
    {
     "data": {
      "text/plain": [
       "<Figure size 800x550 with 0 Axes>"
      ]
     },
     "metadata": {},
     "output_type": "display_data"
    }
   ],
   "source": [
    "# 11. 保存结果 (修正版)\n",
    "\n",
    "def save_results_improved(summary_df, anova_results, post_hoc_results):\n",
    "    \"\"\"保存分析结果 (修正版)\"\"\"\n",
    "    print(\"=== 保存分析结果 ===\")\n",
    "    \n",
    "    # 保存汇总表\n",
    "    if len(summary_df) > 0:\n",
    "        summary_df.to_excel('年级间差异分析结果汇总_修正版.xlsx', index=False)\n",
    "        print(\"✓ 已保存: 年级间差异分析结果汇总_修正版.xlsx\")\n",
    "    \n",
    "    # 保存详细ANOVA结果\n",
    "    anova_details = []\n",
    "    for name, results in anova_results.items():\n",
    "        for col, result in results.items():\n",
    "            anova_details.append({\n",
    "                '维度': name,\n",
    "                '变量': col,\n",
    "                'F统计量': result['f_statistic'],\n",
    "                'p值': result['p_value'],\n",
    "                '效应量(η²)': result['eta_squared'],\n",
    "                '效应大小': result['effect_size'],\n",
    "                '显著性': '显著' if result['is_significant'] else '不显著',\n",
    "                '各年级均值': str(result.get('group_means', {})),\n",
    "                '各年级样本量': str(result.get('group_sizes', {}))\n",
    "            })\n",
    "    \n",
    "    if anova_details:\n",
    "        anova_df = pd.DataFrame(anova_details)\n",
    "        anova_df.to_excel('ANOVA详细结果_修正版.xlsx', index=False)\n",
    "        print(\"✓ 已保存: ANOVA详细结果_修正版.xlsx\")\n",
    "    \n",
    "    # 保存图表\n",
    "    try:\n",
    "        plt.savefig('年级间差异分析图表_修正版.png', dpi=300, bbox_inches='tight')\n",
    "        print(\"✓ 已保存: 年级间差异分析图表_修正版.png\")\n",
    "    except:\n",
    "        print(\"⚠️ 图表保存失败\")\n",
    "    \n",
    "    print(\"\\n所有结果已保存完成！\")\n",
    "\n",
    "# 保存结果\n",
    "save_results_improved(summary_df, anova_results, post_hoc_results)"
   ]
  },
  {
   "cell_type": "code",
   "execution_count": null,
   "id": "23fc6db3",
   "metadata": {},
   "outputs": [],
   "source": []
  }
 ],
 "metadata": {
  "kernelspec": {
   "display_name": "base",
   "language": "python",
   "name": "python3"
  },
  "language_info": {
   "codemirror_mode": {
    "name": "ipython",
    "version": 3
   },
   "file_extension": ".py",
   "mimetype": "text/x-python",
   "name": "python",
   "nbconvert_exporter": "python",
   "pygments_lexer": "ipython3",
   "version": "3.12.9"
  }
 },
 "nbformat": 4,
 "nbformat_minor": 5
}
