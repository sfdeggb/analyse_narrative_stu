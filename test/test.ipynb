{
 "cells": [
  {
   "cell_type": "code",
   "execution_count": null,
   "id": "ab708e6e",
   "metadata": {},
   "outputs": [],
   "source": [
    "### 测试字体是否可用\n",
    "\n",
    "from matplotlib import font_manager\n",
    "for f in font_manager.fontManager.ttflist:\n",
    "    if 'PingFang' in f.name or 'Heiti' in f.name:\n",
    "        print(f.name, f.fname)"
   ]
  }
 ],
 "metadata": {
  "kernelspec": {
   "display_name": "base",
   "language": "python",
   "name": "python3"
  },
  "language_info": {
   "name": "python",
   "version": "3.12.7"
  }
 },
 "nbformat": 4,
 "nbformat_minor": 5
}
